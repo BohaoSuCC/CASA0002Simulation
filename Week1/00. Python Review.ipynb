{
 "cells": [
  {
   "cell_type": "markdown",
   "metadata": {
    "slideshow": {
     "slide_type": "slide"
    }
   },
   "source": [
    "### CASA0002\n",
    "\n",
    "# Urban Simulation\n",
    "***\n",
    "## Python Review\n",
    "\n",
    "Mateo Neira\n",
    "***"
   ]
  },
  {
   "cell_type": "markdown",
   "metadata": {
    "slideshow": {
     "slide_type": "slide"
    }
   },
   "source": [
    "### Many kinds of Python\n",
    "#### The Jupyter Notebook\n",
    "\n",
    "The easiest way to get started using Python, and one of the best for research data work, is the Jupyter Notebook.\n",
    "\n",
    "In the notebook, you can easily mix code with discussion and commentary, and mix code with the results of that code;\n",
    "including graphs and other data visualisations.\n",
    "\n",
    "Jupyter notebooks consist of discussion cells, referred to as \"markdown cells\", and \"code cells\", which contain Python. This document has been created using Jupyter notebook, and this very cell is a **Markdown Cell**. "
   ]
  },
  {
   "cell_type": "code",
   "execution_count": null,
   "metadata": {
    "slideshow": {
     "slide_type": "slide"
    }
   },
   "outputs": [],
   "source": [
    "print(\"This cell is a code cell\")"
   ]
  },
  {
   "cell_type": "markdown",
   "metadata": {
    "slideshow": {
     "slide_type": "slide"
    }
   },
   "source": [
    "### Typing code in the notebook\n",
    "\n",
    "When working with the notebook, you can either be in a cell, typing its contents, or outside cells, moving around the notebook.\n",
    "\n",
    "* When in a cell, press escape to leave it. When moving around outside cells, press return to enter.\n",
    "* Outside a cell:\n",
    "  * Use arrow keys to move around.\n",
    "  * Press `b` to add a new cell below the cursor.\n",
    "  * Press `m` to turn a cell from code mode to markdown mode.\n",
    "  * Press `shift`+`enter` to calculate the code in the block.\n",
    "  * Press `h` to see a list of useful keys in the notebook.\n",
    "* Inside a cell:\n",
    "  * Press `tab` to suggest completions of variables. (Try it!)\n",
    "  \n",
    "*Supplementary material*: Learn more about [Jupyter notebooks](https://jupyter.org/)."
   ]
  },
  {
   "cell_type": "markdown",
   "metadata": {
    "slideshow": {
     "slide_type": "slide"
    }
   },
   "source": [
    "**Python** is an extremely popular and versatile high-level programming language that was created by Guido Van Rossum in the 90.\n",
    "It is a general-purpose language focusing on procedural programming (which we will focus on) and object oriented programming. "
   ]
  },
  {
   "cell_type": "code",
   "execution_count": null,
   "metadata": {
    "slideshow": {
     "slide_type": "subslide"
    }
   },
   "outputs": [],
   "source": [
    "# let's start with printing \"hello world\"\n",
    "print(\"hello world\")"
   ]
  },
  {
   "cell_type": "markdown",
   "metadata": {
    "slideshow": {
     "slide_type": "slide"
    }
   },
   "source": [
    "### Comments\n",
    "\n",
    "Code after a `#` symbol doesn't get run."
   ]
  },
  {
   "cell_type": "code",
   "execution_count": null,
   "metadata": {
    "slideshow": {
     "slide_type": "subslide"
    }
   },
   "outputs": [],
   "source": [
    "print(\"This runs\") # print \"This doesn't\"\n",
    "# print This doesn't either"
   ]
  },
  {
   "cell_type": "markdown",
   "metadata": {
    "slideshow": {
     "slide_type": "slide"
    }
   },
   "source": [
    "### Variable assignment\n",
    "\n",
    "A value/object stored in computer’s memory ”=“. \n",
    "\n",
    "For example, we could store \"hello world\" as a variable x:\n",
    "\n",
    ">x = \"hello world\"\n"
   ]
  },
  {
   "cell_type": "markdown",
   "metadata": {
    "slideshow": {
     "slide_type": "subslide"
    }
   },
   "source": [
    "Keep in mind that when we generate a result, the answer is displayed, but not kept anywhere."
   ]
  },
  {
   "cell_type": "code",
   "execution_count": null,
   "metadata": {
    "slideshow": {
     "slide_type": "subslide"
    }
   },
   "outputs": [],
   "source": [
    "2*3"
   ]
  },
  {
   "cell_type": "markdown",
   "metadata": {
    "slideshow": {
     "slide_type": "slide"
    }
   },
   "source": [
    "If we want to get back to that result, we have to store it. We put it in a box, with a name on the box. This is a **variable**."
   ]
  },
  {
   "cell_type": "code",
   "execution_count": null,
   "metadata": {
    "slideshow": {
     "slide_type": "subslide"
    }
   },
   "outputs": [],
   "source": [
    "result = 2*3\n",
    "print(result)"
   ]
  },
  {
   "cell_type": "markdown",
   "metadata": {
    "slideshow": {
     "slide_type": "slide"
    }
   },
   "source": [
    "### Objects and types\n",
    "\n",
    "An object, like `result`, has a type. Here we see that the object 'result' has type \"int\".\n",
    "`int` means a integer object."
   ]
  },
  {
   "cell_type": "code",
   "execution_count": null,
   "metadata": {
    "slideshow": {
     "slide_type": "subslide"
    }
   },
   "outputs": [],
   "source": [
    "type(result)"
   ]
  },
  {
   "cell_type": "markdown",
   "metadata": {
    "slideshow": {
     "slide_type": "slide"
    }
   },
   "source": [
    "### Basic Data Types\n",
    "\n",
    "Strings(str): an ordered sequence of characters. \n",
    ">Sample_string=“hello world”\n",
    "\n",
    "Integers(int): Positive/Negative whole numbers \n",
    ">sample_int = 3619\n",
    "\n",
    "Floats(float): Real number with floating point. \n",
    ">Sample_float= 1.126\n",
    "\n",
    "Boolean(bool): either True or False\n",
    ">Sample_bool = True\n",
    "\n",
    "### Composite data-types\n",
    "\n",
    "Sequence : list, tuple, range\n",
    "\n",
    "> l1 = []\n",
    "\n",
    "Mapping : dict\n",
    "\n",
    "> d1 = {'stephen':'London'}\n",
    "\n",
    "Sets: set\n",
    "\n",
    "> s1 = {1,10}\n"
   ]
  },
  {
   "cell_type": "code",
   "execution_count": null,
   "metadata": {
    "slideshow": {
     "slide_type": "subslide"
    }
   },
   "outputs": [],
   "source": [
    "# you can access each character of a string through an index\n",
    "\n",
    "# first element\n",
    "x = 'hello world'\n",
    "print(x[0])\n",
    "\n",
    "# second element\n",
    "print (x[1])\n",
    "\n",
    "# slice\n",
    "print (x[0:5])"
   ]
  },
  {
   "cell_type": "markdown",
   "metadata": {
    "slideshow": {
     "slide_type": "slide"
    }
   },
   "source": [
    "### Lists\n",
    "A list is a mutable ordered sequence of items. The items of a list are arbitrary objects. By 'mutable' we mean that we can change the values inside the list, and by 'ordered' we mean that each item is indexed and can be accessed through this index.\n",
    "> mylist = []"
   ]
  },
  {
   "cell_type": "code",
   "execution_count": null,
   "metadata": {
    "slideshow": {
     "slide_type": "subslide"
    }
   },
   "outputs": [],
   "source": [
    "# lists are defined by [] or list()\n",
    "list1=[1,2,3,4,5,6]\n",
    "print(list1)\n",
    "# lists can be sliced, notice here that the number in between [] refers to the index\n",
    "print (list1[1])\n",
    "print (list1[2:])\n",
    "\n",
    "# list methods - pop and append\n",
    "list1=[1,2,3,4,5,6]\n",
    "\n",
    "#we can add an element to the end of a list with .append\n",
    "list1.append(7)\n",
    "\n",
    "#we can remove an element from the list with .pop\n",
    "list1.pop(2)\n",
    "print (list1)"
   ]
  },
  {
   "cell_type": "markdown",
   "metadata": {
    "slideshow": {
     "slide_type": "slide"
    }
   },
   "source": [
    "### tuples\n",
    "\n",
    "an ordered immutable collection of one or more items.\n",
    "> my_tuple = ('london', 'new york')"
   ]
  },
  {
   "cell_type": "code",
   "execution_count": null,
   "metadata": {
    "slideshow": {
     "slide_type": "subslide"
    }
   },
   "outputs": [],
   "source": [
    "# tuples are defined by () or tuple()\n",
    "tup1=(1,2,3,4)\n",
    "\n",
    "# tuples are immutable\n",
    "tup1[0]=1"
   ]
  },
  {
   "cell_type": "markdown",
   "metadata": {
    "slideshow": {
     "slide_type": "slide"
    }
   },
   "source": [
    "### dictionary\n",
    "\n",
    "A dictionary is an unordered collection of data in a key:value pair.\n",
    "\n",
    "> my_dict = {'key1': 10}"
   ]
  },
  {
   "cell_type": "code",
   "execution_count": null,
   "metadata": {
    "slideshow": {
     "slide_type": "subslide"
    }
   },
   "outputs": [],
   "source": [
    "# dicts are defined by {key:vaue} or dict()\n",
    "d1 = {}\n",
    "d1['course']=\"urban simulation\"\n",
    "d1['duration']=10\n",
    "d1['location']=\"London\"\n",
    "print(d1)\n",
    "\n",
    "#access item in dictionary\n",
    "print(d1['course'])"
   ]
  },
  {
   "cell_type": "markdown",
   "metadata": {
    "slideshow": {
     "slide_type": "slide"
    }
   },
   "source": [
    "### sets\n",
    "\n",
    "Unordered collections of unique elements.\n",
    "\n",
    ">sample_set = {\"Camden\",\"Hackney\",\"Westminster\"}"
   ]
  },
  {
   "cell_type": "code",
   "execution_count": null,
   "metadata": {
    "slideshow": {
     "slide_type": "subslide"
    }
   },
   "outputs": [],
   "source": [
    "#sets are defined by {} or set()\n",
    "set1 = {1,1,1,1,10}\n",
    "set1"
   ]
  },
  {
   "cell_type": "code",
   "execution_count": null,
   "metadata": {
    "slideshow": {
     "slide_type": "subslide"
    }
   },
   "outputs": [],
   "source": [
    "# sets operations\n",
    "\n",
    "set1={1,1,1,1,10}\n",
    "set2={1,1,1,1,20}\n",
    "\n",
    "print (set1.intersection(set2))\n",
    "\n",
    "print (set1.union(set2))\n",
    "\n",
    "print (set1.difference(set2))"
   ]
  },
  {
   "cell_type": "markdown",
   "metadata": {
    "slideshow": {
     "slide_type": "slide"
    }
   },
   "source": [
    "### Range\n",
    "\n",
    "Immutable sequence of numbers and is commonly used for looping a specific number of times in a for loop. Its three parameters are the beginning of range, the end of range and its increments.\n",
    "\n",
    "> range(1,10,1)"
   ]
  },
  {
   "cell_type": "code",
   "execution_count": null,
   "metadata": {
    "slideshow": {
     "slide_type": "subslide"
    }
   },
   "outputs": [],
   "source": [
    "list(range(1,10,2))"
   ]
  },
  {
   "cell_type": "markdown",
   "metadata": {
    "slideshow": {
     "slide_type": "slide"
    }
   },
   "source": [
    "## Algorithms\n",
    "\n",
    "An algorithm is a sequence of operations that need to be performed to solve a problem or carry out a process.\n",
    "\n",
    "\n",
    "## Program\n",
    "A program is a series of software instructions to control the operation of a computer. A program can contain multiple algorithms.\n",
    "\n"
   ]
  },
  {
   "cell_type": "code",
   "execution_count": null,
   "metadata": {
    "slideshow": {
     "slide_type": "subslide"
    }
   },
   "outputs": [],
   "source": [
    "# a simple program\n",
    "width = 2\n",
    "height = 3\n",
    "area = width * height\n",
    "print(area)"
   ]
  },
  {
   "cell_type": "markdown",
   "metadata": {
    "slideshow": {
     "slide_type": "slide"
    }
   },
   "source": [
    "### Basic Arithmatic Operations\n",
    "\n",
    "In python there are a number of basic arithmatic operations\n",
    "\n",
    "    +    addition\n",
    "    -    subtraction\n",
    "    *    multiplication\n",
    "    /    division\n",
    "    **   exponentiation\n",
    "    %    modulo (remainder of division)\n",
    "    ==   equality (true/false)"
   ]
  },
  {
   "cell_type": "code",
   "execution_count": null,
   "metadata": {
    "slideshow": {
     "slide_type": "subslide"
    }
   },
   "outputs": [],
   "source": [
    "# perform basic mathematic operations on the variables\n",
    "a = 20\n",
    "b = 60\n",
    "c = 80\n",
    "z = ((a+b+c)/20)**2\n",
    "print (z)\n"
   ]
  },
  {
   "cell_type": "markdown",
   "metadata": {
    "slideshow": {
     "slide_type": "slide"
    }
   },
   "source": [
    "### Functions\n",
    "\n",
    "We can wrap code up in a **function**, so that we can repeatedly get just the information we want.\n",
    "\n",
    "A function are statements which is executed when it is called. It uses the keyword def().\n",
    "\n",
    "> def newFunc():\n",
    "\n",
    "we use the keyword return to specify what we want the function to return\n",
    "\n",
    "```python \n",
    "    def newFunc():\n",
    "        return 'hello world\n",
    "```"
   ]
  },
  {
   "cell_type": "code",
   "execution_count": null,
   "metadata": {
    "slideshow": {
     "slide_type": "subslide"
    }
   },
   "outputs": [],
   "source": [
    "def area(width, height):\n",
    "    return width * height"
   ]
  },
  {
   "cell_type": "code",
   "execution_count": null,
   "metadata": {
    "slideshow": {
     "slide_type": "subslide"
    }
   },
   "outputs": [],
   "source": [
    "area(5, 12)"
   ]
  },
  {
   "cell_type": "markdown",
   "metadata": {
    "slideshow": {
     "slide_type": "slide"
    }
   },
   "source": [
    "### Control Structure\n",
    "\n",
    "Control structures let us control the flow in which individual statements or functions are called.\n",
    "\n",
    "![control structure](http://net-informations.com/python/flow/img/control.png)\n",
    "\n",
    "Here we will look at iteration and selection control structures in python:\n",
    "\n",
    "* **Branching**: if/else\n",
    "\n",
    "* **Loop/Iteration** : for/in , while"
   ]
  },
  {
   "cell_type": "markdown",
   "metadata": {
    "slideshow": {
     "slide_type": "slide"
    }
   },
   "source": [
    "#### If statement\n",
    "Conditional Statement in Python are handled by the IF statement."
   ]
  },
  {
   "cell_type": "code",
   "execution_count": null,
   "metadata": {
    "slideshow": {
     "slide_type": "subslide"
    }
   },
   "outputs": [],
   "source": [
    "### if/else conditions\n",
    "steps=9\n",
    "if steps==10:\n",
    "    print (\"True\")\n",
    "else:\n",
    "    print (\"False\")"
   ]
  },
  {
   "cell_type": "markdown",
   "metadata": {
    "slideshow": {
     "slide_type": "slide"
    }
   },
   "source": [
    "#### for statement\n",
    "For statements are used when you have a block of code which you want to repeat. The **For** keyword is used to loop over an iteratable object such as strings, lists, range."
   ]
  },
  {
   "cell_type": "code",
   "execution_count": null,
   "metadata": {
    "slideshow": {
     "slide_type": "subslide"
    }
   },
   "outputs": [],
   "source": [
    "# list as an iterator\n",
    "list1=[1,2,3,4,5,6]\n",
    "for i in list1:\n",
    "    print (i)"
   ]
  },
  {
   "cell_type": "markdown",
   "metadata": {
    "slideshow": {
     "slide_type": "slide"
    }
   },
   "source": [
    "#### while statement\n",
    "\n",
    "While statement is used when a condition needs to be checked for each iteration, or to repeat a block of code forever."
   ]
  },
  {
   "cell_type": "code",
   "execution_count": null,
   "metadata": {
    "slideshow": {
     "slide_type": "subslide"
    }
   },
   "outputs": [],
   "source": [
    "### while loops\n",
    "steps=10\n",
    "i=0\n",
    "while i<steps:\n",
    "    print (f'hello world: {i}')\n",
    "    i=i+1"
   ]
  },
  {
   "cell_type": "markdown",
   "metadata": {
    "slideshow": {
     "slide_type": "slide"
    }
   },
   "source": [
    "### Classes: objects in python\n",
    "\n",
    "Everything is an object in Python which are defined using classes. These are defined by the keyword class.\n",
    "\n",
    "> class myClass:\n",
    "\n",
    "Functions within objects are called methods. We can access these with a dot.\n",
    "\n",
    "> \"hello world!\".upper()"
   ]
  },
  {
   "cell_type": "code",
   "execution_count": null,
   "metadata": {
    "slideshow": {
     "slide_type": "subslide"
    }
   },
   "outputs": [],
   "source": [
    "class City:\n",
    "    def __init__(self, name, pop, area):\n",
    "        self.name = name\n",
    "        self.population = pop\n",
    "        self.area = area\n",
    "        self. density = pop/area\n",
    "    def info(self):\n",
    "        print(f'name: {self.name}, population: {self.population}, area: {self.area}, density {self.density}')"
   ]
  },
  {
   "cell_type": "code",
   "execution_count": null,
   "metadata": {
    "slideshow": {
     "slide_type": "subslide"
    }
   },
   "outputs": [],
   "source": [
    "london = City('London', 8961989, 1572)"
   ]
  },
  {
   "cell_type": "code",
   "execution_count": null,
   "metadata": {
    "slideshow": {
     "slide_type": "subslide"
    }
   },
   "outputs": [],
   "source": [
    "london.info()"
   ]
  },
  {
   "cell_type": "markdown",
   "metadata": {
    "slideshow": {
     "slide_type": "slide"
    }
   },
   "source": [
    "### Importing Libraries\n",
    "\n",
    "Research programming is all about using libraries: tools other people have provided programs that do many cool things.\n",
    "By combining them we can feel really powerful but doing minimum work ourselves. The python syntax to import someone else's library is \"import\".\n",
    "\n",
    "Libraries contain variables, functions, and classes that we can call directly. In this module we will be mainly using the following libraries:\n",
    "* geopandas: for using and manipulating spatial data\n",
    "* networkx: for working with networks\n",
    "* osmnx: for downloading and creating networks from roads\n",
    "* numpy: for numerical computing\n",
    "* pandas: for working with data in general\n",
    "* matplotlib/seaborn: for plotting and visualization"
   ]
  },
  {
   "cell_type": "code",
   "execution_count": null,
   "metadata": {
    "slideshow": {
     "slide_type": "subslide"
    }
   },
   "outputs": [],
   "source": [
    "import geopy # A python library for investigating geographic information.\n",
    "# https://pypi.org/project/geopy/\n",
    "\n",
    "# get coordinates of cambridge\n",
    "geocoder = geopy.geocoders.Nominatim(user_agent='CASA0002')\n",
    "geocoder.geocode('Cambridge')"
   ]
  },
  {
   "cell_type": "markdown",
   "metadata": {
    "slideshow": {
     "slide_type": "slide"
    }
   },
   "source": [
    "## Pandas\n",
    "\n",
    "Pandas is an open source module providing high-performance, easy-to-use data structures and data analysis tools for Python. \n",
    "\n",
    "We will be using **Pandas** and it's spatial counterpart **GeoPandas** in this module, so do familiarize yourself with the library.\n",
    "\n",
    "_additional resources_: \n",
    "* (pandas library)[https://pandas.pydata.org]\n",
    "* (cookbook)[https://pandas.pydata.org/pandas-docs/stable/user_guide/cookbook.html] \n",
    "\n",
    "\n",
    "We import pandas like any other library"
   ]
  },
  {
   "cell_type": "code",
   "execution_count": null,
   "metadata": {
    "slideshow": {
     "slide_type": "subslide"
    }
   },
   "outputs": [],
   "source": [
    "import pandas as pd"
   ]
  },
  {
   "cell_type": "markdown",
   "metadata": {
    "slideshow": {
     "slide_type": "slide"
    }
   },
   "source": [
    "Pandas lets us work with dataframes, a 2-dimensional labeled data structure with columns of pontentially different types (similar to a spreadsheet). **DataFrames** can be created with many different types of inputs.\n",
    "\n",
    "For example, bellow we create a dictionary of lists and we use this dictonary to create our dataframe. the keys in the _dict_ become the columns."
   ]
  },
  {
   "cell_type": "code",
   "execution_count": null,
   "metadata": {
    "slideshow": {
     "slide_type": "subslide"
    }
   },
   "outputs": [],
   "source": [
    "d = {\"one\": [1,2,3,4],\n",
    "     \"two\": [10,9,8,7]}\n",
    "\n",
    "df = pd.DataFrame(d)\n",
    "df"
   ]
  },
  {
   "cell_type": "markdown",
   "metadata": {
    "slideshow": {
     "slide_type": "slide"
    }
   },
   "source": [
    "The most common way of creating dataframes is to read data directly from a .csv file. \n",
    "\n",
    "> pd.read_csv()\n",
    "\n",
    "As an example bellow we will be reading **Googles COVID-19 Mobility Reports** for the UK located in our data folder."
   ]
  },
  {
   "cell_type": "code",
   "execution_count": null,
   "metadata": {
    "slideshow": {
     "slide_type": "subslide"
    }
   },
   "outputs": [],
   "source": [
    "#read csv data\n",
    "data = pd.read_csv('data/2020_GB_Region_Mobility_Report.csv')\n",
    "\n",
    "#this prints the head of the dataframe\n",
    "data.head()"
   ]
  },
  {
   "cell_type": "markdown",
   "metadata": {
    "slideshow": {
     "slide_type": "slide"
    }
   },
   "source": [
    "### Pandas Describe\n",
    "Provides descriptive statistics on the data: means, dispersions, shape of the dataset. These statistics exlude any missing values. Analyzes both numeric and object series, as well as DataFrame column sets of mixed data types. The output will vary depending on what is provided.\n"
   ]
  },
  {
   "cell_type": "code",
   "execution_count": null,
   "metadata": {
    "slideshow": {
     "slide_type": "subslide"
    }
   },
   "outputs": [],
   "source": [
    "data.describe()"
   ]
  },
  {
   "cell_type": "markdown",
   "metadata": {
    "slideshow": {
     "slide_type": "slide"
    }
   },
   "source": [
    "### Subsetting data\n",
    "\n",
    "One important functionality is being able to slice, dice, and create subsets of our data. This can be done in multiple ways.\n",
    "\n",
    "The most basic indexing in pandas is []:\n",
    "> data['column']\n",
    "\n",
    "More advanced indexing can de done using _.loc_\n",
    "\n",
    "* _.loc_ allows the use labels to get our data\n",
    "*_.iloc_ allows the use of interger position to subset the data"
   ]
  },
  {
   "cell_type": "code",
   "execution_count": null,
   "metadata": {
    "slideshow": {
     "slide_type": "subslide"
    }
   },
   "outputs": [],
   "source": [
    "#use basic [] indexing to get sub_region_1 column data\n",
    "data['sub_region_1']"
   ]
  },
  {
   "cell_type": "markdown",
   "metadata": {
    "slideshow": {
     "slide_type": "slide"
    }
   },
   "source": [
    "We can also use boolean operators to only select data that meet a specified criteria"
   ]
  },
  {
   "cell_type": "code",
   "execution_count": null,
   "metadata": {
    "slideshow": {
     "slide_type": "subslide"
    }
   },
   "outputs": [],
   "source": [
    "#here we select only the data where sub_region_1 is equal to 'Greater London'\n",
    "london_data = data[data['sub_region_1']=='Greater London' ]"
   ]
  },
  {
   "cell_type": "code",
   "execution_count": null,
   "metadata": {
    "slideshow": {
     "slide_type": "subslide"
    }
   },
   "outputs": [],
   "source": [
    "# use .loc to get data by the label of the index\n",
    "london_data.loc[37164]"
   ]
  },
  {
   "cell_type": "code",
   "execution_count": null,
   "metadata": {
    "slideshow": {
     "slide_type": "subslide"
    }
   },
   "outputs": [],
   "source": [
    "# we can also use .loc to get a specific column as follows\n",
    "london_data.loc[:,'retail_and_recreation_percent_change_from_baseline']"
   ]
  },
  {
   "cell_type": "code",
   "execution_count": null,
   "metadata": {
    "slideshow": {
     "slide_type": "subslide"
    }
   },
   "outputs": [],
   "source": [
    "#or we can use a list of the columns that we want to subset\n",
    "columns = ['retail_and_recreation_percent_change_from_baseline', \n",
    "           'grocery_and_pharmacy_percent_change_from_baseline', \n",
    "           'transit_stations_percent_change_from_baseline',\n",
    "           'workplaces_percent_change_from_baseline',\n",
    "           'residential_percent_change_from_baseline',\n",
    "           'date'\n",
    "          ]\n",
    "\n",
    "#assign subset of data to new variable called subset\n",
    "subset = london_data.loc[:,columns]\n",
    "subset.head()"
   ]
  },
  {
   "cell_type": "markdown",
   "metadata": {
    "slideshow": {
     "slide_type": "slide"
    }
   },
   "source": [
    "### Plotting with Pandas\n",
    "\n",
    "We can directly plot the data in our dataframe using the _.plot()_ method"
   ]
  },
  {
   "cell_type": "code",
   "execution_count": null,
   "metadata": {
    "slideshow": {
     "slide_type": "subslide"
    }
   },
   "outputs": [],
   "source": [
    "#date to datetime format\n",
    "subset.date = pd.to_datetime(subset.date, infer_datetime_format=True)\n",
    "#set index to date\n",
    "subset.set_index('date', inplace=True, drop=True)\n",
    "#plot\n",
    "subset.plot(figsize= (15,7))"
   ]
  },
  {
   "cell_type": "markdown",
   "metadata": {
    "slideshow": {
     "slide_type": "slide"
    }
   },
   "source": [
    "## Geopandas\n",
    "\n",
    "GeoPandas is an open source project to make working with geospatial data in python easier. GeoPandas extends the datatypes used by pandas to allow spatial operations on geometric types. Geometric operations are performed by shapely. Geopandas further depends on fiona for file access and descartes and matplotlib for plotting.\n",
    "\n",
    "> import geopandas as gpd\n",
    "\n",
    "We can read shapefiles and other types of spatial data into python using geopandas with _.read_file()"
   ]
  },
  {
   "cell_type": "code",
   "execution_count": null,
   "metadata": {
    "slideshow": {
     "slide_type": "subslide"
    }
   },
   "outputs": [],
   "source": [
    "import geopandas as gpd\n",
    "import matplotlib\n",
    "import matplotlib.pyplot as plt\n",
    "\n",
    "#location of the shapefile\n",
    "fp = \"data/LSOA_2011_London_gen_MHW.shp\"\n",
    "\n",
    "#read shapefile\n",
    "gdf=gpd.read_file(fp)\n"
   ]
  },
  {
   "cell_type": "code",
   "execution_count": null,
   "metadata": {
    "slideshow": {
     "slide_type": "subslide"
    }
   },
   "outputs": [],
   "source": [
    "#we can use all the functions available in pandas, such as .head()\n",
    "gdf.head()"
   ]
  },
  {
   "cell_type": "code",
   "execution_count": null,
   "metadata": {
    "slideshow": {
     "slide_type": "subslide"
    }
   },
   "outputs": [],
   "source": [
    "## it is important to note that geopandas always has a geometry columns\n",
    "## here the geoemtries as stored as shapely objects, we should not change\n",
    "### the name of the geometry column\n",
    "print(gdf.columns)"
   ]
  },
  {
   "cell_type": "code",
   "execution_count": null,
   "metadata": {
    "slideshow": {
     "slide_type": "subslide"
    }
   },
   "outputs": [],
   "source": [
    "# geopandas can make geographic plots with a simple plot method.\n",
    "\n",
    "# Set up the matplotlib figure\n",
    "matplotlib.rcParams['font.size'] = 12\n",
    "\n",
    "# set to epsg=3857 \n",
    "gdf = gdf.to_crs(epsg=3857)\n",
    "\n",
    "# geodataframe.plot method\n",
    "ax=gdf.plot(figsize=(20, 20), alpha=0.8, linewidth=0.1,edgecolor='w',\n",
    "            column='POPDEN',legend=True,vmin=1,vmax=200,\n",
    "           legend_kwds={'label': \"Population density (person/HA)\",'orientation': \"vertical\",'shrink': 0.5})\n",
    "\n",
    "# this sets the title\n",
    "ax.set_title(\"Population Density in Greater London\",fontsize= 30)\n",
    "\n",
    "# this removes the axis\n",
    "ax.set_axis_off()"
   ]
  },
  {
   "cell_type": "markdown",
   "metadata": {
    "slideshow": {
     "slide_type": "notes"
    }
   },
   "source": [
    "### References\n",
    "\n",
    "* Python for Data Analysis: Data Wrangling with Pandas, NumPy, and Ipython (Wes McKinney)\n",
    "\n",
    "\n",
    "* Python Official Tutorial https://docs.python.org/3/tutorial/index.html\n",
    "\n",
    "\n",
    "* John V. Guttag. Introduction to Computation and Programming Using Python. MIT Press 2013. \n"
   ]
  }
 ],
 "metadata": {
  "celltoolbar": "Slideshow",
  "kernelspec": {
   "display_name": "Python 3",
   "language": "python",
   "name": "python3"
  },
  "language_info": {
   "codemirror_mode": {
    "name": "ipython",
    "version": 3
   },
   "file_extension": ".py",
   "mimetype": "text/x-python",
   "name": "python",
   "nbconvert_exporter": "python",
   "pygments_lexer": "ipython3",
   "version": "3.9.5"
  }
 },
 "nbformat": 4,
 "nbformat_minor": 2
}
