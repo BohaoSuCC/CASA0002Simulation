





<!DOCTYPE html>
<html
  lang="en"
  
  data-color-mode="light" data-light-theme="light" data-dark-theme="dark"
  data-a11y-animated-images="system" data-a11y-link-underlines="true"
  >




  <head>
    <meta charset="utf-8">
  <link rel="dns-prefetch" href="https://github.githubassets.com">
  <link rel="dns-prefetch" href="https://avatars.githubusercontent.com">
  <link rel="dns-prefetch" href="https://github-cloud.s3.amazonaws.com">
  <link rel="dns-prefetch" href="https://user-images.githubusercontent.com/">
  <link rel="preconnect" href="https://github.githubassets.com" crossorigin>
  <link rel="preconnect" href="https://avatars.githubusercontent.com">

  


  <link crossorigin="anonymous" media="all" rel="stylesheet" href="https://github.githubassets.com/assets/light-0eace2597ca3.css" /><link data-color-theme="dark" crossorigin="anonymous" media="all" rel="stylesheet" data-href="https://github.githubassets.com/assets/dark-a167e256da9c.css" /><link data-color-theme="dark_dimmed" crossorigin="anonymous" media="all" rel="stylesheet" data-href="https://github.githubassets.com/assets/dark_dimmed-d11f2cf8009b.css" /><link data-color-theme="dark_high_contrast" crossorigin="anonymous" media="all" rel="stylesheet" data-href="https://github.githubassets.com/assets/dark_high_contrast-ea7373db06c8.css" /><link data-color-theme="dark_colorblind" crossorigin="anonymous" media="all" rel="stylesheet" data-href="https://github.githubassets.com/assets/dark_colorblind-afa99dcf40f7.css" /><link data-color-theme="light_colorblind" crossorigin="anonymous" media="all" rel="stylesheet" data-href="https://github.githubassets.com/assets/light_colorblind-af6c685139ba.css" /><link data-color-theme="light_high_contrast" crossorigin="anonymous" media="all" rel="stylesheet" data-href="https://github.githubassets.com/assets/light_high_contrast-578cdbc8a5a9.css" /><link data-color-theme="light_tritanopia" crossorigin="anonymous" media="all" rel="stylesheet" data-href="https://github.githubassets.com/assets/light_tritanopia-5cb699a7e247.css" /><link data-color-theme="dark_tritanopia" crossorigin="anonymous" media="all" rel="stylesheet" data-href="https://github.githubassets.com/assets/dark_tritanopia-9b32204967c6.css" />
    <link crossorigin="anonymous" media="all" rel="stylesheet" href="https://github.githubassets.com/assets/primer-primitives-971c6be3ec9f.css" />
    <link crossorigin="anonymous" media="all" rel="stylesheet" href="https://github.githubassets.com/assets/primer-08e422afeb43.css" />
    <link crossorigin="anonymous" media="all" rel="stylesheet" href="https://github.githubassets.com/assets/global-fcad22128422.css" />
    <link crossorigin="anonymous" media="all" rel="stylesheet" href="https://github.githubassets.com/assets/github-2f3974e4587d.css" />
  <link crossorigin="anonymous" media="all" rel="stylesheet" href="https://github.githubassets.com/assets/repository-b6b0e69bbb90.css" />
<link crossorigin="anonymous" media="all" rel="stylesheet" href="https://github.githubassets.com/assets/code-aed6ab8a6a15.css" />

  


  <script type="application/json" id="client-env">{"locale":"en","featureFlags":["docset_management_ui","failbot_handle_non_errors","geojson_azure_maps","image_metric_tracking","repository_suggester_elastic_search","turbo_experiment_risky","sample_network_conn_type","no_character_key_shortcuts_in_inputs","remove_child_patch"]}</script>
<script crossorigin="anonymous" defer="defer" type="application/javascript" src="https://github.githubassets.com/assets/wp-runtime-fc21f0ca76fb.js"></script>
<script crossorigin="anonymous" defer="defer" type="application/javascript" src="https://github.githubassets.com/assets/vendors-node_modules_dompurify_dist_purify_js-6890e890956f.js"></script>
<script crossorigin="anonymous" defer="defer" type="application/javascript" src="https://github.githubassets.com/assets/vendors-node_modules_stacktrace-parser_dist_stack-trace-parser_esm_js-node_modules_github_bro-a4c183-79f9611c275b.js"></script>
<script crossorigin="anonymous" defer="defer" type="application/javascript" src="https://github.githubassets.com/assets/vendors-node_modules_github_hydro-analytics-client_dist_analytics-client_js-node_modules_gith-6a10dd-e66ebda625fb.js"></script>
<script crossorigin="anonymous" defer="defer" type="application/javascript" src="https://github.githubassets.com/assets/ui_packages_failbot_failbot_ts-f344cfdbb3b8.js"></script>
<script crossorigin="anonymous" defer="defer" type="application/javascript" src="https://github.githubassets.com/assets/environment-8224c9e1bb22.js"></script>
<script crossorigin="anonymous" defer="defer" type="application/javascript" src="https://github.githubassets.com/assets/vendors-node_modules_github_selector-observer_dist_index_esm_js-9f960d9b217c.js"></script>
<script crossorigin="anonymous" defer="defer" type="application/javascript" src="https://github.githubassets.com/assets/vendors-node_modules_primer_behaviors_dist_esm_focus-zone_js-086f7a27bac0.js"></script>
<script crossorigin="anonymous" defer="defer" type="application/javascript" src="https://github.githubassets.com/assets/vendors-node_modules_github_relative-time-element_dist_index_js-c76945c5961a.js"></script>
<script crossorigin="anonymous" defer="defer" type="application/javascript" src="https://github.githubassets.com/assets/vendors-node_modules_fzy_js_index_js-node_modules_github_combobox-nav_dist_index_js-node_modu-344bff-421f7a8c1008.js"></script>
<script crossorigin="anonymous" defer="defer" type="application/javascript" src="https://github.githubassets.com/assets/vendors-node_modules_delegated-events_dist_index_js-node_modules_github_details-dialog-elemen-29dc30-a2a71f11a507.js"></script>
<script crossorigin="anonymous" defer="defer" type="application/javascript" src="https://github.githubassets.com/assets/vendors-node_modules_github_filter-input-element_dist_index_js-node_modules_github_remote-inp-59c459-d0c49521eb35.js"></script>
<script crossorigin="anonymous" defer="defer" type="application/javascript" src="https://github.githubassets.com/assets/vendors-node_modules_github_file-attachment-element_dist_index_js-node_modules_primer_view-co-eb424d-7baa8ec97711.js"></script>
<script crossorigin="anonymous" defer="defer" type="application/javascript" src="https://github.githubassets.com/assets/github-elements-339306038ef0.js"></script>
<script crossorigin="anonymous" defer="defer" type="application/javascript" src="https://github.githubassets.com/assets/element-registry-a46483134d6e.js"></script>
<script crossorigin="anonymous" defer="defer" type="application/javascript" src="https://github.githubassets.com/assets/vendors-node_modules_github_catalyst_lib_index_js-node_modules_github_hydro-analytics-client_-978abc0-15861e0630b6.js"></script>
<script crossorigin="anonymous" defer="defer" type="application/javascript" src="https://github.githubassets.com/assets/vendors-node_modules_lit-html_lit-html_js-5b376145beff.js"></script>
<script crossorigin="anonymous" defer="defer" type="application/javascript" src="https://github.githubassets.com/assets/vendors-node_modules_github_mini-throttle_dist_index_js-node_modules_github_alive-client_dist-bf5aa2-1b562c29ab8e.js"></script>
<script crossorigin="anonymous" defer="defer" type="application/javascript" src="https://github.githubassets.com/assets/vendors-node_modules_morphdom_dist_morphdom-esm_js-5bff297a06de.js"></script>
<script crossorigin="anonymous" defer="defer" type="application/javascript" src="https://github.githubassets.com/assets/vendors-node_modules_github_turbo_dist_turbo_es2017-esm_js-c91f4ad18b62.js"></script>
<script crossorigin="anonymous" defer="defer" type="application/javascript" src="https://github.githubassets.com/assets/vendors-node_modules_color-convert_index_js-72c9fbde5ad4.js"></script>
<script crossorigin="anonymous" defer="defer" type="application/javascript" src="https://github.githubassets.com/assets/vendors-node_modules_github_remote-form_dist_index_js-node_modules_scroll-anchoring_dist_scro-231ccf-aa129238d13b.js"></script>
<script crossorigin="anonymous" defer="defer" type="application/javascript" src="https://github.githubassets.com/assets/vendors-node_modules_github_session-resume_dist_index_js-node_modules_primer_behaviors_dist_e-ac74c6-c3eb71941f78.js"></script>
<script crossorigin="anonymous" defer="defer" type="application/javascript" src="https://github.githubassets.com/assets/vendors-node_modules_primer_behaviors_dist_esm_dimensions_js-node_modules_github_jtml_lib_index_js-95b84ee6bc34.js"></script>
<script crossorigin="anonymous" defer="defer" type="application/javascript" src="https://github.githubassets.com/assets/vendors-node_modules_github_paste-markdown_dist_index_esm_js-node_modules_github_quote-select-81e6af-77a71286acee.js"></script>
<script crossorigin="anonymous" defer="defer" type="application/javascript" src="https://github.githubassets.com/assets/app_assets_modules_github_updatable-content_ts-ba849e1b2585.js"></script>
<script crossorigin="anonymous" defer="defer" type="application/javascript" src="https://github.githubassets.com/assets/app_assets_modules_github_behaviors_task-list_ts-app_assets_modules_github_onfocus_ts-app_ass-421cec-751caa0072bd.js"></script>
<script crossorigin="anonymous" defer="defer" type="application/javascript" src="https://github.githubassets.com/assets/app_assets_modules_github_sticky-scroll-into-view_ts-cbcee0788fe3.js"></script>
<script crossorigin="anonymous" defer="defer" type="application/javascript" src="https://github.githubassets.com/assets/app_assets_modules_github_behaviors_ajax-error_ts-app_assets_modules_github_behaviors_include-467754-b59a2b2827ad.js"></script>
<script crossorigin="anonymous" defer="defer" type="application/javascript" src="https://github.githubassets.com/assets/app_assets_modules_github_behaviors_commenting_edit_ts-app_assets_modules_github_behaviors_ht-83c235-b85e9f4f1304.js"></script>
<script crossorigin="anonymous" defer="defer" type="application/javascript" src="https://github.githubassets.com/assets/behaviors-6216de13d92f.js"></script>
<script crossorigin="anonymous" defer="defer" type="application/javascript" src="https://github.githubassets.com/assets/vendors-node_modules_delegated-events_dist_index_js-node_modules_github_catalyst_lib_index_js-d0256ebff5cd.js"></script>
<script crossorigin="anonymous" defer="defer" type="application/javascript" src="https://github.githubassets.com/assets/notifications-global-99d196517b1b.js"></script>
<script crossorigin="anonymous" defer="defer" type="application/javascript" src="https://github.githubassets.com/assets/code-menu-2658b004279a.js"></script>
  
  <script crossorigin="anonymous" defer="defer" type="application/javascript" src="https://github.githubassets.com/assets/react-lib-1fbfc5be2c18.js"></script>
<script crossorigin="anonymous" defer="defer" type="application/javascript" src="https://github.githubassets.com/assets/vendors-node_modules_primer_octicons-react_dist_index_esm_js-node_modules_primer_react_lib-es-2e8e7c-58ed28fc02ee.js"></script>
<script crossorigin="anonymous" defer="defer" type="application/javascript" src="https://github.githubassets.com/assets/vendors-node_modules_primer_react_lib-esm_Box_Box_js-ebfceb11fb57.js"></script>
<script crossorigin="anonymous" defer="defer" type="application/javascript" src="https://github.githubassets.com/assets/vendors-node_modules_primer_react_lib-esm_Button_Button_js-1081163fdd55.js"></script>
<script crossorigin="anonymous" defer="defer" type="application/javascript" src="https://github.githubassets.com/assets/vendors-node_modules_primer_react_lib-esm_ActionList_index_js-cb47169cb123.js"></script>
<script crossorigin="anonymous" defer="defer" type="application/javascript" src="https://github.githubassets.com/assets/vendors-node_modules_primer_react_lib-esm_Overlay_Overlay_js-node_modules_primer_react_lib-es-fa1130-8d276499c3fb.js"></script>
<script crossorigin="anonymous" defer="defer" type="application/javascript" src="https://github.githubassets.com/assets/vendors-node_modules_primer_react_lib-esm_Text_Text_js-node_modules_primer_react_lib-esm_Text-85a14b-249efa9c2fae.js"></script>
<script crossorigin="anonymous" defer="defer" type="application/javascript" src="https://github.githubassets.com/assets/vendors-node_modules_primer_behaviors_dist_esm_scroll-into-view_js-node_modules_primer_react_-39745e-45b12e4b116b.js"></script>
<script crossorigin="anonymous" defer="defer" type="application/javascript" src="https://github.githubassets.com/assets/vendors-node_modules_primer_react_lib-esm_ActionMenu_ActionMenu_js-a3c61ff6363e.js"></script>
<script crossorigin="anonymous" defer="defer" type="application/javascript" src="https://github.githubassets.com/assets/vendors-node_modules_primer_react_lib-esm_FormControl_FormControl_js-e905f63cdd0f.js"></script>
<script crossorigin="anonymous" defer="defer" type="application/javascript" src="https://github.githubassets.com/assets/vendors-node_modules_react-router-dom_dist_index_js-3b41341d50fe.js"></script>
<script crossorigin="anonymous" defer="defer" type="application/javascript" src="https://github.githubassets.com/assets/vendors-node_modules_primer_react_lib-esm_PageLayout_PageLayout_js-a0f5dc4acaba.js"></script>
<script crossorigin="anonymous" defer="defer" type="application/javascript" src="https://github.githubassets.com/assets/vendors-node_modules_primer_react_lib-esm_ConfirmationDialog_ConfirmationDialog_js-1396cd0754d9.js"></script>
<script crossorigin="anonymous" defer="defer" type="application/javascript" src="https://github.githubassets.com/assets/vendors-node_modules_primer_react_lib-esm_Dialog_js-node_modules_primer_react_lib-esm_Flash_F-ad64b6-7663299a84eb.js"></script>
<script crossorigin="anonymous" defer="defer" type="application/javascript" src="https://github.githubassets.com/assets/vendors-node_modules_primer_react_lib-esm_ButtonGroup_ButtonGroup_js-node_modules_primer_reac-2e79b9-b467460472c3.js"></script>
<script crossorigin="anonymous" defer="defer" type="application/javascript" src="https://github.githubassets.com/assets/vendors-node_modules_primer_react_lib-esm_TreeView_TreeView_js-5d623f8c8e93.js"></script>
<script crossorigin="anonymous" defer="defer" type="application/javascript" src="https://github.githubassets.com/assets/vendors-node_modules_primer_react_lib-esm_UnderlineNav_index_js-68debb3ba7c5.js"></script>
<script crossorigin="anonymous" defer="defer" type="application/javascript" src="https://github.githubassets.com/assets/vendors-node_modules_primer_react_lib-esm_AvatarStack_AvatarStack_js-node_modules_primer_reac-e81dab-5a231627d677.js"></script>
<script crossorigin="anonymous" defer="defer" type="application/javascript" src="https://github.githubassets.com/assets/ui_packages_react-core_create-browser-history_ts-ui_packages_react-core_deferred-registry_ts--ebbb92-64923177f972.js"></script>
<script crossorigin="anonymous" defer="defer" type="application/javascript" src="https://github.githubassets.com/assets/ui_packages_react-core_register-app_ts-f7fc9821bc0f.js"></script>
<script crossorigin="anonymous" defer="defer" type="application/javascript" src="https://github.githubassets.com/assets/ui_packages_paths_index_ts-90db45a9ff3f.js"></script>
<script crossorigin="anonymous" defer="defer" type="application/javascript" src="https://github.githubassets.com/assets/ui_packages_ref-selector_RefSelector_tsx-858bb94813b1.js"></script>
<script crossorigin="anonymous" defer="defer" type="application/javascript" src="https://github.githubassets.com/assets/app_assets_modules_github_blob-anchor_ts-app_assets_modules_github_filter-sort_ts-app_assets_-681869-6d4ac1c994bf.js"></script>
<script crossorigin="anonymous" defer="defer" type="application/javascript" src="https://github.githubassets.com/assets/ui_packages_commit-attribution_index_ts-ui_packages_commit-checks-status_index_ts-ui_packages-390327-ba6acb060cf4.js"></script>
<script crossorigin="anonymous" defer="defer" type="application/javascript" src="https://github.githubassets.com/assets/app_assets_modules_react-code-view_pages_CodeView_tsx-8937c2ecdfa7.js"></script>
<script crossorigin="anonymous" defer="defer" type="application/javascript" src="https://github.githubassets.com/assets/react-code-view-0e186c5f0ea6.js"></script>


  <title>urbansim/automl/automl.ipynb at main · asrenninger/urbansim</title>



  <meta name="route-pattern" content="/:user_id/:repository/blob/*name(/*path)">

    
  <meta name="current-catalog-service-hash" content="82c569b93da5c18ed649ebd4c2c79437db4611a6a1373e805a3cb001c64130b7">


  <meta name="request-id" content="D829:371B2B:40255DF:411EB86:65C2025D" data-turbo-transient="true" /><meta name="html-safe-nonce" content="8803044c4125db3b36a5b6834203ea3311a0ce04eff98c3a599862f024664288" data-turbo-transient="true" /><meta name="visitor-payload" content="eyJyZWZlcnJlciI6Imh0dHBzOi8vZ2l0aHViLmNvbS9hc3Jlbm5pbmdlci91cmJhbnNpbS90cmVlL21haW4vYXV0b21sIiwicmVxdWVzdF9pZCI6IkQ4Mjk6MzcxQjJCOjQwMjU1REY6NDExRUI4Njo2NUMyMDI1RCIsInZpc2l0b3JfaWQiOiI2MDA3MjQyMjEwMjQ2MzE2ODk4IiwicmVnaW9uX2VkZ2UiOiJmcmEiLCJyZWdpb25fcmVuZGVyIjoiaWFkIn0=" data-turbo-transient="true" /><meta name="visitor-hmac" content="13028c051bf59a762fee8a6fe983437c946fc64b1802d12ff3337b1a0d3a792b" data-turbo-transient="true" />


    <meta name="hovercard-subject-tag" content="repository:612443982" data-turbo-transient>


  <meta name="github-keyboard-shortcuts" content="repository,source-code,file-tree,copilot" data-turbo-transient="true" />
  

  <meta name="selected-link" value="repo_source" data-turbo-transient>
  <link rel="assets" href="https://github.githubassets.com/">

    <meta name="google-site-verification" content="c1kuD-K2HIVF635lypcsWPoD4kilo5-jA_wBFyT4uMY">
  <meta name="google-site-verification" content="KT5gs8h0wvaagLKAVWq8bbeNwnZZK1r1XQysX3xurLU">
  <meta name="google-site-verification" content="ZzhVyEFwb7w3e0-uOTltm8Jsck2F5StVihD0exw2fsA">
  <meta name="google-site-verification" content="GXs5KoUUkNCoaAZn7wPN-t01Pywp9M3sEjnt_3_ZWPc">
  <meta name="google-site-verification" content="Apib7-x98H0j5cPqHWwSMm6dNU4GmODRoqxLiDzdx9I">

<meta name="octolytics-url" content="https://collector.github.com/github/collect" /><meta name="octolytics-actor-id" content="47226949" /><meta name="octolytics-actor-login" content="asrenninger" /><meta name="octolytics-actor-hash" content="13562cd3e7364898f6be0a8c250f6add0e00ad56737019596c5741b78e022a1b" />

  <meta name="analytics-location" content="/&lt;user-name&gt;/&lt;repo-name&gt;/blob/show" data-turbo-transient="true" />

  




  

    <meta name="user-login" content="asrenninger">

  <link rel="sudo-modal" href="/sessions/sudo_modal">

    <meta name="viewport" content="width=device-width">
    
      <meta name="description" content="materials for urban simulation module. Contribute to asrenninger/urbansim development by creating an account on GitHub.">
      <link rel="search" type="application/opensearchdescription+xml" href="/opensearch.xml" title="GitHub">
    <link rel="fluid-icon" href="https://github.com/fluidicon.png" title="GitHub">
    <meta property="fb:app_id" content="1401488693436528">
    <meta name="apple-itunes-app" content="app-id=1477376905, app-argument=https://github.com/asrenninger/urbansim/blob/main/automl/automl.ipynb" />
      <meta name="twitter:image:src" content="https://opengraph.githubassets.com/261290065d797defecc84d9c29fad9ff53b618a45b1216ab6c208d82aa855967/asrenninger/urbansim" /><meta name="twitter:site" content="@github" /><meta name="twitter:card" content="summary_large_image" /><meta name="twitter:title" content="urbansim/automl/automl.ipynb at main · asrenninger/urbansim" /><meta name="twitter:description" content="materials for urban simulation module. Contribute to asrenninger/urbansim development by creating an account on GitHub." />
      <meta property="og:image" content="https://opengraph.githubassets.com/261290065d797defecc84d9c29fad9ff53b618a45b1216ab6c208d82aa855967/asrenninger/urbansim" /><meta property="og:image:alt" content="materials for urban simulation module. Contribute to asrenninger/urbansim development by creating an account on GitHub." /><meta property="og:image:width" content="1200" /><meta property="og:image:height" content="600" /><meta property="og:site_name" content="GitHub" /><meta property="og:type" content="object" /><meta property="og:title" content="urbansim/automl/automl.ipynb at main · asrenninger/urbansim" /><meta property="og:url" content="https://github.com/asrenninger/urbansim/blob/main/automl/automl.ipynb" /><meta property="og:description" content="materials for urban simulation module. Contribute to asrenninger/urbansim development by creating an account on GitHub." />
      

      <link rel="shared-web-socket" href="wss://alive.github.com/_sockets/u/47226949/ws?session=eyJ2IjoiVjMiLCJ1Ijo0NzIyNjk0OSwicyI6MTI4MjI0OTU0MywiYyI6ODEwNTA4MzUsInQiOjE3MDcyMTM0MzJ9--82c215a88e567b5532086438f922092bfdd08cf0c0bb9ce4f48fe82cc953ee1e" data-refresh-url="/_alive" data-session-id="1444f1b40bdbda2869b43fb7bb5c17e0c8dfe8ca108c283a9d483c583c33aca6">
      <link rel="shared-web-socket-src" href="/assets-cdn/worker/socket-worker-9cc1149b224c.js">


        <meta name="hostname" content="github.com">


      <meta name="keyboard-shortcuts-preference" content="all">

        <meta name="expected-hostname" content="github.com">


  <meta http-equiv="x-pjax-version" content="8772c661c79a3058d41a7c2c8fb5a18de0f9671e388b301429ec79f58bad2fbe" data-turbo-track="reload">
  <meta http-equiv="x-pjax-csp-version" content="ae103d46751402deb32ef7558344b3317ecae6ba395248ce5ba8ccc1a7ed94e6" data-turbo-track="reload">
  <meta http-equiv="x-pjax-css-version" content="7d2e94a2c3fb0bacb9f5f771b06fffc77ca2e8977ced5fc49e070a597afea14f" data-turbo-track="reload">
  <meta http-equiv="x-pjax-js-version" content="0c82402c6f9128aa9ce298fc2c082eca3d92932dc245248a72451e4a0ea09026" data-turbo-track="reload">

  <meta name="turbo-cache-control" content="no-preview" data-turbo-transient="">

      <meta name="turbo-cache-control" content="no-cache" data-turbo-transient>
    <meta data-hydrostats="publish">

  <meta name="go-import" content="github.com/asrenninger/urbansim git https://github.com/asrenninger/urbansim.git">

  <meta name="octolytics-dimension-user_id" content="47226949" /><meta name="octolytics-dimension-user_login" content="asrenninger" /><meta name="octolytics-dimension-repository_id" content="612443982" /><meta name="octolytics-dimension-repository_nwo" content="asrenninger/urbansim" /><meta name="octolytics-dimension-repository_public" content="true" /><meta name="octolytics-dimension-repository_is_fork" content="false" /><meta name="octolytics-dimension-repository_network_root_id" content="612443982" /><meta name="octolytics-dimension-repository_network_root_nwo" content="asrenninger/urbansim" />



  <meta name="turbo-body-classes" content="logged-in env-production page-responsive">


  <meta name="browser-stats-url" content="https://api.github.com/_private/browser/stats">

  <meta name="browser-errors-url" content="https://api.github.com/_private/browser/errors">

  <meta name="browser-optimizely-client-errors-url" content="https://api.github.com/_private/browser/optimizely_client/errors">

  <link rel="mask-icon" href="https://github.githubassets.com/assets/pinned-octocat-093da3e6fa40.svg" color="#000000">
  <link rel="alternate icon" class="js-site-favicon" type="image/png" href="https://github.githubassets.com/favicons/favicon.png">
  <link rel="icon" class="js-site-favicon" type="image/svg+xml" href="https://github.githubassets.com/favicons/favicon.svg">

<meta name="theme-color" content="#1e2327">
<meta name="color-scheme" content="light dark" />


  <link rel="manifest" href="/manifest.json" crossOrigin="use-credentials">

  </head>

  <body class="logged-in env-production page-responsive" style="word-wrap: break-word;">
    <div data-turbo-body class="logged-in env-production page-responsive" style="word-wrap: break-word;">
      


    <div class="position-relative js-header-wrapper ">
      <a href="#start-of-content" class="p-3 color-bg-accent-emphasis color-fg-on-emphasis show-on-focus js-skip-to-content">Skip to content</a>
      <span data-view-component="true" class="progress-pjax-loader Progress position-fixed width-full">
    <span style="width: 0%;" data-view-component="true" class="Progress-item progress-pjax-loader-bar left-0 top-0 color-bg-accent-emphasis"></span>
</span>      
      
  




<script crossorigin="anonymous" defer="defer" type="application/javascript" src="https://github.githubassets.com/assets/vendors-node_modules_primer_react_lib-esm_Button_IconButton_js-node_modules_primer_react_lib--23bcad-ccf1d5fc6054.js"></script>

<script crossorigin="anonymous" defer="defer" type="application/javascript" src="https://github.githubassets.com/assets/keyboard-shortcuts-dialog-d95ec4d45114.js"></script>

<react-partial
  partial-name="keyboard-shortcuts-dialog"
  data-ssr="false"
>
  
  <script type="application/json" data-target="react-partial.embeddedData">{"props":{}}</script>
  <div data-target="react-partial.reactRoot"></div>
</react-partial>



      

        <script crossorigin="anonymous" defer="defer" type="application/javascript" src="https://github.githubassets.com/assets/vendors-node_modules_allex_crc32_lib_crc32_esm_js-node_modules_github_mini-throttle_dist_deco-b38cad-748e74df23ce.js"></script>
<script crossorigin="anonymous" defer="defer" type="application/javascript" src="https://github.githubassets.com/assets/vendors-node_modules_github_clipboard-copy-element_dist_index_esm_js-node_modules_delegated-e-b37f7d-2f24d321a3fb.js"></script>
<script crossorigin="anonymous" defer="defer" type="application/javascript" src="https://github.githubassets.com/assets/app_assets_modules_github_command-palette_items_help-item_ts-app_assets_modules_github_comman-48ad9d-b64c1039e04d.js"></script>
<script crossorigin="anonymous" defer="defer" type="application/javascript" src="https://github.githubassets.com/assets/command-palette-4a91d9475ff6.js"></script>

            <header class="AppHeader">
    

    <div class="AppHeader-globalBar pb-2 js-global-bar">
      <div class="AppHeader-globalBar-start">
          <deferred-side-panel data-url="/_side-panels/global">
  <include-fragment data-target="deferred-side-panel.fragment">
      <button aria-label="Open global navigation menu" data-action="click:deferred-side-panel#loadPanel click:deferred-side-panel#panelOpened" data-show-dialog-id="dialog-c956e522-2db8-4810-8254-2ebe49a2177f" id="dialog-show-dialog-c956e522-2db8-4810-8254-2ebe49a2177f" type="button" data-view-component="true" class="Button Button--iconOnly Button--secondary Button--medium AppHeader-button color-bg-transparent p-0 color-fg-muted">  <svg aria-hidden="true" height="16" viewBox="0 0 16 16" version="1.1" width="16" data-view-component="true" class="octicon octicon-three-bars Button-visual">
    <path d="M1 2.75A.75.75 0 0 1 1.75 2h12.5a.75.75 0 0 1 0 1.5H1.75A.75.75 0 0 1 1 2.75Zm0 5A.75.75 0 0 1 1.75 7h12.5a.75.75 0 0 1 0 1.5H1.75A.75.75 0 0 1 1 7.75ZM1.75 12h12.5a.75.75 0 0 1 0 1.5H1.75a.75.75 0 0 1 0-1.5Z"></path>
</svg>
</button>

<dialog-helper>
  <dialog data-target="deferred-side-panel.panel" id="dialog-c956e522-2db8-4810-8254-2ebe49a2177f" aria-modal="true" aria-disabled="true" aria-labelledby="dialog-c956e522-2db8-4810-8254-2ebe49a2177f-title" aria-describedby="dialog-c956e522-2db8-4810-8254-2ebe49a2177f-description" data-view-component="true" class="Overlay Overlay-whenNarrow Overlay--size-small-portrait Overlay--motion-scaleFade Overlay--placement-left SidePanel">
    <div styles="flex-direction: row;" data-view-component="true" class="Overlay-header">
  <div class="Overlay-headerContentWrap">
    <div class="Overlay-titleWrap">
      <h1 class="Overlay-title sr-only" id="dialog-c956e522-2db8-4810-8254-2ebe49a2177f-title">
        Global navigation
      </h1>
            <div data-view-component="true" class="d-flex">
      <div data-view-component="true" class="AppHeader-logo position-relative">
        <svg aria-hidden="true" height="24" viewBox="0 0 16 16" version="1.1" width="24" data-view-component="true" class="octicon octicon-mark-github">
    <path d="M8 0c4.42 0 8 3.58 8 8a8.013 8.013 0 0 1-5.45 7.59c-.4.08-.55-.17-.55-.38 0-.27.01-1.13.01-2.2 0-.75-.25-1.23-.54-1.48 1.78-.2 3.65-.88 3.65-3.95 0-.88-.31-1.59-.82-2.15.08-.2.36-1.02-.08-2.12 0 0-.67-.22-2.2.82-.64-.18-1.32-.27-2-.27-.68 0-1.36.09-2 .27-1.53-1.03-2.2-.82-2.2-.82-.44 1.1-.16 1.92-.08 2.12-.51.56-.82 1.28-.82 2.15 0 3.06 1.86 3.75 3.64 3.95-.23.2-.44.55-.51 1.07-.46.21-1.61.55-2.33-.66-.15-.24-.6-.83-1.23-.82-.67.01-.27.38.01.53.34.19.73.9.82 1.13.16.45.68 1.31 2.69.94 0 .67.01 1.3.01 1.49 0 .21-.15.45-.55.38A7.995 7.995 0 0 1 0 8c0-4.42 3.58-8 8-8Z"></path>
</svg>
</div></div>
    </div>
    <div class="Overlay-actionWrap">
      <button data-close-dialog-id="dialog-c956e522-2db8-4810-8254-2ebe49a2177f" aria-label="Close" type="button" data-view-component="true" class="close-button Overlay-closeButton"><svg aria-hidden="true" height="16" viewBox="0 0 16 16" version="1.1" width="16" data-view-component="true" class="octicon octicon-x">
    <path d="M3.72 3.72a.75.75 0 0 1 1.06 0L8 6.94l3.22-3.22a.749.749 0 0 1 1.275.326.749.749 0 0 1-.215.734L9.06 8l3.22 3.22a.749.749 0 0 1-.326 1.275.749.749 0 0 1-.734-.215L8 9.06l-3.22 3.22a.751.751 0 0 1-1.042-.018.751.751 0 0 1-.018-1.042L6.94 8 3.72 4.78a.75.75 0 0 1 0-1.06Z"></path>
</svg></button>
    </div>
  </div>
</div>
      <scrollable-region data-labelled-by="dialog-c956e522-2db8-4810-8254-2ebe49a2177f-title">
        <div data-view-component="true" class="Overlay-body d-flex flex-column px-2">    <div data-view-component="true" class="d-flex flex-column mb-3">
        <nav aria-label="Site navigation" data-view-component="true" class="ActionList">
  
  <nav-list>
    <ul data-view-component="true" class="ActionListWrap">
        
          
<li data-targets="nav-list.items nav-list.items" data-item-id="" data-view-component="true" class="ActionListItem">
    
    <a data-hotkey="g d" data-analytics-event="{&quot;category&quot;:&quot;Global navigation&quot;,&quot;action&quot;:&quot;HOME&quot;,&quot;label&quot;:null}" id="item-83a58032-713f-44b2-88b2-a9da09515722" href="/dashboard" data-view-component="true" class="ActionListContent ActionListContent--visual16">
        <span class="ActionListItem-visual ActionListItem-visual--leading">
          <svg aria-hidden="true" height="16" viewBox="0 0 16 16" version="1.1" width="16" data-view-component="true" class="octicon octicon-home">
    <path d="M6.906.664a1.749 1.749 0 0 1 2.187 0l5.25 4.2c.415.332.657.835.657 1.367v7.019A1.75 1.75 0 0 1 13.25 15h-3.5a.75.75 0 0 1-.75-.75V9H7v5.25a.75.75 0 0 1-.75.75h-3.5A1.75 1.75 0 0 1 1 13.25V6.23c0-.531.242-1.034.657-1.366l5.25-4.2Zm1.25 1.171a.25.25 0 0 0-.312 0l-5.25 4.2a.25.25 0 0 0-.094.196v7.019c0 .138.112.25.25.25H5.5V8.25a.75.75 0 0 1 .75-.75h3.5a.75.75 0 0 1 .75.75v5.25h2.75a.25.25 0 0 0 .25-.25V6.23a.25.25 0 0 0-.094-.195Z"></path>
</svg>
        </span>
      
        <span data-view-component="true" class="ActionListItem-label">
          Home
</span></a>
  
  
</li>

        
          
<li data-targets="nav-list.items nav-list.items" data-item-id="" data-view-component="true" class="ActionListItem">
    
    <a data-hotkey="g i" data-analytics-event="{&quot;category&quot;:&quot;Global navigation&quot;,&quot;action&quot;:&quot;ISSUES&quot;,&quot;label&quot;:null}" id="item-a82f0ec0-d193-4926-a256-c22b323ca4a7" href="/issues" data-view-component="true" class="ActionListContent ActionListContent--visual16">
        <span class="ActionListItem-visual ActionListItem-visual--leading">
          <svg aria-hidden="true" height="16" viewBox="0 0 16 16" version="1.1" width="16" data-view-component="true" class="octicon octicon-issue-opened">
    <path d="M8 9.5a1.5 1.5 0 1 0 0-3 1.5 1.5 0 0 0 0 3Z"></path><path d="M8 0a8 8 0 1 1 0 16A8 8 0 0 1 8 0ZM1.5 8a6.5 6.5 0 1 0 13 0 6.5 6.5 0 0 0-13 0Z"></path>
</svg>
        </span>
      
        <span data-view-component="true" class="ActionListItem-label">
          Issues
</span></a>
  
  
</li>

        
          
<li data-targets="nav-list.items nav-list.items" data-item-id="" data-view-component="true" class="ActionListItem">
    
    <a data-hotkey="g p" data-analytics-event="{&quot;category&quot;:&quot;Global navigation&quot;,&quot;action&quot;:&quot;PULL_REQUESTS&quot;,&quot;label&quot;:null}" id="item-6b93f653-0d40-4207-8dfd-ea9bc702401b" href="/pulls" data-view-component="true" class="ActionListContent ActionListContent--visual16">
        <span class="ActionListItem-visual ActionListItem-visual--leading">
          <svg aria-hidden="true" height="16" viewBox="0 0 16 16" version="1.1" width="16" data-view-component="true" class="octicon octicon-git-pull-request">
    <path d="M1.5 3.25a2.25 2.25 0 1 1 3 2.122v5.256a2.251 2.251 0 1 1-1.5 0V5.372A2.25 2.25 0 0 1 1.5 3.25Zm5.677-.177L9.573.677A.25.25 0 0 1 10 .854V2.5h1A2.5 2.5 0 0 1 13.5 5v5.628a2.251 2.251 0 1 1-1.5 0V5a1 1 0 0 0-1-1h-1v1.646a.25.25 0 0 1-.427.177L7.177 3.427a.25.25 0 0 1 0-.354ZM3.75 2.5a.75.75 0 1 0 0 1.5.75.75 0 0 0 0-1.5Zm0 9.5a.75.75 0 1 0 0 1.5.75.75 0 0 0 0-1.5Zm8.25.75a.75.75 0 1 0 1.5 0 .75.75 0 0 0-1.5 0Z"></path>
</svg>
        </span>
      
        <span data-view-component="true" class="ActionListItem-label">
          Pull requests
</span></a>
  
  
</li>

        
          
<li data-targets="nav-list.items nav-list.items" data-item-id="" data-item-id="projects" data-view-component="true" class="ActionListItem">
    
    <a data-analytics-event="{&quot;category&quot;:&quot;Global navigation&quot;,&quot;action&quot;:&quot;PROJECTS&quot;,&quot;label&quot;:null}" id="item-5570fb22-4acf-42eb-b503-eed4a8609db9" href="/projects" data-view-component="true" class="ActionListContent ActionListContent--visual16">
        <span class="ActionListItem-visual ActionListItem-visual--leading">
          <svg aria-hidden="true" height="16" viewBox="0 0 16 16" version="1.1" width="16" data-view-component="true" class="octicon octicon-table">
    <path d="M0 1.75C0 .784.784 0 1.75 0h12.5C15.216 0 16 .784 16 1.75v12.5A1.75 1.75 0 0 1 14.25 16H1.75A1.75 1.75 0 0 1 0 14.25ZM6.5 6.5v8h7.75a.25.25 0 0 0 .25-.25V6.5Zm8-1.5V1.75a.25.25 0 0 0-.25-.25H6.5V5Zm-13 1.5v7.75c0 .138.112.25.25.25H5v-8ZM5 5V1.5H1.75a.25.25 0 0 0-.25.25V5Z"></path>
</svg>
        </span>
      
        <span data-view-component="true" class="ActionListItem-label">
          Projects
</span></a>
  
  
</li>

        
          
<li data-targets="nav-list.items nav-list.items" data-item-id="" data-view-component="true" class="ActionListItem">
    
    <a data-analytics-event="{&quot;category&quot;:&quot;Global navigation&quot;,&quot;action&quot;:&quot;DISCUSSIONS&quot;,&quot;label&quot;:null}" id="item-e14aff89-e2a6-4c0d-b12e-1089c52f7364" href="/discussions" data-view-component="true" class="ActionListContent ActionListContent--visual16">
        <span class="ActionListItem-visual ActionListItem-visual--leading">
          <svg aria-hidden="true" height="16" viewBox="0 0 16 16" version="1.1" width="16" data-view-component="true" class="octicon octicon-comment-discussion">
    <path d="M1.75 1h8.5c.966 0 1.75.784 1.75 1.75v5.5A1.75 1.75 0 0 1 10.25 10H7.061l-2.574 2.573A1.458 1.458 0 0 1 2 11.543V10h-.25A1.75 1.75 0 0 1 0 8.25v-5.5C0 1.784.784 1 1.75 1ZM1.5 2.75v5.5c0 .138.112.25.25.25h1a.75.75 0 0 1 .75.75v2.19l2.72-2.72a.749.749 0 0 1 .53-.22h3.5a.25.25 0 0 0 .25-.25v-5.5a.25.25 0 0 0-.25-.25h-8.5a.25.25 0 0 0-.25.25Zm13 2a.25.25 0 0 0-.25-.25h-.5a.75.75 0 0 1 0-1.5h.5c.966 0 1.75.784 1.75 1.75v5.5A1.75 1.75 0 0 1 14.25 12H14v1.543a1.458 1.458 0 0 1-2.487 1.03L9.22 12.28a.749.749 0 0 1 .326-1.275.749.749 0 0 1 .734.215l2.22 2.22v-2.19a.75.75 0 0 1 .75-.75h1a.25.25 0 0 0 .25-.25Z"></path>
</svg>
        </span>
      
        <span data-view-component="true" class="ActionListItem-label">
          Discussions
</span></a>
  
  
</li>

        
          
<li data-targets="nav-list.items nav-list.items" data-item-id="" data-view-component="true" class="ActionListItem">
    
    <a data-analytics-event="{&quot;category&quot;:&quot;Global navigation&quot;,&quot;action&quot;:&quot;CODESPACES&quot;,&quot;label&quot;:null}" id="item-a3b4c39c-bb7c-47b0-961f-2c49071dfe50" href="https://github.com/codespaces" data-view-component="true" class="ActionListContent ActionListContent--visual16">
        <span class="ActionListItem-visual ActionListItem-visual--leading">
          <svg aria-hidden="true" height="16" viewBox="0 0 16 16" version="1.1" width="16" data-view-component="true" class="octicon octicon-codespaces">
    <path d="M0 11.25c0-.966.784-1.75 1.75-1.75h12.5c.966 0 1.75.784 1.75 1.75v3A1.75 1.75 0 0 1 14.25 16H1.75A1.75 1.75 0 0 1 0 14.25Zm2-9.5C2 .784 2.784 0 3.75 0h8.5C13.216 0 14 .784 14 1.75v5a1.75 1.75 0 0 1-1.75 1.75h-8.5A1.75 1.75 0 0 1 2 6.75Zm1.75-.25a.25.25 0 0 0-.25.25v5c0 .138.112.25.25.25h8.5a.25.25 0 0 0 .25-.25v-5a.25.25 0 0 0-.25-.25Zm-2 9.5a.25.25 0 0 0-.25.25v3c0 .138.112.25.25.25h12.5a.25.25 0 0 0 .25-.25v-3a.25.25 0 0 0-.25-.25Z"></path><path d="M7 12.75a.75.75 0 0 1 .75-.75h4.5a.75.75 0 0 1 0 1.5h-4.5a.75.75 0 0 1-.75-.75Zm-4 0a.75.75 0 0 1 .75-.75h.5a.75.75 0 0 1 0 1.5h-.5a.75.75 0 0 1-.75-.75Z"></path>
</svg>
        </span>
      
        <span data-view-component="true" class="ActionListItem-label">
          Codespaces
</span></a>
  
  
</li>

        
          <li role="presentation" aria-hidden="true" data-view-component="true" class="ActionList-sectionDivider"></li>
        
          
<li data-targets="nav-list.items nav-list.items" data-item-id="" data-view-component="true" class="ActionListItem">
    
    <a data-analytics-event="{&quot;category&quot;:&quot;Global navigation&quot;,&quot;action&quot;:&quot;EXPLORE&quot;,&quot;label&quot;:null}" id="item-b8501932-0e55-4374-9a74-8f8ac63508e9" href="/explore" data-view-component="true" class="ActionListContent ActionListContent--visual16">
        <span class="ActionListItem-visual ActionListItem-visual--leading">
          <svg aria-hidden="true" height="16" viewBox="0 0 16 16" version="1.1" width="16" data-view-component="true" class="octicon octicon-telescope">
    <path d="M14.184 1.143v-.001l1.422 2.464a1.75 1.75 0 0 1-.757 2.451L3.104 11.713a1.75 1.75 0 0 1-2.275-.702l-.447-.775a1.75 1.75 0 0 1 .53-2.32L11.682.573a1.748 1.748 0 0 1 2.502.57Zm-4.709 9.32h-.001l2.644 3.863a.75.75 0 1 1-1.238.848l-1.881-2.75v2.826a.75.75 0 0 1-1.5 0v-2.826l-1.881 2.75a.75.75 0 1 1-1.238-.848l2.049-2.992a.746.746 0 0 1 .293-.253l1.809-.87a.749.749 0 0 1 .944.252ZM9.436 3.92h-.001l-4.97 3.39.942 1.63 5.42-2.61Zm3.091-2.108h.001l-1.85 1.26 1.505 2.605 2.016-.97a.247.247 0 0 0 .13-.151.247.247 0 0 0-.022-.199l-1.422-2.464a.253.253 0 0 0-.161-.119.254.254 0 0 0-.197.038ZM1.756 9.157a.25.25 0 0 0-.075.33l.447.775a.25.25 0 0 0 .325.1l1.598-.769-.83-1.436-1.465 1Z"></path>
</svg>
        </span>
      
        <span data-view-component="true" class="ActionListItem-label">
          Explore
</span></a>
  
  
</li>

        
          
<li data-targets="nav-list.items nav-list.items" data-item-id="" data-view-component="true" class="ActionListItem">
    
    <a data-analytics-event="{&quot;category&quot;:&quot;Global navigation&quot;,&quot;action&quot;:&quot;MARKETPLACE&quot;,&quot;label&quot;:null}" id="item-d9c651f4-8094-4b06-81aa-f522ae4dd440" href="/marketplace" data-view-component="true" class="ActionListContent ActionListContent--visual16">
        <span class="ActionListItem-visual ActionListItem-visual--leading">
          <svg aria-hidden="true" height="16" viewBox="0 0 16 16" version="1.1" width="16" data-view-component="true" class="octicon octicon-gift">
    <path d="M2 2.75A2.75 2.75 0 0 1 4.75 0c.983 0 1.873.42 2.57 1.232.268.318.497.668.68 1.042.183-.375.411-.725.68-1.044C9.376.42 10.266 0 11.25 0a2.75 2.75 0 0 1 2.45 4h.55c.966 0 1.75.784 1.75 1.75v2c0 .698-.409 1.301-1 1.582v4.918A1.75 1.75 0 0 1 13.25 16H2.75A1.75 1.75 0 0 1 1 14.25V9.332C.409 9.05 0 8.448 0 7.75v-2C0 4.784.784 4 1.75 4h.55c-.192-.375-.3-.8-.3-1.25ZM7.25 9.5H2.5v4.75c0 .138.112.25.25.25h4.5Zm1.5 0v5h4.5a.25.25 0 0 0 .25-.25V9.5Zm0-4V8h5.5a.25.25 0 0 0 .25-.25v-2a.25.25 0 0 0-.25-.25Zm-7 0a.25.25 0 0 0-.25.25v2c0 .138.112.25.25.25h5.5V5.5h-5.5Zm3-4a1.25 1.25 0 0 0 0 2.5h2.309c-.233-.818-.542-1.401-.878-1.793-.43-.502-.915-.707-1.431-.707ZM8.941 4h2.309a1.25 1.25 0 0 0 0-2.5c-.516 0-1 .205-1.43.707-.337.392-.646.975-.879 1.793Z"></path>
</svg>
        </span>
      
        <span data-view-component="true" class="ActionListItem-label">
          Marketplace
</span></a>
  
  
</li>

</ul>  </nav-list>
</nav>

        <div data-view-component="true" class="my-3 d-flex flex-justify-center height-full">
          <svg style="box-sizing: content-box; color: var(--color-icon-primary);" width="16" height="16" viewBox="0 0 16 16" fill="none" data-view-component="true" class="anim-rotate">
  <circle cx="8" cy="8" r="7" stroke="currentColor" stroke-opacity="0.25" stroke-width="2" vector-effect="non-scaling-stroke" fill="none" />
  <path d="M15 8a7.002 7.002 0 00-7-7" stroke="currentColor" stroke-width="2" stroke-linecap="round" vector-effect="non-scaling-stroke" />
</svg>
</div>
</div>
      <div data-view-component="true" class="flex-1"></div>


      <div data-view-component="true" class="px-2">      <p class="color-fg-subtle text-small text-light">&copy; 2024 GitHub, Inc.</p>

      <div data-view-component="true" class="d-flex flex-wrap text-small text-light">
          <a target="_blank" href="https://github.com/about" data-view-component="true" class="Link mr-2">About</a>
          <a target="_blank" href="https://github.blog" data-view-component="true" class="Link mr-2">Blog</a>
          <a target="_blank" href="https://docs.github.com/site-policy/github-terms/github-terms-of-service" data-view-component="true" class="Link mr-2">Terms</a>
          <a target="_blank" href="https://docs.github.com/site-policy/privacy-policies/github-privacy-statement" data-view-component="true" class="Link mr-2">Privacy</a>
          <a target="_blank" href="https://github.com/security" data-view-component="true" class="Link mr-2">Security</a>
          <a target="_blank" href="https://www.githubstatus.com/" data-view-component="true" class="Link mr-3">Status</a>

</div></div>
</div>
      </scrollable-region>
      
</dialog></dialog-helper>

  </include-fragment>
</deferred-side-panel>

        <a
          class="AppHeader-logo ml-2"
          href="https://github.com/"
          data-hotkey="g d"
          aria-label="Homepage "
          data-turbo="false"
          data-analytics-event="{&quot;category&quot;:&quot;Header&quot;,&quot;action&quot;:&quot;go to dashboard&quot;,&quot;label&quot;:&quot;icon:logo&quot;}"
        >
          <svg height="32" aria-hidden="true" viewBox="0 0 16 16" version="1.1" width="32" data-view-component="true" class="octicon octicon-mark-github v-align-middle color-fg-default">
    <path d="M8 0c4.42 0 8 3.58 8 8a8.013 8.013 0 0 1-5.45 7.59c-.4.08-.55-.17-.55-.38 0-.27.01-1.13.01-2.2 0-.75-.25-1.23-.54-1.48 1.78-.2 3.65-.88 3.65-3.95 0-.88-.31-1.59-.82-2.15.08-.2.36-1.02-.08-2.12 0 0-.67-.22-2.2.82-.64-.18-1.32-.27-2-.27-.68 0-1.36.09-2 .27-1.53-1.03-2.2-.82-2.2-.82-.44 1.1-.16 1.92-.08 2.12-.51.56-.82 1.28-.82 2.15 0 3.06 1.86 3.75 3.64 3.95-.23.2-.44.55-.51 1.07-.46.21-1.61.55-2.33-.66-.15-.24-.6-.83-1.23-.82-.67.01-.27.38.01.53.34.19.73.9.82 1.13.16.45.68 1.31 2.69.94 0 .67.01 1.3.01 1.49 0 .21-.15.45-.55.38A7.995 7.995 0 0 1 0 8c0-4.42 3.58-8 8-8Z"></path>
</svg>
        </a>

          <div class="AppHeader-context" >
  <div class="AppHeader-context-compact">
      <button aria-expanded="false" aria-haspopup="dialog" aria-label="Page context: asrenninger / urbansim" id="dialog-show-context-region-dialog" data-show-dialog-id="context-region-dialog" type="button" data-view-component="true" class="AppHeader-context-compact-trigger Truncate Button--secondary Button--medium Button box-shadow-none">  <span class="Button-content">
    <span class="Button-label"><span class="AppHeader-context-compact-lead">
                <span class="AppHeader-context-compact-parentItem">asrenninger</span>
                <span class="no-wrap">&nbsp;/</span>

            </span>

            <strong class="AppHeader-context-compact-mainItem d-flex flex-items-center Truncate" >
  <span class="Truncate-text ">urbansim</span>

</strong></span>
  </span>
</button>

<dialog-helper>
  <dialog id="context-region-dialog" aria-modal="true" aria-disabled="true" aria-labelledby="context-region-dialog-title" aria-describedby="context-region-dialog-description" data-view-component="true" class="Overlay Overlay-whenNarrow Overlay--size-medium Overlay--motion-scaleFade">
    <div data-view-component="true" class="Overlay-header">
  <div class="Overlay-headerContentWrap">
    <div class="Overlay-titleWrap">
      <h1 class="Overlay-title " id="context-region-dialog-title">
        Navigate back to
      </h1>
    </div>
    <div class="Overlay-actionWrap">
      <button data-close-dialog-id="context-region-dialog" aria-label="Close" type="button" data-view-component="true" class="close-button Overlay-closeButton"><svg aria-hidden="true" height="16" viewBox="0 0 16 16" version="1.1" width="16" data-view-component="true" class="octicon octicon-x">
    <path d="M3.72 3.72a.75.75 0 0 1 1.06 0L8 6.94l3.22-3.22a.749.749 0 0 1 1.275.326.749.749 0 0 1-.215.734L9.06 8l3.22 3.22a.749.749 0 0 1-.326 1.275.749.749 0 0 1-.734-.215L8 9.06l-3.22 3.22a.751.751 0 0 1-1.042-.018.751.751 0 0 1-.018-1.042L6.94 8 3.72 4.78a.75.75 0 0 1 0-1.06Z"></path>
</svg></button>
    </div>
  </div>
</div>
      <scrollable-region data-labelled-by="context-region-dialog-title">
        <div data-view-component="true" class="Overlay-body">          <ul role="list" class="list-style-none" >
    <li>
      <a data-analytics-event="{&quot;category&quot;:&quot;SiteHeaderComponent&quot;,&quot;action&quot;:&quot;context_region_crumb&quot;,&quot;label&quot;:&quot;asrenninger&quot;,&quot;screen_size&quot;:&quot;compact&quot;}" href="/asrenninger" data-view-component="true" class="Link--primary Truncate d-flex flex-items-center py-1">
        <span class="AppHeader-context-item-label Truncate-text ">
            <svg aria-hidden="true" height="12" viewBox="0 0 16 16" version="1.1" width="12" data-view-component="true" class="octicon octicon-person mr-1">
    <path d="M10.561 8.073a6.005 6.005 0 0 1 3.432 5.142.75.75 0 1 1-1.498.07 4.5 4.5 0 0 0-8.99 0 .75.75 0 0 1-1.498-.07 6.004 6.004 0 0 1 3.431-5.142 3.999 3.999 0 1 1 5.123 0ZM10.5 5a2.5 2.5 0 1 0-5 0 2.5 2.5 0 0 0 5 0Z"></path>
</svg>

          asrenninger
        </span>

</a>
    </li>
    <li>
      <a data-analytics-event="{&quot;category&quot;:&quot;SiteHeaderComponent&quot;,&quot;action&quot;:&quot;context_region_crumb&quot;,&quot;label&quot;:&quot;urbansim&quot;,&quot;screen_size&quot;:&quot;compact&quot;}" href="/asrenninger/urbansim" data-view-component="true" class="Link--primary Truncate d-flex flex-items-center py-1">
        <span class="AppHeader-context-item-label Truncate-text ">
            <svg aria-hidden="true" height="12" viewBox="0 0 16 16" version="1.1" width="12" data-view-component="true" class="octicon octicon-repo mr-1">
    <path d="M2 2.5A2.5 2.5 0 0 1 4.5 0h8.75a.75.75 0 0 1 .75.75v12.5a.75.75 0 0 1-.75.75h-2.5a.75.75 0 0 1 0-1.5h1.75v-2h-8a1 1 0 0 0-.714 1.7.75.75 0 1 1-1.072 1.05A2.495 2.495 0 0 1 2 11.5Zm10.5-1h-8a1 1 0 0 0-1 1v6.708A2.486 2.486 0 0 1 4.5 9h8ZM5 12.25a.25.25 0 0 1 .25-.25h3.5a.25.25 0 0 1 .25.25v3.25a.25.25 0 0 1-.4.2l-1.45-1.087a.249.249 0 0 0-.3 0L5.4 15.7a.25.25 0 0 1-.4-.2Z"></path>
</svg>

          urbansim
        </span>

</a>
    </li>
</ul>

</div>
      </scrollable-region>
      
</dialog></dialog-helper>
  </div>

  <div class="AppHeader-context-full">
    <nav role="navigation" aria-label="Page context">
      <ul role="list" class="list-style-none" >
    <li>
      <a data-analytics-event="{&quot;category&quot;:&quot;SiteHeaderComponent&quot;,&quot;action&quot;:&quot;context_region_crumb&quot;,&quot;label&quot;:&quot;asrenninger&quot;,&quot;screen_size&quot;:&quot;full&quot;}" data-hovercard-type="user" data-hovercard-url="/users/asrenninger/hovercard" data-octo-click="hovercard-link-click" data-octo-dimensions="link_type:self" href="/asrenninger" data-view-component="true" class="AppHeader-context-item">
        <span class="AppHeader-context-item-label  ">

          asrenninger
        </span>

</a>
        <span class="AppHeader-context-item-separator">/</span>
    </li>
    <li>
      <a data-analytics-event="{&quot;category&quot;:&quot;SiteHeaderComponent&quot;,&quot;action&quot;:&quot;context_region_crumb&quot;,&quot;label&quot;:&quot;urbansim&quot;,&quot;screen_size&quot;:&quot;full&quot;}" href="/asrenninger/urbansim" data-view-component="true" class="AppHeader-context-item">
        <span class="AppHeader-context-item-label  ">

          urbansim
        </span>

</a>
    </li>
</ul>

    </nav>
  </div>
</div>

      </div>
      <div class="AppHeader-globalBar-end">
          <div class="AppHeader-search" >
              


<qbsearch-input class="search-input" data-scope="repo:asrenninger/urbansim" data-custom-scopes-path="/search/custom_scopes" data-delete-custom-scopes-csrf="ZDE3C2OrYzafhfTm1IpOE6D3ST_Y6zNmhqVdcihJPsuA9NBZ0aLLvV4eBhP5ScVH8AOi_Bsnp1q33c9q6OAyEw" data-max-custom-scopes="10" data-header-redesign-enabled="true" data-initial-value="" data-blackbird-suggestions-path="/search/suggestions" data-jump-to-suggestions-path="/_graphql/GetSuggestedNavigationDestinations" data-current-repository="asrenninger/urbansim" data-current-org="" data-current-owner="asrenninger" data-logged-in="true" data-copilot-chat-enabled="false" data-blackbird-indexed-repo-csrf="<input type=&quot;hidden&quot; value=&quot;mDaWyYkUfEh0AuA8PeOPfbca3QrGTRHWqIpIZYJJwE-z6sLRdu76eZk50xQ46lTPzdu6fdfNh3HA2_lCXtwmPg&quot; data-csrf=&quot;true&quot; />">
  <div
    class="search-input-container search-with-dialog position-relative d-flex flex-row flex-items-center height-auto color-bg-transparent border-0 color-fg-subtle mx-0"
    data-action="click:qbsearch-input#searchInputContainerClicked"
  >
      
            <button type="button" data-action="click:qbsearch-input#handleExpand" class="AppHeader-button AppHeader-search-whenNarrow" aria-label="Search or jump to…" aria-expanded="false" aria-haspopup="dialog">
            <svg aria-hidden="true" height="16" viewBox="0 0 16 16" version="1.1" width="16" data-view-component="true" class="octicon octicon-search">
    <path d="M10.68 11.74a6 6 0 0 1-7.922-8.982 6 6 0 0 1 8.982 7.922l3.04 3.04a.749.749 0 0 1-.326 1.275.749.749 0 0 1-.734-.215ZM11.5 7a4.499 4.499 0 1 0-8.997 0A4.499 4.499 0 0 0 11.5 7Z"></path>
</svg>
          </button>


<div class="AppHeader-search-whenRegular">
  <div class="AppHeader-search-wrap AppHeader-search-wrap--hasTrailing">
    <div class="AppHeader-search-control">
      <label
        for="AppHeader-searchInput"
        aria-label="Search or jump to…"
        class="AppHeader-search-visual--leading"
      >
        <svg aria-hidden="true" height="16" viewBox="0 0 16 16" version="1.1" width="16" data-view-component="true" class="octicon octicon-search">
    <path d="M10.68 11.74a6 6 0 0 1-7.922-8.982 6 6 0 0 1 8.982 7.922l3.04 3.04a.749.749 0 0 1-.326 1.275.749.749 0 0 1-.734-.215ZM11.5 7a4.499 4.499 0 1 0-8.997 0A4.499 4.499 0 0 0 11.5 7Z"></path>
</svg>
      </label>

                <button
            type="button"
            data-target="qbsearch-input.inputButton"
            data-action="click:qbsearch-input#handleExpand"
            class="AppHeader-searchButton form-control input-contrast text-left color-fg-subtle no-wrap"
            data-hotkey="s,/"
            data-analytics-event="{&quot;category&quot;:&quot;Global navigation&quot;,&quot;action&quot;:&quot;SEARCH&quot;,&quot;label&quot;:null}"
          >
            <div class="overflow-hidden">
              <span id="qb-input-query" data-target="qbsearch-input.inputButtonText">
                  Type <kbd class="AppHeader-search-kbd">/</kbd> to search
              </span>
            </div>
          </button>

    </div>


      <button type="button" id="AppHeader-commandPalette-button" class="AppHeader-search-action--trailing js-activate-command-palette" data-analytics-event="{&quot;category&quot;:&quot;SiteHeaderComponent&quot;,&quot;action&quot;:&quot;command_palette&quot;,&quot;label&quot;:&quot;open command palette&quot;}">
        <svg aria-hidden="true" height="16" viewBox="0 0 16 16" version="1.1" width="16" data-view-component="true" class="octicon octicon-command-palette">
    <path d="m6.354 8.04-4.773 4.773a.75.75 0 1 0 1.061 1.06L7.945 8.57a.75.75 0 0 0 0-1.06L2.642 2.206a.75.75 0 0 0-1.06 1.061L6.353 8.04ZM8.75 11.5a.75.75 0 0 0 0 1.5h5.5a.75.75 0 0 0 0-1.5h-5.5Z"></path>
</svg>
      </button>

      <tool-tip id="tooltip-5ede02e8-3e1e-478e-b9bd-4bd65f573f4a" for="AppHeader-commandPalette-button" popover="manual" data-direction="s" data-type="label" data-view-component="true" class="sr-only position-absolute">Command palette</tool-tip>
  </div>
</div>

    <input type="hidden" name="type" class="js-site-search-type-field">

    
<div class="Overlay--hidden " data-modal-dialog-overlay>
  <modal-dialog data-action="close:qbsearch-input#handleClose cancel:qbsearch-input#handleClose" data-target="qbsearch-input.searchSuggestionsDialog" role="dialog" id="search-suggestions-dialog" aria-modal="true" aria-labelledby="search-suggestions-dialog-header" data-view-component="true" class="Overlay Overlay--width-medium Overlay--height-auto">
      <h1 id="search-suggestions-dialog-header" class="sr-only">Search code, repositories, users, issues, pull requests...</h1>
    <div class="Overlay-body Overlay-body--paddingNone">
      
          <div data-view-component="true">        <div class="search-suggestions position-absolute width-full color-shadow-large border color-fg-default color-bg-default overflow-hidden d-flex flex-column query-builder-container"
          style="border-radius: 12px;"
          data-target="qbsearch-input.queryBuilderContainer"
          hidden
        >
          <!-- '"` --><!-- </textarea></xmp> --></option></form><form id="query-builder-test-form" action="" accept-charset="UTF-8" method="get">
  <query-builder data-target="qbsearch-input.queryBuilder" id="query-builder-query-builder-test" data-filter-key=":" data-view-component="true" class="QueryBuilder search-query-builder">
    <div class="FormControl FormControl--fullWidth">
      <label id="query-builder-test-label" for="query-builder-test" class="FormControl-label sr-only">
        Search
      </label>
      <div
        class="QueryBuilder-StyledInput width-fit "
        data-target="query-builder.styledInput"
      >
          <span id="query-builder-test-leadingvisual-wrap" class="FormControl-input-leadingVisualWrap QueryBuilder-leadingVisualWrap">
            <svg aria-hidden="true" height="16" viewBox="0 0 16 16" version="1.1" width="16" data-view-component="true" class="octicon octicon-search FormControl-input-leadingVisual">
    <path d="M10.68 11.74a6 6 0 0 1-7.922-8.982 6 6 0 0 1 8.982 7.922l3.04 3.04a.749.749 0 0 1-.326 1.275.749.749 0 0 1-.734-.215ZM11.5 7a4.499 4.499 0 1 0-8.997 0A4.499 4.499 0 0 0 11.5 7Z"></path>
</svg>
          </span>
        <div data-target="query-builder.styledInputContainer" class="QueryBuilder-StyledInputContainer">
          <div
            aria-hidden="true"
            class="QueryBuilder-StyledInputContent"
            data-target="query-builder.styledInputContent"
          ></div>
          <div class="QueryBuilder-InputWrapper">
            <div aria-hidden="true" class="QueryBuilder-Sizer" data-target="query-builder.sizer"></div>
            <input id="query-builder-test" name="query-builder-test" value="" autocomplete="off" type="text" role="combobox" spellcheck="false" aria-expanded="false" aria-describedby="validation-368488ba-ed30-45c8-9417-67b630ba1528" data-target="query-builder.input" data-action="
          input:query-builder#inputChange
          blur:query-builder#inputBlur
          keydown:query-builder#inputKeydown
          focus:query-builder#inputFocus
        " data-view-component="true" class="FormControl-input QueryBuilder-Input FormControl-medium" />
          </div>
        </div>
          <span class="sr-only" id="query-builder-test-clear">Clear</span>
          <button role="button" id="query-builder-test-clear-button" aria-labelledby="query-builder-test-clear query-builder-test-label" data-target="query-builder.clearButton" data-action="
                click:query-builder#clear
                focus:query-builder#clearButtonFocus
                blur:query-builder#clearButtonBlur
              " variant="small" hidden="hidden" type="button" data-view-component="true" class="Button Button--iconOnly Button--invisible Button--medium mr-1 px-2 py-0 d-flex flex-items-center rounded-1 color-fg-muted">  <svg aria-hidden="true" height="16" viewBox="0 0 16 16" version="1.1" width="16" data-view-component="true" class="octicon octicon-x-circle-fill Button-visual">
    <path d="M2.343 13.657A8 8 0 1 1 13.658 2.343 8 8 0 0 1 2.343 13.657ZM6.03 4.97a.751.751 0 0 0-1.042.018.751.751 0 0 0-.018 1.042L6.94 8 4.97 9.97a.749.749 0 0 0 .326 1.275.749.749 0 0 0 .734-.215L8 9.06l1.97 1.97a.749.749 0 0 0 1.275-.326.749.749 0 0 0-.215-.734L9.06 8l1.97-1.97a.749.749 0 0 0-.326-1.275.749.749 0 0 0-.734.215L8 6.94Z"></path>
</svg>
</button>

      </div>
      <template id="search-icon">
  <svg aria-hidden="true" height="16" viewBox="0 0 16 16" version="1.1" width="16" data-view-component="true" class="octicon octicon-search">
    <path d="M10.68 11.74a6 6 0 0 1-7.922-8.982 6 6 0 0 1 8.982 7.922l3.04 3.04a.749.749 0 0 1-.326 1.275.749.749 0 0 1-.734-.215ZM11.5 7a4.499 4.499 0 1 0-8.997 0A4.499 4.499 0 0 0 11.5 7Z"></path>
</svg>
</template>

<template id="code-icon">
  <svg aria-hidden="true" height="16" viewBox="0 0 16 16" version="1.1" width="16" data-view-component="true" class="octicon octicon-code">
    <path d="m11.28 3.22 4.25 4.25a.75.75 0 0 1 0 1.06l-4.25 4.25a.749.749 0 0 1-1.275-.326.749.749 0 0 1 .215-.734L13.94 8l-3.72-3.72a.749.749 0 0 1 .326-1.275.749.749 0 0 1 .734.215Zm-6.56 0a.751.751 0 0 1 1.042.018.751.751 0 0 1 .018 1.042L2.06 8l3.72 3.72a.749.749 0 0 1-.326 1.275.749.749 0 0 1-.734-.215L.47 8.53a.75.75 0 0 1 0-1.06Z"></path>
</svg>
</template>

<template id="file-code-icon">
  <svg aria-hidden="true" height="16" viewBox="0 0 16 16" version="1.1" width="16" data-view-component="true" class="octicon octicon-file-code">
    <path d="M4 1.75C4 .784 4.784 0 5.75 0h5.586c.464 0 .909.184 1.237.513l2.914 2.914c.329.328.513.773.513 1.237v8.586A1.75 1.75 0 0 1 14.25 15h-9a.75.75 0 0 1 0-1.5h9a.25.25 0 0 0 .25-.25V6h-2.75A1.75 1.75 0 0 1 10 4.25V1.5H5.75a.25.25 0 0 0-.25.25v2.5a.75.75 0 0 1-1.5 0Zm1.72 4.97a.75.75 0 0 1 1.06 0l2 2a.75.75 0 0 1 0 1.06l-2 2a.749.749 0 0 1-1.275-.326.749.749 0 0 1 .215-.734l1.47-1.47-1.47-1.47a.75.75 0 0 1 0-1.06ZM3.28 7.78 1.81 9.25l1.47 1.47a.751.751 0 0 1-.018 1.042.751.751 0 0 1-1.042.018l-2-2a.75.75 0 0 1 0-1.06l2-2a.751.751 0 0 1 1.042.018.751.751 0 0 1 .018 1.042Zm8.22-6.218V4.25c0 .138.112.25.25.25h2.688l-.011-.013-2.914-2.914-.013-.011Z"></path>
</svg>
</template>

<template id="history-icon">
  <svg aria-hidden="true" height="16" viewBox="0 0 16 16" version="1.1" width="16" data-view-component="true" class="octicon octicon-history">
    <path d="m.427 1.927 1.215 1.215a8.002 8.002 0 1 1-1.6 5.685.75.75 0 1 1 1.493-.154 6.5 6.5 0 1 0 1.18-4.458l1.358 1.358A.25.25 0 0 1 3.896 6H.25A.25.25 0 0 1 0 5.75V2.104a.25.25 0 0 1 .427-.177ZM7.75 4a.75.75 0 0 1 .75.75v2.992l2.028.812a.75.75 0 0 1-.557 1.392l-2.5-1A.751.751 0 0 1 7 8.25v-3.5A.75.75 0 0 1 7.75 4Z"></path>
</svg>
</template>

<template id="repo-icon">
  <svg aria-hidden="true" height="16" viewBox="0 0 16 16" version="1.1" width="16" data-view-component="true" class="octicon octicon-repo">
    <path d="M2 2.5A2.5 2.5 0 0 1 4.5 0h8.75a.75.75 0 0 1 .75.75v12.5a.75.75 0 0 1-.75.75h-2.5a.75.75 0 0 1 0-1.5h1.75v-2h-8a1 1 0 0 0-.714 1.7.75.75 0 1 1-1.072 1.05A2.495 2.495 0 0 1 2 11.5Zm10.5-1h-8a1 1 0 0 0-1 1v6.708A2.486 2.486 0 0 1 4.5 9h8ZM5 12.25a.25.25 0 0 1 .25-.25h3.5a.25.25 0 0 1 .25.25v3.25a.25.25 0 0 1-.4.2l-1.45-1.087a.249.249 0 0 0-.3 0L5.4 15.7a.25.25 0 0 1-.4-.2Z"></path>
</svg>
</template>

<template id="bookmark-icon">
  <svg aria-hidden="true" height="16" viewBox="0 0 16 16" version="1.1" width="16" data-view-component="true" class="octicon octicon-bookmark">
    <path d="M3 2.75C3 1.784 3.784 1 4.75 1h6.5c.966 0 1.75.784 1.75 1.75v11.5a.75.75 0 0 1-1.227.579L8 11.722l-3.773 3.107A.751.751 0 0 1 3 14.25Zm1.75-.25a.25.25 0 0 0-.25.25v9.91l3.023-2.489a.75.75 0 0 1 .954 0l3.023 2.49V2.75a.25.25 0 0 0-.25-.25Z"></path>
</svg>
</template>

<template id="plus-circle-icon">
  <svg aria-hidden="true" height="16" viewBox="0 0 16 16" version="1.1" width="16" data-view-component="true" class="octicon octicon-plus-circle">
    <path d="M8 0a8 8 0 1 1 0 16A8 8 0 0 1 8 0ZM1.5 8a6.5 6.5 0 1 0 13 0 6.5 6.5 0 0 0-13 0Zm7.25-3.25v2.5h2.5a.75.75 0 0 1 0 1.5h-2.5v2.5a.75.75 0 0 1-1.5 0v-2.5h-2.5a.75.75 0 0 1 0-1.5h2.5v-2.5a.75.75 0 0 1 1.5 0Z"></path>
</svg>
</template>

<template id="circle-icon">
  <svg aria-hidden="true" height="16" viewBox="0 0 16 16" version="1.1" width="16" data-view-component="true" class="octicon octicon-dot-fill">
    <path d="M8 4a4 4 0 1 1 0 8 4 4 0 0 1 0-8Z"></path>
</svg>
</template>

<template id="trash-icon">
  <svg aria-hidden="true" height="16" viewBox="0 0 16 16" version="1.1" width="16" data-view-component="true" class="octicon octicon-trash">
    <path d="M11 1.75V3h2.25a.75.75 0 0 1 0 1.5H2.75a.75.75 0 0 1 0-1.5H5V1.75C5 .784 5.784 0 6.75 0h2.5C10.216 0 11 .784 11 1.75ZM4.496 6.675l.66 6.6a.25.25 0 0 0 .249.225h5.19a.25.25 0 0 0 .249-.225l.66-6.6a.75.75 0 0 1 1.492.149l-.66 6.6A1.748 1.748 0 0 1 10.595 15h-5.19a1.75 1.75 0 0 1-1.741-1.575l-.66-6.6a.75.75 0 1 1 1.492-.15ZM6.5 1.75V3h3V1.75a.25.25 0 0 0-.25-.25h-2.5a.25.25 0 0 0-.25.25Z"></path>
</svg>
</template>

<template id="team-icon">
  <svg aria-hidden="true" height="16" viewBox="0 0 16 16" version="1.1" width="16" data-view-component="true" class="octicon octicon-people">
    <path d="M2 5.5a3.5 3.5 0 1 1 5.898 2.549 5.508 5.508 0 0 1 3.034 4.084.75.75 0 1 1-1.482.235 4 4 0 0 0-7.9 0 .75.75 0 0 1-1.482-.236A5.507 5.507 0 0 1 3.102 8.05 3.493 3.493 0 0 1 2 5.5ZM11 4a3.001 3.001 0 0 1 2.22 5.018 5.01 5.01 0 0 1 2.56 3.012.749.749 0 0 1-.885.954.752.752 0 0 1-.549-.514 3.507 3.507 0 0 0-2.522-2.372.75.75 0 0 1-.574-.73v-.352a.75.75 0 0 1 .416-.672A1.5 1.5 0 0 0 11 5.5.75.75 0 0 1 11 4Zm-5.5-.5a2 2 0 1 0-.001 3.999A2 2 0 0 0 5.5 3.5Z"></path>
</svg>
</template>

<template id="project-icon">
  <svg aria-hidden="true" height="16" viewBox="0 0 16 16" version="1.1" width="16" data-view-component="true" class="octicon octicon-project">
    <path d="M1.75 0h12.5C15.216 0 16 .784 16 1.75v12.5A1.75 1.75 0 0 1 14.25 16H1.75A1.75 1.75 0 0 1 0 14.25V1.75C0 .784.784 0 1.75 0ZM1.5 1.75v12.5c0 .138.112.25.25.25h12.5a.25.25 0 0 0 .25-.25V1.75a.25.25 0 0 0-.25-.25H1.75a.25.25 0 0 0-.25.25ZM11.75 3a.75.75 0 0 1 .75.75v7.5a.75.75 0 0 1-1.5 0v-7.5a.75.75 0 0 1 .75-.75Zm-8.25.75a.75.75 0 0 1 1.5 0v5.5a.75.75 0 0 1-1.5 0ZM8 3a.75.75 0 0 1 .75.75v3.5a.75.75 0 0 1-1.5 0v-3.5A.75.75 0 0 1 8 3Z"></path>
</svg>
</template>

<template id="pencil-icon">
  <svg aria-hidden="true" height="16" viewBox="0 0 16 16" version="1.1" width="16" data-view-component="true" class="octicon octicon-pencil">
    <path d="M11.013 1.427a1.75 1.75 0 0 1 2.474 0l1.086 1.086a1.75 1.75 0 0 1 0 2.474l-8.61 8.61c-.21.21-.47.364-.756.445l-3.251.93a.75.75 0 0 1-.927-.928l.929-3.25c.081-.286.235-.547.445-.758l8.61-8.61Zm.176 4.823L9.75 4.81l-6.286 6.287a.253.253 0 0 0-.064.108l-.558 1.953 1.953-.558a.253.253 0 0 0 .108-.064Zm1.238-3.763a.25.25 0 0 0-.354 0L10.811 3.75l1.439 1.44 1.263-1.263a.25.25 0 0 0 0-.354Z"></path>
</svg>
</template>

<template id="copilot-icon">
  <svg aria-hidden="true" height="16" viewBox="0 0 16 16" version="1.1" width="16" data-view-component="true" class="octicon octicon-copilot">
    <path d="M7.998 15.035c-4.562 0-7.873-2.914-7.998-3.749V9.338c.085-.628.677-1.686 1.588-2.065.013-.07.024-.143.036-.218.029-.183.06-.384.126-.612-.201-.508-.254-1.084-.254-1.656 0-.87.128-1.769.693-2.484.579-.733 1.494-1.124 2.724-1.261 1.206-.134 2.262.034 2.944.765.05.053.096.108.139.165.044-.057.094-.112.143-.165.682-.731 1.738-.899 2.944-.765 1.23.137 2.145.528 2.724 1.261.566.715.693 1.614.693 2.484 0 .572-.053 1.148-.254 1.656.066.228.098.429.126.612.012.076.024.148.037.218.924.385 1.522 1.471 1.591 2.095v1.872c0 .766-3.351 3.795-8.002 3.795Zm0-1.485c2.28 0 4.584-1.11 5.002-1.433V7.862l-.023-.116c-.49.21-1.075.291-1.727.291-1.146 0-2.059-.327-2.71-.991A3.222 3.222 0 0 1 8 6.303a3.24 3.24 0 0 1-.544.743c-.65.664-1.563.991-2.71.991-.652 0-1.236-.081-1.727-.291l-.023.116v4.255c.419.323 2.722 1.433 5.002 1.433ZM6.762 2.83c-.193-.206-.637-.413-1.682-.297-1.019.113-1.479.404-1.713.7-.247.312-.369.789-.369 1.554 0 .793.129 1.171.308 1.371.162.181.519.379 1.442.379.853 0 1.339-.235 1.638-.54.315-.322.527-.827.617-1.553.117-.935-.037-1.395-.241-1.614Zm4.155-.297c-1.044-.116-1.488.091-1.681.297-.204.219-.359.679-.242 1.614.091.726.303 1.231.618 1.553.299.305.784.54 1.638.54.922 0 1.28-.198 1.442-.379.179-.2.308-.578.308-1.371 0-.765-.123-1.242-.37-1.554-.233-.296-.693-.587-1.713-.7Z"></path><path d="M6.25 9.037a.75.75 0 0 1 .75.75v1.501a.75.75 0 0 1-1.5 0V9.787a.75.75 0 0 1 .75-.75Zm4.25.75v1.501a.75.75 0 0 1-1.5 0V9.787a.75.75 0 0 1 1.5 0Z"></path>
</svg>
</template>

        <div class="position-relative">
                <ul
                  role="listbox"
                  class="ActionListWrap QueryBuilder-ListWrap"
                  aria-label="Suggestions"
                  data-action="
                    combobox-commit:query-builder#comboboxCommit
                    mousedown:query-builder#resultsMousedown
                  "
                  data-target="query-builder.resultsList"
                  data-persist-list=false
                  id="query-builder-test-results"
                ></ul>
        </div>
      <div class="FormControl-inlineValidation" id="validation-368488ba-ed30-45c8-9417-67b630ba1528" hidden="hidden">
        <span class="FormControl-inlineValidation--visual">
          <svg aria-hidden="true" height="12" viewBox="0 0 12 12" version="1.1" width="12" data-view-component="true" class="octicon octicon-alert-fill">
    <path d="M4.855.708c.5-.896 1.79-.896 2.29 0l4.675 8.351a1.312 1.312 0 0 1-1.146 1.954H1.33A1.313 1.313 0 0 1 .183 9.058ZM7 7V3H5v4Zm-1 3a1 1 0 1 0 0-2 1 1 0 0 0 0 2Z"></path>
</svg>
        </span>
        <span></span>
</div>    </div>
    <div data-target="query-builder.screenReaderFeedback" aria-live="polite" aria-atomic="true" class="sr-only"></div>
</query-builder></form>
          <div class="d-flex flex-row color-fg-muted px-3 text-small color-bg-default search-feedback-prompt">
            <a target="_blank" href="https://docs.github.com/search-github/github-code-search/understanding-github-code-search-syntax" data-view-component="true" class="Link color-fg-accent text-normal ml-2">
              Search syntax tips
</a>            <div class="d-flex flex-1"></div>
              <button data-action="click:qbsearch-input#showFeedbackDialog" type="button" data-view-component="true" class="Button--link Button--medium Button color-fg-accent text-normal ml-2">  <span class="Button-content">
    <span class="Button-label">Give feedback</span>
  </span>
</button>
          </div>
        </div>
</div>

    </div>
</modal-dialog></div>
  </div>
  <div data-action="click:qbsearch-input#retract" class="dark-backdrop position-fixed" hidden data-target="qbsearch-input.darkBackdrop"></div>
  <div class="color-fg-default">
    
<dialog-helper>
  <dialog data-target="qbsearch-input.feedbackDialog" data-action="close:qbsearch-input#handleDialogClose cancel:qbsearch-input#handleDialogClose" id="feedback-dialog" aria-modal="true" aria-disabled="true" aria-labelledby="feedback-dialog-title" aria-describedby="feedback-dialog-description" data-view-component="true" class="Overlay Overlay-whenNarrow Overlay--size-medium Overlay--motion-scaleFade">
    <div data-view-component="true" class="Overlay-header">
  <div class="Overlay-headerContentWrap">
    <div class="Overlay-titleWrap">
      <h1 class="Overlay-title " id="feedback-dialog-title">
        Provide feedback
      </h1>
    </div>
    <div class="Overlay-actionWrap">
      <button data-close-dialog-id="feedback-dialog" aria-label="Close" type="button" data-view-component="true" class="close-button Overlay-closeButton"><svg aria-hidden="true" height="16" viewBox="0 0 16 16" version="1.1" width="16" data-view-component="true" class="octicon octicon-x">
    <path d="M3.72 3.72a.75.75 0 0 1 1.06 0L8 6.94l3.22-3.22a.749.749 0 0 1 1.275.326.749.749 0 0 1-.215.734L9.06 8l3.22 3.22a.749.749 0 0 1-.326 1.275.749.749 0 0 1-.734-.215L8 9.06l-3.22 3.22a.751.751 0 0 1-1.042-.018.751.751 0 0 1-.018-1.042L6.94 8 3.72 4.78a.75.75 0 0 1 0-1.06Z"></path>
</svg></button>
    </div>
  </div>
</div>
      <scrollable-region data-labelled-by="feedback-dialog-title">
        <div data-view-component="true" class="Overlay-body">        <!-- '"` --><!-- </textarea></xmp> --></option></form><form id="code-search-feedback-form" data-turbo="false" action="/search/feedback" accept-charset="UTF-8" method="post"><input type="hidden" name="authenticity_token" value="J8e1vphG0ldb3gA4kd-x5jwtno-0Y9jnzxW2v-HmoSdaqOhe_T80xGsjvK00S5ZuClzPTFigk8FGZznD8S3nxw" />
          <p>We read every piece of feedback, and take your input very seriously.</p>
          <textarea name="feedback" class="form-control width-full mb-2" style="height: 120px" id="feedback"></textarea>
          <input name="include_email" id="include_email" aria-label="Include my email address so I can be contacted" class="form-control mr-2" type="checkbox">
          <label for="include_email" style="font-weight: normal">Include my email address so I can be contacted</label>
</form></div>
      </scrollable-region>
      <div data-view-component="true" class="Overlay-footer Overlay-footer--alignEnd">          <button data-close-dialog-id="feedback-dialog" type="button" data-view-component="true" class="btn">    Cancel
</button>
          <button form="code-search-feedback-form" data-action="click:qbsearch-input#submitFeedback" type="submit" data-view-component="true" class="btn-primary btn">    Submit feedback
</button>
</div>
</dialog></dialog-helper>

    <custom-scopes data-target="qbsearch-input.customScopesManager">
    
<dialog-helper>
  <dialog data-target="custom-scopes.customScopesModalDialog" data-action="close:qbsearch-input#handleDialogClose cancel:qbsearch-input#handleDialogClose" id="custom-scopes-dialog" aria-modal="true" aria-disabled="true" aria-labelledby="custom-scopes-dialog-title" aria-describedby="custom-scopes-dialog-description" data-view-component="true" class="Overlay Overlay-whenNarrow Overlay--size-medium Overlay--motion-scaleFade">
    <div data-view-component="true" class="Overlay-header Overlay-header--divided">
  <div class="Overlay-headerContentWrap">
    <div class="Overlay-titleWrap">
      <h1 class="Overlay-title " id="custom-scopes-dialog-title">
        Saved searches
      </h1>
        <h2 id="custom-scopes-dialog-description" class="Overlay-description">Use saved searches to filter your results more quickly</h2>
    </div>
    <div class="Overlay-actionWrap">
      <button data-close-dialog-id="custom-scopes-dialog" aria-label="Close" type="button" data-view-component="true" class="close-button Overlay-closeButton"><svg aria-hidden="true" height="16" viewBox="0 0 16 16" version="1.1" width="16" data-view-component="true" class="octicon octicon-x">
    <path d="M3.72 3.72a.75.75 0 0 1 1.06 0L8 6.94l3.22-3.22a.749.749 0 0 1 1.275.326.749.749 0 0 1-.215.734L9.06 8l3.22 3.22a.749.749 0 0 1-.326 1.275.749.749 0 0 1-.734-.215L8 9.06l-3.22 3.22a.751.751 0 0 1-1.042-.018.751.751 0 0 1-.018-1.042L6.94 8 3.72 4.78a.75.75 0 0 1 0-1.06Z"></path>
</svg></button>
    </div>
  </div>
</div>
      <scrollable-region data-labelled-by="custom-scopes-dialog-title">
        <div data-view-component="true" class="Overlay-body">        <div data-target="custom-scopes.customScopesModalDialogFlash"></div>

        <div hidden class="create-custom-scope-form" data-target="custom-scopes.createCustomScopeForm">
        <!-- '"` --><!-- </textarea></xmp> --></option></form><form id="custom-scopes-dialog-form" data-turbo="false" action="/search/custom_scopes" accept-charset="UTF-8" method="post"><input type="hidden" name="authenticity_token" value="syNREXKkIDyi3czcYN4_23spoalfuVf5l_M8NbvsAk4ue4KwNO8KFwhwA0on0UV4HFOXIo0jo4BwHpIBZ3fxGQ" />
          <div data-target="custom-scopes.customScopesModalDialogFlash"></div>

          <input type="hidden" id="custom_scope_id" name="custom_scope_id" data-target="custom-scopes.customScopesIdField">

          <div class="form-group">
            <label for="custom_scope_name">Name</label>
            <auto-check src="/search/custom_scopes/check_name" required>
              <input
                type="text"
                name="custom_scope_name"
                id="custom_scope_name"
                data-target="custom-scopes.customScopesNameField"
                class="form-control"
                autocomplete="off"
                placeholder="github-ruby"
                required
                maxlength="50">
              <input type="hidden" value="Gl3nSK2dmvoTBJBCEZyGttaZvnucVRRsBiTWQCAzfRbo6niSYzpSz-Fkw9tkNF38ItkUDLpHa2rclhtzEhxH6w" data-csrf="true" />
            </auto-check>
          </div>

          <div class="form-group">
            <label for="custom_scope_query">Query</label>
            <input
              type="text"
              name="custom_scope_query"
              id="custom_scope_query"
              data-target="custom-scopes.customScopesQueryField"
              class="form-control"
              autocomplete="off"
              placeholder="(repo:mona/a OR repo:mona/b) AND lang:python"
              required
              maxlength="500">
          </div>

          <p class="text-small color-fg-muted">
            To see all available qualifiers, see our <a class="Link--inTextBlock" href="https://docs.github.com/search-github/github-code-search/understanding-github-code-search-syntax">documentation</a>.
          </p>
</form>        </div>

        <div data-target="custom-scopes.manageCustomScopesForm">
          <div data-target="custom-scopes.list"></div>
        </div>

</div>
      </scrollable-region>
      <div data-view-component="true" class="Overlay-footer Overlay-footer--alignEnd Overlay-footer--divided">          <button data-action="click:custom-scopes#customScopesCancel" type="button" data-view-component="true" class="btn">    Cancel
</button>
          <button form="custom-scopes-dialog-form" data-action="click:custom-scopes#customScopesSubmit" data-target="custom-scopes.customScopesSubmitButton" type="submit" data-view-component="true" class="btn-primary btn">    Create saved search
</button>
</div>
</dialog></dialog-helper>
    </custom-scopes>
  </div>
</qbsearch-input><input type="hidden" value="L6xj5BR1FD6RhCewlC2_4qGqELNqX0aQ2ulqmW6dRWY_Z9z6d3UQKZgt8-ToxwG6-ePs_reUs0za7NNDHpRxBQ" data-csrf="true" class="js-data-jump-to-suggestions-path-csrf" />

          </div>

        <div class="AppHeader-actions position-relative">
          <action-menu data-select-variant="none" data-view-component="true">
  <focus-group direction="vertical" mnemonics retain>
    <button id="global-create-menu-button" popovertarget="global-create-menu-overlay" aria-label="Create something new" aria-controls="global-create-menu-list" aria-haspopup="true" type="button" data-view-component="true" class="AppHeader-button Button--secondary Button--small Button width-auto color-fg-muted">  <span class="Button-content">
      <span class="Button-visual Button-leadingVisual">
        <svg aria-hidden="true" height="16" viewBox="0 0 16 16" version="1.1" width="16" data-view-component="true" class="octicon octicon-plus">
    <path d="M7.75 2a.75.75 0 0 1 .75.75V7h4.25a.75.75 0 0 1 0 1.5H8.5v4.25a.75.75 0 0 1-1.5 0V8.5H2.75a.75.75 0 0 1 0-1.5H7V2.75A.75.75 0 0 1 7.75 2Z"></path>
</svg>
      </span>
    <span class="Button-label"><svg aria-hidden="true" height="16" viewBox="0 0 16 16" version="1.1" width="16" data-view-component="true" class="octicon octicon-triangle-down">
    <path d="m4.427 7.427 3.396 3.396a.25.25 0 0 0 .354 0l3.396-3.396A.25.25 0 0 0 11.396 7H4.604a.25.25 0 0 0-.177.427Z"></path>
</svg></span>
  </span>
</button><tool-tip id="tooltip-09061329-0767-409c-bd44-88429e7d98ce" for="global-create-menu-button" popover="manual" data-direction="s" data-type="description" data-view-component="true" class="sr-only position-absolute">Create new...</tool-tip>


<anchored-position id="global-create-menu-overlay" anchor="global-create-menu-button" align="end" side="outside-bottom" anchor-offset="normal" popover="auto" data-view-component="true">
  <div data-view-component="true" class="Overlay Overlay--size-auto">
    
      <div data-view-component="true" class="Overlay-body Overlay-body--paddingNone">          <div data-view-component="true">
  <ul aria-labelledby="global-create-menu-button" id="global-create-menu-list" role="menu" data-view-component="true" class="ActionListWrap--inset ActionListWrap">
      <li data-analytics-event="{&quot;category&quot;:&quot;SiteHeaderComponent&quot;,&quot;action&quot;:&quot;add_dropdown&quot;,&quot;label&quot;:&quot;new repository&quot;}" data-targets="action-list.items action-list.items" role="none" data-view-component="true" class="ActionListItem">
    
    <a href="/new" tabindex="-1" id="item-d9f9f698-a63a-48e7-87d2-021465432e52" role="menuitem" data-view-component="true" class="ActionListContent ActionListContent--visual16">
        <span class="ActionListItem-visual ActionListItem-visual--leading">
          <svg aria-hidden="true" height="16" viewBox="0 0 16 16" version="1.1" width="16" data-view-component="true" class="octicon octicon-repo">
    <path d="M2 2.5A2.5 2.5 0 0 1 4.5 0h8.75a.75.75 0 0 1 .75.75v12.5a.75.75 0 0 1-.75.75h-2.5a.75.75 0 0 1 0-1.5h1.75v-2h-8a1 1 0 0 0-.714 1.7.75.75 0 1 1-1.072 1.05A2.495 2.495 0 0 1 2 11.5Zm10.5-1h-8a1 1 0 0 0-1 1v6.708A2.486 2.486 0 0 1 4.5 9h8ZM5 12.25a.25.25 0 0 1 .25-.25h3.5a.25.25 0 0 1 .25.25v3.25a.25.25 0 0 1-.4.2l-1.45-1.087a.249.249 0 0 0-.3 0L5.4 15.7a.25.25 0 0 1-.4-.2Z"></path>
</svg>
        </span>
      
        <span data-view-component="true" class="ActionListItem-label">
              New repository

</span></a>
  
  
</li>
      <li data-analytics-event="{&quot;category&quot;:&quot;SiteHeaderComponent&quot;,&quot;action&quot;:&quot;add_dropdown&quot;,&quot;label&quot;:&quot;import repository&quot;}" data-targets="action-list.items action-list.items" role="none" data-view-component="true" class="ActionListItem">
    
    <a href="/new/import" tabindex="-1" id="item-2eb3efc6-f77f-4dc0-bf36-d8d20c60cb1c" role="menuitem" data-view-component="true" class="ActionListContent ActionListContent--visual16">
        <span class="ActionListItem-visual ActionListItem-visual--leading">
          <svg aria-hidden="true" height="16" viewBox="0 0 16 16" version="1.1" width="16" data-view-component="true" class="octicon octicon-repo-push">
    <path d="M1 2.5A2.5 2.5 0 0 1 3.5 0h8.75a.75.75 0 0 1 .75.75v3.5a.75.75 0 0 1-1.5 0V1.5h-8a1 1 0 0 0-1 1v6.708A2.493 2.493 0 0 1 3.5 9h3.25a.75.75 0 0 1 0 1.5H3.5a1 1 0 0 0 0 2h5.75a.75.75 0 0 1 0 1.5H3.5A2.5 2.5 0 0 1 1 11.5Zm13.23 7.79h-.001l-1.224-1.224v6.184a.75.75 0 0 1-1.5 0V9.066L10.28 10.29a.75.75 0 0 1-1.06-1.061l2.505-2.504a.75.75 0 0 1 1.06 0L15.29 9.23a.751.751 0 0 1-.018 1.042.751.751 0 0 1-1.042.018Z"></path>
</svg>
        </span>
      
        <span data-view-component="true" class="ActionListItem-label">
                Import repository

</span></a>
  
  
</li>
      <li role="presentation" aria-hidden="true" data-view-component="true" class="ActionList-sectionDivider"></li>
      <li data-analytics-event="{&quot;category&quot;:&quot;SiteHeaderComponent&quot;,&quot;action&quot;:&quot;add_dropdown&quot;,&quot;label&quot;:&quot;new codespace&quot;}" data-targets="action-list.items action-list.items" role="none" data-view-component="true" class="ActionListItem">
    
    <a href="/codespaces/new" tabindex="-1" id="item-912ea465-1748-453a-aea5-a4e184be8c38" role="menuitem" data-view-component="true" class="ActionListContent ActionListContent--visual16">
        <span class="ActionListItem-visual ActionListItem-visual--leading">
          <svg aria-hidden="true" height="16" viewBox="0 0 16 16" version="1.1" width="16" data-view-component="true" class="octicon octicon-codespaces">
    <path d="M0 11.25c0-.966.784-1.75 1.75-1.75h12.5c.966 0 1.75.784 1.75 1.75v3A1.75 1.75 0 0 1 14.25 16H1.75A1.75 1.75 0 0 1 0 14.25Zm2-9.5C2 .784 2.784 0 3.75 0h8.5C13.216 0 14 .784 14 1.75v5a1.75 1.75 0 0 1-1.75 1.75h-8.5A1.75 1.75 0 0 1 2 6.75Zm1.75-.25a.25.25 0 0 0-.25.25v5c0 .138.112.25.25.25h8.5a.25.25 0 0 0 .25-.25v-5a.25.25 0 0 0-.25-.25Zm-2 9.5a.25.25 0 0 0-.25.25v3c0 .138.112.25.25.25h12.5a.25.25 0 0 0 .25-.25v-3a.25.25 0 0 0-.25-.25Z"></path><path d="M7 12.75a.75.75 0 0 1 .75-.75h4.5a.75.75 0 0 1 0 1.5h-4.5a.75.75 0 0 1-.75-.75Zm-4 0a.75.75 0 0 1 .75-.75h.5a.75.75 0 0 1 0 1.5h-.5a.75.75 0 0 1-.75-.75Z"></path>
</svg>
        </span>
      
        <span data-view-component="true" class="ActionListItem-label">
                New codespace

</span></a>
  
  
</li>
      <li data-analytics-event="{&quot;category&quot;:&quot;SiteHeaderComponent&quot;,&quot;action&quot;:&quot;add_dropdown&quot;,&quot;label&quot;:&quot;new gist&quot;}" data-targets="action-list.items action-list.items" role="none" data-view-component="true" class="ActionListItem">
    
    <a href="https://gist.github.com/" tabindex="-1" id="item-1865623c-be34-4e67-baa0-804580c73eb9" role="menuitem" data-view-component="true" class="ActionListContent ActionListContent--visual16">
        <span class="ActionListItem-visual ActionListItem-visual--leading">
          <svg aria-hidden="true" height="16" viewBox="0 0 16 16" version="1.1" width="16" data-view-component="true" class="octicon octicon-code">
    <path d="m11.28 3.22 4.25 4.25a.75.75 0 0 1 0 1.06l-4.25 4.25a.749.749 0 0 1-1.275-.326.749.749 0 0 1 .215-.734L13.94 8l-3.72-3.72a.749.749 0 0 1 .326-1.275.749.749 0 0 1 .734.215Zm-6.56 0a.751.751 0 0 1 1.042.018.751.751 0 0 1 .018 1.042L2.06 8l3.72 3.72a.749.749 0 0 1-.326 1.275.749.749 0 0 1-.734-.215L.47 8.53a.75.75 0 0 1 0-1.06Z"></path>
</svg>
        </span>
      
        <span data-view-component="true" class="ActionListItem-label">
                New gist

</span></a>
  
  
</li>
      <li role="presentation" aria-hidden="true" data-view-component="true" class="ActionList-sectionDivider"></li>
      <li data-targets="action-list.items action-list.items" role="none" data-view-component="true" class="ActionListItem">
    
    <a href="/account/organizations/new" tabindex="-1" data-dont-follow-via-test="true" data-analytics-event="{&quot;category&quot;:&quot;SiteHeaderComponent&quot;,&quot;action&quot;:&quot;add_dropdown&quot;,&quot;label&quot;:&quot;new organization&quot;}" id="item-fc79e00b-7093-4191-a82b-67ec4d97fd1a" role="menuitem" data-view-component="true" class="ActionListContent ActionListContent--visual16">
        <span class="ActionListItem-visual ActionListItem-visual--leading">
          <svg aria-hidden="true" height="16" viewBox="0 0 16 16" version="1.1" width="16" data-view-component="true" class="octicon octicon-organization">
    <path d="M1.75 16A1.75 1.75 0 0 1 0 14.25V1.75C0 .784.784 0 1.75 0h8.5C11.216 0 12 .784 12 1.75v12.5c0 .085-.006.168-.018.25h2.268a.25.25 0 0 0 .25-.25V8.285a.25.25 0 0 0-.111-.208l-1.055-.703a.749.749 0 1 1 .832-1.248l1.055.703c.487.325.779.871.779 1.456v5.965A1.75 1.75 0 0 1 14.25 16h-3.5a.766.766 0 0 1-.197-.026c-.099.017-.2.026-.303.026h-3a.75.75 0 0 1-.75-.75V14h-1v1.25a.75.75 0 0 1-.75.75Zm-.25-1.75c0 .138.112.25.25.25H4v-1.25a.75.75 0 0 1 .75-.75h2.5a.75.75 0 0 1 .75.75v1.25h2.25a.25.25 0 0 0 .25-.25V1.75a.25.25 0 0 0-.25-.25h-8.5a.25.25 0 0 0-.25.25ZM3.75 6h.5a.75.75 0 0 1 0 1.5h-.5a.75.75 0 0 1 0-1.5ZM3 3.75A.75.75 0 0 1 3.75 3h.5a.75.75 0 0 1 0 1.5h-.5A.75.75 0 0 1 3 3.75Zm4 3A.75.75 0 0 1 7.75 6h.5a.75.75 0 0 1 0 1.5h-.5A.75.75 0 0 1 7 6.75ZM7.75 3h.5a.75.75 0 0 1 0 1.5h-.5a.75.75 0 0 1 0-1.5ZM3 9.75A.75.75 0 0 1 3.75 9h.5a.75.75 0 0 1 0 1.5h-.5A.75.75 0 0 1 3 9.75ZM7.75 9h.5a.75.75 0 0 1 0 1.5h-.5a.75.75 0 0 1 0-1.5Z"></path>
</svg>
        </span>
      
        <span data-view-component="true" class="ActionListItem-label">
                New organization

</span></a>
  
  
</li>
</ul>  
</div>

</div>
      
</div></anchored-position>  </focus-group>
</action-menu>


          <a href="/issues" data-analytics-event="{&quot;category&quot;:&quot;Global navigation&quot;,&quot;action&quot;:&quot;ISSUES_HEADER&quot;,&quot;label&quot;:null}" id="icon-button-3ffdc305-a033-4095-9725-4d86938c6c84" aria-labelledby="tooltip-978627fc-e470-41be-93bc-6c0e56d44ef8" data-view-component="true" class="Button Button--iconOnly Button--secondary Button--medium AppHeader-button color-fg-muted">  <svg aria-hidden="true" height="16" viewBox="0 0 16 16" version="1.1" width="16" data-view-component="true" class="octicon octicon-issue-opened Button-visual">
    <path d="M8 9.5a1.5 1.5 0 1 0 0-3 1.5 1.5 0 0 0 0 3Z"></path><path d="M8 0a8 8 0 1 1 0 16A8 8 0 0 1 8 0ZM1.5 8a6.5 6.5 0 1 0 13 0 6.5 6.5 0 0 0-13 0Z"></path>
</svg>
</a><tool-tip id="tooltip-978627fc-e470-41be-93bc-6c0e56d44ef8" for="icon-button-3ffdc305-a033-4095-9725-4d86938c6c84" popover="manual" data-direction="s" data-type="label" data-view-component="true" class="sr-only position-absolute">Issues</tool-tip>

          <a href="/pulls" data-analytics-event="{&quot;category&quot;:&quot;Global navigation&quot;,&quot;action&quot;:&quot;PULL_REQUESTS_HEADER&quot;,&quot;label&quot;:null}" id="icon-button-4e04a36f-616f-409e-863d-f6f0431e5d4f" aria-labelledby="tooltip-ba3526a5-4227-4b7f-a9bf-40a3d6403fba" data-view-component="true" class="Button Button--iconOnly Button--secondary Button--medium AppHeader-button color-fg-muted">  <svg aria-hidden="true" height="16" viewBox="0 0 16 16" version="1.1" width="16" data-view-component="true" class="octicon octicon-git-pull-request Button-visual">
    <path d="M1.5 3.25a2.25 2.25 0 1 1 3 2.122v5.256a2.251 2.251 0 1 1-1.5 0V5.372A2.25 2.25 0 0 1 1.5 3.25Zm5.677-.177L9.573.677A.25.25 0 0 1 10 .854V2.5h1A2.5 2.5 0 0 1 13.5 5v5.628a2.251 2.251 0 1 1-1.5 0V5a1 1 0 0 0-1-1h-1v1.646a.25.25 0 0 1-.427.177L7.177 3.427a.25.25 0 0 1 0-.354ZM3.75 2.5a.75.75 0 1 0 0 1.5.75.75 0 0 0 0-1.5Zm0 9.5a.75.75 0 1 0 0 1.5.75.75 0 0 0 0-1.5Zm8.25.75a.75.75 0 1 0 1.5 0 .75.75 0 0 0-1.5 0Z"></path>
</svg>
</a><tool-tip id="tooltip-ba3526a5-4227-4b7f-a9bf-40a3d6403fba" for="icon-button-4e04a36f-616f-409e-863d-f6f0431e5d4f" popover="manual" data-direction="s" data-type="label" data-view-component="true" class="sr-only position-absolute">Pull requests</tool-tip>

        </div>

        
<notification-indicator data-channel="eyJjIjoibm90aWZpY2F0aW9uLWNoYW5nZWQ6NDcyMjY5NDkiLCJ0IjoxNzA3MjEzNDMyfQ==--37aaf4d4bc3717e8b4faa565f538af5b975223ffd00fd397becb456ca97fb596" data-indicator-mode="none" data-tooltip-global="You have unread notifications" data-tooltip-unavailable="Notifications are unavailable at the moment." data-tooltip-none="You have no unread notifications" data-header-redesign-enabled="true" data-fetch-indicator-src="/notifications/indicator" data-fetch-indicator-enabled="true" data-view-component="true" class="js-socket-channel">
    <a id="AppHeader-notifications-button" href="/notifications" aria-label="Notifications" data-hotkey="g n" data-target="notification-indicator.link" data-analytics-event="{&quot;category&quot;:&quot;Global navigation&quot;,&quot;action&quot;:&quot;NOTIFICATIONS_HEADER&quot;,&quot;label&quot;:null}" data-view-component="true" class="Button Button--iconOnly Button--secondary Button--medium AppHeader-button  color-fg-muted">  <svg aria-hidden="true" height="16" viewBox="0 0 16 16" version="1.1" width="16" data-view-component="true" class="octicon octicon-inbox Button-visual">
    <path d="M2.8 2.06A1.75 1.75 0 0 1 4.41 1h7.18c.7 0 1.333.417 1.61 1.06l2.74 6.395c.04.093.06.194.06.295v4.5A1.75 1.75 0 0 1 14.25 15H1.75A1.75 1.75 0 0 1 0 13.25v-4.5c0-.101.02-.202.06-.295Zm1.61.44a.25.25 0 0 0-.23.152L1.887 8H4.75a.75.75 0 0 1 .6.3L6.625 10h2.75l1.275-1.7a.75.75 0 0 1 .6-.3h2.863L11.82 2.652a.25.25 0 0 0-.23-.152Zm10.09 7h-2.875l-1.275 1.7a.75.75 0 0 1-.6.3h-3.5a.75.75 0 0 1-.6-.3L4.375 9.5H1.5v3.75c0 .138.112.25.25.25h12.5a.25.25 0 0 0 .25-.25Z"></path>
</svg>
</a>

    <tool-tip data-target="notification-indicator.tooltip" id="tooltip-2042847d-d074-4091-b299-905b2bcb8de5" for="AppHeader-notifications-button" popover="manual" data-direction="s" data-type="description" data-view-component="true" class="sr-only position-absolute">Notifications</tool-tip>
</notification-indicator>

        

        <div class="AppHeader-user">
          <deferred-side-panel data-url="/_side-panels/user?repository_id=612443982">
  <include-fragment data-target="deferred-side-panel.fragment">
      <user-drawer-side-panel>
    <button aria-label="Open user account menu" data-action="click:deferred-side-panel#loadPanel click:deferred-side-panel#panelOpened" data-show-dialog-id="dialog-eb9faacd-68f8-41ba-a171-0b40615c87ea" id="dialog-show-dialog-eb9faacd-68f8-41ba-a171-0b40615c87ea" type="button" data-view-component="true" class="AppHeader-logo Button--invisible Button--medium Button Button--invisible-noVisuals color-bg-transparent p-0">  <span class="Button-content">
    <span class="Button-label"><img src="https://avatars.githubusercontent.com/u/47226949?v=4" alt="" size="32" height="32" width="32" data-view-component="true" class="avatar circle" /></span>
  </span>
</button>

<dialog-helper>
  <dialog data-target="deferred-side-panel.panel" id="dialog-eb9faacd-68f8-41ba-a171-0b40615c87ea" aria-modal="true" aria-disabled="true" aria-labelledby="dialog-eb9faacd-68f8-41ba-a171-0b40615c87ea-title" aria-describedby="dialog-eb9faacd-68f8-41ba-a171-0b40615c87ea-description" data-view-component="true" class="Overlay Overlay-whenNarrow Overlay--size-small-portrait Overlay--motion-scaleFade Overlay--placement-right SidePanel">
    <div styles="flex-direction: row;" data-view-component="true" class="Overlay-header">
  <div class="Overlay-headerContentWrap">
    <div class="Overlay-titleWrap">
      <h1 class="Overlay-title sr-only" id="dialog-eb9faacd-68f8-41ba-a171-0b40615c87ea-title">
        Account menu
      </h1>
            <div data-view-component="true" class="d-flex">
      <div data-view-component="true" class="AppHeader-logo position-relative">
        <img src="https://avatars.githubusercontent.com/u/47226949?v=4" alt="" size="32" height="32" width="32" data-view-component="true" class="avatar circle" />
</div>        <div data-view-component="true" class="overflow-hidden d-flex width-full">        <div data-view-component="true" class="lh-condensed overflow-hidden d-flex flex-column flex-justify-center ml-2 f5 mr-auto width-full">
          <span data-view-component="true" class="Truncate text-bold">
    <span data-view-component="true" class="Truncate-text">
            asrenninger
</span>
</span>          </div>
        <action-menu data-select-variant="none" data-view-component="true" class="d-sm-none d-md-none d-lg-none">
  <focus-group direction="vertical" mnemonics retain>
    <button id="user-create-menu-button" popovertarget="user-create-menu-overlay" aria-label="Create something new" aria-controls="user-create-menu-list" aria-haspopup="true" type="button" data-view-component="true" class="AppHeader-button Button--secondary Button--small Button width-auto color-fg-muted">  <span class="Button-content">
      <span class="Button-visual Button-leadingVisual">
        <svg aria-hidden="true" height="16" viewBox="0 0 16 16" version="1.1" width="16" data-view-component="true" class="octicon octicon-plus">
    <path d="M7.75 2a.75.75 0 0 1 .75.75V7h4.25a.75.75 0 0 1 0 1.5H8.5v4.25a.75.75 0 0 1-1.5 0V8.5H2.75a.75.75 0 0 1 0-1.5H7V2.75A.75.75 0 0 1 7.75 2Z"></path>
</svg>
      </span>
    <span class="Button-label"><svg aria-hidden="true" height="16" viewBox="0 0 16 16" version="1.1" width="16" data-view-component="true" class="octicon octicon-triangle-down">
    <path d="m4.427 7.427 3.396 3.396a.25.25 0 0 0 .354 0l3.396-3.396A.25.25 0 0 0 11.396 7H4.604a.25.25 0 0 0-.177.427Z"></path>
</svg></span>
  </span>
</button><tool-tip id="tooltip-7a1f3762-2e63-4756-af15-9ac857fb59bf" for="user-create-menu-button" popover="manual" data-direction="s" data-type="description" data-view-component="true" class="sr-only position-absolute">Create new...</tool-tip>


<anchored-position id="user-create-menu-overlay" anchor="user-create-menu-button" align="end" side="outside-bottom" anchor-offset="normal" popover="auto" data-view-component="true">
  <div data-view-component="true" class="Overlay Overlay--size-auto">
    
      <div data-view-component="true" class="Overlay-body Overlay-body--paddingNone">          <div data-view-component="true">
  <ul aria-labelledby="user-create-menu-button" id="user-create-menu-list" role="menu" data-view-component="true" class="ActionListWrap--inset ActionListWrap">
      <li data-analytics-event="{&quot;category&quot;:&quot;SiteHeaderComponent&quot;,&quot;action&quot;:&quot;add_dropdown&quot;,&quot;label&quot;:&quot;new repository&quot;}" data-targets="action-list.items action-list.items" role="none" data-view-component="true" class="ActionListItem">
    
    <a href="/new" tabindex="-1" id="item-f4870bd1-0270-468b-837b-3cd0e8f0bd66" role="menuitem" data-view-component="true" class="ActionListContent ActionListContent--visual16">
        <span class="ActionListItem-visual ActionListItem-visual--leading">
          <svg aria-hidden="true" height="16" viewBox="0 0 16 16" version="1.1" width="16" data-view-component="true" class="octicon octicon-repo">
    <path d="M2 2.5A2.5 2.5 0 0 1 4.5 0h8.75a.75.75 0 0 1 .75.75v12.5a.75.75 0 0 1-.75.75h-2.5a.75.75 0 0 1 0-1.5h1.75v-2h-8a1 1 0 0 0-.714 1.7.75.75 0 1 1-1.072 1.05A2.495 2.495 0 0 1 2 11.5Zm10.5-1h-8a1 1 0 0 0-1 1v6.708A2.486 2.486 0 0 1 4.5 9h8ZM5 12.25a.25.25 0 0 1 .25-.25h3.5a.25.25 0 0 1 .25.25v3.25a.25.25 0 0 1-.4.2l-1.45-1.087a.249.249 0 0 0-.3 0L5.4 15.7a.25.25 0 0 1-.4-.2Z"></path>
</svg>
        </span>
      
        <span data-view-component="true" class="ActionListItem-label">
              New repository

</span></a>
  
  
</li>
      <li data-analytics-event="{&quot;category&quot;:&quot;SiteHeaderComponent&quot;,&quot;action&quot;:&quot;add_dropdown&quot;,&quot;label&quot;:&quot;import repository&quot;}" data-targets="action-list.items action-list.items" role="none" data-view-component="true" class="ActionListItem">
    
    <a href="/new/import" tabindex="-1" id="item-3f558e09-6b4a-451a-a687-c4cec4b0389d" role="menuitem" data-view-component="true" class="ActionListContent ActionListContent--visual16">
        <span class="ActionListItem-visual ActionListItem-visual--leading">
          <svg aria-hidden="true" height="16" viewBox="0 0 16 16" version="1.1" width="16" data-view-component="true" class="octicon octicon-repo-push">
    <path d="M1 2.5A2.5 2.5 0 0 1 3.5 0h8.75a.75.75 0 0 1 .75.75v3.5a.75.75 0 0 1-1.5 0V1.5h-8a1 1 0 0 0-1 1v6.708A2.493 2.493 0 0 1 3.5 9h3.25a.75.75 0 0 1 0 1.5H3.5a1 1 0 0 0 0 2h5.75a.75.75 0 0 1 0 1.5H3.5A2.5 2.5 0 0 1 1 11.5Zm13.23 7.79h-.001l-1.224-1.224v6.184a.75.75 0 0 1-1.5 0V9.066L10.28 10.29a.75.75 0 0 1-1.06-1.061l2.505-2.504a.75.75 0 0 1 1.06 0L15.29 9.23a.751.751 0 0 1-.018 1.042.751.751 0 0 1-1.042.018Z"></path>
</svg>
        </span>
      
        <span data-view-component="true" class="ActionListItem-label">
                Import repository

</span></a>
  
  
</li>
      <li role="presentation" aria-hidden="true" data-view-component="true" class="ActionList-sectionDivider"></li>
      <li data-analytics-event="{&quot;category&quot;:&quot;SiteHeaderComponent&quot;,&quot;action&quot;:&quot;add_dropdown&quot;,&quot;label&quot;:&quot;new codespace&quot;}" data-targets="action-list.items action-list.items" role="none" data-view-component="true" class="ActionListItem">
    
    <a href="/codespaces/new" tabindex="-1" id="item-2308df0c-7e8f-42c1-9c37-74f863ede165" role="menuitem" data-view-component="true" class="ActionListContent ActionListContent--visual16">
        <span class="ActionListItem-visual ActionListItem-visual--leading">
          <svg aria-hidden="true" height="16" viewBox="0 0 16 16" version="1.1" width="16" data-view-component="true" class="octicon octicon-codespaces">
    <path d="M0 11.25c0-.966.784-1.75 1.75-1.75h12.5c.966 0 1.75.784 1.75 1.75v3A1.75 1.75 0 0 1 14.25 16H1.75A1.75 1.75 0 0 1 0 14.25Zm2-9.5C2 .784 2.784 0 3.75 0h8.5C13.216 0 14 .784 14 1.75v5a1.75 1.75 0 0 1-1.75 1.75h-8.5A1.75 1.75 0 0 1 2 6.75Zm1.75-.25a.25.25 0 0 0-.25.25v5c0 .138.112.25.25.25h8.5a.25.25 0 0 0 .25-.25v-5a.25.25 0 0 0-.25-.25Zm-2 9.5a.25.25 0 0 0-.25.25v3c0 .138.112.25.25.25h12.5a.25.25 0 0 0 .25-.25v-3a.25.25 0 0 0-.25-.25Z"></path><path d="M7 12.75a.75.75 0 0 1 .75-.75h4.5a.75.75 0 0 1 0 1.5h-4.5a.75.75 0 0 1-.75-.75Zm-4 0a.75.75 0 0 1 .75-.75h.5a.75.75 0 0 1 0 1.5h-.5a.75.75 0 0 1-.75-.75Z"></path>
</svg>
        </span>
      
        <span data-view-component="true" class="ActionListItem-label">
                New codespace

</span></a>
  
  
</li>
      <li data-analytics-event="{&quot;category&quot;:&quot;SiteHeaderComponent&quot;,&quot;action&quot;:&quot;add_dropdown&quot;,&quot;label&quot;:&quot;new gist&quot;}" data-targets="action-list.items action-list.items" role="none" data-view-component="true" class="ActionListItem">
    
    <a href="https://gist.github.com/" tabindex="-1" id="item-7fd5dfa3-60e4-48d7-a399-92e2edb91ae6" role="menuitem" data-view-component="true" class="ActionListContent ActionListContent--visual16">
        <span class="ActionListItem-visual ActionListItem-visual--leading">
          <svg aria-hidden="true" height="16" viewBox="0 0 16 16" version="1.1" width="16" data-view-component="true" class="octicon octicon-code">
    <path d="m11.28 3.22 4.25 4.25a.75.75 0 0 1 0 1.06l-4.25 4.25a.749.749 0 0 1-1.275-.326.749.749 0 0 1 .215-.734L13.94 8l-3.72-3.72a.749.749 0 0 1 .326-1.275.749.749 0 0 1 .734.215Zm-6.56 0a.751.751 0 0 1 1.042.018.751.751 0 0 1 .018 1.042L2.06 8l3.72 3.72a.749.749 0 0 1-.326 1.275.749.749 0 0 1-.734-.215L.47 8.53a.75.75 0 0 1 0-1.06Z"></path>
</svg>
        </span>
      
        <span data-view-component="true" class="ActionListItem-label">
                New gist

</span></a>
  
  
</li>
      <li role="presentation" aria-hidden="true" data-view-component="true" class="ActionList-sectionDivider"></li>
      <li data-targets="action-list.items action-list.items" role="none" data-view-component="true" class="ActionListItem">
    
    <a href="/account/organizations/new" tabindex="-1" data-dont-follow-via-test="true" data-analytics-event="{&quot;category&quot;:&quot;SiteHeaderComponent&quot;,&quot;action&quot;:&quot;add_dropdown&quot;,&quot;label&quot;:&quot;new organization&quot;}" id="item-825741e9-af11-43f2-abc7-384e3a092956" role="menuitem" data-view-component="true" class="ActionListContent ActionListContent--visual16">
        <span class="ActionListItem-visual ActionListItem-visual--leading">
          <svg aria-hidden="true" height="16" viewBox="0 0 16 16" version="1.1" width="16" data-view-component="true" class="octicon octicon-organization">
    <path d="M1.75 16A1.75 1.75 0 0 1 0 14.25V1.75C0 .784.784 0 1.75 0h8.5C11.216 0 12 .784 12 1.75v12.5c0 .085-.006.168-.018.25h2.268a.25.25 0 0 0 .25-.25V8.285a.25.25 0 0 0-.111-.208l-1.055-.703a.749.749 0 1 1 .832-1.248l1.055.703c.487.325.779.871.779 1.456v5.965A1.75 1.75 0 0 1 14.25 16h-3.5a.766.766 0 0 1-.197-.026c-.099.017-.2.026-.303.026h-3a.75.75 0 0 1-.75-.75V14h-1v1.25a.75.75 0 0 1-.75.75Zm-.25-1.75c0 .138.112.25.25.25H4v-1.25a.75.75 0 0 1 .75-.75h2.5a.75.75 0 0 1 .75.75v1.25h2.25a.25.25 0 0 0 .25-.25V1.75a.25.25 0 0 0-.25-.25h-8.5a.25.25 0 0 0-.25.25ZM3.75 6h.5a.75.75 0 0 1 0 1.5h-.5a.75.75 0 0 1 0-1.5ZM3 3.75A.75.75 0 0 1 3.75 3h.5a.75.75 0 0 1 0 1.5h-.5A.75.75 0 0 1 3 3.75Zm4 3A.75.75 0 0 1 7.75 6h.5a.75.75 0 0 1 0 1.5h-.5A.75.75 0 0 1 7 6.75ZM7.75 3h.5a.75.75 0 0 1 0 1.5h-.5a.75.75 0 0 1 0-1.5ZM3 9.75A.75.75 0 0 1 3.75 9h.5a.75.75 0 0 1 0 1.5h-.5A.75.75 0 0 1 3 9.75ZM7.75 9h.5a.75.75 0 0 1 0 1.5h-.5a.75.75 0 0 1 0-1.5Z"></path>
</svg>
        </span>
      
        <span data-view-component="true" class="ActionListItem-label">
                New organization

</span></a>
  
  
</li>
</ul>  
</div>

</div>
      
</div></anchored-position>  </focus-group>
</action-menu>

</div>
</div>
    </div>
    <div class="Overlay-actionWrap">
      <button data-close-dialog-id="dialog-eb9faacd-68f8-41ba-a171-0b40615c87ea" aria-label="Close" type="button" data-view-component="true" class="close-button Overlay-closeButton"><svg aria-hidden="true" height="16" viewBox="0 0 16 16" version="1.1" width="16" data-view-component="true" class="octicon octicon-x">
    <path d="M3.72 3.72a.75.75 0 0 1 1.06 0L8 6.94l3.22-3.22a.749.749 0 0 1 1.275.326.749.749 0 0 1-.215.734L9.06 8l3.22 3.22a.749.749 0 0 1-.326 1.275.749.749 0 0 1-.734-.215L8 9.06l-3.22 3.22a.751.751 0 0 1-1.042-.018.751.751 0 0 1-.018-1.042L6.94 8 3.72 4.78a.75.75 0 0 1 0-1.06Z"></path>
</svg></button>
    </div>
  </div>
</div>
      <scrollable-region data-labelled-by="dialog-eb9faacd-68f8-41ba-a171-0b40615c87ea-title">
        <div data-view-component="true" class="Overlay-body d-flex flex-column px-2">    <div data-view-component="true" class="d-flex flex-column mb-3">
        <nav aria-label="User navigation" data-view-component="true" class="ActionList">
  
  <nav-list>
    <ul data-view-component="true" class="ActionListWrap">
        
          
<li data-targets="nav-list.items nav-list.items" data-item-id="" data-view-component="true" class="ActionListItem">
    
    <button id="item-73916b7c-99ea-4c61-8de3-93804249df4a" type="button" data-view-component="true" class="ActionListContent ActionListContent--visual16">
        <span class="ActionListItem-visual ActionListItem-visual--leading">
          <span data-view-component="true" class="d-flex flex-items-center">    <svg style="box-sizing: content-box; color: var(--color-icon-primary);" width="16" height="16" viewBox="0 0 16 16" fill="none" data-view-component="true" class="anim-rotate">
  <circle cx="8" cy="8" r="7" stroke="currentColor" stroke-opacity="0.25" stroke-width="2" vector-effect="non-scaling-stroke" fill="none" />
  <path d="M15 8a7.002 7.002 0 00-7-7" stroke="currentColor" stroke-width="2" stroke-linecap="round" vector-effect="non-scaling-stroke" />
</svg>
</span>
        </span>
      
        <span data-view-component="true" class="ActionListItem-label">
          

  <span class="color-fg-muted">
    Loading...
  </span>

</span></button>
  
  
</li>

        
          <li role="presentation" aria-hidden="true" data-view-component="true" class="ActionList-sectionDivider"></li>
        
          
<li data-targets="nav-list.items nav-list.items" data-item-id="" data-view-component="true" class="ActionListItem">
    
    <a data-analytics-event="{&quot;category&quot;:&quot;Global navigation&quot;,&quot;action&quot;:&quot;PROFILE&quot;,&quot;label&quot;:null}" id="item-33085c14-6f02-4776-b088-01d884172df5" href="https://github.com/asrenninger" data-view-component="true" class="ActionListContent ActionListContent--visual16">
        <span class="ActionListItem-visual ActionListItem-visual--leading">
          <svg aria-hidden="true" height="16" viewBox="0 0 16 16" version="1.1" width="16" data-view-component="true" class="octicon octicon-person">
    <path d="M10.561 8.073a6.005 6.005 0 0 1 3.432 5.142.75.75 0 1 1-1.498.07 4.5 4.5 0 0 0-8.99 0 .75.75 0 0 1-1.498-.07 6.004 6.004 0 0 1 3.431-5.142 3.999 3.999 0 1 1 5.123 0ZM10.5 5a2.5 2.5 0 1 0-5 0 2.5 2.5 0 0 0 5 0Z"></path>
</svg>
        </span>
      
        <span data-view-component="true" class="ActionListItem-label">
          Your profile
</span></a>
  
  
</li>

        
          
<li data-targets="nav-list.items nav-list.items" data-item-id="" data-view-component="true" class="ActionListItem">
    
    <button id="item-9e57861a-f4f3-4261-b246-f69f714347f7" type="button" data-view-component="true" class="ActionListContent ActionListContent--visual16">
        <span class="ActionListItem-visual ActionListItem-visual--leading">
          <span data-view-component="true" class="d-flex flex-items-center">    <svg style="box-sizing: content-box; color: var(--color-icon-primary);" width="16" height="16" viewBox="0 0 16 16" fill="none" data-view-component="true" class="anim-rotate">
  <circle cx="8" cy="8" r="7" stroke="currentColor" stroke-opacity="0.25" stroke-width="2" vector-effect="non-scaling-stroke" fill="none" />
  <path d="M15 8a7.002 7.002 0 00-7-7" stroke="currentColor" stroke-width="2" stroke-linecap="round" vector-effect="non-scaling-stroke" />
</svg>
</span>
        </span>
      
        <span data-view-component="true" class="ActionListItem-label">
          

  <span class="color-fg-muted">
    Loading...
  </span>

</span></button>
  
  
</li>

        
          <li role="presentation" aria-hidden="true" data-view-component="true" class="ActionList-sectionDivider"></li>
        
          
<li data-targets="nav-list.items nav-list.items" data-item-id="" data-view-component="true" class="ActionListItem">
    
    <a data-analytics-event="{&quot;category&quot;:&quot;Global navigation&quot;,&quot;action&quot;:&quot;YOUR_REPOSITORIES&quot;,&quot;label&quot;:null}" id="item-d52c92fc-71bd-485b-841e-7485ef84b6f8" href="/asrenninger?tab=repositories" data-view-component="true" class="ActionListContent ActionListContent--visual16">
        <span class="ActionListItem-visual ActionListItem-visual--leading">
          <svg aria-hidden="true" height="16" viewBox="0 0 16 16" version="1.1" width="16" data-view-component="true" class="octicon octicon-repo">
    <path d="M2 2.5A2.5 2.5 0 0 1 4.5 0h8.75a.75.75 0 0 1 .75.75v12.5a.75.75 0 0 1-.75.75h-2.5a.75.75 0 0 1 0-1.5h1.75v-2h-8a1 1 0 0 0-.714 1.7.75.75 0 1 1-1.072 1.05A2.495 2.495 0 0 1 2 11.5Zm10.5-1h-8a1 1 0 0 0-1 1v6.708A2.486 2.486 0 0 1 4.5 9h8ZM5 12.25a.25.25 0 0 1 .25-.25h3.5a.25.25 0 0 1 .25.25v3.25a.25.25 0 0 1-.4.2l-1.45-1.087a.249.249 0 0 0-.3 0L5.4 15.7a.25.25 0 0 1-.4-.2Z"></path>
</svg>
        </span>
      
        <span data-view-component="true" class="ActionListItem-label">
          Your repositories
</span></a>
  
  
</li>

        
          
<li data-targets="nav-list.items nav-list.items" data-item-id="" data-view-component="true" class="ActionListItem">
    
    <a data-analytics-event="{&quot;category&quot;:&quot;Global navigation&quot;,&quot;action&quot;:&quot;YOUR_PROJECTS&quot;,&quot;label&quot;:null}" id="item-350ec28c-9aa5-40ce-88ca-53aa8aadb0e8" href="/asrenninger?tab=projects" data-view-component="true" class="ActionListContent ActionListContent--visual16">
        <span class="ActionListItem-visual ActionListItem-visual--leading">
          <svg aria-hidden="true" height="16" viewBox="0 0 16 16" version="1.1" width="16" data-view-component="true" class="octicon octicon-project">
    <path d="M1.75 0h12.5C15.216 0 16 .784 16 1.75v12.5A1.75 1.75 0 0 1 14.25 16H1.75A1.75 1.75 0 0 1 0 14.25V1.75C0 .784.784 0 1.75 0ZM1.5 1.75v12.5c0 .138.112.25.25.25h12.5a.25.25 0 0 0 .25-.25V1.75a.25.25 0 0 0-.25-.25H1.75a.25.25 0 0 0-.25.25ZM11.75 3a.75.75 0 0 1 .75.75v7.5a.75.75 0 0 1-1.5 0v-7.5a.75.75 0 0 1 .75-.75Zm-8.25.75a.75.75 0 0 1 1.5 0v5.5a.75.75 0 0 1-1.5 0ZM8 3a.75.75 0 0 1 .75.75v3.5a.75.75 0 0 1-1.5 0v-3.5A.75.75 0 0 1 8 3Z"></path>
</svg>
        </span>
      
        <span data-view-component="true" class="ActionListItem-label">
          Your projects
</span></a>
  
  
</li>

        
          
<li data-targets="nav-list.items nav-list.items" data-item-id="" data-view-component="true" class="ActionListItem">
    
    <button id="item-6d87f948-5dae-4836-b0fa-3045cf897bc3" type="button" data-view-component="true" class="ActionListContent ActionListContent--visual16">
        <span class="ActionListItem-visual ActionListItem-visual--leading">
          <span data-view-component="true" class="d-flex flex-items-center">    <svg style="box-sizing: content-box; color: var(--color-icon-primary);" width="16" height="16" viewBox="0 0 16 16" fill="none" data-view-component="true" class="anim-rotate">
  <circle cx="8" cy="8" r="7" stroke="currentColor" stroke-opacity="0.25" stroke-width="2" vector-effect="non-scaling-stroke" fill="none" />
  <path d="M15 8a7.002 7.002 0 00-7-7" stroke="currentColor" stroke-width="2" stroke-linecap="round" vector-effect="non-scaling-stroke" />
</svg>
</span>
        </span>
      
        <span data-view-component="true" class="ActionListItem-label">
          

  <span class="color-fg-muted">
    Loading...
  </span>

</span></button>
  
  
</li>

        
          
<li data-targets="nav-list.items nav-list.items" data-item-id="" data-view-component="true" class="ActionListItem">
    
    <a data-analytics-event="{&quot;category&quot;:&quot;Global navigation&quot;,&quot;action&quot;:&quot;YOUR_STARS&quot;,&quot;label&quot;:null}" id="item-1f3a5ebc-c907-468b-9434-eb958cacf3aa" href="/asrenninger?tab=stars" data-view-component="true" class="ActionListContent ActionListContent--visual16">
        <span class="ActionListItem-visual ActionListItem-visual--leading">
          <svg aria-hidden="true" height="16" viewBox="0 0 16 16" version="1.1" width="16" data-view-component="true" class="octicon octicon-star">
    <path d="M8 .25a.75.75 0 0 1 .673.418l1.882 3.815 4.21.612a.75.75 0 0 1 .416 1.279l-3.046 2.97.719 4.192a.751.751 0 0 1-1.088.791L8 12.347l-3.766 1.98a.75.75 0 0 1-1.088-.79l.72-4.194L.818 6.374a.75.75 0 0 1 .416-1.28l4.21-.611L7.327.668A.75.75 0 0 1 8 .25Zm0 2.445L6.615 5.5a.75.75 0 0 1-.564.41l-3.097.45 2.24 2.184a.75.75 0 0 1 .216.664l-.528 3.084 2.769-1.456a.75.75 0 0 1 .698 0l2.77 1.456-.53-3.084a.75.75 0 0 1 .216-.664l2.24-2.183-3.096-.45a.75.75 0 0 1-.564-.41L8 2.694Z"></path>
</svg>
        </span>
      
        <span data-view-component="true" class="ActionListItem-label">
          Your stars
</span></a>
  
  
</li>

        
          
<li data-targets="nav-list.items nav-list.items" data-item-id="" data-view-component="true" class="ActionListItem">
    
    <a data-analytics-event="{&quot;category&quot;:&quot;Global navigation&quot;,&quot;action&quot;:&quot;SPONSORS&quot;,&quot;label&quot;:null}" id="item-c6f53ad0-7735-44a6-aa35-6ec8ce87a992" href="/sponsors/accounts" data-view-component="true" class="ActionListContent ActionListContent--visual16">
        <span class="ActionListItem-visual ActionListItem-visual--leading">
          <svg aria-hidden="true" height="16" viewBox="0 0 16 16" version="1.1" width="16" data-view-component="true" class="octicon octicon-heart">
    <path d="m8 14.25.345.666a.75.75 0 0 1-.69 0l-.008-.004-.018-.01a7.152 7.152 0 0 1-.31-.17 22.055 22.055 0 0 1-3.434-2.414C2.045 10.731 0 8.35 0 5.5 0 2.836 2.086 1 4.25 1 5.797 1 7.153 1.802 8 3.02 8.847 1.802 10.203 1 11.75 1 13.914 1 16 2.836 16 5.5c0 2.85-2.045 5.231-3.885 6.818a22.066 22.066 0 0 1-3.744 2.584l-.018.01-.006.003h-.002ZM4.25 2.5c-1.336 0-2.75 1.164-2.75 3 0 2.15 1.58 4.144 3.365 5.682A20.58 20.58 0 0 0 8 13.393a20.58 20.58 0 0 0 3.135-2.211C12.92 9.644 14.5 7.65 14.5 5.5c0-1.836-1.414-3-2.75-3-1.373 0-2.609.986-3.029 2.456a.749.749 0 0 1-1.442 0C6.859 3.486 5.623 2.5 4.25 2.5Z"></path>
</svg>
        </span>
      
        <span data-view-component="true" class="ActionListItem-label">
          Your sponsors
</span></a>
  
  
</li>

        
          
<li data-targets="nav-list.items nav-list.items" data-item-id="" data-view-component="true" class="ActionListItem">
    
    <a data-analytics-event="{&quot;category&quot;:&quot;Global navigation&quot;,&quot;action&quot;:&quot;YOUR_GISTS&quot;,&quot;label&quot;:null}" id="item-8c460a05-0848-4ca4-bc50-895e3d7e7f9b" href="https://gist.github.com/mine" data-view-component="true" class="ActionListContent ActionListContent--visual16">
        <span class="ActionListItem-visual ActionListItem-visual--leading">
          <svg aria-hidden="true" height="16" viewBox="0 0 16 16" version="1.1" width="16" data-view-component="true" class="octicon octicon-code-square">
    <path d="M0 1.75C0 .784.784 0 1.75 0h12.5C15.216 0 16 .784 16 1.75v12.5A1.75 1.75 0 0 1 14.25 16H1.75A1.75 1.75 0 0 1 0 14.25Zm1.75-.25a.25.25 0 0 0-.25.25v12.5c0 .138.112.25.25.25h12.5a.25.25 0 0 0 .25-.25V1.75a.25.25 0 0 0-.25-.25Zm7.47 3.97a.75.75 0 0 1 1.06 0l2 2a.75.75 0 0 1 0 1.06l-2 2a.749.749 0 0 1-1.275-.326.749.749 0 0 1 .215-.734L10.69 8 9.22 6.53a.75.75 0 0 1 0-1.06ZM6.78 6.53 5.31 8l1.47 1.47a.749.749 0 0 1-.326 1.275.749.749 0 0 1-.734-.215l-2-2a.75.75 0 0 1 0-1.06l2-2a.751.751 0 0 1 1.042.018.751.751 0 0 1 .018 1.042Z"></path>
</svg>
        </span>
      
        <span data-view-component="true" class="ActionListItem-label">
          Your gists
</span></a>
  
  
</li>

        
          <li role="presentation" aria-hidden="true" data-view-component="true" class="ActionList-sectionDivider"></li>
        
          
<li data-targets="nav-list.items nav-list.items" data-item-id="" data-view-component="true" class="ActionListItem">
    
    <button id="item-c7acd859-87a5-4f0a-b9c6-3697dad79a0a" type="button" data-view-component="true" class="ActionListContent ActionListContent--visual16">
        <span class="ActionListItem-visual ActionListItem-visual--leading">
          <span data-view-component="true" class="d-flex flex-items-center">    <svg style="box-sizing: content-box; color: var(--color-icon-primary);" width="16" height="16" viewBox="0 0 16 16" fill="none" data-view-component="true" class="anim-rotate">
  <circle cx="8" cy="8" r="7" stroke="currentColor" stroke-opacity="0.25" stroke-width="2" vector-effect="non-scaling-stroke" fill="none" />
  <path d="M15 8a7.002 7.002 0 00-7-7" stroke="currentColor" stroke-width="2" stroke-linecap="round" vector-effect="non-scaling-stroke" />
</svg>
</span>
        </span>
      
        <span data-view-component="true" class="ActionListItem-label">
          

  <span class="color-fg-muted">
    Loading...
  </span>

</span></button>
  
  
</li>

        
          
<li data-targets="nav-list.items nav-list.items" data-item-id="" data-view-component="true" class="ActionListItem">
    
    <button id="item-757c423b-96b1-44d1-9d86-38935f04d022" type="button" data-view-component="true" class="ActionListContent ActionListContent--visual16">
        <span class="ActionListItem-visual ActionListItem-visual--leading">
          <span data-view-component="true" class="d-flex flex-items-center">    <svg style="box-sizing: content-box; color: var(--color-icon-primary);" width="16" height="16" viewBox="0 0 16 16" fill="none" data-view-component="true" class="anim-rotate">
  <circle cx="8" cy="8" r="7" stroke="currentColor" stroke-opacity="0.25" stroke-width="2" vector-effect="non-scaling-stroke" fill="none" />
  <path d="M15 8a7.002 7.002 0 00-7-7" stroke="currentColor" stroke-width="2" stroke-linecap="round" vector-effect="non-scaling-stroke" />
</svg>
</span>
        </span>
      
        <span data-view-component="true" class="ActionListItem-label">
          

  <span class="color-fg-muted">
    Loading...
  </span>

</span></button>
  
  
</li>

        
          
<li data-targets="nav-list.items nav-list.items" data-item-id="" data-view-component="true" class="ActionListItem">
    
    <button id="item-8cde6e04-ed50-4d16-a5d8-7be579f7a275" type="button" data-view-component="true" class="ActionListContent ActionListContent--visual16">
        <span class="ActionListItem-visual ActionListItem-visual--leading">
          <span data-view-component="true" class="d-flex flex-items-center">    <svg style="box-sizing: content-box; color: var(--color-icon-primary);" width="16" height="16" viewBox="0 0 16 16" fill="none" data-view-component="true" class="anim-rotate">
  <circle cx="8" cy="8" r="7" stroke="currentColor" stroke-opacity="0.25" stroke-width="2" vector-effect="non-scaling-stroke" fill="none" />
  <path d="M15 8a7.002 7.002 0 00-7-7" stroke="currentColor" stroke-width="2" stroke-linecap="round" vector-effect="non-scaling-stroke" />
</svg>
</span>
        </span>
      
        <span data-view-component="true" class="ActionListItem-label">
          

  <span class="color-fg-muted">
    Loading...
  </span>

</span></button>
  
  
</li>

        
          
<li data-targets="nav-list.items nav-list.items" data-item-id="" data-view-component="true" class="ActionListItem">
    
    <a data-analytics-event="{&quot;category&quot;:&quot;Global navigation&quot;,&quot;action&quot;:&quot;SETTINGS&quot;,&quot;label&quot;:null}" id="item-436eb8a5-af47-48fa-a157-f698a511d363" href="/settings/profile" data-view-component="true" class="ActionListContent ActionListContent--visual16">
        <span class="ActionListItem-visual ActionListItem-visual--leading">
          <svg aria-hidden="true" height="16" viewBox="0 0 16 16" version="1.1" width="16" data-view-component="true" class="octicon octicon-gear">
    <path d="M8 0a8.2 8.2 0 0 1 .701.031C9.444.095 9.99.645 10.16 1.29l.288 1.107c.018.066.079.158.212.224.231.114.454.243.668.386.123.082.233.09.299.071l1.103-.303c.644-.176 1.392.021 1.82.63.27.385.506.792.704 1.218.315.675.111 1.422-.364 1.891l-.814.806c-.049.048-.098.147-.088.294.016.257.016.515 0 .772-.01.147.038.246.088.294l.814.806c.475.469.679 1.216.364 1.891a7.977 7.977 0 0 1-.704 1.217c-.428.61-1.176.807-1.82.63l-1.102-.302c-.067-.019-.177-.011-.3.071a5.909 5.909 0 0 1-.668.386c-.133.066-.194.158-.211.224l-.29 1.106c-.168.646-.715 1.196-1.458 1.26a8.006 8.006 0 0 1-1.402 0c-.743-.064-1.289-.614-1.458-1.26l-.289-1.106c-.018-.066-.079-.158-.212-.224a5.738 5.738 0 0 1-.668-.386c-.123-.082-.233-.09-.299-.071l-1.103.303c-.644.176-1.392-.021-1.82-.63a8.12 8.12 0 0 1-.704-1.218c-.315-.675-.111-1.422.363-1.891l.815-.806c.05-.048.098-.147.088-.294a6.214 6.214 0 0 1 0-.772c.01-.147-.038-.246-.088-.294l-.815-.806C.635 6.045.431 5.298.746 4.623a7.92 7.92 0 0 1 .704-1.217c.428-.61 1.176-.807 1.82-.63l1.102.302c.067.019.177.011.3-.071.214-.143.437-.272.668-.386.133-.066.194-.158.211-.224l.29-1.106C6.009.645 6.556.095 7.299.03 7.53.01 7.764 0 8 0Zm-.571 1.525c-.036.003-.108.036-.137.146l-.289 1.105c-.147.561-.549.967-.998 1.189-.173.086-.34.183-.5.29-.417.278-.97.423-1.529.27l-1.103-.303c-.109-.03-.175.016-.195.045-.22.312-.412.644-.573.99-.014.031-.021.11.059.19l.815.806c.411.406.562.957.53 1.456a4.709 4.709 0 0 0 0 .582c.032.499-.119 1.05-.53 1.456l-.815.806c-.081.08-.073.159-.059.19.162.346.353.677.573.989.02.03.085.076.195.046l1.102-.303c.56-.153 1.113-.008 1.53.27.161.107.328.204.501.29.447.222.85.629.997 1.189l.289 1.105c.029.109.101.143.137.146a6.6 6.6 0 0 0 1.142 0c.036-.003.108-.036.137-.146l.289-1.105c.147-.561.549-.967.998-1.189.173-.086.34-.183.5-.29.417-.278.97-.423 1.529-.27l1.103.303c.109.029.175-.016.195-.045.22-.313.411-.644.573-.99.014-.031.021-.11-.059-.19l-.815-.806c-.411-.406-.562-.957-.53-1.456a4.709 4.709 0 0 0 0-.582c-.032-.499.119-1.05.53-1.456l.815-.806c.081-.08.073-.159.059-.19a6.464 6.464 0 0 0-.573-.989c-.02-.03-.085-.076-.195-.046l-1.102.303c-.56.153-1.113.008-1.53-.27a4.44 4.44 0 0 0-.501-.29c-.447-.222-.85-.629-.997-1.189l-.289-1.105c-.029-.11-.101-.143-.137-.146a6.6 6.6 0 0 0-1.142 0ZM11 8a3 3 0 1 1-6 0 3 3 0 0 1 6 0ZM9.5 8a1.5 1.5 0 1 0-3.001.001A1.5 1.5 0 0 0 9.5 8Z"></path>
</svg>
        </span>
      
        <span data-view-component="true" class="ActionListItem-label">
          Settings
</span></a>
  
  
</li>

        
          <li role="presentation" aria-hidden="true" data-view-component="true" class="ActionList-sectionDivider"></li>
        
          
<li data-targets="nav-list.items nav-list.items" data-item-id="" data-view-component="true" class="ActionListItem">
    
    <a data-analytics-event="{&quot;category&quot;:&quot;Global navigation&quot;,&quot;action&quot;:&quot;DOCS&quot;,&quot;label&quot;:null}" id="item-f0556107-a6ad-4700-bd54-ee0e51f64c28" href="https://docs.github.com" data-view-component="true" class="ActionListContent ActionListContent--visual16">
        <span class="ActionListItem-visual ActionListItem-visual--leading">
          <svg aria-hidden="true" height="16" viewBox="0 0 16 16" version="1.1" width="16" data-view-component="true" class="octicon octicon-book">
    <path d="M0 1.75A.75.75 0 0 1 .75 1h4.253c1.227 0 2.317.59 3 1.501A3.743 3.743 0 0 1 11.006 1h4.245a.75.75 0 0 1 .75.75v10.5a.75.75 0 0 1-.75.75h-4.507a2.25 2.25 0 0 0-1.591.659l-.622.621a.75.75 0 0 1-1.06 0l-.622-.621A2.25 2.25 0 0 0 5.258 13H.75a.75.75 0 0 1-.75-.75Zm7.251 10.324.004-5.073-.002-2.253A2.25 2.25 0 0 0 5.003 2.5H1.5v9h3.757a3.75 3.75 0 0 1 1.994.574ZM8.755 4.75l-.004 7.322a3.752 3.752 0 0 1 1.992-.572H14.5v-9h-3.495a2.25 2.25 0 0 0-2.25 2.25Z"></path>
</svg>
        </span>
      
        <span data-view-component="true" class="ActionListItem-label">
          GitHub Docs
</span></a>
  
  
</li>

        
          
<li data-targets="nav-list.items nav-list.items" data-item-id="" data-view-component="true" class="ActionListItem">
    
    <a data-analytics-event="{&quot;category&quot;:&quot;Global navigation&quot;,&quot;action&quot;:&quot;SUPPORT&quot;,&quot;label&quot;:null}" id="item-6a55a077-91c8-4f3d-87a6-04d6ccad9afc" href="https://support.github.com" data-view-component="true" class="ActionListContent ActionListContent--visual16">
        <span class="ActionListItem-visual ActionListItem-visual--leading">
          <svg aria-hidden="true" height="16" viewBox="0 0 16 16" version="1.1" width="16" data-view-component="true" class="octicon octicon-people">
    <path d="M2 5.5a3.5 3.5 0 1 1 5.898 2.549 5.508 5.508 0 0 1 3.034 4.084.75.75 0 1 1-1.482.235 4 4 0 0 0-7.9 0 .75.75 0 0 1-1.482-.236A5.507 5.507 0 0 1 3.102 8.05 3.493 3.493 0 0 1 2 5.5ZM11 4a3.001 3.001 0 0 1 2.22 5.018 5.01 5.01 0 0 1 2.56 3.012.749.749 0 0 1-.885.954.752.752 0 0 1-.549-.514 3.507 3.507 0 0 0-2.522-2.372.75.75 0 0 1-.574-.73v-.352a.75.75 0 0 1 .416-.672A1.5 1.5 0 0 0 11 5.5.75.75 0 0 1 11 4Zm-5.5-.5a2 2 0 1 0-.001 3.999A2 2 0 0 0 5.5 3.5Z"></path>
</svg>
        </span>
      
        <span data-view-component="true" class="ActionListItem-label">
          GitHub Support
</span></a>
  
  
</li>

        
          <li role="presentation" aria-hidden="true" data-view-component="true" class="ActionList-sectionDivider"></li>
        
          
<li data-targets="nav-list.items nav-list.items" data-item-id="" data-view-component="true" class="ActionListItem">
    
    <a data-analytics-event="{&quot;category&quot;:&quot;Global navigation&quot;,&quot;action&quot;:&quot;LOGOUT&quot;,&quot;label&quot;:null}" id="item-eaa6d3cd-60b1-4487-be96-1cbeca2c7240" href="/logout" data-view-component="true" class="ActionListContent">
      
        <span data-view-component="true" class="ActionListItem-label">
          Sign out
</span></a>
  
  
</li>

</ul>  </nav-list>
</nav>


</div>
</div>
      </scrollable-region>
      
</dialog></dialog-helper>
  </user-drawer-side-panel>

  </include-fragment>
</deferred-side-panel>
          
        </div>

        <div class="position-absolute mt-2">
            
<site-header-logged-in-user-menu>

</site-header-logged-in-user-menu>

        </div>
      </div>
    </div>


      <div class="AppHeader-localBar" >
        <nav data-pjax="#js-repo-pjax-container" aria-label="Repository" data-view-component="true" class="js-repo-nav js-sidenav-container-pjax js-responsive-underlinenav overflow-hidden UnderlineNav">

  <ul data-view-component="true" class="UnderlineNav-body list-style-none">
      <li data-view-component="true" class="d-inline-flex">
  <a id="code-tab" href="/asrenninger/urbansim" data-tab-item="i0code-tab" data-selected-links="repo_source repo_downloads repo_commits repo_releases repo_tags repo_branches repo_packages repo_deployments repo_attestations /asrenninger/urbansim" data-pjax="#repo-content-pjax-container" data-turbo-frame="repo-content-turbo-frame" data-hotkey="g c" data-analytics-event="{&quot;category&quot;:&quot;Underline navbar&quot;,&quot;action&quot;:&quot;Click tab&quot;,&quot;label&quot;:&quot;Code&quot;,&quot;target&quot;:&quot;UNDERLINE_NAV.TAB&quot;}" data-view-component="true" class="UnderlineNav-item no-wrap js-responsive-underlinenav-item js-selected-navigation-item">
    
              <svg aria-hidden="true" height="16" viewBox="0 0 16 16" version="1.1" width="16" data-view-component="true" class="octicon octicon-code UnderlineNav-octicon d-none d-sm-inline">
    <path d="m11.28 3.22 4.25 4.25a.75.75 0 0 1 0 1.06l-4.25 4.25a.749.749 0 0 1-1.275-.326.749.749 0 0 1 .215-.734L13.94 8l-3.72-3.72a.749.749 0 0 1 .326-1.275.749.749 0 0 1 .734.215Zm-6.56 0a.751.751 0 0 1 1.042.018.751.751 0 0 1 .018 1.042L2.06 8l3.72 3.72a.749.749 0 0 1-.326 1.275.749.749 0 0 1-.734-.215L.47 8.53a.75.75 0 0 1 0-1.06Z"></path>
</svg>
        <span data-content="Code">Code</span>
          <span id="code-repo-tab-count" data-pjax-replace="" data-turbo-replace="" title="Not available" data-view-component="true" class="Counter"></span>


    
</a></li>
      <li data-view-component="true" class="d-inline-flex">
  <a id="issues-tab" href="/asrenninger/urbansim/issues" data-tab-item="i1issues-tab" data-selected-links="repo_issues repo_labels repo_milestones /asrenninger/urbansim/issues" data-pjax="#repo-content-pjax-container" data-turbo-frame="repo-content-turbo-frame" data-hotkey="g i" data-analytics-event="{&quot;category&quot;:&quot;Underline navbar&quot;,&quot;action&quot;:&quot;Click tab&quot;,&quot;label&quot;:&quot;Issues&quot;,&quot;target&quot;:&quot;UNDERLINE_NAV.TAB&quot;}" data-view-component="true" class="UnderlineNav-item no-wrap js-responsive-underlinenav-item js-selected-navigation-item">
    
              <svg aria-hidden="true" height="16" viewBox="0 0 16 16" version="1.1" width="16" data-view-component="true" class="octicon octicon-issue-opened UnderlineNav-octicon d-none d-sm-inline">
    <path d="M8 9.5a1.5 1.5 0 1 0 0-3 1.5 1.5 0 0 0 0 3Z"></path><path d="M8 0a8 8 0 1 1 0 16A8 8 0 0 1 8 0ZM1.5 8a6.5 6.5 0 1 0 13 0 6.5 6.5 0 0 0-13 0Z"></path>
</svg>
        <span data-content="Issues">Issues</span>
          <span id="issues-repo-tab-count" data-pjax-replace="" data-turbo-replace="" title="0" hidden="hidden" data-view-component="true" class="Counter">0</span>


    
</a></li>
      <li data-view-component="true" class="d-inline-flex">
  <a id="pull-requests-tab" href="/asrenninger/urbansim/pulls" data-tab-item="i2pull-requests-tab" data-selected-links="repo_pulls checks /asrenninger/urbansim/pulls" data-pjax="#repo-content-pjax-container" data-turbo-frame="repo-content-turbo-frame" data-hotkey="g p" data-analytics-event="{&quot;category&quot;:&quot;Underline navbar&quot;,&quot;action&quot;:&quot;Click tab&quot;,&quot;label&quot;:&quot;Pull requests&quot;,&quot;target&quot;:&quot;UNDERLINE_NAV.TAB&quot;}" data-view-component="true" class="UnderlineNav-item no-wrap js-responsive-underlinenav-item js-selected-navigation-item">
    
              <svg aria-hidden="true" height="16" viewBox="0 0 16 16" version="1.1" width="16" data-view-component="true" class="octicon octicon-git-pull-request UnderlineNav-octicon d-none d-sm-inline">
    <path d="M1.5 3.25a2.25 2.25 0 1 1 3 2.122v5.256a2.251 2.251 0 1 1-1.5 0V5.372A2.25 2.25 0 0 1 1.5 3.25Zm5.677-.177L9.573.677A.25.25 0 0 1 10 .854V2.5h1A2.5 2.5 0 0 1 13.5 5v5.628a2.251 2.251 0 1 1-1.5 0V5a1 1 0 0 0-1-1h-1v1.646a.25.25 0 0 1-.427.177L7.177 3.427a.25.25 0 0 1 0-.354ZM3.75 2.5a.75.75 0 1 0 0 1.5.75.75 0 0 0 0-1.5Zm0 9.5a.75.75 0 1 0 0 1.5.75.75 0 0 0 0-1.5Zm8.25.75a.75.75 0 1 0 1.5 0 .75.75 0 0 0-1.5 0Z"></path>
</svg>
        <span data-content="Pull requests">Pull requests</span>
          <span id="pull-requests-repo-tab-count" data-pjax-replace="" data-turbo-replace="" title="0" hidden="hidden" data-view-component="true" class="Counter">0</span>


    
</a></li>
      <li data-view-component="true" class="d-inline-flex">
  <a id="actions-tab" href="/asrenninger/urbansim/actions" data-tab-item="i3actions-tab" data-selected-links="repo_actions /asrenninger/urbansim/actions" data-pjax="#repo-content-pjax-container" data-turbo-frame="repo-content-turbo-frame" data-hotkey="g a" data-analytics-event="{&quot;category&quot;:&quot;Underline navbar&quot;,&quot;action&quot;:&quot;Click tab&quot;,&quot;label&quot;:&quot;Actions&quot;,&quot;target&quot;:&quot;UNDERLINE_NAV.TAB&quot;}" data-view-component="true" class="UnderlineNav-item no-wrap js-responsive-underlinenav-item js-selected-navigation-item">
    
              <svg aria-hidden="true" height="16" viewBox="0 0 16 16" version="1.1" width="16" data-view-component="true" class="octicon octicon-play UnderlineNav-octicon d-none d-sm-inline">
    <path d="M8 0a8 8 0 1 1 0 16A8 8 0 0 1 8 0ZM1.5 8a6.5 6.5 0 1 0 13 0 6.5 6.5 0 0 0-13 0Zm4.879-2.773 4.264 2.559a.25.25 0 0 1 0 .428l-4.264 2.559A.25.25 0 0 1 6 10.559V5.442a.25.25 0 0 1 .379-.215Z"></path>
</svg>
        <span data-content="Actions">Actions</span>
          <span id="actions-repo-tab-count" data-pjax-replace="" data-turbo-replace="" title="Not available" data-view-component="true" class="Counter"></span>


    
</a></li>
      <li data-view-component="true" class="d-inline-flex">
  <a id="projects-tab" href="/asrenninger/urbansim/projects" data-tab-item="i4projects-tab" data-selected-links="repo_projects new_repo_project repo_project /asrenninger/urbansim/projects" data-pjax="#repo-content-pjax-container" data-turbo-frame="repo-content-turbo-frame" data-hotkey="g b" data-analytics-event="{&quot;category&quot;:&quot;Underline navbar&quot;,&quot;action&quot;:&quot;Click tab&quot;,&quot;label&quot;:&quot;Projects&quot;,&quot;target&quot;:&quot;UNDERLINE_NAV.TAB&quot;}" data-view-component="true" class="UnderlineNav-item no-wrap js-responsive-underlinenav-item js-selected-navigation-item">
    
              <svg aria-hidden="true" height="16" viewBox="0 0 16 16" version="1.1" width="16" data-view-component="true" class="octicon octicon-table UnderlineNav-octicon d-none d-sm-inline">
    <path d="M0 1.75C0 .784.784 0 1.75 0h12.5C15.216 0 16 .784 16 1.75v12.5A1.75 1.75 0 0 1 14.25 16H1.75A1.75 1.75 0 0 1 0 14.25ZM6.5 6.5v8h7.75a.25.25 0 0 0 .25-.25V6.5Zm8-1.5V1.75a.25.25 0 0 0-.25-.25H6.5V5Zm-13 1.5v7.75c0 .138.112.25.25.25H5v-8ZM5 5V1.5H1.75a.25.25 0 0 0-.25.25V5Z"></path>
</svg>
        <span data-content="Projects">Projects</span>
          <span id="projects-repo-tab-count" data-pjax-replace="" data-turbo-replace="" title="0" hidden="hidden" data-view-component="true" class="Counter">0</span>


    
</a></li>
      <li data-view-component="true" class="d-inline-flex">
  <a id="wiki-tab" href="/asrenninger/urbansim/wiki" data-tab-item="i5wiki-tab" data-selected-links="repo_wiki /asrenninger/urbansim/wiki" data-pjax="#repo-content-pjax-container" data-turbo-frame="repo-content-turbo-frame" data-hotkey="g w" data-analytics-event="{&quot;category&quot;:&quot;Underline navbar&quot;,&quot;action&quot;:&quot;Click tab&quot;,&quot;label&quot;:&quot;Wiki&quot;,&quot;target&quot;:&quot;UNDERLINE_NAV.TAB&quot;}" data-view-component="true" class="UnderlineNav-item no-wrap js-responsive-underlinenav-item js-selected-navigation-item">
    
              <svg aria-hidden="true" height="16" viewBox="0 0 16 16" version="1.1" width="16" data-view-component="true" class="octicon octicon-book UnderlineNav-octicon d-none d-sm-inline">
    <path d="M0 1.75A.75.75 0 0 1 .75 1h4.253c1.227 0 2.317.59 3 1.501A3.743 3.743 0 0 1 11.006 1h4.245a.75.75 0 0 1 .75.75v10.5a.75.75 0 0 1-.75.75h-4.507a2.25 2.25 0 0 0-1.591.659l-.622.621a.75.75 0 0 1-1.06 0l-.622-.621A2.25 2.25 0 0 0 5.258 13H.75a.75.75 0 0 1-.75-.75Zm7.251 10.324.004-5.073-.002-2.253A2.25 2.25 0 0 0 5.003 2.5H1.5v9h3.757a3.75 3.75 0 0 1 1.994.574ZM8.755 4.75l-.004 7.322a3.752 3.752 0 0 1 1.992-.572H14.5v-9h-3.495a2.25 2.25 0 0 0-2.25 2.25Z"></path>
</svg>
        <span data-content="Wiki">Wiki</span>
          <span id="wiki-repo-tab-count" data-pjax-replace="" data-turbo-replace="" title="Not available" data-view-component="true" class="Counter"></span>


    
</a></li>
      <li data-view-component="true" class="d-inline-flex">
  <a id="security-tab" href="/asrenninger/urbansim/security" data-tab-item="i6security-tab" data-selected-links="security overview alerts policy token_scanning code_scanning /asrenninger/urbansim/security" data-pjax="#repo-content-pjax-container" data-turbo-frame="repo-content-turbo-frame" data-hotkey="g s" data-analytics-event="{&quot;category&quot;:&quot;Underline navbar&quot;,&quot;action&quot;:&quot;Click tab&quot;,&quot;label&quot;:&quot;Security&quot;,&quot;target&quot;:&quot;UNDERLINE_NAV.TAB&quot;}" data-view-component="true" class="UnderlineNav-item no-wrap js-responsive-underlinenav-item js-selected-navigation-item">
    
              <svg aria-hidden="true" height="16" viewBox="0 0 16 16" version="1.1" width="16" data-view-component="true" class="octicon octicon-shield UnderlineNav-octicon d-none d-sm-inline">
    <path d="M7.467.133a1.748 1.748 0 0 1 1.066 0l5.25 1.68A1.75 1.75 0 0 1 15 3.48V7c0 1.566-.32 3.182-1.303 4.682-.983 1.498-2.585 2.813-5.032 3.855a1.697 1.697 0 0 1-1.33 0c-2.447-1.042-4.049-2.357-5.032-3.855C1.32 10.182 1 8.566 1 7V3.48a1.75 1.75 0 0 1 1.217-1.667Zm.61 1.429a.25.25 0 0 0-.153 0l-5.25 1.68a.25.25 0 0 0-.174.238V7c0 1.358.275 2.666 1.057 3.86.784 1.194 2.121 2.34 4.366 3.297a.196.196 0 0 0 .154 0c2.245-.956 3.582-2.104 4.366-3.298C13.225 9.666 13.5 8.36 13.5 7V3.48a.251.251 0 0 0-.174-.237l-5.25-1.68ZM8.75 4.75v3a.75.75 0 0 1-1.5 0v-3a.75.75 0 0 1 1.5 0ZM9 10.5a1 1 0 1 1-2 0 1 1 0 0 1 2 0Z"></path>
</svg>
        <span data-content="Security">Security</span>
          <include-fragment src="/asrenninger/urbansim/security/overall-count" accept="text/fragment+html"></include-fragment>

    
</a></li>
      <li data-view-component="true" class="d-inline-flex">
  <a id="insights-tab" href="/asrenninger/urbansim/pulse" data-tab-item="i7insights-tab" data-selected-links="repo_graphs repo_contributors dependency_graph dependabot_updates pulse people community /asrenninger/urbansim/pulse" data-pjax="#repo-content-pjax-container" data-turbo-frame="repo-content-turbo-frame" data-analytics-event="{&quot;category&quot;:&quot;Underline navbar&quot;,&quot;action&quot;:&quot;Click tab&quot;,&quot;label&quot;:&quot;Insights&quot;,&quot;target&quot;:&quot;UNDERLINE_NAV.TAB&quot;}" data-view-component="true" class="UnderlineNav-item no-wrap js-responsive-underlinenav-item js-selected-navigation-item">
    
              <svg aria-hidden="true" height="16" viewBox="0 0 16 16" version="1.1" width="16" data-view-component="true" class="octicon octicon-graph UnderlineNav-octicon d-none d-sm-inline">
    <path d="M1.5 1.75V13.5h13.75a.75.75 0 0 1 0 1.5H.75a.75.75 0 0 1-.75-.75V1.75a.75.75 0 0 1 1.5 0Zm14.28 2.53-5.25 5.25a.75.75 0 0 1-1.06 0L7 7.06 4.28 9.78a.751.751 0 0 1-1.042-.018.751.751 0 0 1-.018-1.042l3.25-3.25a.75.75 0 0 1 1.06 0L10 7.94l4.72-4.72a.751.751 0 0 1 1.042.018.751.751 0 0 1 .018 1.042Z"></path>
</svg>
        <span data-content="Insights">Insights</span>
          <span id="insights-repo-tab-count" data-pjax-replace="" data-turbo-replace="" title="Not available" data-view-component="true" class="Counter"></span>


    
</a></li>
      <li data-view-component="true" class="d-inline-flex">
  <a id="settings-tab" href="/asrenninger/urbansim/settings" data-tab-item="i8settings-tab" data-selected-links="code_review_limits codespaces_repository_settings collaborators custom_tabs hooks integration_installations interaction_limits issue_template_editor key_links_settings notifications repo_actions_settings repo_announcements repo_branch_settings repo_keys_settings repo_pages_settings repo_rule_insights repo_rulesets repo_protected_tags_settings repo_settings reported_content repo_custom_properties repository_actions_settings_add_new_runner repository_actions_settings_general repository_actions_settings_runners repository_environments role_details secrets secrets_settings_actions secrets_settings_codespaces secrets_settings_dependabot security_analysis security_products /asrenninger/urbansim/settings" data-pjax="#repo-content-pjax-container" data-turbo-frame="repo-content-turbo-frame" data-analytics-event="{&quot;category&quot;:&quot;Underline navbar&quot;,&quot;action&quot;:&quot;Click tab&quot;,&quot;label&quot;:&quot;Settings&quot;,&quot;target&quot;:&quot;UNDERLINE_NAV.TAB&quot;}" data-view-component="true" class="UnderlineNav-item no-wrap js-responsive-underlinenav-item js-selected-navigation-item">
    
              <svg aria-hidden="true" height="16" viewBox="0 0 16 16" version="1.1" width="16" data-view-component="true" class="octicon octicon-gear UnderlineNav-octicon d-none d-sm-inline">
    <path d="M8 0a8.2 8.2 0 0 1 .701.031C9.444.095 9.99.645 10.16 1.29l.288 1.107c.018.066.079.158.212.224.231.114.454.243.668.386.123.082.233.09.299.071l1.103-.303c.644-.176 1.392.021 1.82.63.27.385.506.792.704 1.218.315.675.111 1.422-.364 1.891l-.814.806c-.049.048-.098.147-.088.294.016.257.016.515 0 .772-.01.147.038.246.088.294l.814.806c.475.469.679 1.216.364 1.891a7.977 7.977 0 0 1-.704 1.217c-.428.61-1.176.807-1.82.63l-1.102-.302c-.067-.019-.177-.011-.3.071a5.909 5.909 0 0 1-.668.386c-.133.066-.194.158-.211.224l-.29 1.106c-.168.646-.715 1.196-1.458 1.26a8.006 8.006 0 0 1-1.402 0c-.743-.064-1.289-.614-1.458-1.26l-.289-1.106c-.018-.066-.079-.158-.212-.224a5.738 5.738 0 0 1-.668-.386c-.123-.082-.233-.09-.299-.071l-1.103.303c-.644.176-1.392-.021-1.82-.63a8.12 8.12 0 0 1-.704-1.218c-.315-.675-.111-1.422.363-1.891l.815-.806c.05-.048.098-.147.088-.294a6.214 6.214 0 0 1 0-.772c.01-.147-.038-.246-.088-.294l-.815-.806C.635 6.045.431 5.298.746 4.623a7.92 7.92 0 0 1 .704-1.217c.428-.61 1.176-.807 1.82-.63l1.102.302c.067.019.177.011.3-.071.214-.143.437-.272.668-.386.133-.066.194-.158.211-.224l.29-1.106C6.009.645 6.556.095 7.299.03 7.53.01 7.764 0 8 0Zm-.571 1.525c-.036.003-.108.036-.137.146l-.289 1.105c-.147.561-.549.967-.998 1.189-.173.086-.34.183-.5.29-.417.278-.97.423-1.529.27l-1.103-.303c-.109-.03-.175.016-.195.045-.22.312-.412.644-.573.99-.014.031-.021.11.059.19l.815.806c.411.406.562.957.53 1.456a4.709 4.709 0 0 0 0 .582c.032.499-.119 1.05-.53 1.456l-.815.806c-.081.08-.073.159-.059.19.162.346.353.677.573.989.02.03.085.076.195.046l1.102-.303c.56-.153 1.113-.008 1.53.27.161.107.328.204.501.29.447.222.85.629.997 1.189l.289 1.105c.029.109.101.143.137.146a6.6 6.6 0 0 0 1.142 0c.036-.003.108-.036.137-.146l.289-1.105c.147-.561.549-.967.998-1.189.173-.086.34-.183.5-.29.417-.278.97-.423 1.529-.27l1.103.303c.109.029.175-.016.195-.045.22-.313.411-.644.573-.99.014-.031.021-.11-.059-.19l-.815-.806c-.411-.406-.562-.957-.53-1.456a4.709 4.709 0 0 0 0-.582c-.032-.499.119-1.05.53-1.456l.815-.806c.081-.08.073-.159.059-.19a6.464 6.464 0 0 0-.573-.989c-.02-.03-.085-.076-.195-.046l-1.102.303c-.56.153-1.113.008-1.53-.27a4.44 4.44 0 0 0-.501-.29c-.447-.222-.85-.629-.997-1.189l-.289-1.105c-.029-.11-.101-.143-.137-.146a6.6 6.6 0 0 0-1.142 0ZM11 8a3 3 0 1 1-6 0 3 3 0 0 1 6 0ZM9.5 8a1.5 1.5 0 1 0-3.001.001A1.5 1.5 0 0 0 9.5 8Z"></path>
</svg>
        <span data-content="Settings">Settings</span>
          <span id="settings-repo-tab-count" data-pjax-replace="" data-turbo-replace="" title="Not available" data-view-component="true" class="Counter"></span>


    
</a></li>
</ul>
    <div style="visibility:hidden;" data-view-component="true" class="UnderlineNav-actions js-responsive-underlinenav-overflow position-absolute pr-3 pr-md-4 pr-lg-5 right-0">      <action-menu data-select-variant="none" data-view-component="true">
  <focus-group direction="vertical" mnemonics retain>
    <button id="action-menu-9b701dc2-543b-42d9-9ef2-cf30f384b648-button" popovertarget="action-menu-9b701dc2-543b-42d9-9ef2-cf30f384b648-overlay" aria-controls="action-menu-9b701dc2-543b-42d9-9ef2-cf30f384b648-list" aria-haspopup="true" aria-labelledby="tooltip-30a32186-86d8-4417-99c7-8f58b38066e3" type="button" data-view-component="true" class="Button Button--iconOnly Button--secondary Button--medium UnderlineNav-item">  <svg aria-hidden="true" height="16" viewBox="0 0 16 16" version="1.1" width="16" data-view-component="true" class="octicon octicon-kebab-horizontal Button-visual">
    <path d="M8 9a1.5 1.5 0 1 0 0-3 1.5 1.5 0 0 0 0 3ZM1.5 9a1.5 1.5 0 1 0 0-3 1.5 1.5 0 0 0 0 3Zm13 0a1.5 1.5 0 1 0 0-3 1.5 1.5 0 0 0 0 3Z"></path>
</svg>
</button><tool-tip id="tooltip-30a32186-86d8-4417-99c7-8f58b38066e3" for="action-menu-9b701dc2-543b-42d9-9ef2-cf30f384b648-button" popover="manual" data-direction="s" data-type="label" data-view-component="true" class="sr-only position-absolute">Additional navigation options</tool-tip>


<anchored-position id="action-menu-9b701dc2-543b-42d9-9ef2-cf30f384b648-overlay" anchor="action-menu-9b701dc2-543b-42d9-9ef2-cf30f384b648-button" align="start" side="outside-bottom" anchor-offset="normal" popover="auto" data-view-component="true">
  <div data-view-component="true" class="Overlay Overlay--size-auto">
    
      <div data-view-component="true" class="Overlay-body Overlay-body--paddingNone">          <div data-view-component="true">
  <ul aria-labelledby="action-menu-9b701dc2-543b-42d9-9ef2-cf30f384b648-button" id="action-menu-9b701dc2-543b-42d9-9ef2-cf30f384b648-list" role="menu" data-view-component="true" class="ActionListWrap--inset ActionListWrap">
      <li hidden="hidden" data-menu-item="i0code-tab" data-targets="action-list.items action-list.items" role="none" data-view-component="true" class="ActionListItem">
    
    <a tabindex="-1" id="item-683c7d9a-c56f-4e6d-af50-1ade16e66faa" href="/asrenninger/urbansim" role="menuitem" data-view-component="true" class="ActionListContent ActionListContent--visual16">
        <span class="ActionListItem-visual ActionListItem-visual--leading">
          <svg aria-hidden="true" height="16" viewBox="0 0 16 16" version="1.1" width="16" data-view-component="true" class="octicon octicon-code">
    <path d="m11.28 3.22 4.25 4.25a.75.75 0 0 1 0 1.06l-4.25 4.25a.749.749 0 0 1-1.275-.326.749.749 0 0 1 .215-.734L13.94 8l-3.72-3.72a.749.749 0 0 1 .326-1.275.749.749 0 0 1 .734.215Zm-6.56 0a.751.751 0 0 1 1.042.018.751.751 0 0 1 .018 1.042L2.06 8l3.72 3.72a.749.749 0 0 1-.326 1.275.749.749 0 0 1-.734-.215L.47 8.53a.75.75 0 0 1 0-1.06Z"></path>
</svg>
        </span>
      
        <span data-view-component="true" class="ActionListItem-label">
          Code
</span></a>
  
  
</li>
      <li hidden="hidden" data-menu-item="i1issues-tab" data-targets="action-list.items action-list.items" role="none" data-view-component="true" class="ActionListItem">
    
    <a tabindex="-1" id="item-385e55bc-9b90-42a9-b8bd-df2a78fff620" href="/asrenninger/urbansim/issues" role="menuitem" data-view-component="true" class="ActionListContent ActionListContent--visual16">
        <span class="ActionListItem-visual ActionListItem-visual--leading">
          <svg aria-hidden="true" height="16" viewBox="0 0 16 16" version="1.1" width="16" data-view-component="true" class="octicon octicon-issue-opened">
    <path d="M8 9.5a1.5 1.5 0 1 0 0-3 1.5 1.5 0 0 0 0 3Z"></path><path d="M8 0a8 8 0 1 1 0 16A8 8 0 0 1 8 0ZM1.5 8a6.5 6.5 0 1 0 13 0 6.5 6.5 0 0 0-13 0Z"></path>
</svg>
        </span>
      
        <span data-view-component="true" class="ActionListItem-label">
          Issues
</span></a>
  
  
</li>
      <li hidden="hidden" data-menu-item="i2pull-requests-tab" data-targets="action-list.items action-list.items" role="none" data-view-component="true" class="ActionListItem">
    
    <a tabindex="-1" id="item-f769d371-d62a-440f-aad5-d276f1dc327a" href="/asrenninger/urbansim/pulls" role="menuitem" data-view-component="true" class="ActionListContent ActionListContent--visual16">
        <span class="ActionListItem-visual ActionListItem-visual--leading">
          <svg aria-hidden="true" height="16" viewBox="0 0 16 16" version="1.1" width="16" data-view-component="true" class="octicon octicon-git-pull-request">
    <path d="M1.5 3.25a2.25 2.25 0 1 1 3 2.122v5.256a2.251 2.251 0 1 1-1.5 0V5.372A2.25 2.25 0 0 1 1.5 3.25Zm5.677-.177L9.573.677A.25.25 0 0 1 10 .854V2.5h1A2.5 2.5 0 0 1 13.5 5v5.628a2.251 2.251 0 1 1-1.5 0V5a1 1 0 0 0-1-1h-1v1.646a.25.25 0 0 1-.427.177L7.177 3.427a.25.25 0 0 1 0-.354ZM3.75 2.5a.75.75 0 1 0 0 1.5.75.75 0 0 0 0-1.5Zm0 9.5a.75.75 0 1 0 0 1.5.75.75 0 0 0 0-1.5Zm8.25.75a.75.75 0 1 0 1.5 0 .75.75 0 0 0-1.5 0Z"></path>
</svg>
        </span>
      
        <span data-view-component="true" class="ActionListItem-label">
          Pull requests
</span></a>
  
  
</li>
      <li hidden="hidden" data-menu-item="i3actions-tab" data-targets="action-list.items action-list.items" role="none" data-view-component="true" class="ActionListItem">
    
    <a tabindex="-1" id="item-3674a3cb-7ef7-4fee-b69a-3d81d3b769a0" href="/asrenninger/urbansim/actions" role="menuitem" data-view-component="true" class="ActionListContent ActionListContent--visual16">
        <span class="ActionListItem-visual ActionListItem-visual--leading">
          <svg aria-hidden="true" height="16" viewBox="0 0 16 16" version="1.1" width="16" data-view-component="true" class="octicon octicon-play">
    <path d="M8 0a8 8 0 1 1 0 16A8 8 0 0 1 8 0ZM1.5 8a6.5 6.5 0 1 0 13 0 6.5 6.5 0 0 0-13 0Zm4.879-2.773 4.264 2.559a.25.25 0 0 1 0 .428l-4.264 2.559A.25.25 0 0 1 6 10.559V5.442a.25.25 0 0 1 .379-.215Z"></path>
</svg>
        </span>
      
        <span data-view-component="true" class="ActionListItem-label">
          Actions
</span></a>
  
  
</li>
      <li hidden="hidden" data-menu-item="i4projects-tab" data-targets="action-list.items action-list.items" role="none" data-view-component="true" class="ActionListItem">
    
    <a tabindex="-1" id="item-76230ed6-4a04-4543-a33f-c2b78a0f1ffc" href="/asrenninger/urbansim/projects" role="menuitem" data-view-component="true" class="ActionListContent ActionListContent--visual16">
        <span class="ActionListItem-visual ActionListItem-visual--leading">
          <svg aria-hidden="true" height="16" viewBox="0 0 16 16" version="1.1" width="16" data-view-component="true" class="octicon octicon-table">
    <path d="M0 1.75C0 .784.784 0 1.75 0h12.5C15.216 0 16 .784 16 1.75v12.5A1.75 1.75 0 0 1 14.25 16H1.75A1.75 1.75 0 0 1 0 14.25ZM6.5 6.5v8h7.75a.25.25 0 0 0 .25-.25V6.5Zm8-1.5V1.75a.25.25 0 0 0-.25-.25H6.5V5Zm-13 1.5v7.75c0 .138.112.25.25.25H5v-8ZM5 5V1.5H1.75a.25.25 0 0 0-.25.25V5Z"></path>
</svg>
        </span>
      
        <span data-view-component="true" class="ActionListItem-label">
          Projects
</span></a>
  
  
</li>
      <li hidden="hidden" data-menu-item="i5wiki-tab" data-targets="action-list.items action-list.items" role="none" data-view-component="true" class="ActionListItem">
    
    <a tabindex="-1" id="item-c804a639-927a-4b8e-810a-067b2a211be5" href="/asrenninger/urbansim/wiki" role="menuitem" data-view-component="true" class="ActionListContent ActionListContent--visual16">
        <span class="ActionListItem-visual ActionListItem-visual--leading">
          <svg aria-hidden="true" height="16" viewBox="0 0 16 16" version="1.1" width="16" data-view-component="true" class="octicon octicon-book">
    <path d="M0 1.75A.75.75 0 0 1 .75 1h4.253c1.227 0 2.317.59 3 1.501A3.743 3.743 0 0 1 11.006 1h4.245a.75.75 0 0 1 .75.75v10.5a.75.75 0 0 1-.75.75h-4.507a2.25 2.25 0 0 0-1.591.659l-.622.621a.75.75 0 0 1-1.06 0l-.622-.621A2.25 2.25 0 0 0 5.258 13H.75a.75.75 0 0 1-.75-.75Zm7.251 10.324.004-5.073-.002-2.253A2.25 2.25 0 0 0 5.003 2.5H1.5v9h3.757a3.75 3.75 0 0 1 1.994.574ZM8.755 4.75l-.004 7.322a3.752 3.752 0 0 1 1.992-.572H14.5v-9h-3.495a2.25 2.25 0 0 0-2.25 2.25Z"></path>
</svg>
        </span>
      
        <span data-view-component="true" class="ActionListItem-label">
          Wiki
</span></a>
  
  
</li>
      <li hidden="hidden" data-menu-item="i6security-tab" data-targets="action-list.items action-list.items" role="none" data-view-component="true" class="ActionListItem">
    
    <a tabindex="-1" id="item-f5cd6013-92ef-44bb-8c47-d02f1085a6d3" href="/asrenninger/urbansim/security" role="menuitem" data-view-component="true" class="ActionListContent ActionListContent--visual16">
        <span class="ActionListItem-visual ActionListItem-visual--leading">
          <svg aria-hidden="true" height="16" viewBox="0 0 16 16" version="1.1" width="16" data-view-component="true" class="octicon octicon-shield">
    <path d="M7.467.133a1.748 1.748 0 0 1 1.066 0l5.25 1.68A1.75 1.75 0 0 1 15 3.48V7c0 1.566-.32 3.182-1.303 4.682-.983 1.498-2.585 2.813-5.032 3.855a1.697 1.697 0 0 1-1.33 0c-2.447-1.042-4.049-2.357-5.032-3.855C1.32 10.182 1 8.566 1 7V3.48a1.75 1.75 0 0 1 1.217-1.667Zm.61 1.429a.25.25 0 0 0-.153 0l-5.25 1.68a.25.25 0 0 0-.174.238V7c0 1.358.275 2.666 1.057 3.86.784 1.194 2.121 2.34 4.366 3.297a.196.196 0 0 0 .154 0c2.245-.956 3.582-2.104 4.366-3.298C13.225 9.666 13.5 8.36 13.5 7V3.48a.251.251 0 0 0-.174-.237l-5.25-1.68ZM8.75 4.75v3a.75.75 0 0 1-1.5 0v-3a.75.75 0 0 1 1.5 0ZM9 10.5a1 1 0 1 1-2 0 1 1 0 0 1 2 0Z"></path>
</svg>
        </span>
      
        <span data-view-component="true" class="ActionListItem-label">
          Security
</span></a>
  
  
</li>
      <li hidden="hidden" data-menu-item="i7insights-tab" data-targets="action-list.items action-list.items" role="none" data-view-component="true" class="ActionListItem">
    
    <a tabindex="-1" id="item-76a72821-b247-4cb9-b0a9-3de19394d935" href="/asrenninger/urbansim/pulse" role="menuitem" data-view-component="true" class="ActionListContent ActionListContent--visual16">
        <span class="ActionListItem-visual ActionListItem-visual--leading">
          <svg aria-hidden="true" height="16" viewBox="0 0 16 16" version="1.1" width="16" data-view-component="true" class="octicon octicon-graph">
    <path d="M1.5 1.75V13.5h13.75a.75.75 0 0 1 0 1.5H.75a.75.75 0 0 1-.75-.75V1.75a.75.75 0 0 1 1.5 0Zm14.28 2.53-5.25 5.25a.75.75 0 0 1-1.06 0L7 7.06 4.28 9.78a.751.751 0 0 1-1.042-.018.751.751 0 0 1-.018-1.042l3.25-3.25a.75.75 0 0 1 1.06 0L10 7.94l4.72-4.72a.751.751 0 0 1 1.042.018.751.751 0 0 1 .018 1.042Z"></path>
</svg>
        </span>
      
        <span data-view-component="true" class="ActionListItem-label">
          Insights
</span></a>
  
  
</li>
      <li hidden="hidden" data-menu-item="i8settings-tab" data-targets="action-list.items action-list.items" role="none" data-view-component="true" class="ActionListItem">
    
    <a tabindex="-1" id="item-1b99c083-10ab-4072-96d5-6794e05b5201" href="/asrenninger/urbansim/settings" role="menuitem" data-view-component="true" class="ActionListContent ActionListContent--visual16">
        <span class="ActionListItem-visual ActionListItem-visual--leading">
          <svg aria-hidden="true" height="16" viewBox="0 0 16 16" version="1.1" width="16" data-view-component="true" class="octicon octicon-gear">
    <path d="M8 0a8.2 8.2 0 0 1 .701.031C9.444.095 9.99.645 10.16 1.29l.288 1.107c.018.066.079.158.212.224.231.114.454.243.668.386.123.082.233.09.299.071l1.103-.303c.644-.176 1.392.021 1.82.63.27.385.506.792.704 1.218.315.675.111 1.422-.364 1.891l-.814.806c-.049.048-.098.147-.088.294.016.257.016.515 0 .772-.01.147.038.246.088.294l.814.806c.475.469.679 1.216.364 1.891a7.977 7.977 0 0 1-.704 1.217c-.428.61-1.176.807-1.82.63l-1.102-.302c-.067-.019-.177-.011-.3.071a5.909 5.909 0 0 1-.668.386c-.133.066-.194.158-.211.224l-.29 1.106c-.168.646-.715 1.196-1.458 1.26a8.006 8.006 0 0 1-1.402 0c-.743-.064-1.289-.614-1.458-1.26l-.289-1.106c-.018-.066-.079-.158-.212-.224a5.738 5.738 0 0 1-.668-.386c-.123-.082-.233-.09-.299-.071l-1.103.303c-.644.176-1.392-.021-1.82-.63a8.12 8.12 0 0 1-.704-1.218c-.315-.675-.111-1.422.363-1.891l.815-.806c.05-.048.098-.147.088-.294a6.214 6.214 0 0 1 0-.772c.01-.147-.038-.246-.088-.294l-.815-.806C.635 6.045.431 5.298.746 4.623a7.92 7.92 0 0 1 .704-1.217c.428-.61 1.176-.807 1.82-.63l1.102.302c.067.019.177.011.3-.071.214-.143.437-.272.668-.386.133-.066.194-.158.211-.224l.29-1.106C6.009.645 6.556.095 7.299.03 7.53.01 7.764 0 8 0Zm-.571 1.525c-.036.003-.108.036-.137.146l-.289 1.105c-.147.561-.549.967-.998 1.189-.173.086-.34.183-.5.29-.417.278-.97.423-1.529.27l-1.103-.303c-.109-.03-.175.016-.195.045-.22.312-.412.644-.573.99-.014.031-.021.11.059.19l.815.806c.411.406.562.957.53 1.456a4.709 4.709 0 0 0 0 .582c.032.499-.119 1.05-.53 1.456l-.815.806c-.081.08-.073.159-.059.19.162.346.353.677.573.989.02.03.085.076.195.046l1.102-.303c.56-.153 1.113-.008 1.53.27.161.107.328.204.501.29.447.222.85.629.997 1.189l.289 1.105c.029.109.101.143.137.146a6.6 6.6 0 0 0 1.142 0c.036-.003.108-.036.137-.146l.289-1.105c.147-.561.549-.967.998-1.189.173-.086.34-.183.5-.29.417-.278.97-.423 1.529-.27l1.103.303c.109.029.175-.016.195-.045.22-.313.411-.644.573-.99.014-.031.021-.11-.059-.19l-.815-.806c-.411-.406-.562-.957-.53-1.456a4.709 4.709 0 0 0 0-.582c-.032-.499.119-1.05.53-1.456l.815-.806c.081-.08.073-.159.059-.19a6.464 6.464 0 0 0-.573-.989c-.02-.03-.085-.076-.195-.046l-1.102.303c-.56.153-1.113.008-1.53-.27a4.44 4.44 0 0 0-.501-.29c-.447-.222-.85-.629-.997-1.189l-.289-1.105c-.029-.11-.101-.143-.137-.146a6.6 6.6 0 0 0-1.142 0ZM11 8a3 3 0 1 1-6 0 3 3 0 0 1 6 0ZM9.5 8a1.5 1.5 0 1 0-3.001.001A1.5 1.5 0 0 0 9.5 8Z"></path>
</svg>
        </span>
      
        <span data-view-component="true" class="ActionListItem-label">
          Settings
</span></a>
  
  
</li>
</ul>  
</div>

</div>
      
</div></anchored-position>  </focus-group>
</action-menu></div>
</nav>
      </div>
</header>


      <div hidden="hidden" data-view-component="true" class="js-stale-session-flash stale-session-flash flash flash-warn flash-full mb-3">
  
        <svg aria-hidden="true" height="16" viewBox="0 0 16 16" version="1.1" width="16" data-view-component="true" class="octicon octicon-alert">
    <path d="M6.457 1.047c.659-1.234 2.427-1.234 3.086 0l6.082 11.378A1.75 1.75 0 0 1 14.082 15H1.918a1.75 1.75 0 0 1-1.543-2.575Zm1.763.707a.25.25 0 0 0-.44 0L1.698 13.132a.25.25 0 0 0 .22.368h12.164a.25.25 0 0 0 .22-.368Zm.53 3.996v2.5a.75.75 0 0 1-1.5 0v-2.5a.75.75 0 0 1 1.5 0ZM9 11a1 1 0 1 1-2 0 1 1 0 0 1 2 0Z"></path>
</svg>
        <span class="js-stale-session-flash-signed-in" hidden>You signed in with another tab or window. <a class="Link--inTextBlock" href="">Reload</a> to refresh your session.</span>
        <span class="js-stale-session-flash-signed-out" hidden>You signed out in another tab or window. <a class="Link--inTextBlock" href="">Reload</a> to refresh your session.</span>
        <span class="js-stale-session-flash-switched" hidden>You switched accounts on another tab or window. <a class="Link--inTextBlock" href="">Reload</a> to refresh your session.</span>

    <button id="icon-button-5e377960-cf70-4b0a-94da-b85c26722dee" aria-labelledby="tooltip-fdd62429-0f7e-4a4a-a50b-8a00ab454aca" type="button" data-view-component="true" class="Button Button--iconOnly Button--invisible Button--medium flash-close js-flash-close">  <svg aria-hidden="true" height="16" viewBox="0 0 16 16" version="1.1" width="16" data-view-component="true" class="octicon octicon-x Button-visual">
    <path d="M3.72 3.72a.75.75 0 0 1 1.06 0L8 6.94l3.22-3.22a.749.749 0 0 1 1.275.326.749.749 0 0 1-.215.734L9.06 8l3.22 3.22a.749.749 0 0 1-.326 1.275.749.749 0 0 1-.734-.215L8 9.06l-3.22 3.22a.751.751 0 0 1-1.042-.018.751.751 0 0 1-.018-1.042L6.94 8 3.72 4.78a.75.75 0 0 1 0-1.06Z"></path>
</svg>
</button><tool-tip id="tooltip-fdd62429-0f7e-4a4a-a50b-8a00ab454aca" for="icon-button-5e377960-cf70-4b0a-94da-b85c26722dee" popover="manual" data-direction="s" data-type="label" data-view-component="true" class="sr-only position-absolute">Dismiss alert</tool-tip>


  
</div>
          
    </div>

  <div id="start-of-content" class="show-on-focus"></div>








    <div id="js-flash-container" data-turbo-replace>


      <include-fragment src="/settings/two_factor_authentication/holiday_warning_banner"></include-fragment>



  <template class="js-flash-template">
    
<div class="flash flash-full   {{ className }}">
  <div class="px-2" >
    <button autofocus class="flash-close js-flash-close" type="button" aria-label="Dismiss this message">
      <svg aria-hidden="true" height="16" viewBox="0 0 16 16" version="1.1" width="16" data-view-component="true" class="octicon octicon-x">
    <path d="M3.72 3.72a.75.75 0 0 1 1.06 0L8 6.94l3.22-3.22a.749.749 0 0 1 1.275.326.749.749 0 0 1-.215.734L9.06 8l3.22 3.22a.749.749 0 0 1-.326 1.275.749.749 0 0 1-.734-.215L8 9.06l-3.22 3.22a.751.751 0 0 1-1.042-.018.751.751 0 0 1-.018-1.042L6.94 8 3.72 4.78a.75.75 0 0 1 0-1.06Z"></path>
</svg>
    </button>
    <div aria-atomic="true" role="alert" class="js-flash-alert">
      
      <div>{{ message }}</div>

    </div>
  </div>
</div>
  </template>
</div>


    
    <notification-shelf-watcher data-base-url="https://github.com/notifications/beta/shelf" data-channel="eyJjIjoibm90aWZpY2F0aW9uLWNoYW5nZWQ6NDcyMjY5NDkiLCJ0IjoxNzA3MjEzNDMyfQ==--37aaf4d4bc3717e8b4faa565f538af5b975223ffd00fd397becb456ca97fb596" data-view-component="true" class="js-socket-channel"></notification-shelf-watcher>
  <div hidden data-initial data-target="notification-shelf-watcher.placeholder"></div>






      <details
  class="details-reset details-overlay details-overlay-dark js-command-palette-dialog"
  id="command-palette-pjax-container"
  data-turbo-replace
>
  <summary aria-label="Command palette trigger" tabindex="-1"></summary>
  <details-dialog class="command-palette-details-dialog d-flex flex-column flex-justify-center height-fit" aria-label="Command palette">
    <command-palette
      class="command-palette color-bg-default rounded-3 border color-shadow-small"
      return-to=/asrenninger/urbansim/blob/main/automl/automl.ipynb
      user-id="47226949"
      activation-hotkey="Mod+k,Mod+Alt+k"
      command-mode-hotkey="Mod+Shift+K"
      data-action="
        command-palette-input-ready:command-palette#inputReady
        command-palette-page-stack-updated:command-palette#updateInputScope
        itemsUpdated:command-palette#itemsUpdated
        keydown:command-palette#onKeydown
        loadingStateChanged:command-palette#loadingStateChanged
        selectedItemChanged:command-palette#selectedItemChanged
        pageFetchError:command-palette#pageFetchError
      ">

        <command-palette-mode
          data-char="#"
            data-scope-types="[&quot;&quot;]"
            data-placeholder="Search issues and pull requests"
        ></command-palette-mode>
        <command-palette-mode
          data-char="#"
            data-scope-types="[&quot;owner&quot;,&quot;repository&quot;]"
            data-placeholder="Search issues, pull requests, discussions, and projects"
        ></command-palette-mode>
        <command-palette-mode
          data-char="!"
            data-scope-types="[&quot;owner&quot;,&quot;repository&quot;]"
            data-placeholder="Search projects"
        ></command-palette-mode>
        <command-palette-mode
          data-char="@"
            data-scope-types="[&quot;&quot;]"
            data-placeholder="Search or jump to a user, organization, or repository"
        ></command-palette-mode>
        <command-palette-mode
          data-char="@"
            data-scope-types="[&quot;owner&quot;]"
            data-placeholder="Search or jump to a repository"
        ></command-palette-mode>
        <command-palette-mode
          data-char="/"
            data-scope-types="[&quot;repository&quot;]"
            data-placeholder="Search files"
        ></command-palette-mode>
        <command-palette-mode
          data-char="?"
        ></command-palette-mode>
        <command-palette-mode
          data-char="&gt;"
            data-placeholder="Run a command"
        ></command-palette-mode>
        <command-palette-mode
          data-char=""
            data-scope-types="[&quot;&quot;]"
            data-placeholder="Search or jump to..."
        ></command-palette-mode>
        <command-palette-mode
          data-char=""
            data-scope-types="[&quot;owner&quot;]"
            data-placeholder="Search or jump to..."
        ></command-palette-mode>
      <command-palette-mode
        class="js-command-palette-default-mode"
        data-char=""
        data-placeholder="Search or jump to..."
      ></command-palette-mode>

      <command-palette-input placeholder="Search or jump to..."

        data-action="
          command-palette-input:command-palette#onInput
          command-palette-select:command-palette#onSelect
          command-palette-descope:command-palette#onDescope
          command-palette-cleared:command-palette#onInputClear
        "
      >
        <div class="js-search-icon d-flex flex-items-center mr-2" style="height: 26px">
          <svg aria-hidden="true" height="16" viewBox="0 0 16 16" version="1.1" width="16" data-view-component="true" class="octicon octicon-search color-fg-muted">
    <path d="M10.68 11.74a6 6 0 0 1-7.922-8.982 6 6 0 0 1 8.982 7.922l3.04 3.04a.749.749 0 0 1-.326 1.275.749.749 0 0 1-.734-.215ZM11.5 7a4.499 4.499 0 1 0-8.997 0A4.499 4.499 0 0 0 11.5 7Z"></path>
</svg>
        </div>
        <div class="js-spinner d-flex flex-items-center mr-2 color-fg-muted" hidden>
          <svg aria-label="Loading" class="anim-rotate" viewBox="0 0 16 16" fill="none" width="16" height="16">
            <circle
              cx="8"
              cy="8"
              r="7"
              stroke="currentColor"
              stroke-opacity="0.25"
              stroke-width="2"
              vector-effect="non-scaling-stroke"
            ></circle>
            <path
              d="M15 8a7.002 7.002 0 00-7-7"
              stroke="currentColor"
              stroke-width="2"
              stroke-linecap="round"
              vector-effect="non-scaling-stroke"
            ></path>
          </svg>
        </div>
        <command-palette-scope >
          <div data-target="command-palette-scope.placeholder" hidden class="color-fg-subtle">/&nbsp;&nbsp;<span class="text-semibold color-fg-default">...</span>&nbsp;&nbsp;/&nbsp;&nbsp;</div>
              <command-palette-token
                data-text="asrenninger"
                data-id="MDQ6VXNlcjQ3MjI2OTQ5"
                data-type="owner"
                data-value="asrenninger"
                data-targets="command-palette-scope.tokens"
                class="color-fg-default text-semibold"
                style="white-space:nowrap;line-height:20px;"
                >asrenninger<span class="color-fg-subtle text-normal">&nbsp;&nbsp;/&nbsp;&nbsp;</span></command-palette-token>
              <command-palette-token
                data-text="urbansim"
                data-id="R_kgDOJIEnTg"
                data-type="repository"
                data-value="urbansim"
                data-targets="command-palette-scope.tokens"
                class="color-fg-default text-semibold"
                style="white-space:nowrap;line-height:20px;"
                >urbansim<span class="color-fg-subtle text-normal">&nbsp;&nbsp;/&nbsp;&nbsp;</span></command-palette-token>
        </command-palette-scope>
        <div class="command-palette-input-group flex-1 form-control border-0 box-shadow-none" style="z-index: 0">
          <div class="command-palette-typeahead position-absolute d-flex flex-items-center Truncate">
            <span class="typeahead-segment input-mirror" data-target="command-palette-input.mirror"></span>
            <span class="Truncate-text" data-target="command-palette-input.typeaheadText"></span>
            <span class="typeahead-segment" data-target="command-palette-input.typeaheadPlaceholder"></span>
          </div>
          <input
            class="js-overlay-input typeahead-input d-none"
            disabled
            tabindex="-1"
            aria-label="Hidden input for typeahead"
          >
          <input
            type="text"
            autocomplete="off"
            autocorrect="off"
            autocapitalize="off"
            spellcheck="false"
            class="js-input typeahead-input form-control border-0 box-shadow-none input-block width-full no-focus-indicator"
            aria-label="Command palette input"
            aria-haspopup="listbox"
            aria-expanded="false"
            aria-autocomplete="list"
            aria-controls="command-palette-page-stack"
            role="combobox"
            data-action="
              input:command-palette-input#onInput
              keydown:command-palette-input#onKeydown
            "
          >
        </div>
          <div data-view-component="true" class="position-relative d-inline-block">
    <button aria-keyshortcuts="Meta+Delete" data-action="click:command-palette-input#onClear keypress:command-palette-input#onClear" data-target="command-palette-input.clearButton" id="command-palette-clear-button" hidden="hidden" type="button" data-view-component="true" class="btn-octicon command-palette-input-clear-button">      <svg aria-hidden="true" height="16" viewBox="0 0 16 16" version="1.1" width="16" data-view-component="true" class="octicon octicon-x-circle-fill">
    <path d="M2.343 13.657A8 8 0 1 1 13.658 2.343 8 8 0 0 1 2.343 13.657ZM6.03 4.97a.751.751 0 0 0-1.042.018.751.751 0 0 0-.018 1.042L6.94 8 4.97 9.97a.749.749 0 0 0 .326 1.275.749.749 0 0 0 .734-.215L8 9.06l1.97 1.97a.749.749 0 0 0 1.275-.326.749.749 0 0 0-.215-.734L9.06 8l1.97-1.97a.749.749 0 0 0-.326-1.275.749.749 0 0 0-.734.215L8 6.94Z"></path>
</svg>
</button>    <tool-tip id="tooltip-1746983b-908a-4607-8fd9-da8892f9192e" for="command-palette-clear-button" popover="manual" data-direction="w" data-type="label" data-view-component="true" class="sr-only position-absolute">Clear Command Palette</tool-tip>
</div>
      </command-palette-input>

      <command-palette-page-stack
        data-default-scope-id="R_kgDOJIEnTg"
        data-default-scope-type="Repository"
        data-action="command-palette-page-octicons-cached:command-palette-page-stack#cacheOcticons"
      >
          <command-palette-tip
            class="color-fg-muted f6 px-3 py-1 my-2"
              data-scope-types="[&quot;&quot;,&quot;owner&quot;,&quot;repository&quot;]"
            data-mode=""
            data-value="">
            <div class="d-flex flex-items-start flex-justify-between">
              <div>
                <span class="text-bold">Tip:</span>
                  Type <kbd class="hx_kbd">#</kbd> to search pull requests
              </div>
              <div class="ml-2 flex-shrink-0">
                Type <kbd class="hx_kbd">?</kbd> for help and tips
              </div>
            </div>
          </command-palette-tip>
          <command-palette-tip
            class="color-fg-muted f6 px-3 py-1 my-2"
              data-scope-types="[&quot;&quot;,&quot;owner&quot;,&quot;repository&quot;]"
            data-mode=""
            data-value="">
            <div class="d-flex flex-items-start flex-justify-between">
              <div>
                <span class="text-bold">Tip:</span>
                  Type <kbd class="hx_kbd">#</kbd> to search issues
              </div>
              <div class="ml-2 flex-shrink-0">
                Type <kbd class="hx_kbd">?</kbd> for help and tips
              </div>
            </div>
          </command-palette-tip>
          <command-palette-tip
            class="color-fg-muted f6 px-3 py-1 my-2"
              data-scope-types="[&quot;owner&quot;,&quot;repository&quot;]"
            data-mode=""
            data-value="">
            <div class="d-flex flex-items-start flex-justify-between">
              <div>
                <span class="text-bold">Tip:</span>
                  Type <kbd class="hx_kbd">#</kbd> to search discussions
              </div>
              <div class="ml-2 flex-shrink-0">
                Type <kbd class="hx_kbd">?</kbd> for help and tips
              </div>
            </div>
          </command-palette-tip>
          <command-palette-tip
            class="color-fg-muted f6 px-3 py-1 my-2"
              data-scope-types="[&quot;owner&quot;,&quot;repository&quot;]"
            data-mode=""
            data-value="">
            <div class="d-flex flex-items-start flex-justify-between">
              <div>
                <span class="text-bold">Tip:</span>
                  Type <kbd class="hx_kbd">!</kbd> to search projects
              </div>
              <div class="ml-2 flex-shrink-0">
                Type <kbd class="hx_kbd">?</kbd> for help and tips
              </div>
            </div>
          </command-palette-tip>
          <command-palette-tip
            class="color-fg-muted f6 px-3 py-1 my-2"
              data-scope-types="[&quot;owner&quot;]"
            data-mode=""
            data-value="">
            <div class="d-flex flex-items-start flex-justify-between">
              <div>
                <span class="text-bold">Tip:</span>
                  Type <kbd class="hx_kbd">@</kbd> to search teams
              </div>
              <div class="ml-2 flex-shrink-0">
                Type <kbd class="hx_kbd">?</kbd> for help and tips
              </div>
            </div>
          </command-palette-tip>
          <command-palette-tip
            class="color-fg-muted f6 px-3 py-1 my-2"
              data-scope-types="[&quot;&quot;]"
            data-mode=""
            data-value="">
            <div class="d-flex flex-items-start flex-justify-between">
              <div>
                <span class="text-bold">Tip:</span>
                  Type <kbd class="hx_kbd">@</kbd> to search people and organizations
              </div>
              <div class="ml-2 flex-shrink-0">
                Type <kbd class="hx_kbd">?</kbd> for help and tips
              </div>
            </div>
          </command-palette-tip>
          <command-palette-tip
            class="color-fg-muted f6 px-3 py-1 my-2"
              data-scope-types="[&quot;&quot;,&quot;owner&quot;,&quot;repository&quot;]"
            data-mode=""
            data-value="">
            <div class="d-flex flex-items-start flex-justify-between">
              <div>
                <span class="text-bold">Tip:</span>
                  Type <kbd class="hx_kbd">&gt;</kbd> to activate command mode
              </div>
              <div class="ml-2 flex-shrink-0">
                Type <kbd class="hx_kbd">?</kbd> for help and tips
              </div>
            </div>
          </command-palette-tip>
          <command-palette-tip
            class="color-fg-muted f6 px-3 py-1 my-2"
              data-scope-types="[&quot;&quot;,&quot;owner&quot;,&quot;repository&quot;]"
            data-mode=""
            data-value="">
            <div class="d-flex flex-items-start flex-justify-between">
              <div>
                <span class="text-bold">Tip:</span>
                  Go to your accessibility settings to change your keyboard shortcuts
              </div>
              <div class="ml-2 flex-shrink-0">
                Type <kbd class="hx_kbd">?</kbd> for help and tips
              </div>
            </div>
          </command-palette-tip>
          <command-palette-tip
            class="color-fg-muted f6 px-3 py-1 my-2"
              data-scope-types="[&quot;&quot;,&quot;owner&quot;,&quot;repository&quot;]"
            data-mode="#"
            data-value="">
            <div class="d-flex flex-items-start flex-justify-between">
              <div>
                <span class="text-bold">Tip:</span>
                  Type author:@me to search your content
              </div>
              <div class="ml-2 flex-shrink-0">
                Type <kbd class="hx_kbd">?</kbd> for help and tips
              </div>
            </div>
          </command-palette-tip>
          <command-palette-tip
            class="color-fg-muted f6 px-3 py-1 my-2"
              data-scope-types="[&quot;&quot;,&quot;owner&quot;,&quot;repository&quot;]"
            data-mode="#"
            data-value="">
            <div class="d-flex flex-items-start flex-justify-between">
              <div>
                <span class="text-bold">Tip:</span>
                  Type is:pr to filter to pull requests
              </div>
              <div class="ml-2 flex-shrink-0">
                Type <kbd class="hx_kbd">?</kbd> for help and tips
              </div>
            </div>
          </command-palette-tip>
          <command-palette-tip
            class="color-fg-muted f6 px-3 py-1 my-2"
              data-scope-types="[&quot;&quot;,&quot;owner&quot;,&quot;repository&quot;]"
            data-mode="#"
            data-value="">
            <div class="d-flex flex-items-start flex-justify-between">
              <div>
                <span class="text-bold">Tip:</span>
                  Type is:issue to filter to issues
              </div>
              <div class="ml-2 flex-shrink-0">
                Type <kbd class="hx_kbd">?</kbd> for help and tips
              </div>
            </div>
          </command-palette-tip>
          <command-palette-tip
            class="color-fg-muted f6 px-3 py-1 my-2"
              data-scope-types="[&quot;owner&quot;,&quot;repository&quot;]"
            data-mode="#"
            data-value="">
            <div class="d-flex flex-items-start flex-justify-between">
              <div>
                <span class="text-bold">Tip:</span>
                  Type is:project to filter to projects
              </div>
              <div class="ml-2 flex-shrink-0">
                Type <kbd class="hx_kbd">?</kbd> for help and tips
              </div>
            </div>
          </command-palette-tip>
          <command-palette-tip
            class="color-fg-muted f6 px-3 py-1 my-2"
              data-scope-types="[&quot;&quot;,&quot;owner&quot;,&quot;repository&quot;]"
            data-mode="#"
            data-value="">
            <div class="d-flex flex-items-start flex-justify-between">
              <div>
                <span class="text-bold">Tip:</span>
                  Type is:open to filter to open content
              </div>
              <div class="ml-2 flex-shrink-0">
                Type <kbd class="hx_kbd">?</kbd> for help and tips
              </div>
            </div>
          </command-palette-tip>
        <command-palette-tip class="mx-3 my-2 flash flash-error d-flex flex-items-center" data-scope-types="*" data-on-error>
          <div>
            <svg aria-hidden="true" height="16" viewBox="0 0 16 16" version="1.1" width="16" data-view-component="true" class="octicon octicon-alert">
    <path d="M6.457 1.047c.659-1.234 2.427-1.234 3.086 0l6.082 11.378A1.75 1.75 0 0 1 14.082 15H1.918a1.75 1.75 0 0 1-1.543-2.575Zm1.763.707a.25.25 0 0 0-.44 0L1.698 13.132a.25.25 0 0 0 .22.368h12.164a.25.25 0 0 0 .22-.368Zm.53 3.996v2.5a.75.75 0 0 1-1.5 0v-2.5a.75.75 0 0 1 1.5 0ZM9 11a1 1 0 1 1-2 0 1 1 0 0 1 2 0Z"></path>
</svg>
          </div>
          <div class="px-2">
            We’ve encountered an error and some results aren't available at this time. Type a new search or try again later.
          </div>
        </command-palette-tip>
        <command-palette-tip class="h4 color-fg-default pl-3 pb-2 pt-3" data-on-empty data-scope-types="*" data-match-mode="[^?]|^$">
          No results matched your search
        </command-palette-tip>

        <div hidden>

            <div data-targets="command-palette-page-stack.localOcticons" data-octicon-id="arrow-right-color-fg-muted">
              <svg height="16" class="octicon octicon-arrow-right color-fg-muted" viewBox="0 0 16 16" version="1.1" width="16" aria-hidden="true"><path d="M8.22 2.97a.75.75 0 0 1 1.06 0l4.25 4.25a.75.75 0 0 1 0 1.06l-4.25 4.25a.751.751 0 0 1-1.042-.018.751.751 0 0 1-.018-1.042l2.97-2.97H3.75a.75.75 0 0 1 0-1.5h7.44L8.22 4.03a.75.75 0 0 1 0-1.06Z"></path></svg>
            </div>
            <div data-targets="command-palette-page-stack.localOcticons" data-octicon-id="arrow-right-color-fg-default">
              <svg height="16" class="octicon octicon-arrow-right color-fg-default" viewBox="0 0 16 16" version="1.1" width="16" aria-hidden="true"><path d="M8.22 2.97a.75.75 0 0 1 1.06 0l4.25 4.25a.75.75 0 0 1 0 1.06l-4.25 4.25a.751.751 0 0 1-1.042-.018.751.751 0 0 1-.018-1.042l2.97-2.97H3.75a.75.75 0 0 1 0-1.5h7.44L8.22 4.03a.75.75 0 0 1 0-1.06Z"></path></svg>
            </div>
            <div data-targets="command-palette-page-stack.localOcticons" data-octicon-id="codespaces-color-fg-muted">
              <svg height="16" class="octicon octicon-codespaces color-fg-muted" viewBox="0 0 16 16" version="1.1" width="16" aria-hidden="true"><path d="M0 11.25c0-.966.784-1.75 1.75-1.75h12.5c.966 0 1.75.784 1.75 1.75v3A1.75 1.75 0 0 1 14.25 16H1.75A1.75 1.75 0 0 1 0 14.25Zm2-9.5C2 .784 2.784 0 3.75 0h8.5C13.216 0 14 .784 14 1.75v5a1.75 1.75 0 0 1-1.75 1.75h-8.5A1.75 1.75 0 0 1 2 6.75Zm1.75-.25a.25.25 0 0 0-.25.25v5c0 .138.112.25.25.25h8.5a.25.25 0 0 0 .25-.25v-5a.25.25 0 0 0-.25-.25Zm-2 9.5a.25.25 0 0 0-.25.25v3c0 .138.112.25.25.25h12.5a.25.25 0 0 0 .25-.25v-3a.25.25 0 0 0-.25-.25Z"></path><path d="M7 12.75a.75.75 0 0 1 .75-.75h4.5a.75.75 0 0 1 0 1.5h-4.5a.75.75 0 0 1-.75-.75Zm-4 0a.75.75 0 0 1 .75-.75h.5a.75.75 0 0 1 0 1.5h-.5a.75.75 0 0 1-.75-.75Z"></path></svg>
            </div>
            <div data-targets="command-palette-page-stack.localOcticons" data-octicon-id="copy-color-fg-muted">
              <svg height="16" class="octicon octicon-copy color-fg-muted" viewBox="0 0 16 16" version="1.1" width="16" aria-hidden="true"><path d="M0 6.75C0 5.784.784 5 1.75 5h1.5a.75.75 0 0 1 0 1.5h-1.5a.25.25 0 0 0-.25.25v7.5c0 .138.112.25.25.25h7.5a.25.25 0 0 0 .25-.25v-1.5a.75.75 0 0 1 1.5 0v1.5A1.75 1.75 0 0 1 9.25 16h-7.5A1.75 1.75 0 0 1 0 14.25Z"></path><path d="M5 1.75C5 .784 5.784 0 6.75 0h7.5C15.216 0 16 .784 16 1.75v7.5A1.75 1.75 0 0 1 14.25 11h-7.5A1.75 1.75 0 0 1 5 9.25Zm1.75-.25a.25.25 0 0 0-.25.25v7.5c0 .138.112.25.25.25h7.5a.25.25 0 0 0 .25-.25v-7.5a.25.25 0 0 0-.25-.25Z"></path></svg>
            </div>
            <div data-targets="command-palette-page-stack.localOcticons" data-octicon-id="dash-color-fg-muted">
              <svg height="16" class="octicon octicon-dash color-fg-muted" viewBox="0 0 16 16" version="1.1" width="16" aria-hidden="true"><path d="M2 7.75A.75.75 0 0 1 2.75 7h10a.75.75 0 0 1 0 1.5h-10A.75.75 0 0 1 2 7.75Z"></path></svg>
            </div>
            <div data-targets="command-palette-page-stack.localOcticons" data-octicon-id="file-color-fg-muted">
              <svg height="16" class="octicon octicon-file color-fg-muted" viewBox="0 0 16 16" version="1.1" width="16" aria-hidden="true"><path d="M2 1.75C2 .784 2.784 0 3.75 0h6.586c.464 0 .909.184 1.237.513l2.914 2.914c.329.328.513.773.513 1.237v9.586A1.75 1.75 0 0 1 13.25 16h-9.5A1.75 1.75 0 0 1 2 14.25Zm1.75-.25a.25.25 0 0 0-.25.25v12.5c0 .138.112.25.25.25h9.5a.25.25 0 0 0 .25-.25V6h-2.75A1.75 1.75 0 0 1 9 4.25V1.5Zm6.75.062V4.25c0 .138.112.25.25.25h2.688l-.011-.013-2.914-2.914-.013-.011Z"></path></svg>
            </div>
            <div data-targets="command-palette-page-stack.localOcticons" data-octicon-id="gear-color-fg-muted">
              <svg height="16" class="octicon octicon-gear color-fg-muted" viewBox="0 0 16 16" version="1.1" width="16" aria-hidden="true"><path d="M8 0a8.2 8.2 0 0 1 .701.031C9.444.095 9.99.645 10.16 1.29l.288 1.107c.018.066.079.158.212.224.231.114.454.243.668.386.123.082.233.09.299.071l1.103-.303c.644-.176 1.392.021 1.82.63.27.385.506.792.704 1.218.315.675.111 1.422-.364 1.891l-.814.806c-.049.048-.098.147-.088.294.016.257.016.515 0 .772-.01.147.038.246.088.294l.814.806c.475.469.679 1.216.364 1.891a7.977 7.977 0 0 1-.704 1.217c-.428.61-1.176.807-1.82.63l-1.102-.302c-.067-.019-.177-.011-.3.071a5.909 5.909 0 0 1-.668.386c-.133.066-.194.158-.211.224l-.29 1.106c-.168.646-.715 1.196-1.458 1.26a8.006 8.006 0 0 1-1.402 0c-.743-.064-1.289-.614-1.458-1.26l-.289-1.106c-.018-.066-.079-.158-.212-.224a5.738 5.738 0 0 1-.668-.386c-.123-.082-.233-.09-.299-.071l-1.103.303c-.644.176-1.392-.021-1.82-.63a8.12 8.12 0 0 1-.704-1.218c-.315-.675-.111-1.422.363-1.891l.815-.806c.05-.048.098-.147.088-.294a6.214 6.214 0 0 1 0-.772c.01-.147-.038-.246-.088-.294l-.815-.806C.635 6.045.431 5.298.746 4.623a7.92 7.92 0 0 1 .704-1.217c.428-.61 1.176-.807 1.82-.63l1.102.302c.067.019.177.011.3-.071.214-.143.437-.272.668-.386.133-.066.194-.158.211-.224l.29-1.106C6.009.645 6.556.095 7.299.03 7.53.01 7.764 0 8 0Zm-.571 1.525c-.036.003-.108.036-.137.146l-.289 1.105c-.147.561-.549.967-.998 1.189-.173.086-.34.183-.5.29-.417.278-.97.423-1.529.27l-1.103-.303c-.109-.03-.175.016-.195.045-.22.312-.412.644-.573.99-.014.031-.021.11.059.19l.815.806c.411.406.562.957.53 1.456a4.709 4.709 0 0 0 0 .582c.032.499-.119 1.05-.53 1.456l-.815.806c-.081.08-.073.159-.059.19.162.346.353.677.573.989.02.03.085.076.195.046l1.102-.303c.56-.153 1.113-.008 1.53.27.161.107.328.204.501.29.447.222.85.629.997 1.189l.289 1.105c.029.109.101.143.137.146a6.6 6.6 0 0 0 1.142 0c.036-.003.108-.036.137-.146l.289-1.105c.147-.561.549-.967.998-1.189.173-.086.34-.183.5-.29.417-.278.97-.423 1.529-.27l1.103.303c.109.029.175-.016.195-.045.22-.313.411-.644.573-.99.014-.031.021-.11-.059-.19l-.815-.806c-.411-.406-.562-.957-.53-1.456a4.709 4.709 0 0 0 0-.582c-.032-.499.119-1.05.53-1.456l.815-.806c.081-.08.073-.159.059-.19a6.464 6.464 0 0 0-.573-.989c-.02-.03-.085-.076-.195-.046l-1.102.303c-.56.153-1.113.008-1.53-.27a4.44 4.44 0 0 0-.501-.29c-.447-.222-.85-.629-.997-1.189l-.289-1.105c-.029-.11-.101-.143-.137-.146a6.6 6.6 0 0 0-1.142 0ZM11 8a3 3 0 1 1-6 0 3 3 0 0 1 6 0ZM9.5 8a1.5 1.5 0 1 0-3.001.001A1.5 1.5 0 0 0 9.5 8Z"></path></svg>
            </div>
            <div data-targets="command-palette-page-stack.localOcticons" data-octicon-id="lock-color-fg-muted">
              <svg height="16" class="octicon octicon-lock color-fg-muted" viewBox="0 0 16 16" version="1.1" width="16" aria-hidden="true"><path d="M4 4a4 4 0 0 1 8 0v2h.25c.966 0 1.75.784 1.75 1.75v5.5A1.75 1.75 0 0 1 12.25 15h-8.5A1.75 1.75 0 0 1 2 13.25v-5.5C2 6.784 2.784 6 3.75 6H4Zm8.25 3.5h-8.5a.25.25 0 0 0-.25.25v5.5c0 .138.112.25.25.25h8.5a.25.25 0 0 0 .25-.25v-5.5a.25.25 0 0 0-.25-.25ZM10.5 6V4a2.5 2.5 0 1 0-5 0v2Z"></path></svg>
            </div>
            <div data-targets="command-palette-page-stack.localOcticons" data-octicon-id="moon-color-fg-muted">
              <svg height="16" class="octicon octicon-moon color-fg-muted" viewBox="0 0 16 16" version="1.1" width="16" aria-hidden="true"><path d="M9.598 1.591a.749.749 0 0 1 .785-.175 7.001 7.001 0 1 1-8.967 8.967.75.75 0 0 1 .961-.96 5.5 5.5 0 0 0 7.046-7.046.75.75 0 0 1 .175-.786Zm1.616 1.945a7 7 0 0 1-7.678 7.678 5.499 5.499 0 1 0 7.678-7.678Z"></path></svg>
            </div>
            <div data-targets="command-palette-page-stack.localOcticons" data-octicon-id="person-color-fg-muted">
              <svg height="16" class="octicon octicon-person color-fg-muted" viewBox="0 0 16 16" version="1.1" width="16" aria-hidden="true"><path d="M10.561 8.073a6.005 6.005 0 0 1 3.432 5.142.75.75 0 1 1-1.498.07 4.5 4.5 0 0 0-8.99 0 .75.75 0 0 1-1.498-.07 6.004 6.004 0 0 1 3.431-5.142 3.999 3.999 0 1 1 5.123 0ZM10.5 5a2.5 2.5 0 1 0-5 0 2.5 2.5 0 0 0 5 0Z"></path></svg>
            </div>
            <div data-targets="command-palette-page-stack.localOcticons" data-octicon-id="pencil-color-fg-muted">
              <svg height="16" class="octicon octicon-pencil color-fg-muted" viewBox="0 0 16 16" version="1.1" width="16" aria-hidden="true"><path d="M11.013 1.427a1.75 1.75 0 0 1 2.474 0l1.086 1.086a1.75 1.75 0 0 1 0 2.474l-8.61 8.61c-.21.21-.47.364-.756.445l-3.251.93a.75.75 0 0 1-.927-.928l.929-3.25c.081-.286.235-.547.445-.758l8.61-8.61Zm.176 4.823L9.75 4.81l-6.286 6.287a.253.253 0 0 0-.064.108l-.558 1.953 1.953-.558a.253.253 0 0 0 .108-.064Zm1.238-3.763a.25.25 0 0 0-.354 0L10.811 3.75l1.439 1.44 1.263-1.263a.25.25 0 0 0 0-.354Z"></path></svg>
            </div>
            <div data-targets="command-palette-page-stack.localOcticons" data-octicon-id="issue-opened-open">
              <svg height="16" class="octicon octicon-issue-opened open" viewBox="0 0 16 16" version="1.1" width="16" aria-hidden="true"><path d="M8 9.5a1.5 1.5 0 1 0 0-3 1.5 1.5 0 0 0 0 3Z"></path><path d="M8 0a8 8 0 1 1 0 16A8 8 0 0 1 8 0ZM1.5 8a6.5 6.5 0 1 0 13 0 6.5 6.5 0 0 0-13 0Z"></path></svg>
            </div>
            <div data-targets="command-palette-page-stack.localOcticons" data-octicon-id="git-pull-request-draft-color-fg-muted">
              <svg height="16" class="octicon octicon-git-pull-request-draft color-fg-muted" viewBox="0 0 16 16" version="1.1" width="16" aria-hidden="true"><path d="M3.25 1A2.25 2.25 0 0 1 4 5.372v5.256a2.251 2.251 0 1 1-1.5 0V5.372A2.251 2.251 0 0 1 3.25 1Zm9.5 14a2.25 2.25 0 1 1 0-4.5 2.25 2.25 0 0 1 0 4.5ZM2.5 3.25a.75.75 0 1 0 1.5 0 .75.75 0 0 0-1.5 0ZM3.25 12a.75.75 0 1 0 0 1.5.75.75 0 0 0 0-1.5Zm9.5 0a.75.75 0 1 0 0 1.5.75.75 0 0 0 0-1.5ZM14 7.5a1.25 1.25 0 1 1-2.5 0 1.25 1.25 0 0 1 2.5 0Zm0-4.25a1.25 1.25 0 1 1-2.5 0 1.25 1.25 0 0 1 2.5 0Z"></path></svg>
            </div>
            <div data-targets="command-palette-page-stack.localOcticons" data-octicon-id="search-color-fg-muted">
              <svg height="16" class="octicon octicon-search color-fg-muted" viewBox="0 0 16 16" version="1.1" width="16" aria-hidden="true"><path d="M10.68 11.74a6 6 0 0 1-7.922-8.982 6 6 0 0 1 8.982 7.922l3.04 3.04a.749.749 0 0 1-.326 1.275.749.749 0 0 1-.734-.215ZM11.5 7a4.499 4.499 0 1 0-8.997 0A4.499 4.499 0 0 0 11.5 7Z"></path></svg>
            </div>
            <div data-targets="command-palette-page-stack.localOcticons" data-octicon-id="sun-color-fg-muted">
              <svg height="16" class="octicon octicon-sun color-fg-muted" viewBox="0 0 16 16" version="1.1" width="16" aria-hidden="true"><path d="M8 12a4 4 0 1 1 0-8 4 4 0 0 1 0 8Zm0-1.5a2.5 2.5 0 1 0 0-5 2.5 2.5 0 0 0 0 5Zm5.657-8.157a.75.75 0 0 1 0 1.061l-1.061 1.06a.749.749 0 0 1-1.275-.326.749.749 0 0 1 .215-.734l1.06-1.06a.75.75 0 0 1 1.06 0Zm-9.193 9.193a.75.75 0 0 1 0 1.06l-1.06 1.061a.75.75 0 1 1-1.061-1.06l1.06-1.061a.75.75 0 0 1 1.061 0ZM8 0a.75.75 0 0 1 .75.75v1.5a.75.75 0 0 1-1.5 0V.75A.75.75 0 0 1 8 0ZM3 8a.75.75 0 0 1-.75.75H.75a.75.75 0 0 1 0-1.5h1.5A.75.75 0 0 1 3 8Zm13 0a.75.75 0 0 1-.75.75h-1.5a.75.75 0 0 1 0-1.5h1.5A.75.75 0 0 1 16 8Zm-8 5a.75.75 0 0 1 .75.75v1.5a.75.75 0 0 1-1.5 0v-1.5A.75.75 0 0 1 8 13Zm3.536-1.464a.75.75 0 0 1 1.06 0l1.061 1.06a.75.75 0 0 1-1.06 1.061l-1.061-1.06a.75.75 0 0 1 0-1.061ZM2.343 2.343a.75.75 0 0 1 1.061 0l1.06 1.061a.751.751 0 0 1-.018 1.042.751.751 0 0 1-1.042.018l-1.06-1.06a.75.75 0 0 1 0-1.06Z"></path></svg>
            </div>
            <div data-targets="command-palette-page-stack.localOcticons" data-octicon-id="sync-color-fg-muted">
              <svg height="16" class="octicon octicon-sync color-fg-muted" viewBox="0 0 16 16" version="1.1" width="16" aria-hidden="true"><path d="M1.705 8.005a.75.75 0 0 1 .834.656 5.5 5.5 0 0 0 9.592 2.97l-1.204-1.204a.25.25 0 0 1 .177-.427h3.646a.25.25 0 0 1 .25.25v3.646a.25.25 0 0 1-.427.177l-1.38-1.38A7.002 7.002 0 0 1 1.05 8.84a.75.75 0 0 1 .656-.834ZM8 2.5a5.487 5.487 0 0 0-4.131 1.869l1.204 1.204A.25.25 0 0 1 4.896 6H1.25A.25.25 0 0 1 1 5.75V2.104a.25.25 0 0 1 .427-.177l1.38 1.38A7.002 7.002 0 0 1 14.95 7.16a.75.75 0 0 1-1.49.178A5.5 5.5 0 0 0 8 2.5Z"></path></svg>
            </div>
            <div data-targets="command-palette-page-stack.localOcticons" data-octicon-id="trash-color-fg-muted">
              <svg height="16" class="octicon octicon-trash color-fg-muted" viewBox="0 0 16 16" version="1.1" width="16" aria-hidden="true"><path d="M11 1.75V3h2.25a.75.75 0 0 1 0 1.5H2.75a.75.75 0 0 1 0-1.5H5V1.75C5 .784 5.784 0 6.75 0h2.5C10.216 0 11 .784 11 1.75ZM4.496 6.675l.66 6.6a.25.25 0 0 0 .249.225h5.19a.25.25 0 0 0 .249-.225l.66-6.6a.75.75 0 0 1 1.492.149l-.66 6.6A1.748 1.748 0 0 1 10.595 15h-5.19a1.75 1.75 0 0 1-1.741-1.575l-.66-6.6a.75.75 0 1 1 1.492-.15ZM6.5 1.75V3h3V1.75a.25.25 0 0 0-.25-.25h-2.5a.25.25 0 0 0-.25.25Z"></path></svg>
            </div>
            <div data-targets="command-palette-page-stack.localOcticons" data-octicon-id="key-color-fg-muted">
              <svg height="16" class="octicon octicon-key color-fg-muted" viewBox="0 0 16 16" version="1.1" width="16" aria-hidden="true"><path d="M10.5 0a5.499 5.499 0 1 1-1.288 10.848l-.932.932a.749.749 0 0 1-.53.22H7v.75a.749.749 0 0 1-.22.53l-.5.5a.749.749 0 0 1-.53.22H5v.75a.749.749 0 0 1-.22.53l-.5.5a.749.749 0 0 1-.53.22h-2A1.75 1.75 0 0 1 0 14.25v-2c0-.199.079-.389.22-.53l4.932-4.932A5.5 5.5 0 0 1 10.5 0Zm-4 5.5c-.001.431.069.86.205 1.269a.75.75 0 0 1-.181.768L1.5 12.56v1.69c0 .138.112.25.25.25h1.69l.06-.06v-1.19a.75.75 0 0 1 .75-.75h1.19l.06-.06v-1.19a.75.75 0 0 1 .75-.75h1.19l1.023-1.025a.75.75 0 0 1 .768-.18A4 4 0 1 0 6.5 5.5ZM11 6a1 1 0 1 1 0-2 1 1 0 0 1 0 2Z"></path></svg>
            </div>
            <div data-targets="command-palette-page-stack.localOcticons" data-octicon-id="comment-discussion-color-fg-muted">
              <svg height="16" class="octicon octicon-comment-discussion color-fg-muted" viewBox="0 0 16 16" version="1.1" width="16" aria-hidden="true"><path d="M1.75 1h8.5c.966 0 1.75.784 1.75 1.75v5.5A1.75 1.75 0 0 1 10.25 10H7.061l-2.574 2.573A1.458 1.458 0 0 1 2 11.543V10h-.25A1.75 1.75 0 0 1 0 8.25v-5.5C0 1.784.784 1 1.75 1ZM1.5 2.75v5.5c0 .138.112.25.25.25h1a.75.75 0 0 1 .75.75v2.19l2.72-2.72a.749.749 0 0 1 .53-.22h3.5a.25.25 0 0 0 .25-.25v-5.5a.25.25 0 0 0-.25-.25h-8.5a.25.25 0 0 0-.25.25Zm13 2a.25.25 0 0 0-.25-.25h-.5a.75.75 0 0 1 0-1.5h.5c.966 0 1.75.784 1.75 1.75v5.5A1.75 1.75 0 0 1 14.25 12H14v1.543a1.458 1.458 0 0 1-2.487 1.03L9.22 12.28a.749.749 0 0 1 .326-1.275.749.749 0 0 1 .734.215l2.22 2.22v-2.19a.75.75 0 0 1 .75-.75h1a.25.25 0 0 0 .25-.25Z"></path></svg>
            </div>
            <div data-targets="command-palette-page-stack.localOcticons" data-octicon-id="bell-color-fg-muted">
              <svg height="16" class="octicon octicon-bell color-fg-muted" viewBox="0 0 16 16" version="1.1" width="16" aria-hidden="true"><path d="M8 16a2 2 0 0 0 1.985-1.75c.017-.137-.097-.25-.235-.25h-3.5c-.138 0-.252.113-.235.25A2 2 0 0 0 8 16ZM3 5a5 5 0 0 1 10 0v2.947c0 .05.015.098.042.139l1.703 2.555A1.519 1.519 0 0 1 13.482 13H2.518a1.516 1.516 0 0 1-1.263-2.36l1.703-2.554A.255.255 0 0 0 3 7.947Zm5-3.5A3.5 3.5 0 0 0 4.5 5v2.947c0 .346-.102.683-.294.97l-1.703 2.556a.017.017 0 0 0-.003.01l.001.006c0 .002.002.004.004.006l.006.004.007.001h10.964l.007-.001.006-.004.004-.006.001-.007a.017.017 0 0 0-.003-.01l-1.703-2.554a1.745 1.745 0 0 1-.294-.97V5A3.5 3.5 0 0 0 8 1.5Z"></path></svg>
            </div>
            <div data-targets="command-palette-page-stack.localOcticons" data-octicon-id="bell-slash-color-fg-muted">
              <svg height="16" class="octicon octicon-bell-slash color-fg-muted" viewBox="0 0 16 16" version="1.1" width="16" aria-hidden="true"><path d="m4.182 4.31.016.011 10.104 7.316.013.01 1.375.996a.75.75 0 1 1-.88 1.214L13.626 13H2.518a1.516 1.516 0 0 1-1.263-2.36l1.703-2.554A.255.255 0 0 0 3 7.947V5.305L.31 3.357a.75.75 0 1 1 .88-1.214Zm7.373 7.19L4.5 6.391v1.556c0 .346-.102.683-.294.97l-1.703 2.556a.017.017 0 0 0-.003.01c0 .005.002.009.005.012l.006.004.007.001ZM8 1.5c-.997 0-1.895.416-2.534 1.086A.75.75 0 1 1 4.38 1.55 5 5 0 0 1 13 5v2.373a.75.75 0 0 1-1.5 0V5A3.5 3.5 0 0 0 8 1.5ZM8 16a2 2 0 0 1-1.985-1.75c-.017-.137.097-.25.235-.25h3.5c.138 0 .252.113.235.25A2 2 0 0 1 8 16Z"></path></svg>
            </div>
            <div data-targets="command-palette-page-stack.localOcticons" data-octicon-id="paintbrush-color-fg-muted">
              <svg height="16" class="octicon octicon-paintbrush color-fg-muted" viewBox="0 0 16 16" version="1.1" width="16" aria-hidden="true"><path d="M11.134 1.535c.7-.509 1.416-.942 2.076-1.155.649-.21 1.463-.267 2.069.34.603.601.568 1.411.368 2.07-.202.668-.624 1.39-1.125 2.096-1.011 1.424-2.496 2.987-3.775 4.249-1.098 1.084-2.132 1.839-3.04 2.3a3.744 3.744 0 0 1-1.055 3.217c-.431.431-1.065.691-1.657.861-.614.177-1.294.287-1.914.357A21.151 21.151 0 0 1 .797 16H.743l.007-.75H.749L.742 16a.75.75 0 0 1-.743-.742l.743-.008-.742.007v-.054a21.25 21.25 0 0 1 .13-2.284c.067-.647.187-1.287.358-1.914.17-.591.43-1.226.86-1.657a3.746 3.746 0 0 1 3.227-1.054c.466-.893 1.225-1.907 2.314-2.982 1.271-1.255 2.833-2.75 4.245-3.777ZM1.62 13.089c-.051.464-.086.929-.104 1.395.466-.018.932-.053 1.396-.104a10.511 10.511 0 0 0 1.668-.309c.526-.151.856-.325 1.011-.48a2.25 2.25 0 1 0-3.182-3.182c-.155.155-.329.485-.48 1.01a10.515 10.515 0 0 0-.309 1.67Zm10.396-10.34c-1.224.89-2.605 2.189-3.822 3.384l1.718 1.718c1.21-1.205 2.51-2.597 3.387-3.833.47-.662.78-1.227.912-1.662.134-.444.032-.551.009-.575h-.001V1.78c-.014-.014-.113-.113-.548.027-.432.14-.995.462-1.655.942Zm-4.832 7.266-.001.001a9.859 9.859 0 0 0 1.63-1.142L7.155 7.216a9.7 9.7 0 0 0-1.161 1.607c.482.302.889.71 1.19 1.192Z"></path></svg>
            </div>

            <command-palette-item-group
              data-group-id="top"
              data-group-title="Top result"
              data-group-hint=""
              data-group-limits="{}"
              data-default-priority="0"
            >
            </command-palette-item-group>
            <command-palette-item-group
              data-group-id="commands"
              data-group-title="Commands"
              data-group-hint="Type &gt; to filter"
              data-group-limits="{&quot;static_items_page&quot;:50,&quot;issue&quot;:50,&quot;pull_request&quot;:50,&quot;discussion&quot;:50}"
              data-default-priority="1"
            >
            </command-palette-item-group>
            <command-palette-item-group
              data-group-id="global_commands"
              data-group-title="Global Commands"
              data-group-hint="Type &gt; to filter"
              data-group-limits="{&quot;issue&quot;:0,&quot;pull_request&quot;:0,&quot;discussion&quot;:0}"
              data-default-priority="2"
            >
            </command-palette-item-group>
            <command-palette-item-group
              data-group-id="this_page"
              data-group-title="This Page"
              data-group-hint=""
              data-group-limits="{}"
              data-default-priority="3"
            >
            </command-palette-item-group>
            <command-palette-item-group
              data-group-id="files"
              data-group-title="Files"
              data-group-hint=""
              data-group-limits="{}"
              data-default-priority="4"
            >
            </command-palette-item-group>
            <command-palette-item-group
              data-group-id="default"
              data-group-title="Default"
              data-group-hint=""
              data-group-limits="{&quot;static_items_page&quot;:50}"
              data-default-priority="5"
            >
            </command-palette-item-group>
            <command-palette-item-group
              data-group-id="pages"
              data-group-title="Pages"
              data-group-hint=""
              data-group-limits="{&quot;repository&quot;:10}"
              data-default-priority="6"
            >
            </command-palette-item-group>
            <command-palette-item-group
              data-group-id="access_policies"
              data-group-title="Access Policies"
              data-group-hint=""
              data-group-limits="{}"
              data-default-priority="7"
            >
            </command-palette-item-group>
            <command-palette-item-group
              data-group-id="organizations"
              data-group-title="Organizations"
              data-group-hint=""
              data-group-limits="{}"
              data-default-priority="8"
            >
            </command-palette-item-group>
            <command-palette-item-group
              data-group-id="repositories"
              data-group-title="Repositories"
              data-group-hint=""
              data-group-limits="{}"
              data-default-priority="9"
            >
            </command-palette-item-group>
            <command-palette-item-group
              data-group-id="references"
              data-group-title="Issues, pull requests, and discussions"
              data-group-hint="Type # to filter"
              data-group-limits="{}"
              data-default-priority="10"
            >
            </command-palette-item-group>
            <command-palette-item-group
              data-group-id="teams"
              data-group-title="Teams"
              data-group-hint=""
              data-group-limits="{}"
              data-default-priority="11"
            >
            </command-palette-item-group>
            <command-palette-item-group
              data-group-id="users"
              data-group-title="Users"
              data-group-hint=""
              data-group-limits="{}"
              data-default-priority="12"
            >
            </command-palette-item-group>
            <command-palette-item-group
              data-group-id="memex_projects"
              data-group-title="Projects"
              data-group-hint=""
              data-group-limits="{}"
              data-default-priority="13"
            >
            </command-palette-item-group>
            <command-palette-item-group
              data-group-id="projects"
              data-group-title="Projects (classic)"
              data-group-hint=""
              data-group-limits="{}"
              data-default-priority="14"
            >
            </command-palette-item-group>
            <command-palette-item-group
              data-group-id="footer"
              data-group-title="Footer"
              data-group-hint=""
              data-group-limits="{}"
              data-default-priority="15"
            >
            </command-palette-item-group>
            <command-palette-item-group
              data-group-id="modes_help"
              data-group-title="Modes"
              data-group-hint=""
              data-group-limits="{}"
              data-default-priority="16"
            >
            </command-palette-item-group>
            <command-palette-item-group
              data-group-id="filters_help"
              data-group-title="Use filters in issues, pull requests, discussions, and projects"
              data-group-hint=""
              data-group-limits="{}"
              data-default-priority="17"
            >
            </command-palette-item-group>

            <command-palette-page
              data-page-title="asrenninger"
              data-scope-id="MDQ6VXNlcjQ3MjI2OTQ5"
              data-scope-type="owner"
              data-targets="command-palette-page-stack.defaultPages"
              hidden
            >
            </command-palette-page>
            <command-palette-page
              data-page-title="urbansim"
              data-scope-id="R_kgDOJIEnTg"
              data-scope-type="repository"
              data-targets="command-palette-page-stack.defaultPages"
              hidden
            >
            </command-palette-page>
        </div>

        <command-palette-page data-is-root>
        </command-palette-page>
          <command-palette-page
            data-page-title="asrenninger"
            data-scope-id="MDQ6VXNlcjQ3MjI2OTQ5"
            data-scope-type="owner"
          >
          </command-palette-page>
          <command-palette-page
            data-page-title="urbansim"
            data-scope-id="R_kgDOJIEnTg"
            data-scope-type="repository"
          >
          </command-palette-page>
      </command-palette-page-stack>

      <server-defined-provider data-type="search-links" data-targets="command-palette.serverDefinedProviderElements"></server-defined-provider>
      <server-defined-provider data-type="help" data-targets="command-palette.serverDefinedProviderElements">
          <command-palette-help
            data-group="modes_help"
              data-prefix="#"
              data-scope-types="[&quot;&quot;]"
          >
            <span data-target="command-palette-help.titleElement">Search for <strong>issues</strong> and <strong>pull requests</strong></span>
              <span data-target="command-palette-help.hintElement">
                <kbd class="hx_kbd">#</kbd>
              </span>
          </command-palette-help>
          <command-palette-help
            data-group="modes_help"
              data-prefix="#"
              data-scope-types="[&quot;owner&quot;,&quot;repository&quot;]"
          >
            <span data-target="command-palette-help.titleElement">Search for <strong>issues, pull requests, discussions,</strong> and <strong>projects</strong></span>
              <span data-target="command-palette-help.hintElement">
                <kbd class="hx_kbd">#</kbd>
              </span>
          </command-palette-help>
          <command-palette-help
            data-group="modes_help"
              data-prefix="@"
              data-scope-types="[&quot;&quot;]"
          >
            <span data-target="command-palette-help.titleElement">Search for <strong>organizations, repositories,</strong> and <strong>users</strong></span>
              <span data-target="command-palette-help.hintElement">
                <kbd class="hx_kbd">@</kbd>
              </span>
          </command-palette-help>
          <command-palette-help
            data-group="modes_help"
              data-prefix="!"
              data-scope-types="[&quot;owner&quot;,&quot;repository&quot;]"
          >
            <span data-target="command-palette-help.titleElement">Search for <strong>projects</strong></span>
              <span data-target="command-palette-help.hintElement">
                <kbd class="hx_kbd">!</kbd>
              </span>
          </command-palette-help>
          <command-palette-help
            data-group="modes_help"
              data-prefix="/"
              data-scope-types="[&quot;repository&quot;]"
          >
            <span data-target="command-palette-help.titleElement">Search for <strong>files</strong></span>
              <span data-target="command-palette-help.hintElement">
                <kbd class="hx_kbd">/</kbd>
              </span>
          </command-palette-help>
          <command-palette-help
            data-group="modes_help"
              data-prefix="&gt;"
          >
            <span data-target="command-palette-help.titleElement">Activate <strong>command mode</strong></span>
              <span data-target="command-palette-help.hintElement">
                <kbd class="hx_kbd">&gt;</kbd>
              </span>
          </command-palette-help>
          <command-palette-help
            data-group="filters_help"
              data-prefix="# author:@me"
          >
            <span data-target="command-palette-help.titleElement">Search your issues, pull requests, and discussions</span>
              <span data-target="command-palette-help.hintElement">
                <kbd class="hx_kbd"># author:@me</kbd>
              </span>
          </command-palette-help>
          <command-palette-help
            data-group="filters_help"
              data-prefix="# author:@me"
          >
            <span data-target="command-palette-help.titleElement">Search your issues, pull requests, and discussions</span>
              <span data-target="command-palette-help.hintElement">
                <kbd class="hx_kbd"># author:@me</kbd>
              </span>
          </command-palette-help>
          <command-palette-help
            data-group="filters_help"
              data-prefix="# is:pr"
          >
            <span data-target="command-palette-help.titleElement">Filter to pull requests</span>
              <span data-target="command-palette-help.hintElement">
                <kbd class="hx_kbd"># is:pr</kbd>
              </span>
          </command-palette-help>
          <command-palette-help
            data-group="filters_help"
              data-prefix="# is:issue"
          >
            <span data-target="command-palette-help.titleElement">Filter to issues</span>
              <span data-target="command-palette-help.hintElement">
                <kbd class="hx_kbd"># is:issue</kbd>
              </span>
          </command-palette-help>
          <command-palette-help
            data-group="filters_help"
              data-prefix="# is:discussion"
              data-scope-types="[&quot;owner&quot;,&quot;repository&quot;]"
          >
            <span data-target="command-palette-help.titleElement">Filter to discussions</span>
              <span data-target="command-palette-help.hintElement">
                <kbd class="hx_kbd"># is:discussion</kbd>
              </span>
          </command-palette-help>
          <command-palette-help
            data-group="filters_help"
              data-prefix="# is:project"
              data-scope-types="[&quot;owner&quot;,&quot;repository&quot;]"
          >
            <span data-target="command-palette-help.titleElement">Filter to projects</span>
              <span data-target="command-palette-help.hintElement">
                <kbd class="hx_kbd"># is:project</kbd>
              </span>
          </command-palette-help>
          <command-palette-help
            data-group="filters_help"
              data-prefix="# is:open"
          >
            <span data-target="command-palette-help.titleElement">Filter to open issues, pull requests, and discussions</span>
              <span data-target="command-palette-help.hintElement">
                <kbd class="hx_kbd"># is:open</kbd>
              </span>
          </command-palette-help>
      </server-defined-provider>

        <server-defined-provider
          data-type="commands"
          data-fetch-debounce="0"
            data-src="/command_palette/commands"
          data-supported-modes="[]"
            data-supports-commands
          
          data-targets="command-palette.serverDefinedProviderElements"
          ></server-defined-provider>
        <server-defined-provider
          data-type="prefetched"
          data-fetch-debounce="0"
            data-src="/command_palette/jump_to_page_navigation"
          data-supported-modes="[&quot;&quot;]"
            data-supported-scope-types="[&quot;&quot;,&quot;owner&quot;,&quot;repository&quot;]"
          
          data-targets="command-palette.serverDefinedProviderElements"
          ></server-defined-provider>
        <server-defined-provider
          data-type="remote"
          data-fetch-debounce="200"
            data-src="/command_palette/issues"
          data-supported-modes="[&quot;#&quot;,&quot;#&quot;]"
            data-supported-scope-types="[&quot;owner&quot;,&quot;repository&quot;,&quot;&quot;]"
          
          data-targets="command-palette.serverDefinedProviderElements"
          ></server-defined-provider>
        <server-defined-provider
          data-type="remote"
          data-fetch-debounce="200"
            data-src="/command_palette/jump_to"
          data-supported-modes="[&quot;@&quot;,&quot;@&quot;]"
            data-supported-scope-types="[&quot;&quot;,&quot;owner&quot;]"
          
          data-targets="command-palette.serverDefinedProviderElements"
          ></server-defined-provider>
        <server-defined-provider
          data-type="remote"
          data-fetch-debounce="200"
            data-src="/command_palette/jump_to_members_only"
          data-supported-modes="[&quot;@&quot;,&quot;@&quot;,&quot;&quot;,&quot;&quot;]"
            data-supported-scope-types="[&quot;&quot;,&quot;owner&quot;]"
          
          data-targets="command-palette.serverDefinedProviderElements"
          ></server-defined-provider>
        <server-defined-provider
          data-type="prefetched"
          data-fetch-debounce="0"
            data-src="/command_palette/jump_to_members_only_prefetched"
          data-supported-modes="[&quot;@&quot;,&quot;@&quot;,&quot;&quot;,&quot;&quot;]"
            data-supported-scope-types="[&quot;&quot;,&quot;owner&quot;]"
          
          data-targets="command-palette.serverDefinedProviderElements"
          ></server-defined-provider>
        <server-defined-provider
          data-type="files"
          data-fetch-debounce="0"
            data-src="/command_palette/files"
          data-supported-modes="[&quot;/&quot;]"
            data-supported-scope-types="[&quot;repository&quot;]"
          
          data-targets="command-palette.serverDefinedProviderElements"
          ></server-defined-provider>
        <server-defined-provider
          data-type="remote"
          data-fetch-debounce="200"
            data-src="/command_palette/discussions"
          data-supported-modes="[&quot;#&quot;]"
            data-supported-scope-types="[&quot;owner&quot;,&quot;repository&quot;]"
          
          data-targets="command-palette.serverDefinedProviderElements"
          ></server-defined-provider>
        <server-defined-provider
          data-type="remote"
          data-fetch-debounce="200"
            data-src="/command_palette/projects"
          data-supported-modes="[&quot;#&quot;,&quot;!&quot;]"
            data-supported-scope-types="[&quot;owner&quot;,&quot;repository&quot;]"
          
          data-targets="command-palette.serverDefinedProviderElements"
          ></server-defined-provider>
        <server-defined-provider
          data-type="prefetched"
          data-fetch-debounce="0"
            data-src="/command_palette/recent_issues"
          data-supported-modes="[&quot;#&quot;,&quot;#&quot;]"
            data-supported-scope-types="[&quot;owner&quot;,&quot;repository&quot;,&quot;&quot;]"
          
          data-targets="command-palette.serverDefinedProviderElements"
          ></server-defined-provider>
        <server-defined-provider
          data-type="remote"
          data-fetch-debounce="200"
            data-src="/command_palette/teams"
          data-supported-modes="[&quot;@&quot;,&quot;&quot;]"
            data-supported-scope-types="[&quot;owner&quot;]"
          
          data-targets="command-palette.serverDefinedProviderElements"
          ></server-defined-provider>
        <server-defined-provider
          data-type="remote"
          data-fetch-debounce="200"
            data-src="/command_palette/name_with_owner_repository"
          data-supported-modes="[&quot;@&quot;,&quot;@&quot;,&quot;&quot;,&quot;&quot;]"
            data-supported-scope-types="[&quot;&quot;,&quot;owner&quot;]"
          
          data-targets="command-palette.serverDefinedProviderElements"
          ></server-defined-provider>
    </command-palette>
  </details-dialog>
</details>

<div class="position-fixed bottom-0 left-0 ml-5 mb-5 js-command-palette-toasts" style="z-index: 1000">
  <div hidden class="Toast Toast--loading">
    <span class="Toast-icon">
      <svg class="Toast--spinner" viewBox="0 0 32 32" width="18" height="18" aria-hidden="true">
        <path
          fill="#959da5"
          d="M16 0 A16 16 0 0 0 16 32 A16 16 0 0 0 16 0 M16 4 A12 12 0 0 1 16 28 A12 12 0 0 1 16 4"
        />
        <path fill="#ffffff" d="M16 0 A16 16 0 0 1 32 16 L28 16 A12 12 0 0 0 16 4z"></path>
      </svg>
    </span>
    <span class="Toast-content"></span>
  </div>

  <div hidden class="anim-fade-in fast Toast Toast--error">
    <span class="Toast-icon">
      <svg aria-hidden="true" height="16" viewBox="0 0 16 16" version="1.1" width="16" data-view-component="true" class="octicon octicon-stop">
    <path d="M4.47.22A.749.749 0 0 1 5 0h6c.199 0 .389.079.53.22l4.25 4.25c.141.14.22.331.22.53v6a.749.749 0 0 1-.22.53l-4.25 4.25A.749.749 0 0 1 11 16H5a.749.749 0 0 1-.53-.22L.22 11.53A.749.749 0 0 1 0 11V5c0-.199.079-.389.22-.53Zm.84 1.28L1.5 5.31v5.38l3.81 3.81h5.38l3.81-3.81V5.31L10.69 1.5ZM8 4a.75.75 0 0 1 .75.75v3.5a.75.75 0 0 1-1.5 0v-3.5A.75.75 0 0 1 8 4Zm0 8a1 1 0 1 1 0-2 1 1 0 0 1 0 2Z"></path>
</svg>
    </span>
    <span class="Toast-content"></span>
  </div>

  <div hidden class="anim-fade-in fast Toast Toast--warning">
    <span class="Toast-icon">
      <svg aria-hidden="true" height="16" viewBox="0 0 16 16" version="1.1" width="16" data-view-component="true" class="octicon octicon-alert">
    <path d="M6.457 1.047c.659-1.234 2.427-1.234 3.086 0l6.082 11.378A1.75 1.75 0 0 1 14.082 15H1.918a1.75 1.75 0 0 1-1.543-2.575Zm1.763.707a.25.25 0 0 0-.44 0L1.698 13.132a.25.25 0 0 0 .22.368h12.164a.25.25 0 0 0 .22-.368Zm.53 3.996v2.5a.75.75 0 0 1-1.5 0v-2.5a.75.75 0 0 1 1.5 0ZM9 11a1 1 0 1 1-2 0 1 1 0 0 1 2 0Z"></path>
</svg>
    </span>
    <span class="Toast-content"></span>
  </div>


  <div hidden class="anim-fade-in fast Toast Toast--success">
    <span class="Toast-icon">
      <svg aria-hidden="true" height="16" viewBox="0 0 16 16" version="1.1" width="16" data-view-component="true" class="octicon octicon-check">
    <path d="M13.78 4.22a.75.75 0 0 1 0 1.06l-7.25 7.25a.75.75 0 0 1-1.06 0L2.22 9.28a.751.751 0 0 1 .018-1.042.751.751 0 0 1 1.042-.018L6 10.94l6.72-6.72a.75.75 0 0 1 1.06 0Z"></path>
</svg>
    </span>
    <span class="Toast-content"></span>
  </div>

  <div hidden class="anim-fade-in fast Toast">
    <span class="Toast-icon">
      <svg aria-hidden="true" height="16" viewBox="0 0 16 16" version="1.1" width="16" data-view-component="true" class="octicon octicon-info">
    <path d="M0 8a8 8 0 1 1 16 0A8 8 0 0 1 0 8Zm8-6.5a6.5 6.5 0 1 0 0 13 6.5 6.5 0 0 0 0-13ZM6.5 7.75A.75.75 0 0 1 7.25 7h1a.75.75 0 0 1 .75.75v2.75h.25a.75.75 0 0 1 0 1.5h-2a.75.75 0 0 1 0-1.5h.25v-2h-.25a.75.75 0 0 1-.75-.75ZM8 6a1 1 0 1 1 0-2 1 1 0 0 1 0 2Z"></path>
</svg>
    </span>
    <span class="Toast-content"></span>
  </div>
</div>


  <div
    class="application-main "
    data-commit-hovercards-enabled
    data-discussion-hovercards-enabled
    data-issue-and-pr-hovercards-enabled
  >
        <div itemscope itemtype="http://schema.org/SoftwareSourceCode" class="">
    <main id="js-repo-pjax-container" >
      
      






    
  <div id="repository-container-header" data-turbo-replace hidden></div>




<turbo-frame id="repo-content-turbo-frame" target="_top" data-turbo-action="advance" class="">
    <div id="repo-content-pjax-container" class="repository-content " >
      <a href="https://github.dev/" class="d-none js-github-dev-shortcut" data-hotkey=".,Mod+Alt+.">Open in github.dev</a>
  <a href="https://github.dev/" class="d-none js-github-dev-new-tab-shortcut" data-hotkey="Shift+.,Shift+&gt;,&gt;" target="_blank" rel="noopener noreferrer">Open in a new github.dev tab</a>
    <a class="d-none" data-hotkey=",,Mod+Alt+," target="_blank" href="/codespaces/new/asrenninger/urbansim/tree/main?resume=1">Open in codespace</a>



    
      
    





<react-app
  app-name="react-code-view"
  initial-path="/asrenninger/urbansim/blob/main/automl/automl.ipynb"
  style="min-height: calc(100vh - 64px)" 
  data-ssr="true"
  data-lazy="false"
  data-alternate="false"
>
  
  <script type="application/json" data-target="react-app.embeddedData">{"payload":{"allShortcutsEnabled":true,"fileTree":{"automl":{"items":[{"name":"automl.ipynb","path":"automl/automl.ipynb","contentType":"file"},{"name":"migration.csv.gz","path":"automl/migration.csv.gz","contentType":"file"}],"totalCount":2},"":{"items":[{"name":"automl","path":"automl","contentType":"directory"},{"name":"images","path":"images","contentType":"directory"},{"name":"streets","path":"streets","contentType":"directory"},{"name":"README.md","path":"README.md","contentType":"file"}],"totalCount":4}},"fileTreeProcessingTime":3.140072,"foldersToFetch":[],"reducedMotionEnabled":"system","repo":{"id":612443982,"defaultBranch":"main","name":"urbansim","ownerLogin":"asrenninger","currentUserCanPush":true,"isFork":false,"isEmpty":false,"createdAt":"2023-03-11T00:56:49.000+00:00","ownerAvatar":"https://avatars.githubusercontent.com/u/47226949?v=4","public":true,"private":false,"isOrgOwned":false},"symbolsExpanded":true,"treeExpanded":true,"refInfo":{"name":"main","listCacheKey":"v0:1707211928.0","canEdit":true,"refType":"branch","currentOid":"47514f788964c41f73d133dbbe28b9014a3e6bd5"},"path":"automl/automl.ipynb","currentUser":{"id":47226949,"login":"asrenninger","userEmail":"arenn@design.upenn.edu"},"blob":{"rawLines":["{","  \"nbformat\": 4,","  \"nbformat_minor\": 0,","  \"metadata\": {","    \"colab\": {","      \"provenance\": [],","      \"machine_shape\": \"hm\",","      \"authorship_tag\": \"ABX9TyMxOm9DC7cQ2gmupYGLv8GB\",","      \"include_colab_link\": true","    },","    \"kernelspec\": {","      \"name\": \"python3\",","      \"display_name\": \"Python 3\"","    },","    \"language_info\": {","      \"name\": \"python\"","    }","  },","  \"cells\": [","    {","      \"cell_type\": \"markdown\",","      \"metadata\": {","        \"id\": \"view-in-github\",","        \"colab_type\": \"text\"","      },","      \"source\": [","        \"\u003ca href=\\\"https://colab.research.google.com/github/asrenninger/urbansim/blob/main/automl/automl.ipynb\\\" target=\\\"_parent\\\"\u003e\u003cimg src=\\\"https://colab.research.google.com/assets/colab-badge.svg\\\" alt=\\\"Open In Colab\\\"/\u003e\u003c/a\u003e\"","      ]","    },","    {","      \"cell_type\": \"code\",","      \"execution_count\": 1,","      \"metadata\": {","        \"colab\": {","          \"base_uri\": \"https://localhost:8080/\"","        },","        \"id\": \"XIIUTEvwMSgr\",","        \"outputId\": \"768a706a-8d69-4abd-e2f8-a632d2e65e6f\"","      },","      \"outputs\": [","        {","          \"output_type\": \"stream\",","          \"name\": \"stdout\",","          \"text\": [","            \"Collecting mljar-supervised\\n\",","            \"  Downloading mljar-supervised-1.1.3.tar.gz (130 kB)\\n\",","            \"\\u001b[?25l     \\u001b[90m━━━━━━━━━━━━━━━━━━━━━━━━━━━━━━━━━━━━━━━━\\u001b[0m \\u001b[32m0.0/130.6 kB\\u001b[0m \\u001b[31m?\\u001b[0m eta \\u001b[36m-:--:--\\u001b[0m\\r\\u001b[2K     \\u001b[91m━━━━━━━━━━━━━━━━━━━━━━━━━━━━━━━━━━━━━\\u001b[0m\\u001b[91m╸\\u001b[0m\\u001b[90m━━\\u001b[0m \\u001b[32m122.9/130.6 kB\\u001b[0m \\u001b[31m4.2 MB/s\\u001b[0m eta \\u001b[36m0:00:01\\u001b[0m\\r\\u001b[2K     \\u001b[90m━━━━━━━━━━━━━━━━━━━━━━━━━━━━━━━━━━━━━━━━\\u001b[0m \\u001b[32m130.6/130.6 kB\\u001b[0m \\u001b[31m3.2 MB/s\\u001b[0m eta \\u001b[36m0:00:00\\u001b[0m\\n\",","            \"\\u001b[?25h  Preparing metadata (setup.py) ... \\u001b[?25l\\u001b[?25hdone\\n\",","            \"Requirement already satisfied: numpy\u003e=1.19.5 in /usr/local/lib/python3.10/dist-packages (from mljar-supervised) (1.23.5)\\n\",","            \"Collecting pandas\u003e=2.0.0 (from mljar-supervised)\\n\",","            \"  Downloading pandas-2.2.0-cp310-cp310-manylinux_2_17_x86_64.manylinux2014_x86_64.whl (13.0 MB)\\n\",","            \"\\u001b[2K     \\u001b[90m━━━━━━━━━━━━━━━━━━━━━━━━━━━━━━━━━━━━━━━━\\u001b[0m \\u001b[32m13.0/13.0 MB\\u001b[0m \\u001b[31m20.8 MB/s\\u001b[0m eta \\u001b[36m0:00:00\\u001b[0m\\n\",","            \"\\u001b[?25hRequirement already satisfied: scipy\u003c=1.11.4,\u003e=1.6.1 in /usr/local/lib/python3.10/dist-packages (from mljar-supervised) (1.11.4)\\n\",","            \"Requirement already satisfied: scikit-learn\u003e=1.0 in /usr/local/lib/python3.10/dist-packages (from mljar-supervised) (1.2.2)\\n\",","            \"Requirement already satisfied: xgboost\u003e=2.0.0 in /usr/local/lib/python3.10/dist-packages (from mljar-supervised) (2.0.3)\\n\",","            \"Requirement already satisfied: lightgbm\u003e=3.0.0 in /usr/local/lib/python3.10/dist-packages (from mljar-supervised) (4.1.0)\\n\",","            \"Collecting catboost\u003e=0.24.4 (from mljar-supervised)\\n\",","            \"  Downloading catboost-1.2.2-cp310-cp310-manylinux2014_x86_64.whl (98.7 MB)\\n\",","            \"\\u001b[2K     \\u001b[90m━━━━━━━━━━━━━━━━━━━━━━━━━━━━━━━━━━━━━━━━\\u001b[0m \\u001b[32m98.7/98.7 MB\\u001b[0m \\u001b[31m13.3 MB/s\\u001b[0m eta \\u001b[36m0:00:00\\u001b[0m\\n\",","            \"\\u001b[?25hRequirement already satisfied: joblib\u003e=1.0.1 in /usr/local/lib/python3.10/dist-packages (from mljar-supervised) (1.3.2)\\n\",","            \"Requirement already satisfied: tabulate\u003e=0.8.7 in /usr/local/lib/python3.10/dist-packages (from mljar-supervised) (0.9.0)\\n\",","            \"Requirement already satisfied: matplotlib\u003e=3.2.2 in /usr/local/lib/python3.10/dist-packages (from mljar-supervised) (3.7.1)\\n\",","            \"Collecting dtreeviz\u003e=2.2.2 (from mljar-supervised)\\n\",","            \"  Downloading dtreeviz-2.2.2-py3-none-any.whl (91 kB)\\n\",","            \"\\u001b[2K     \\u001b[90m━━━━━━━━━━━━━━━━━━━━━━━━━━━━━━━━━━━━━━━━\\u001b[0m \\u001b[32m91.8/91.8 kB\\u001b[0m \\u001b[31m10.5 MB/s\\u001b[0m eta \\u001b[36m0:00:00\\u001b[0m\\n\",","            \"\\u001b[?25hCollecting shap\u003e=0.42.1 (from mljar-supervised)\\n\",","            \"  Downloading shap-0.44.1-cp310-cp310-manylinux_2_12_x86_64.manylinux2010_x86_64.manylinux_2_17_x86_64.manylinux2014_x86_64.whl (535 kB)\\n\",","            \"\\u001b[2K     \\u001b[90m━━━━━━━━━━━━━━━━━━━━━━━━━━━━━━━━━━━━━━━━\\u001b[0m \\u001b[32m535.7/535.7 kB\\u001b[0m \\u001b[31m44.5 MB/s\\u001b[0m eta \\u001b[36m0:00:00\\u001b[0m\\n\",","            \"\\u001b[?25hRequirement already satisfied: seaborn\u003e=0.11.1 in /usr/local/lib/python3.10/dist-packages (from mljar-supervised) (0.13.1)\\n\",","            \"Requirement already satisfied: wordcloud\u003e=1.8.1 in /usr/local/lib/python3.10/dist-packages (from mljar-supervised) (1.9.3)\\n\",","            \"Collecting category_encoders\u003e=2.2.2 (from mljar-supervised)\\n\",","            \"  Downloading category_encoders-2.6.3-py2.py3-none-any.whl (81 kB)\\n\",","            \"\\u001b[2K     \\u001b[90m━━━━━━━━━━━━━━━━━━━━━━━━━━━━━━━━━━━━━━━━\\u001b[0m \\u001b[32m81.9/81.9 kB\\u001b[0m \\u001b[31m9.3 MB/s\\u001b[0m eta \\u001b[36m0:00:00\\u001b[0m\\n\",","            \"\\u001b[?25hCollecting optuna\u003e=2.7.0 (from mljar-supervised)\\n\",","            \"  Downloading optuna-3.5.0-py3-none-any.whl (413 kB)\\n\",","            \"\\u001b[2K     \\u001b[90m━━━━━━━━━━━━━━━━━━━━━━━━━━━━━━━━━━━━━━━━\\u001b[0m \\u001b[32m413.4/413.4 kB\\u001b[0m \\u001b[31m33.6 MB/s\\u001b[0m eta \\u001b[36m0:00:00\\u001b[0m\\n\",","            \"\\u001b[?25hCollecting scikit-plot==0.3.7 (from mljar-supervised)\\n\",","            \"  Downloading scikit_plot-0.3.7-py3-none-any.whl (33 kB)\\n\",","            \"Requirement already satisfied: markdown in /usr/local/lib/python3.10/dist-packages (from mljar-supervised) (3.5.2)\\n\",","            \"Requirement already satisfied: typing-extensions in /usr/local/lib/python3.10/dist-packages (from mljar-supervised) (4.5.0)\\n\",","            \"Requirement already satisfied: ipython in /usr/local/lib/python3.10/dist-packages (from mljar-supervised) (7.34.0)\\n\",","            \"Requirement already satisfied: graphviz in /usr/local/lib/python3.10/dist-packages (from catboost\u003e=0.24.4-\u003emljar-supervised) (0.20.1)\\n\",","            \"Requirement already satisfied: plotly in /usr/local/lib/python3.10/dist-packages (from catboost\u003e=0.24.4-\u003emljar-supervised) (5.15.0)\\n\",","            \"Requirement already satisfied: six in /usr/local/lib/python3.10/dist-packages (from catboost\u003e=0.24.4-\u003emljar-supervised) (1.16.0)\\n\",","            \"Requirement already satisfied: statsmodels\u003e=0.9.0 in /usr/local/lib/python3.10/dist-packages (from category_encoders\u003e=2.2.2-\u003emljar-supervised) (0.14.1)\\n\",","            \"Requirement already satisfied: patsy\u003e=0.5.1 in /usr/local/lib/python3.10/dist-packages (from category_encoders\u003e=2.2.2-\u003emljar-supervised) (0.5.6)\\n\",","            \"Requirement already satisfied: colour in /usr/local/lib/python3.10/dist-packages (from dtreeviz\u003e=2.2.2-\u003emljar-supervised) (0.1.5)\\n\",","            \"Requirement already satisfied: pytest in /usr/local/lib/python3.10/dist-packages (from dtreeviz\u003e=2.2.2-\u003emljar-supervised) (7.4.4)\\n\",","            \"Requirement already satisfied: contourpy\u003e=1.0.1 in /usr/local/lib/python3.10/dist-packages (from matplotlib\u003e=3.2.2-\u003emljar-supervised) (1.2.0)\\n\",","            \"Requirement already satisfied: cycler\u003e=0.10 in /usr/local/lib/python3.10/dist-packages (from matplotlib\u003e=3.2.2-\u003emljar-supervised) (0.12.1)\\n\",","            \"Requirement already satisfied: fonttools\u003e=4.22.0 in /usr/local/lib/python3.10/dist-packages (from matplotlib\u003e=3.2.2-\u003emljar-supervised) (4.47.2)\\n\",","            \"Requirement already satisfied: kiwisolver\u003e=1.0.1 in /usr/local/lib/python3.10/dist-packages (from matplotlib\u003e=3.2.2-\u003emljar-supervised) (1.4.5)\\n\",","            \"Requirement already satisfied: packaging\u003e=20.0 in /usr/local/lib/python3.10/dist-packages (from matplotlib\u003e=3.2.2-\u003emljar-supervised) (23.2)\\n\",","            \"Requirement already satisfied: pillow\u003e=6.2.0 in /usr/local/lib/python3.10/dist-packages (from matplotlib\u003e=3.2.2-\u003emljar-supervised) (9.4.0)\\n\",","            \"Requirement already satisfied: pyparsing\u003e=2.3.1 in /usr/local/lib/python3.10/dist-packages (from matplotlib\u003e=3.2.2-\u003emljar-supervised) (3.1.1)\\n\",","            \"Requirement already satisfied: python-dateutil\u003e=2.7 in /usr/local/lib/python3.10/dist-packages (from matplotlib\u003e=3.2.2-\u003emljar-supervised) (2.8.2)\\n\",","            \"Collecting alembic\u003e=1.5.0 (from optuna\u003e=2.7.0-\u003emljar-supervised)\\n\",","            \"  Downloading alembic-1.13.1-py3-none-any.whl (233 kB)\\n\",","            \"\\u001b[2K     \\u001b[90m━━━━━━━━━━━━━━━━━━━━━━━━━━━━━━━━━━━━━━━━\\u001b[0m \\u001b[32m233.4/233.4 kB\\u001b[0m \\u001b[31m23.5 MB/s\\u001b[0m eta \\u001b[36m0:00:00\\u001b[0m\\n\",","            \"\\u001b[?25hCollecting colorlog (from optuna\u003e=2.7.0-\u003emljar-supervised)\\n\",","            \"  Downloading colorlog-6.8.2-py3-none-any.whl (11 kB)\\n\",","            \"Requirement already satisfied: sqlalchemy\u003e=1.3.0 in /usr/local/lib/python3.10/dist-packages (from optuna\u003e=2.7.0-\u003emljar-supervised) (2.0.24)\\n\",","            \"Requirement already satisfied: tqdm in /usr/local/lib/python3.10/dist-packages (from optuna\u003e=2.7.0-\u003emljar-supervised) (4.66.1)\\n\",","            \"Requirement already satisfied: PyYAML in /usr/local/lib/python3.10/dist-packages (from optuna\u003e=2.7.0-\u003emljar-supervised) (6.0.1)\\n\",","            \"Requirement already satisfied: pytz\u003e=2020.1 in /usr/local/lib/python3.10/dist-packages (from pandas\u003e=2.0.0-\u003emljar-supervised) (2023.4)\\n\",","            \"Collecting tzdata\u003e=2022.7 (from pandas\u003e=2.0.0-\u003emljar-supervised)\\n\",","            \"  Downloading tzdata-2023.4-py2.py3-none-any.whl (346 kB)\\n\",","            \"\\u001b[2K     \\u001b[90m━━━━━━━━━━━━━━━━━━━━━━━━━━━━━━━━━━━━━━━━\\u001b[0m \\u001b[32m346.6/346.6 kB\\u001b[0m \\u001b[31m31.9 MB/s\\u001b[0m eta \\u001b[36m0:00:00\\u001b[0m\\n\",","            \"\\u001b[?25hRequirement already satisfied: threadpoolctl\u003e=2.0.0 in /usr/local/lib/python3.10/dist-packages (from scikit-learn\u003e=1.0-\u003emljar-supervised) (3.2.0)\\n\",","            \"Collecting slicer==0.0.7 (from shap\u003e=0.42.1-\u003emljar-supervised)\\n\",","            \"  Downloading slicer-0.0.7-py3-none-any.whl (14 kB)\\n\",","            \"Requirement already satisfied: numba in /usr/local/lib/python3.10/dist-packages (from shap\u003e=0.42.1-\u003emljar-supervised) (0.58.1)\\n\",","            \"Requirement already satisfied: cloudpickle in /usr/local/lib/python3.10/dist-packages (from shap\u003e=0.42.1-\u003emljar-supervised) (2.2.1)\\n\",","            \"Requirement already satisfied: setuptools\u003e=18.5 in /usr/local/lib/python3.10/dist-packages (from ipython-\u003emljar-supervised) (67.7.2)\\n\",","            \"Collecting jedi\u003e=0.16 (from ipython-\u003emljar-supervised)\\n\",","            \"  Downloading jedi-0.19.1-py2.py3-none-any.whl (1.6 MB)\\n\",","            \"\\u001b[2K     \\u001b[90m━━━━━━━━━━━━━━━━━━━━━━━━━━━━━━━━━━━━━━━━\\u001b[0m \\u001b[32m1.6/1.6 MB\\u001b[0m \\u001b[31m63.1 MB/s\\u001b[0m eta \\u001b[36m0:00:00\\u001b[0m\\n\",","            \"\\u001b[?25hRequirement already satisfied: decorator in /usr/local/lib/python3.10/dist-packages (from ipython-\u003emljar-supervised) (4.4.2)\\n\",","            \"Requirement already satisfied: pickleshare in /usr/local/lib/python3.10/dist-packages (from ipython-\u003emljar-supervised) (0.7.5)\\n\",","            \"Requirement already satisfied: traitlets\u003e=4.2 in /usr/local/lib/python3.10/dist-packages (from ipython-\u003emljar-supervised) (5.7.1)\\n\",","            \"Requirement already satisfied: prompt-toolkit!=3.0.0,!=3.0.1,\u003c3.1.0,\u003e=2.0.0 in /usr/local/lib/python3.10/dist-packages (from ipython-\u003emljar-supervised) (3.0.43)\\n\",","            \"Requirement already satisfied: pygments in /usr/local/lib/python3.10/dist-packages (from ipython-\u003emljar-supervised) (2.16.1)\\n\",","            \"Requirement already satisfied: backcall in /usr/local/lib/python3.10/dist-packages (from ipython-\u003emljar-supervised) (0.2.0)\\n\",","            \"Requirement already satisfied: matplotlib-inline in /usr/local/lib/python3.10/dist-packages (from ipython-\u003emljar-supervised) (0.1.6)\\n\",","            \"Requirement already satisfied: pexpect\u003e4.3 in /usr/local/lib/python3.10/dist-packages (from ipython-\u003emljar-supervised) (4.9.0)\\n\",","            \"Collecting Mako (from alembic\u003e=1.5.0-\u003eoptuna\u003e=2.7.0-\u003emljar-supervised)\\n\",","            \"  Downloading Mako-1.3.2-py3-none-any.whl (78 kB)\\n\",","            \"\\u001b[2K     \\u001b[90m━━━━━━━━━━━━━━━━━━━━━━━━━━━━━━━━━━━━━━━━\\u001b[0m \\u001b[32m78.7/78.7 kB\\u001b[0m \\u001b[31m10.0 MB/s\\u001b[0m eta \\u001b[36m0:00:00\\u001b[0m\\n\",","            \"\\u001b[?25hRequirement already satisfied: parso\u003c0.9.0,\u003e=0.8.3 in /usr/local/lib/python3.10/dist-packages (from jedi\u003e=0.16-\u003eipython-\u003emljar-supervised) (0.8.3)\\n\",","            \"Requirement already satisfied: ptyprocess\u003e=0.5 in /usr/local/lib/python3.10/dist-packages (from pexpect\u003e4.3-\u003eipython-\u003emljar-supervised) (0.7.0)\\n\",","            \"Requirement already satisfied: wcwidth in /usr/local/lib/python3.10/dist-packages (from prompt-toolkit!=3.0.0,!=3.0.1,\u003c3.1.0,\u003e=2.0.0-\u003eipython-\u003emljar-supervised) (0.2.13)\\n\",","            \"Requirement already satisfied: greenlet!=0.4.17 in /usr/local/lib/python3.10/dist-packages (from sqlalchemy\u003e=1.3.0-\u003eoptuna\u003e=2.7.0-\u003emljar-supervised) (3.0.3)\\n\",","            \"Requirement already satisfied: llvmlite\u003c0.42,\u003e=0.41.0dev0 in /usr/local/lib/python3.10/dist-packages (from numba-\u003eshap\u003e=0.42.1-\u003emljar-supervised) (0.41.1)\\n\",","            \"Requirement already satisfied: tenacity\u003e=6.2.0 in /usr/local/lib/python3.10/dist-packages (from plotly-\u003ecatboost\u003e=0.24.4-\u003emljar-supervised) (8.2.3)\\n\",","            \"Requirement already satisfied: iniconfig in /usr/local/lib/python3.10/dist-packages (from pytest-\u003edtreeviz\u003e=2.2.2-\u003emljar-supervised) (2.0.0)\\n\",","            \"Requirement already satisfied: pluggy\u003c2.0,\u003e=0.12 in /usr/local/lib/python3.10/dist-packages (from pytest-\u003edtreeviz\u003e=2.2.2-\u003emljar-supervised) (1.4.0)\\n\",","            \"Requirement already satisfied: exceptiongroup\u003e=1.0.0rc8 in /usr/local/lib/python3.10/dist-packages (from pytest-\u003edtreeviz\u003e=2.2.2-\u003emljar-supervised) (1.2.0)\\n\",","            \"Requirement already satisfied: tomli\u003e=1.0.0 in /usr/local/lib/python3.10/dist-packages (from pytest-\u003edtreeviz\u003e=2.2.2-\u003emljar-supervised) (2.0.1)\\n\",","            \"Requirement already satisfied: MarkupSafe\u003e=0.9.2 in /usr/local/lib/python3.10/dist-packages (from Mako-\u003ealembic\u003e=1.5.0-\u003eoptuna\u003e=2.7.0-\u003emljar-supervised) (2.1.4)\\n\",","            \"Building wheels for collected packages: mljar-supervised\\n\",","            \"  Building wheel for mljar-supervised (setup.py) ... \\u001b[?25l\\u001b[?25hdone\\n\",","            \"  Created wheel for mljar-supervised: filename=mljar_supervised-1.1.3-py3-none-any.whl size=165104 sha256=7ce77119b81f83cb1ab3cc3374061e61300016ceaa3e5978c2c876855525496f\\n\",","            \"  Stored in directory: /root/.cache/pip/wheels/a9/c5/2f/3df84e392023ee95bbb4296c964edc7708c91419b0295b4328\\n\",","            \"Successfully built mljar-supervised\\n\",","            \"Installing collected packages: tzdata, slicer, Mako, jedi, colorlog, pandas, alembic, shap, scikit-plot, optuna, dtreeviz, catboost, category_encoders, mljar-supervised\\n\",","            \"  Attempting uninstall: pandas\\n\",","            \"    Found existing installation: pandas 1.5.3\\n\",","            \"    Uninstalling pandas-1.5.3:\\n\",","            \"      Successfully uninstalled pandas-1.5.3\\n\",","            \"\\u001b[31mERROR: pip's dependency resolver does not currently take into account all the packages that are installed. This behaviour is the source of the following dependency conflicts.\\n\",","            \"lida 0.0.10 requires fastapi, which is not installed.\\n\",","            \"lida 0.0.10 requires kaleido, which is not installed.\\n\",","            \"lida 0.0.10 requires python-multipart, which is not installed.\\n\",","            \"lida 0.0.10 requires uvicorn, which is not installed.\\n\",","            \"bigframes 0.20.0 requires pandas\u003c2.1.4,\u003e=1.5.0, but you have pandas 2.2.0 which is incompatible.\\n\",","            \"google-colab 1.0.0 requires pandas==1.5.3, but you have pandas 2.2.0 which is incompatible.\\u001b[0m\\u001b[31m\\n\",","            \"\\u001b[0mSuccessfully installed Mako-1.3.2 alembic-1.13.1 catboost-1.2.2 category_encoders-2.6.3 colorlog-6.8.2 dtreeviz-2.2.2 jedi-0.19.1 mljar-supervised-1.1.3 optuna-3.5.0 pandas-2.2.0 scikit-plot-0.3.7 shap-0.44.1 slicer-0.0.7 tzdata-2023.4\\n\"","          ]","        }","      ],","      \"source\": [","        \"!pip install mljar-supervised\"","      ]","    },","    {","      \"cell_type\": \"code\",","      \"source\": [","        \"pd.read_csv(\\\"\\\")\"","      ],","      \"metadata\": {","        \"colab\": {","          \"base_uri\": \"https://localhost:8080/\",","          \"height\": 496","        },","        \"id\": \"s8R0t88Kvuin\",","        \"outputId\": \"2218ef39-f949-4a84-a6f7-cdbd923f917e\"","      },","      \"execution_count\": 3,","      \"outputs\": [","        {","          \"output_type\": \"execute_result\",","          \"data\": {","            \"text/plain\": [","              \"          code_i     code_j  F_ij    distance                name_i  \\\\\\n\",","              \"0      E06000001  E06000002   140    8.853261            Hartlepool   \\n\",","              \"1      E06000003  E06000002   939    8.107915  Redcar and Cleveland   \\n\",","              \"2      E06000004  E06000002   971    4.505858      Stockton-on-Tees   \\n\",","              \"3      E06000005  E06000002    74   13.284403            Darlington   \\n\",","              \"4      E06000007  E06000002     1   96.157224            Warrington   \\n\",","              \"...          ...        ...   ...         ...                   ...   \\n\",","              \"88922  W06000012  E07000069     1  186.971096     Neath Port Talbot   \\n\",","              \"88923  E07000010  E07000069     4   74.530915               Fenland   \\n\",","              \"88924  E07000074  E07000069    31   14.470303                Maldon   \\n\",","              \"88925  E07000116  E07000069     1   30.026919       Tunbridge Wells   \\n\",","              \"88926  W06000010  E07000069     1  205.787386       Carmarthenshire   \\n\",","              \"\\n\",","              \"              name_j  density_i  married_i  households_i  population_i  ...  \\\\\\n\",","              \"0      Middlesbrough      985.5   0.422567      2.255998         92338  ...   \\n\",","              \"1      Middlesbrough      557.1   0.439966      2.215030        136530  ...   \\n\",","              \"2      Middlesbrough      959.3   0.455623      2.347211        196593  ...   \\n\",","              \"3      Middlesbrough      545.9   0.442234      2.203426        107796  ...   \\n\",","              \"4      Middlesbrough     1168.0   0.468894      2.330163        210973  ...   \\n\",","              \"...              ...        ...        ...           ...           ...  ...   \\n\",","              \"88922   Castle Point      322.5   0.429319      2.281166        142290  ...   \\n\",","              \"88923   Castle Point      187.5   0.453949      2.324275        102461  ...   \\n\",","              \"88924   Castle Point      185.0   0.517988      2.373154         66211  ...   \\n\",","              \"88925   Castle Point      348.0   0.501537      2.391315        115314  ...   \\n\",","              \"88926   Castle Point       79.3   0.472892      2.298193        187898  ...   \\n\",","              \"\\n\",","              \"       employed_i  university_i  density_j  married_j  households_j  \\\\\\n\",","              \"0        0.408813      0.248052     2671.2   0.394399      2.388271   \\n\",","              \"1        0.407383      0.249266     2671.2   0.394399      2.388271   \\n\",","              \"2        0.439726      0.295222     2671.2   0.394399      2.388271   \\n\",","              \"3        0.457299      0.289614     2671.2   0.394399      2.388271   \\n\",","              \"4        0.489115      0.329759     2671.2   0.394399      2.388271   \\n\",","              \"...           ...           ...        ...        ...           ...   \\n\",","              \"88922    0.416017      0.258401     2005.4   0.491561      2.396009   \\n\",","              \"88923    0.459794      0.190400     2005.4   0.491561      2.396009   \\n\",","              \"88924    0.472187      0.254023     2005.4   0.491561      2.396009   \\n\",","              \"88925    0.484737      0.411364     2005.4   0.491561      2.396009   \\n\",","              \"88926    0.436157      0.312851     2005.4   0.491561      2.396009   \\n\",","              \"\\n\",","              \"       population_j  nonwhite_j  unhealthy_j  employed_j  university_j  \\n\",","              \"0            143922    0.176311     0.073052    0.392094      0.264413  \\n\",","              \"1            143922    0.176311     0.073052    0.392094      0.264413  \\n\",","              \"2            143922    0.176311     0.073052    0.392094      0.264413  \\n\",","              \"3            143922    0.176311     0.073052    0.392094      0.264413  \\n\",","              \"4            143922    0.176311     0.073052    0.392094      0.264413  \\n\",","              \"...             ...         ...          ...         ...           ...  \\n\",","              \"88922         89582    0.051361     0.054695    0.457759      0.184742  \\n\",","              \"88923         89582    0.051361     0.054695    0.457759      0.184742  \\n\",","              \"88924         89582    0.051361     0.054695    0.457759      0.184742  \\n\",","              \"88925         89582    0.051361     0.054695    0.457759      0.184742  \\n\",","              \"88926         89582    0.051361     0.054695    0.457759      0.184742  \\n\",","              \"\\n\",","              \"[88927 rows x 22 columns]\"","            ],","            \"text/html\": [","              \"\\n\",","              \"  \u003cdiv id=\\\"df-30057ade-e36f-4453-aa1f-ef28773454fa\\\" class=\\\"colab-df-container\\\"\u003e\\n\",","              \"    \u003cdiv\u003e\\n\",","              \"\u003cstyle scoped\u003e\\n\",","              \"    .dataframe tbody tr th:only-of-type {\\n\",","              \"        vertical-align: middle;\\n\",","              \"    }\\n\",","              \"\\n\",","              \"    .dataframe tbody tr th {\\n\",","              \"        vertical-align: top;\\n\",","              \"    }\\n\",","              \"\\n\",","              \"    .dataframe thead th {\\n\",","              \"        text-align: right;\\n\",","              \"    }\\n\",","              \"\u003c/style\u003e\\n\",","              \"\u003ctable border=\\\"1\\\" class=\\\"dataframe\\\"\u003e\\n\",","              \"  \u003cthead\u003e\\n\",","              \"    \u003ctr style=\\\"text-align: right;\\\"\u003e\\n\",","              \"      \u003cth\u003e\u003c/th\u003e\\n\",","              \"      \u003cth\u003ecode_i\u003c/th\u003e\\n\",","              \"      \u003cth\u003ecode_j\u003c/th\u003e\\n\",","              \"      \u003cth\u003eF_ij\u003c/th\u003e\\n\",","              \"      \u003cth\u003edistance\u003c/th\u003e\\n\",","              \"      \u003cth\u003ename_i\u003c/th\u003e\\n\",","              \"      \u003cth\u003ename_j\u003c/th\u003e\\n\",","              \"      \u003cth\u003edensity_i\u003c/th\u003e\\n\",","              \"      \u003cth\u003emarried_i\u003c/th\u003e\\n\",","              \"      \u003cth\u003ehouseholds_i\u003c/th\u003e\\n\",","              \"      \u003cth\u003epopulation_i\u003c/th\u003e\\n\",","              \"      \u003cth\u003e...\u003c/th\u003e\\n\",","              \"      \u003cth\u003eemployed_i\u003c/th\u003e\\n\",","              \"      \u003cth\u003euniversity_i\u003c/th\u003e\\n\",","              \"      \u003cth\u003edensity_j\u003c/th\u003e\\n\",","              \"      \u003cth\u003emarried_j\u003c/th\u003e\\n\",","              \"      \u003cth\u003ehouseholds_j\u003c/th\u003e\\n\",","              \"      \u003cth\u003epopulation_j\u003c/th\u003e\\n\",","              \"      \u003cth\u003enonwhite_j\u003c/th\u003e\\n\",","              \"      \u003cth\u003eunhealthy_j\u003c/th\u003e\\n\",","              \"      \u003cth\u003eemployed_j\u003c/th\u003e\\n\",","              \"      \u003cth\u003euniversity_j\u003c/th\u003e\\n\",","              \"    \u003c/tr\u003e\\n\",","              \"  \u003c/thead\u003e\\n\",","              \"  \u003ctbody\u003e\\n\",","              \"    \u003ctr\u003e\\n\",","              \"      \u003cth\u003e0\u003c/th\u003e\\n\",","              \"      \u003ctd\u003eE06000001\u003c/td\u003e\\n\",","              \"      \u003ctd\u003eE06000002\u003c/td\u003e\\n\",","              \"      \u003ctd\u003e140\u003c/td\u003e\\n\",","              \"      \u003ctd\u003e8.853261\u003c/td\u003e\\n\",","              \"      \u003ctd\u003eHartlepool\u003c/td\u003e\\n\",","              \"      \u003ctd\u003eMiddlesbrough\u003c/td\u003e\\n\",","              \"      \u003ctd\u003e985.5\u003c/td\u003e\\n\",","              \"      \u003ctd\u003e0.422567\u003c/td\u003e\\n\",","              \"      \u003ctd\u003e2.255998\u003c/td\u003e\\n\",","              \"      \u003ctd\u003e92338\u003c/td\u003e\\n\",","              \"      \u003ctd\u003e...\u003c/td\u003e\\n\",","              \"      \u003ctd\u003e0.408813\u003c/td\u003e\\n\",","              \"      \u003ctd\u003e0.248052\u003c/td\u003e\\n\",","              \"      \u003ctd\u003e2671.2\u003c/td\u003e\\n\",","              \"      \u003ctd\u003e0.394399\u003c/td\u003e\\n\",","              \"      \u003ctd\u003e2.388271\u003c/td\u003e\\n\",","              \"      \u003ctd\u003e143922\u003c/td\u003e\\n\",","              \"      \u003ctd\u003e0.176311\u003c/td\u003e\\n\",","              \"      \u003ctd\u003e0.073052\u003c/td\u003e\\n\",","              \"      \u003ctd\u003e0.392094\u003c/td\u003e\\n\",","              \"      \u003ctd\u003e0.264413\u003c/td\u003e\\n\",","              \"    \u003c/tr\u003e\\n\",","              \"    \u003ctr\u003e\\n\",","              \"      \u003cth\u003e1\u003c/th\u003e\\n\",","              \"      \u003ctd\u003eE06000003\u003c/td\u003e\\n\",","              \"      \u003ctd\u003eE06000002\u003c/td\u003e\\n\",","              \"      \u003ctd\u003e939\u003c/td\u003e\\n\",","              \"      \u003ctd\u003e8.107915\u003c/td\u003e\\n\",","              \"      \u003ctd\u003eRedcar and Cleveland\u003c/td\u003e\\n\",","              \"      \u003ctd\u003eMiddlesbrough\u003c/td\u003e\\n\",","              \"      \u003ctd\u003e557.1\u003c/td\u003e\\n\",","              \"      \u003ctd\u003e0.439966\u003c/td\u003e\\n\",","              \"      \u003ctd\u003e2.215030\u003c/td\u003e\\n\",","              \"      \u003ctd\u003e136530\u003c/td\u003e\\n\",","              \"      \u003ctd\u003e...\u003c/td\u003e\\n\",","              \"      \u003ctd\u003e0.407383\u003c/td\u003e\\n\",","              \"      \u003ctd\u003e0.249266\u003c/td\u003e\\n\",","              \"      \u003ctd\u003e2671.2\u003c/td\u003e\\n\",","              \"      \u003ctd\u003e0.394399\u003c/td\u003e\\n\",","              \"      \u003ctd\u003e2.388271\u003c/td\u003e\\n\",","              \"      \u003ctd\u003e143922\u003c/td\u003e\\n\",","              \"      \u003ctd\u003e0.176311\u003c/td\u003e\\n\",","              \"      \u003ctd\u003e0.073052\u003c/td\u003e\\n\",","              \"      \u003ctd\u003e0.392094\u003c/td\u003e\\n\",","              \"      \u003ctd\u003e0.264413\u003c/td\u003e\\n\",","              \"    \u003c/tr\u003e\\n\",","              \"    \u003ctr\u003e\\n\",","              \"      \u003cth\u003e2\u003c/th\u003e\\n\",","              \"      \u003ctd\u003eE06000004\u003c/td\u003e\\n\",","              \"      \u003ctd\u003eE06000002\u003c/td\u003e\\n\",","              \"      \u003ctd\u003e971\u003c/td\u003e\\n\",","              \"      \u003ctd\u003e4.505858\u003c/td\u003e\\n\",","              \"      \u003ctd\u003eStockton-on-Tees\u003c/td\u003e\\n\",","              \"      \u003ctd\u003eMiddlesbrough\u003c/td\u003e\\n\",","              \"      \u003ctd\u003e959.3\u003c/td\u003e\\n\",","              \"      \u003ctd\u003e0.455623\u003c/td\u003e\\n\",","              \"      \u003ctd\u003e2.347211\u003c/td\u003e\\n\",","              \"      \u003ctd\u003e196593\u003c/td\u003e\\n\",","              \"      \u003ctd\u003e...\u003c/td\u003e\\n\",","              \"      \u003ctd\u003e0.439726\u003c/td\u003e\\n\",","              \"      \u003ctd\u003e0.295222\u003c/td\u003e\\n\",","              \"      \u003ctd\u003e2671.2\u003c/td\u003e\\n\",","              \"      \u003ctd\u003e0.394399\u003c/td\u003e\\n\",","              \"      \u003ctd\u003e2.388271\u003c/td\u003e\\n\",","              \"      \u003ctd\u003e143922\u003c/td\u003e\\n\",","              \"      \u003ctd\u003e0.176311\u003c/td\u003e\\n\",","              \"      \u003ctd\u003e0.073052\u003c/td\u003e\\n\",","              \"      \u003ctd\u003e0.392094\u003c/td\u003e\\n\",","              \"      \u003ctd\u003e0.264413\u003c/td\u003e\\n\",","              \"    \u003c/tr\u003e\\n\",","              \"    \u003ctr\u003e\\n\",","              \"      \u003cth\u003e3\u003c/th\u003e\\n\",","              \"      \u003ctd\u003eE06000005\u003c/td\u003e\\n\",","              \"      \u003ctd\u003eE06000002\u003c/td\u003e\\n\",","              \"      \u003ctd\u003e74\u003c/td\u003e\\n\",","              \"      \u003ctd\u003e13.284403\u003c/td\u003e\\n\",","              \"      \u003ctd\u003eDarlington\u003c/td\u003e\\n\",","              \"      \u003ctd\u003eMiddlesbrough\u003c/td\u003e\\n\",","              \"      \u003ctd\u003e545.9\u003c/td\u003e\\n\",","              \"      \u003ctd\u003e0.442234\u003c/td\u003e\\n\",","              \"      \u003ctd\u003e2.203426\u003c/td\u003e\\n\",","              \"      \u003ctd\u003e107796\u003c/td\u003e\\n\",","              \"      \u003ctd\u003e...\u003c/td\u003e\\n\",","              \"      \u003ctd\u003e0.457299\u003c/td\u003e\\n\",","              \"      \u003ctd\u003e0.289614\u003c/td\u003e\\n\",","              \"      \u003ctd\u003e2671.2\u003c/td\u003e\\n\",","              \"      \u003ctd\u003e0.394399\u003c/td\u003e\\n\",","              \"      \u003ctd\u003e2.388271\u003c/td\u003e\\n\",","              \"      \u003ctd\u003e143922\u003c/td\u003e\\n\",","              \"      \u003ctd\u003e0.176311\u003c/td\u003e\\n\",","              \"      \u003ctd\u003e0.073052\u003c/td\u003e\\n\",","              \"      \u003ctd\u003e0.392094\u003c/td\u003e\\n\",","              \"      \u003ctd\u003e0.264413\u003c/td\u003e\\n\",","              \"    \u003c/tr\u003e\\n\",","              \"    \u003ctr\u003e\\n\",","              \"      \u003cth\u003e4\u003c/th\u003e\\n\",","              \"      \u003ctd\u003eE06000007\u003c/td\u003e\\n\",","              \"      \u003ctd\u003eE06000002\u003c/td\u003e\\n\",","              \"      \u003ctd\u003e1\u003c/td\u003e\\n\",","              \"      \u003ctd\u003e96.157224\u003c/td\u003e\\n\",","              \"      \u003ctd\u003eWarrington\u003c/td\u003e\\n\",","              \"      \u003ctd\u003eMiddlesbrough\u003c/td\u003e\\n\",","              \"      \u003ctd\u003e1168.0\u003c/td\u003e\\n\",","              \"      \u003ctd\u003e0.468894\u003c/td\u003e\\n\",","              \"      \u003ctd\u003e2.330163\u003c/td\u003e\\n\",","              \"      \u003ctd\u003e210973\u003c/td\u003e\\n\",","              \"      \u003ctd\u003e...\u003c/td\u003e\\n\",","              \"      \u003ctd\u003e0.489115\u003c/td\u003e\\n\",","              \"      \u003ctd\u003e0.329759\u003c/td\u003e\\n\",","              \"      \u003ctd\u003e2671.2\u003c/td\u003e\\n\",","              \"      \u003ctd\u003e0.394399\u003c/td\u003e\\n\",","              \"      \u003ctd\u003e2.388271\u003c/td\u003e\\n\",","              \"      \u003ctd\u003e143922\u003c/td\u003e\\n\",","              \"      \u003ctd\u003e0.176311\u003c/td\u003e\\n\",","              \"      \u003ctd\u003e0.073052\u003c/td\u003e\\n\",","              \"      \u003ctd\u003e0.392094\u003c/td\u003e\\n\",","              \"      \u003ctd\u003e0.264413\u003c/td\u003e\\n\",","              \"    \u003c/tr\u003e\\n\",","              \"    \u003ctr\u003e\\n\",","              \"      \u003cth\u003e...\u003c/th\u003e\\n\",","              \"      \u003ctd\u003e...\u003c/td\u003e\\n\",","              \"      \u003ctd\u003e...\u003c/td\u003e\\n\",","              \"      \u003ctd\u003e...\u003c/td\u003e\\n\",","              \"      \u003ctd\u003e...\u003c/td\u003e\\n\",","              \"      \u003ctd\u003e...\u003c/td\u003e\\n\",","              \"      \u003ctd\u003e...\u003c/td\u003e\\n\",","              \"      \u003ctd\u003e...\u003c/td\u003e\\n\",","              \"      \u003ctd\u003e...\u003c/td\u003e\\n\",","              \"      \u003ctd\u003e...\u003c/td\u003e\\n\",","              \"      \u003ctd\u003e...\u003c/td\u003e\\n\",","              \"      \u003ctd\u003e...\u003c/td\u003e\\n\",","              \"      \u003ctd\u003e...\u003c/td\u003e\\n\",","              \"      \u003ctd\u003e...\u003c/td\u003e\\n\",","              \"      \u003ctd\u003e...\u003c/td\u003e\\n\",","              \"      \u003ctd\u003e...\u003c/td\u003e\\n\",","              \"      \u003ctd\u003e...\u003c/td\u003e\\n\",","              \"      \u003ctd\u003e...\u003c/td\u003e\\n\",","              \"      \u003ctd\u003e...\u003c/td\u003e\\n\",","              \"      \u003ctd\u003e...\u003c/td\u003e\\n\",","              \"      \u003ctd\u003e...\u003c/td\u003e\\n\",","              \"      \u003ctd\u003e...\u003c/td\u003e\\n\",","              \"    \u003c/tr\u003e\\n\",","              \"    \u003ctr\u003e\\n\",","              \"      \u003cth\u003e88922\u003c/th\u003e\\n\",","              \"      \u003ctd\u003eW06000012\u003c/td\u003e\\n\",","              \"      \u003ctd\u003eE07000069\u003c/td\u003e\\n\",","              \"      \u003ctd\u003e1\u003c/td\u003e\\n\",","              \"      \u003ctd\u003e186.971096\u003c/td\u003e\\n\",","              \"      \u003ctd\u003eNeath Port Talbot\u003c/td\u003e\\n\",","              \"      \u003ctd\u003eCastle Point\u003c/td\u003e\\n\",","              \"      \u003ctd\u003e322.5\u003c/td\u003e\\n\",","              \"      \u003ctd\u003e0.429319\u003c/td\u003e\\n\",","              \"      \u003ctd\u003e2.281166\u003c/td\u003e\\n\",","              \"      \u003ctd\u003e142290\u003c/td\u003e\\n\",","              \"      \u003ctd\u003e...\u003c/td\u003e\\n\",","              \"      \u003ctd\u003e0.416017\u003c/td\u003e\\n\",","              \"      \u003ctd\u003e0.258401\u003c/td\u003e\\n\",","              \"      \u003ctd\u003e2005.4\u003c/td\u003e\\n\",","              \"      \u003ctd\u003e0.491561\u003c/td\u003e\\n\",","              \"      \u003ctd\u003e2.396009\u003c/td\u003e\\n\",","              \"      \u003ctd\u003e89582\u003c/td\u003e\\n\",","              \"      \u003ctd\u003e0.051361\u003c/td\u003e\\n\",","              \"      \u003ctd\u003e0.054695\u003c/td\u003e\\n\",","              \"      \u003ctd\u003e0.457759\u003c/td\u003e\\n\",","              \"      \u003ctd\u003e0.184742\u003c/td\u003e\\n\",","              \"    \u003c/tr\u003e\\n\",","              \"    \u003ctr\u003e\\n\",","              \"      \u003cth\u003e88923\u003c/th\u003e\\n\",","              \"      \u003ctd\u003eE07000010\u003c/td\u003e\\n\",","              \"      \u003ctd\u003eE07000069\u003c/td\u003e\\n\",","              \"      \u003ctd\u003e4\u003c/td\u003e\\n\",","              \"      \u003ctd\u003e74.530915\u003c/td\u003e\\n\",","              \"      \u003ctd\u003eFenland\u003c/td\u003e\\n\",","              \"      \u003ctd\u003eCastle Point\u003c/td\u003e\\n\",","              \"      \u003ctd\u003e187.5\u003c/td\u003e\\n\",","              \"      \u003ctd\u003e0.453949\u003c/td\u003e\\n\",","              \"      \u003ctd\u003e2.324275\u003c/td\u003e\\n\",","              \"      \u003ctd\u003e102461\u003c/td\u003e\\n\",","              \"      \u003ctd\u003e...\u003c/td\u003e\\n\",","              \"      \u003ctd\u003e0.459794\u003c/td\u003e\\n\",","              \"      \u003ctd\u003e0.190400\u003c/td\u003e\\n\",","              \"      \u003ctd\u003e2005.4\u003c/td\u003e\\n\",","              \"      \u003ctd\u003e0.491561\u003c/td\u003e\\n\",","              \"      \u003ctd\u003e2.396009\u003c/td\u003e\\n\",","              \"      \u003ctd\u003e89582\u003c/td\u003e\\n\",","              \"      \u003ctd\u003e0.051361\u003c/td\u003e\\n\",","              \"      \u003ctd\u003e0.054695\u003c/td\u003e\\n\",","              \"      \u003ctd\u003e0.457759\u003c/td\u003e\\n\",","              \"      \u003ctd\u003e0.184742\u003c/td\u003e\\n\",","              \"    \u003c/tr\u003e\\n\",","              \"    \u003ctr\u003e\\n\",","              \"      \u003cth\u003e88924\u003c/th\u003e\\n\",","              \"      \u003ctd\u003eE07000074\u003c/td\u003e\\n\",","              \"      \u003ctd\u003eE07000069\u003c/td\u003e\\n\",","              \"      \u003ctd\u003e31\u003c/td\u003e\\n\",","              \"      \u003ctd\u003e14.470303\u003c/td\u003e\\n\",","              \"      \u003ctd\u003eMaldon\u003c/td\u003e\\n\",","              \"      \u003ctd\u003eCastle Point\u003c/td\u003e\\n\",","              \"      \u003ctd\u003e185.0\u003c/td\u003e\\n\",","              \"      \u003ctd\u003e0.517988\u003c/td\u003e\\n\",","              \"      \u003ctd\u003e2.373154\u003c/td\u003e\\n\",","              \"      \u003ctd\u003e66211\u003c/td\u003e\\n\",","              \"      \u003ctd\u003e...\u003c/td\u003e\\n\",","              \"      \u003ctd\u003e0.472187\u003c/td\u003e\\n\",","              \"      \u003ctd\u003e0.254023\u003c/td\u003e\\n\",","              \"      \u003ctd\u003e2005.4\u003c/td\u003e\\n\",","              \"      \u003ctd\u003e0.491561\u003c/td\u003e\\n\",","              \"      \u003ctd\u003e2.396009\u003c/td\u003e\\n\",","              \"      \u003ctd\u003e89582\u003c/td\u003e\\n\",","              \"      \u003ctd\u003e0.051361\u003c/td\u003e\\n\",","              \"      \u003ctd\u003e0.054695\u003c/td\u003e\\n\",","              \"      \u003ctd\u003e0.457759\u003c/td\u003e\\n\",","              \"      \u003ctd\u003e0.184742\u003c/td\u003e\\n\",","              \"    \u003c/tr\u003e\\n\",","              \"    \u003ctr\u003e\\n\",","              \"      \u003cth\u003e88925\u003c/th\u003e\\n\",","              \"      \u003ctd\u003eE07000116\u003c/td\u003e\\n\",","              \"      \u003ctd\u003eE07000069\u003c/td\u003e\\n\",","              \"      \u003ctd\u003e1\u003c/td\u003e\\n\",","              \"      \u003ctd\u003e30.026919\u003c/td\u003e\\n\",","              \"      \u003ctd\u003eTunbridge Wells\u003c/td\u003e\\n\",","              \"      \u003ctd\u003eCastle Point\u003c/td\u003e\\n\",","              \"      \u003ctd\u003e348.0\u003c/td\u003e\\n\",","              \"      \u003ctd\u003e0.501537\u003c/td\u003e\\n\",","              \"      \u003ctd\u003e2.391315\u003c/td\u003e\\n\",","              \"      \u003ctd\u003e115314\u003c/td\u003e\\n\",","              \"      \u003ctd\u003e...\u003c/td\u003e\\n\",","              \"      \u003ctd\u003e0.484737\u003c/td\u003e\\n\",","              \"      \u003ctd\u003e0.411364\u003c/td\u003e\\n\",","              \"      \u003ctd\u003e2005.4\u003c/td\u003e\\n\",","              \"      \u003ctd\u003e0.491561\u003c/td\u003e\\n\",","              \"      \u003ctd\u003e2.396009\u003c/td\u003e\\n\",","              \"      \u003ctd\u003e89582\u003c/td\u003e\\n\",","              \"      \u003ctd\u003e0.051361\u003c/td\u003e\\n\",","              \"      \u003ctd\u003e0.054695\u003c/td\u003e\\n\",","              \"      \u003ctd\u003e0.457759\u003c/td\u003e\\n\",","              \"      \u003ctd\u003e0.184742\u003c/td\u003e\\n\",","              \"    \u003c/tr\u003e\\n\",","              \"    \u003ctr\u003e\\n\",","              \"      \u003cth\u003e88926\u003c/th\u003e\\n\",","              \"      \u003ctd\u003eW06000010\u003c/td\u003e\\n\",","              \"      \u003ctd\u003eE07000069\u003c/td\u003e\\n\",","              \"      \u003ctd\u003e1\u003c/td\u003e\\n\",","              \"      \u003ctd\u003e205.787386\u003c/td\u003e\\n\",","              \"      \u003ctd\u003eCarmarthenshire\u003c/td\u003e\\n\",","              \"      \u003ctd\u003eCastle Point\u003c/td\u003e\\n\",","              \"      \u003ctd\u003e79.3\u003c/td\u003e\\n\",","              \"      \u003ctd\u003e0.472892\u003c/td\u003e\\n\",","              \"      \u003ctd\u003e2.298193\u003c/td\u003e\\n\",","              \"      \u003ctd\u003e187898\u003c/td\u003e\\n\",","              \"      \u003ctd\u003e...\u003c/td\u003e\\n\",","              \"      \u003ctd\u003e0.436157\u003c/td\u003e\\n\",","              \"      \u003ctd\u003e0.312851\u003c/td\u003e\\n\",","              \"      \u003ctd\u003e2005.4\u003c/td\u003e\\n\",","              \"      \u003ctd\u003e0.491561\u003c/td\u003e\\n\",","              \"      \u003ctd\u003e2.396009\u003c/td\u003e\\n\",","              \"      \u003ctd\u003e89582\u003c/td\u003e\\n\",","              \"      \u003ctd\u003e0.051361\u003c/td\u003e\\n\",","              \"      \u003ctd\u003e0.054695\u003c/td\u003e\\n\",","              \"      \u003ctd\u003e0.457759\u003c/td\u003e\\n\",","              \"      \u003ctd\u003e0.184742\u003c/td\u003e\\n\",","              \"    \u003c/tr\u003e\\n\",","              \"  \u003c/tbody\u003e\\n\",","              \"\u003c/table\u003e\\n\",","              \"\u003cp\u003e88927 rows × 22 columns\u003c/p\u003e\\n\",","              \"\u003c/div\u003e\\n\",","              \"    \u003cdiv class=\\\"colab-df-buttons\\\"\u003e\\n\",","              \"\\n\",","              \"  \u003cdiv class=\\\"colab-df-container\\\"\u003e\\n\",","              \"    \u003cbutton class=\\\"colab-df-convert\\\" onclick=\\\"convertToInteractive('df-30057ade-e36f-4453-aa1f-ef28773454fa')\\\"\\n\",","              \"            title=\\\"Convert this dataframe to an interactive table.\\\"\\n\",","              \"            style=\\\"display:none;\\\"\u003e\\n\",","              \"\\n\",","              \"  \u003csvg xmlns=\\\"http://www.w3.org/2000/svg\\\" height=\\\"24px\\\" viewBox=\\\"0 -960 960 960\\\"\u003e\\n\",","              \"    \u003cpath d=\\\"M120-120v-720h720v720H120Zm60-500h600v-160H180v160Zm220 220h160v-160H400v160Zm0 220h160v-160H400v160ZM180-400h160v-160H180v160Zm440 0h160v-160H620v160ZM180-180h160v-160H180v160Zm440 0h160v-160H620v160Z\\\"/\u003e\\n\",","              \"  \u003c/svg\u003e\\n\",","              \"    \u003c/button\u003e\\n\",","              \"\\n\",","              \"  \u003cstyle\u003e\\n\",","              \"    .colab-df-container {\\n\",","              \"      display:flex;\\n\",","              \"      gap: 12px;\\n\",","              \"    }\\n\",","              \"\\n\",","              \"    .colab-df-convert {\\n\",","              \"      background-color: #E8F0FE;\\n\",","              \"      border: none;\\n\",","              \"      border-radius: 50%;\\n\",","              \"      cursor: pointer;\\n\",","              \"      display: none;\\n\",","              \"      fill: #1967D2;\\n\",","              \"      height: 32px;\\n\",","              \"      padding: 0 0 0 0;\\n\",","              \"      width: 32px;\\n\",","              \"    }\\n\",","              \"\\n\",","              \"    .colab-df-convert:hover {\\n\",","              \"      background-color: #E2EBFA;\\n\",","              \"      box-shadow: 0px 1px 2px rgba(60, 64, 67, 0.3), 0px 1px 3px 1px rgba(60, 64, 67, 0.15);\\n\",","              \"      fill: #174EA6;\\n\",","              \"    }\\n\",","              \"\\n\",","              \"    .colab-df-buttons div {\\n\",","              \"      margin-bottom: 4px;\\n\",","              \"    }\\n\",","              \"\\n\",","              \"    [theme=dark] .colab-df-convert {\\n\",","              \"      background-color: #3B4455;\\n\",","              \"      fill: #D2E3FC;\\n\",","              \"    }\\n\",","              \"\\n\",","              \"    [theme=dark] .colab-df-convert:hover {\\n\",","              \"      background-color: #434B5C;\\n\",","              \"      box-shadow: 0px 1px 3px 1px rgba(0, 0, 0, 0.15);\\n\",","              \"      filter: drop-shadow(0px 1px 2px rgba(0, 0, 0, 0.3));\\n\",","              \"      fill: #FFFFFF;\\n\",","              \"    }\\n\",","              \"  \u003c/style\u003e\\n\",","              \"\\n\",","              \"    \u003cscript\u003e\\n\",","              \"      const buttonEl =\\n\",","              \"        document.querySelector('#df-30057ade-e36f-4453-aa1f-ef28773454fa button.colab-df-convert');\\n\",","              \"      buttonEl.style.display =\\n\",","              \"        google.colab.kernel.accessAllowed ? 'block' : 'none';\\n\",","              \"\\n\",","              \"      async function convertToInteractive(key) {\\n\",","              \"        const element = document.querySelector('#df-30057ade-e36f-4453-aa1f-ef28773454fa');\\n\",","              \"        const dataTable =\\n\",","              \"          await google.colab.kernel.invokeFunction('convertToInteractive',\\n\",","              \"                                                    [key], {});\\n\",","              \"        if (!dataTable) return;\\n\",","              \"\\n\",","              \"        const docLinkHtml = 'Like what you see? Visit the ' +\\n\",","              \"          '\u003ca target=\\\"_blank\\\" href=https://colab.research.google.com/notebooks/data_table.ipynb\u003edata table notebook\u003c/a\u003e'\\n\",","              \"          + ' to learn more about interactive tables.';\\n\",","              \"        element.innerHTML = '';\\n\",","              \"        dataTable['output_type'] = 'display_data';\\n\",","              \"        await google.colab.output.renderOutput(dataTable, element);\\n\",","              \"        const docLink = document.createElement('div');\\n\",","              \"        docLink.innerHTML = docLinkHtml;\\n\",","              \"        element.appendChild(docLink);\\n\",","              \"      }\\n\",","              \"    \u003c/script\u003e\\n\",","              \"  \u003c/div\u003e\\n\",","              \"\\n\",","              \"\\n\",","              \"\u003cdiv id=\\\"df-30f2eba8-82cd-4e9b-a44c-019965a25d89\\\"\u003e\\n\",","              \"  \u003cbutton class=\\\"colab-df-quickchart\\\" onclick=\\\"quickchart('df-30f2eba8-82cd-4e9b-a44c-019965a25d89')\\\"\\n\",","              \"            title=\\\"Suggest charts\\\"\\n\",","              \"            style=\\\"display:none;\\\"\u003e\\n\",","              \"\\n\",","              \"\u003csvg xmlns=\\\"http://www.w3.org/2000/svg\\\" height=\\\"24px\\\"viewBox=\\\"0 0 24 24\\\"\\n\",","              \"     width=\\\"24px\\\"\u003e\\n\",","              \"    \u003cg\u003e\\n\",","              \"        \u003cpath d=\\\"M19 3H5c-1.1 0-2 .9-2 2v14c0 1.1.9 2 2 2h14c1.1 0 2-.9 2-2V5c0-1.1-.9-2-2-2zM9 17H7v-7h2v7zm4 0h-2V7h2v10zm4 0h-2v-4h2v4z\\\"/\u003e\\n\",","              \"    \u003c/g\u003e\\n\",","              \"\u003c/svg\u003e\\n\",","              \"  \u003c/button\u003e\\n\",","              \"\\n\",","              \"\u003cstyle\u003e\\n\",","              \"  .colab-df-quickchart {\\n\",","              \"      --bg-color: #E8F0FE;\\n\",","              \"      --fill-color: #1967D2;\\n\",","              \"      --hover-bg-color: #E2EBFA;\\n\",","              \"      --hover-fill-color: #174EA6;\\n\",","              \"      --disabled-fill-color: #AAA;\\n\",","              \"      --disabled-bg-color: #DDD;\\n\",","              \"  }\\n\",","              \"\\n\",","              \"  [theme=dark] .colab-df-quickchart {\\n\",","              \"      --bg-color: #3B4455;\\n\",","              \"      --fill-color: #D2E3FC;\\n\",","              \"      --hover-bg-color: #434B5C;\\n\",","              \"      --hover-fill-color: #FFFFFF;\\n\",","              \"      --disabled-bg-color: #3B4455;\\n\",","              \"      --disabled-fill-color: #666;\\n\",","              \"  }\\n\",","              \"\\n\",","              \"  .colab-df-quickchart {\\n\",","              \"    background-color: var(--bg-color);\\n\",","              \"    border: none;\\n\",","              \"    border-radius: 50%;\\n\",","              \"    cursor: pointer;\\n\",","              \"    display: none;\\n\",","              \"    fill: var(--fill-color);\\n\",","              \"    height: 32px;\\n\",","              \"    padding: 0;\\n\",","              \"    width: 32px;\\n\",","              \"  }\\n\",","              \"\\n\",","              \"  .colab-df-quickchart:hover {\\n\",","              \"    background-color: var(--hover-bg-color);\\n\",","              \"    box-shadow: 0 1px 2px rgba(60, 64, 67, 0.3), 0 1px 3px 1px rgba(60, 64, 67, 0.15);\\n\",","              \"    fill: var(--button-hover-fill-color);\\n\",","              \"  }\\n\",","              \"\\n\",","              \"  .colab-df-quickchart-complete:disabled,\\n\",","              \"  .colab-df-quickchart-complete:disabled:hover {\\n\",","              \"    background-color: var(--disabled-bg-color);\\n\",","              \"    fill: var(--disabled-fill-color);\\n\",","              \"    box-shadow: none;\\n\",","              \"  }\\n\",","              \"\\n\",","              \"  .colab-df-spinner {\\n\",","              \"    border: 2px solid var(--fill-color);\\n\",","              \"    border-color: transparent;\\n\",","              \"    border-bottom-color: var(--fill-color);\\n\",","              \"    animation:\\n\",","              \"      spin 1s steps(1) infinite;\\n\",","              \"  }\\n\",","              \"\\n\",","              \"  @keyframes spin {\\n\",","              \"    0% {\\n\",","              \"      border-color: transparent;\\n\",","              \"      border-bottom-color: var(--fill-color);\\n\",","              \"      border-left-color: var(--fill-color);\\n\",","              \"    }\\n\",","              \"    20% {\\n\",","              \"      border-color: transparent;\\n\",","              \"      border-left-color: var(--fill-color);\\n\",","              \"      border-top-color: var(--fill-color);\\n\",","              \"    }\\n\",","              \"    30% {\\n\",","              \"      border-color: transparent;\\n\",","              \"      border-left-color: var(--fill-color);\\n\",","              \"      border-top-color: var(--fill-color);\\n\",","              \"      border-right-color: var(--fill-color);\\n\",","              \"    }\\n\",","              \"    40% {\\n\",","              \"      border-color: transparent;\\n\",","              \"      border-right-color: var(--fill-color);\\n\",","              \"      border-top-color: var(--fill-color);\\n\",","              \"    }\\n\",","              \"    60% {\\n\",","              \"      border-color: transparent;\\n\",","              \"      border-right-color: var(--fill-color);\\n\",","              \"    }\\n\",","              \"    80% {\\n\",","              \"      border-color: transparent;\\n\",","              \"      border-right-color: var(--fill-color);\\n\",","              \"      border-bottom-color: var(--fill-color);\\n\",","              \"    }\\n\",","              \"    90% {\\n\",","              \"      border-color: transparent;\\n\",","              \"      border-bottom-color: var(--fill-color);\\n\",","              \"    }\\n\",","              \"  }\\n\",","              \"\u003c/style\u003e\\n\",","              \"\\n\",","              \"  \u003cscript\u003e\\n\",","              \"    async function quickchart(key) {\\n\",","              \"      const quickchartButtonEl =\\n\",","              \"        document.querySelector('#' + key + ' button');\\n\",","              \"      quickchartButtonEl.disabled = true;  // To prevent multiple clicks.\\n\",","              \"      quickchartButtonEl.classList.add('colab-df-spinner');\\n\",","              \"      try {\\n\",","              \"        const charts = await google.colab.kernel.invokeFunction(\\n\",","              \"            'suggestCharts', [key], {});\\n\",","              \"      } catch (error) {\\n\",","              \"        console.error('Error during call to suggestCharts:', error);\\n\",","              \"      }\\n\",","              \"      quickchartButtonEl.classList.remove('colab-df-spinner');\\n\",","              \"      quickchartButtonEl.classList.add('colab-df-quickchart-complete');\\n\",","              \"    }\\n\",","              \"    (() =\u003e {\\n\",","              \"      let quickchartButtonEl =\\n\",","              \"        document.querySelector('#df-30f2eba8-82cd-4e9b-a44c-019965a25d89 button');\\n\",","              \"      quickchartButtonEl.style.display =\\n\",","              \"        google.colab.kernel.accessAllowed ? 'block' : 'none';\\n\",","              \"    })();\\n\",","              \"  \u003c/script\u003e\\n\",","              \"\u003c/div\u003e\\n\",","              \"    \u003c/div\u003e\\n\",","              \"  \u003c/div\u003e\\n\"","            ]","          },","          \"metadata\": {},","          \"execution_count\": 3","        }","      ]","    },","    {","      \"cell_type\": \"markdown\",","      \"source\": [","        \"This workflow is really simple..\"","      ],","      \"metadata\": {","        \"id\": \"NwaD2ob4rZ74\"","      }","    },","    {","      \"cell_type\": \"code\",","      \"source\": [","        \"# import libraries\\n\",","        \"import pandas as pd\\n\",","        \"import numpy as np\\n\",","        \"\\n\",","        \"from supervised.automl import AutoML\"","      ],","      \"metadata\": {","        \"id\": \"PxQpWtz2MT5Q\"","      },","      \"execution_count\": 2,","      \"outputs\": []","    },","    {","      \"cell_type\": \"code\",","      \"source\": [","        \"# make sure we can see the plots\\n\",","        \"%matplotlib inline\"","      ],","      \"metadata\": {","        \"id\": \"nWBN7qYr6VPh\"","      },","      \"execution_count\": 32,","      \"outputs\": []","    },","    {","      \"cell_type\": \"code\",","      \"source\": [","        \"# mount to Google Drive so we can import the data\\n\",","        \"from google.colab import drive\\n\",","        \"drive.mount('/content/drive')\"","      ],","      \"metadata\": {","        \"colab\": {","          \"base_uri\": \"https://localhost:8080/\"","        },","        \"id\": \"2Enfhe3JMbLE\",","        \"outputId\": \"92e53f11-7e00-4024-95a2-0a818594d964\"","      },","      \"execution_count\": 3,","      \"outputs\": [","        {","          \"output_type\": \"stream\",","          \"name\": \"stdout\",","          \"text\": [","            \"Mounted at /content/drive\\n\"","          ]","        }","      ]","    },","    {","      \"cell_type\": \"code\",","      \"source\": [","        \"# read in the data wherever you stored it\\n\",","        \"df = pd.read_csv(\\\"drive/MyDrive/urbansim/migration.csv\\\")\"","      ],","      \"metadata\": {","        \"id\": \"Gsnd1aSlMhWo\"","      },","      \"execution_count\": 4,","      \"outputs\": []","    },","    {","      \"cell_type\": \"code\",","      \"source\": [","        \"# or you can read it in from github\\n\",","        \"# df = pd.read_csv(\\\"https://github.com/asrenninger/urbansim/raw/main/automl/migration.csv.gz\\\")\"","      ],","      \"metadata\": {","        \"id\": \"qzdmJ37PxB8l\"","      },","      \"execution_count\": null,","      \"outputs\": []","    },","    {","      \"cell_type\": \"code\",","      \"source\": [","        \"# I'm listing the columns so below I can see what I want to keep\\n\",","        \"df.columns\"","      ],","      \"metadata\": {","        \"colab\": {","          \"base_uri\": \"https://localhost:8080/\"","        },","        \"id\": \"2cgzQAp2Mrcw\",","        \"outputId\": \"9ae9bb1e-4ee9-415e-d102-e5b7d274851b\"","      },","      \"execution_count\": 5,","      \"outputs\": [","        {","          \"output_type\": \"execute_result\",","          \"data\": {","            \"text/plain\": [","              \"Index(['code_i', 'code_j', 'F_ij', 'distance', 'name_i', 'name_j', 'density_i',\\n\",","              \"       'married_i', 'households_i', 'population_i', 'nonwhite_i',\\n\",","              \"       'unhealthy_i', 'employed_i', 'university_i', 'density_j', 'married_j',\\n\",","              \"       'households_j', 'population_j', 'nonwhite_j', 'unhealthy_j',\\n\",","              \"       'employed_j', 'university_j'],\\n\",","              \"      dtype='object')\"","            ]","          },","          \"metadata\": {},","          \"execution_count\": 5","        }","      ]","    },","    {","      \"cell_type\": \"markdown\",","      \"source\": [","        \"AutoML has several modes—Explain, Perform, Compete. They all use different combinations of models to create the best prediction. The lightest, fastest possible collection of models is Explain, so we will stick with that to make it run faster.\"","      ],","      \"metadata\": {","        \"id\": \"7X-pIE-et87q\"","      }","    },","    {","      \"cell_type\": \"code\",","      \"source\": [","        \"# create training and testing data\\n\",","        \"from sklearn.model_selection import train_test_split\\n\",","        \"X_train, X_test, y_train, y_test = train_test_split(\\n\",","        \"    # we are going to throw out the first 2 columns\\n\",","        \"    df[df.columns[3:]], df[\\\"F_ij\\\"], test_size=0.25\\n\",","        \")\\n\",","        \"\\n\",","        \"# the results_path should point to a folder that you have already created to store the model results\\n\",","        \"automl = AutoML(results_path=\\\"drive/MyDrive/urbansim/automl\\\", mode='Explain')\\n\",","        \"# fit the model\\n\",","        \"automl.fit(X_train, y_train)\"","      ],","      \"metadata\": {","        \"colab\": {","          \"base_uri\": \"https://localhost:8080/\",","          \"height\": 595","        },","        \"id\": \"SjR_B0SqNbin\",","        \"outputId\": \"a5204b0b-4814-4f13-9053-68c573c55f95\"","      },","      \"execution_count\": 8,","      \"outputs\": [","        {","          \"output_type\": \"stream\",","          \"name\": \"stdout\",","          \"text\": [","            \"Linear algorithm was disabled.\\n\",","            \"AutoML directory: drive/MyDrive/urbansim/automl\\n\",","            \"The task is regression with evaluation metric rmse\\n\",","            \"AutoML will use algorithms: ['Baseline', 'Decision Tree', 'Random Forest', 'Xgboost', 'Neural Network']\\n\",","            \"AutoML will ensemble available models\\n\",","            \"AutoML steps: ['simple_algorithms', 'default_algorithms', 'ensemble']\\n\",","            \"* Step simple_algorithms will try to check up to 2 models\\n\",","            \"1_Baseline rmse 121.835677 trained in 0.56 seconds\\n\",","            \"2_DecisionTree rmse 85.113257 trained in 13.3 seconds\\n\",","            \"* Step default_algorithms will try to check up to 3 models\\n\"","          ]","        },","        {","          \"output_type\": \"stream\",","          \"name\": \"stderr\",","          \"text\": [","            \"/usr/local/lib/python3.10/dist-packages/supervised/preprocessing/scale.py:33: FutureWarning: Setting an item of incompatible dtype is deprecated and will raise in a future error of pandas. Value '[-0.20943578  6.80883001 -0.07053261 ... -0.15826093 -0.20212509\\n\",","            \" -0.17288231]' has dtype incompatible with int64, please explicitly cast to a compatible dtype first.\\n\"","          ]","        },","        {","          \"output_type\": \"stream\",","          \"name\": \"stdout\",","          \"text\": [","            \"3_Default_Xgboost rmse 69.616028 trained in 5.11 seconds\\n\"","          ]","        },","        {","          \"output_type\": \"stream\",","          \"name\": \"stderr\",","          \"text\": [","            \"/usr/local/lib/python3.10/dist-packages/supervised/preprocessing/scale.py:33: FutureWarning: Setting an item of incompatible dtype is deprecated and will raise in a future error of pandas. Value '[-0.20943578  6.80883001 -0.07053261 ... -0.15826093 -0.20212509\\n\",","            \" -0.17288231]' has dtype incompatible with int64, please explicitly cast to a compatible dtype first.\\n\",","            \"/usr/local/lib/python3.10/dist-packages/supervised/preprocessing/scale.py:33: FutureWarning: Setting an item of incompatible dtype is deprecated and will raise in a future error of pandas. Value '[-0.73134378 -0.32150792  0.12731694 ...  1.29807022 -1.11464797\\n\",","            \" -0.80222574]' has dtype incompatible with int64, please explicitly cast to a compatible dtype first.\\n\",","            \"/usr/local/lib/python3.10/dist-packages/supervised/preprocessing/scale.py:33: FutureWarning: Setting an item of incompatible dtype is deprecated and will raise in a future error of pandas. Value '[-0.56686143 -0.47612571  0.5198764  ...  0.18297612 -0.46020989\\n\",","            \"  1.62638416]' has dtype incompatible with int64, please explicitly cast to a compatible dtype first.\\n\"","          ]","        },","        {","          \"output_type\": \"stream\",","          \"name\": \"stdout\",","          \"text\": [","            \"4_Default_NeuralNetwork rmse 78.350832 trained in 10.09 seconds\\n\"","          ]","        },","        {","          \"output_type\": \"stream\",","          \"name\": \"stderr\",","          \"text\": [","            \"/usr/local/lib/python3.10/dist-packages/supervised/utils/learning_curves.py:113: FutureWarning: The behavior of Series.argmax/argmin with skipna=False and NAs, or with all-NAs is deprecated. In a future version this will raise ValueError.\\n\",","            \"/usr/local/lib/python3.10/dist-packages/supervised/preprocessing/scale.py:33: FutureWarning: Setting an item of incompatible dtype is deprecated and will raise in a future error of pandas. Value '[-0.20943578  6.80883001 -0.07053261 ... -0.15826093 -0.20212509\\n\",","            \" -0.17288231]' has dtype incompatible with int64, please explicitly cast to a compatible dtype first.\\n\"","          ]","        },","        {","          \"output_type\": \"stream\",","          \"name\": \"stdout\",","          \"text\": [","            \"5_Default_RandomForest rmse 76.380339 trained in 16.15 seconds\\n\",","            \"* Step ensemble will try to check up to 1 model\\n\",","            \"Ensemble rmse 65.94702 trained in 0.28 seconds\\n\",","            \"AutoML fit time: 53.78 seconds\\n\",","            \"AutoML best model: Ensemble\\n\"","          ]","        },","        {","          \"output_type\": \"execute_result\",","          \"data\": {","            \"text/plain\": [","              \"AutoML(results_path='drive/MyDrive/urbansim/automl')\"","            ],","            \"text/html\": [","              \"\u003cstyle\u003e#sk-container-id-1 {color: black;background-color: white;}#sk-container-id-1 pre{padding: 0;}#sk-container-id-1 div.sk-toggleable {background-color: white;}#sk-container-id-1 label.sk-toggleable__label {cursor: pointer;display: block;width: 100%;margin-bottom: 0;padding: 0.3em;box-sizing: border-box;text-align: center;}#sk-container-id-1 label.sk-toggleable__label-arrow:before {content: \\\"▸\\\";float: left;margin-right: 0.25em;color: #696969;}#sk-container-id-1 label.sk-toggleable__label-arrow:hover:before {color: black;}#sk-container-id-1 div.sk-estimator:hover label.sk-toggleable__label-arrow:before {color: black;}#sk-container-id-1 div.sk-toggleable__content {max-height: 0;max-width: 0;overflow: hidden;text-align: left;background-color: #f0f8ff;}#sk-container-id-1 div.sk-toggleable__content pre {margin: 0.2em;color: black;border-radius: 0.25em;background-color: #f0f8ff;}#sk-container-id-1 input.sk-toggleable__control:checked~div.sk-toggleable__content {max-height: 200px;max-width: 100%;overflow: auto;}#sk-container-id-1 input.sk-toggleable__control:checked~label.sk-toggleable__label-arrow:before {content: \\\"▾\\\";}#sk-container-id-1 div.sk-estimator input.sk-toggleable__control:checked~label.sk-toggleable__label {background-color: #d4ebff;}#sk-container-id-1 div.sk-label input.sk-toggleable__control:checked~label.sk-toggleable__label {background-color: #d4ebff;}#sk-container-id-1 input.sk-hidden--visually {border: 0;clip: rect(1px 1px 1px 1px);clip: rect(1px, 1px, 1px, 1px);height: 1px;margin: -1px;overflow: hidden;padding: 0;position: absolute;width: 1px;}#sk-container-id-1 div.sk-estimator {font-family: monospace;background-color: #f0f8ff;border: 1px dotted black;border-radius: 0.25em;box-sizing: border-box;margin-bottom: 0.5em;}#sk-container-id-1 div.sk-estimator:hover {background-color: #d4ebff;}#sk-container-id-1 div.sk-parallel-item::after {content: \\\"\\\";width: 100%;border-bottom: 1px solid gray;flex-grow: 1;}#sk-container-id-1 div.sk-label:hover label.sk-toggleable__label {background-color: #d4ebff;}#sk-container-id-1 div.sk-serial::before {content: \\\"\\\";position: absolute;border-left: 1px solid gray;box-sizing: border-box;top: 0;bottom: 0;left: 50%;z-index: 0;}#sk-container-id-1 div.sk-serial {display: flex;flex-direction: column;align-items: center;background-color: white;padding-right: 0.2em;padding-left: 0.2em;position: relative;}#sk-container-id-1 div.sk-item {position: relative;z-index: 1;}#sk-container-id-1 div.sk-parallel {display: flex;align-items: stretch;justify-content: center;background-color: white;position: relative;}#sk-container-id-1 div.sk-item::before, #sk-container-id-1 div.sk-parallel-item::before {content: \\\"\\\";position: absolute;border-left: 1px solid gray;box-sizing: border-box;top: 0;bottom: 0;left: 50%;z-index: -1;}#sk-container-id-1 div.sk-parallel-item {display: flex;flex-direction: column;z-index: 1;position: relative;background-color: white;}#sk-container-id-1 div.sk-parallel-item:first-child::after {align-self: flex-end;width: 50%;}#sk-container-id-1 div.sk-parallel-item:last-child::after {align-self: flex-start;width: 50%;}#sk-container-id-1 div.sk-parallel-item:only-child::after {width: 0;}#sk-container-id-1 div.sk-dashed-wrapped {border: 1px dashed gray;margin: 0 0.4em 0.5em 0.4em;box-sizing: border-box;padding-bottom: 0.4em;background-color: white;}#sk-container-id-1 div.sk-label label {font-family: monospace;font-weight: bold;display: inline-block;line-height: 1.2em;}#sk-container-id-1 div.sk-label-container {text-align: center;}#sk-container-id-1 div.sk-container {/* jupyter's `normalize.less` sets `[hidden] { display: none; }` but bootstrap.min.css set `[hidden] { display: none !important; }` so we also need the `!important` here to be able to override the default hidden behavior on the sphinx rendered scikit-learn.org. See: https://github.com/scikit-learn/scikit-learn/issues/21755 */display: inline-block !important;position: relative;}#sk-container-id-1 div.sk-text-repr-fallback {display: none;}\u003c/style\u003e\u003cdiv id=\\\"sk-container-id-1\\\" class=\\\"sk-top-container\\\"\u003e\u003cdiv class=\\\"sk-text-repr-fallback\\\"\u003e\u003cpre\u003eAutoML(results_path=\u0026#x27;drive/MyDrive/urbansim/automl\u0026#x27;)\u003c/pre\u003e\u003cb\u003eIn a Jupyter environment, please rerun this cell to show the HTML representation or trust the notebook. \u003cbr /\u003eOn GitHub, the HTML representation is unable to render, please try loading this page with nbviewer.org.\u003c/b\u003e\u003c/div\u003e\u003cdiv class=\\\"sk-container\\\" hidden\u003e\u003cdiv class=\\\"sk-item\\\"\u003e\u003cdiv class=\\\"sk-estimator sk-toggleable\\\"\u003e\u003cinput class=\\\"sk-toggleable__control sk-hidden--visually\\\" id=\\\"sk-estimator-id-1\\\" type=\\\"checkbox\\\" checked\u003e\u003clabel for=\\\"sk-estimator-id-1\\\" class=\\\"sk-toggleable__label sk-toggleable__label-arrow\\\"\u003eAutoML\u003c/label\u003e\u003cdiv class=\\\"sk-toggleable__content\\\"\u003e\u003cpre\u003eAutoML(results_path=\u0026#x27;drive/MyDrive/urbansim/automl\u0026#x27;)\u003c/pre\u003e\u003c/div\u003e\u003c/div\u003e\u003c/div\u003e\u003c/div\u003e\u003c/div\u003e\"","            ]","          },","          \"metadata\": {},","          \"execution_count\": 8","        }","      ]","    },","    {","      \"cell_type\": \"markdown\",","      \"source\": [","        \"See that AutoML saves the model as to your folder. Go to the directory and check out the model. There should be Feature Importance images in each model folder. These compute the \\\"importance\\\" of each variable by shuffling them one-by-one and seeing how much a completely random version hurts model performance. What are some important features?\"","      ],","      \"metadata\": {","        \"id\": \"2qAjSYROtLpv\"","      }","    },","    {","      \"cell_type\": \"code\",","      \"source\": [","        \"# let's store predictions\\n\",","        \"y_pred = automl.predict(X_test)\"","      ],","      \"metadata\": {","        \"id\": \"zshUY8IcPWfa\",","        \"colab\": {","          \"base_uri\": \"https://localhost:8080/\"","        },","        \"outputId\": \"6669d12e-8e70-43a0-c176-b3b9c25227ae\"","      },","      \"execution_count\": 12,","      \"outputs\": [","        {","          \"output_type\": \"stream\",","          \"name\": \"stderr\",","          \"text\": [","            \"/usr/local/lib/python3.10/dist-packages/supervised/preprocessing/scale.py:33: FutureWarning: Setting an item of incompatible dtype is deprecated and will raise in a future error of pandas. Value '[-0.32132738 -0.46973991  1.63596443 ... -0.34010364 -0.81560932\\n\",","            \" -0.94388761]' has dtype incompatible with int64, please explicitly cast to a compatible dtype first.\\n\",","            \"/usr/local/lib/python3.10/dist-packages/supervised/preprocessing/scale.py:33: FutureWarning: Setting an item of incompatible dtype is deprecated and will raise in a future error of pandas. Value '[-0.68551224 -0.58100622 -0.57680101 ... -0.23106902 -0.03251148\\n\",","            \" -0.46446971]' has dtype incompatible with int64, please explicitly cast to a compatible dtype first.\\n\"","          ]","        }","      ]","    },","    {","      \"cell_type\": \"markdown\",","      \"source\": [","        \"There are lot of model evaluation metrics in [sklearn](https://scikit-learn.org/stable/modules/classes.html#module-sklearn.metrics)\"","      ],","      \"metadata\": {","        \"id\": \"hw8XerU4sKTf\"","      }","    },","    {","      \"cell_type\": \"code\",","      \"source\": [","        \"from sklearn.metrics import mean_absolute_percentage_error, median_absolute_error, r2_score\\n\",","        \"# percent error\\n\",","        \"print(mean_absolute_percentage_error(y_test, y_pred))\\n\",","        \"# absolute error\\n\",","        \"print(median_absolute_error(y_test, y_pred))\\n\",","        \"# r-squared\\n\",","        \"print(r2_score(y_test, y_pred))\"","      ],","      \"metadata\": {","        \"colab\": {","          \"base_uri\": \"https://localhost:8080/\"","        },","        \"id\": \"TNmQqcux2Tiz\",","        \"outputId\": \"68a8f0b2-52bd-46c3-d518-a01f82969df6\"","      },","      \"execution_count\": 51,","      \"outputs\": [","        {","          \"output_type\": \"stream\",","          \"name\": \"stdout\",","          \"text\": [","            \"1.9874398419973232\\n\",","            \"6.264500414139448\\n\",","            \"0.6576773703623421\\n\"","          ]","        }","      ]","    },","    {","      \"cell_type\": \"markdown\",","      \"source\": [","        \"Why do you think these are useful metrics, compared to something like RMSE?\"","      ],","      \"metadata\": {","        \"id\": \"WRqn675EsY-U\"","      }","    },","    {","      \"cell_type\": \"code\",","      \"source\": [","        \"# bin the predictions so we can see which parts of the distribution we are predicting best with\\n\",","        \"y_eval = pd.DataFrame({'y_pred': y_pred, 'y_test': y_test})\\n\",","        \"y_eval['quantile'] = pd.qcut(y_eval['y_test'], 10, duplicates='drop')\\n\",","        \"y_eval['quantile'] = y_eval['quantile'].apply(lambda x: x.mid)\"","      ],","      \"metadata\": {","        \"id\": \"stTzLGMN3htc\"","      },","      \"execution_count\": 48,","      \"outputs\": []","    },","    {","      \"cell_type\": \"code\",","      \"source\": [","        \"# average error per quantile\\n\",","        \"y_tile = y_eval.groupby('quantile', as_index=False).agg({'y_pred': 'mean', 'y_test': 'mean'})\\n\",","        \"\\n\",","        \"import matplotlib.pyplot as plt\\n\",","        \"# sort the DataFrame by decile for plotting\\n\",","        \"y_tile.sort_values('quantile', inplace=True)\\n\",","        \"\\n\",","        \"# create a figure and an axes instance\\n\",","        \"fig, ax = plt.subplots(figsize=(10, 6))\\n\",","        \"\\n\",","        \"# scatter plot for observed values on ax\\n\",","        \"ax.scatter(y_tile['quantile'], y_tile['y_test'], color='blue', label='Observed')\\n\",","        \"\\n\",","        \"# scatter plot for predicted values on ax\\n\",","        \"ax.scatter(y_tile['quantile'], y_tile['y_pred'], color='red', label='Predicted')\\n\",","        \"\\n\",","        \"# adding labels and legend\\n\",","        \"ax.set_xlabel('Quantile')\\n\",","        \"ax.set_ylabel('Values')\\n\",","        \"ax.set_xscale('log')\\n\",","        \"ax.set_yscale('log')\\n\",","        \"ax.set_title('Quantiles vs. Predicted and Observed Values')\\n\",","        \"ax.legend()\\n\",","        \"\\n\",","        \"# show plot\\n\",","        \"plt.show()\"","      ],","      \"metadata\": {","        \"colab\": {","          \"base_uri\": \"https://localhost:8080/\",","          \"height\": 607","        },","        \"id\": \"8ZakLnwM2JqX\",","        \"outputId\": \"6cadc60c-6e82-4d05-b89b-482de8740a9a\"","      },","      \"execution_count\": 49,","      \"outputs\": [","        {","          \"output_type\": \"stream\",","          \"name\": \"stderr\",","          \"text\": [","            \"\u003cipython-input-49-d808a1b20bc8\u003e:1: FutureWarning: The default of observed=False is deprecated and will be changed to True in a future version of pandas. Pass observed=False to retain current behavior or observed=True to adopt the future default and silence this warning.\\n\"","          ]","        },","        {","          \"output_type\": \"display_data\",","          \"data\": {","            \"text/plain\": [","              \"\u003cFigure size 1000x600 with 1 Axes\u003e\"","            ],","            \"image/png\": \"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\\n\"","          },","          \"metadata\": {}","        }","      ]","    },","    {","      \"cell_type\": \"markdown\",","      \"source\": [","        \"It seems like we are predicting well everywhere except the low end of the distribution\"","      ],","      \"metadata\": {","        \"id\": \"HbNZuhQ3s_KU\"","      }","    },","    {","      \"cell_type\": \"code\",","      \"source\": [","        \"# predictions against observations\\n\",","        \"y_eval.sort_values('quantile', inplace=True)\\n\",","        \"\\n\",","        \"fig, ax = plt.subplots(figsize=(10, 6))\\n\",","        \"\\n\",","        \"ax.scatter(y_eval['y_pred'], y_eval['y_test'], color='blue', label='Observed')\\n\",","        \"ax.set_xlabel('Predicted')\\n\",","        \"ax.set_ylabel('Observed')\\n\",","        \"ax.set_xscale('log')\\n\",","        \"ax.set_yscale('log')\\n\",","        \"ax.set_title('Quantiles vs. Predicted and Observed Values')\\n\",","        \"ax.legend()\\n\",","        \"\\n\",","        \"plt.show()\"","      ],","      \"metadata\": {","        \"colab\": {","          \"base_uri\": \"https://localhost:8080/\",","          \"height\": 569","        },","        \"id\": \"YNN1eU2554vJ\",","        \"outputId\": \"5e0f0211-e796-4d3d-d9cd-7f6340917da1\"","      },","      \"execution_count\": 52,","      \"outputs\": [","        {","          \"output_type\": \"display_data\",","          \"data\": {","            \"text/plain\": [","              \"\u003cFigure size 1000x600 with 1 Axes\u003e\"","            ],","            \"image/png\": \"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\\n\"","          },","          \"metadata\": {}","        }","      ]","    },","    {","      \"cell_type\": \"markdown\",","      \"source\": [","        \"# Challenge\\n\",","        \"\\n\",","        \"Create a new folder called \\\"perform\\\", then run AutoML again with a new results_path but instead of \\\"Explain\\\" use \\\"Perform\\\" as its mode. This will use more models in the stacking and should get better results. Show some metrics from `sklearn`and plot some results; can you show that the new \\\"Perform\\\" model did better or worse?\"","      ],","      \"metadata\": {","        \"id\": \"GteqLxIMtX6o\"","      }","    },","    {","      \"cell_type\": \"code\",","      \"source\": [],","      \"metadata\": {","        \"id\": \"6-0DEMnF9LKo\"","      },","      \"execution_count\": null,","      \"outputs\": []","    }","  ]","}"],"stylingDirectives":null,"csv":null,"csvError":null,"dependabotInfo":{"showConfigurationBanner":null,"configFilePath":null,"networkDependabotPath":"/asrenninger/urbansim/network/updates","dismissConfigurationNoticePath":"/settings/dismiss-notice/dependabot_configuration_notice","configurationNoticeDismissed":false,"repoAlertsPath":"/asrenninger/urbansim/security/dependabot","repoSecurityAndAnalysisPath":"/asrenninger/urbansim/settings/security_analysis","repoOwnerIsOrg":false,"currentUserCanAdminRepo":true},"displayName":"automl.ipynb","displayUrl":"https://notebooks.githubusercontent.com/view/ipynb?browser=chrome\u0026bypass_fastly=true\u0026color_mode=light\u0026commit=47514f788964c41f73d133dbbe28b9014a3e6bd5\u0026device=unknown_device\u0026docs_host=https%3A%2F%2Fdocs.github.com\u0026enc_url=68747470733a2f2f7261772e67697468756275736572636f6e74656e742e636f6d2f617372656e6e696e6765722f757262616e73696d2f343735313466373838393634633431663733643133336462626532386239303134613365366264352f6175746f6d6c2f6175746f6d6c2e6970796e62\u0026logged_in=true\u0026nwo=asrenninger%2Furbansim\u0026path=automl%2Fautoml.ipynb\u0026platform=mac\u0026repository_id=612443982\u0026repository_type=Repository\u0026version=119","headerInfo":{"blobSize":"156 KB","deleteInfo":{"deleteTooltip":"Delete this file"},"editInfo":{"editTooltip":"Edit this file"},"ghDesktopPath":"x-github-client://openRepo/https://github.com/asrenninger/urbansim?branch=main\u0026filepath=automl%2Fautoml.ipynb","gitLfsPath":null,"onBranch":true,"shortPath":"8c32b8e","siteNavLoginPath":"/login?return_to=https%3A%2F%2Fgithub.com%2Fasrenninger%2Furbansim%2Fblob%2Fmain%2Fautoml%2Fautoml.ipynb","isCSV":false,"isRichtext":false,"toc":null,"lineInfo":{"truncatedLoc":"1230","truncatedSloc":"1230"},"mode":"file"},"image":false,"isCodeownersFile":null,"isPlain":false,"isValidLegacyIssueTemplate":false,"issueTemplateHelpUrl":"https://docs.github.com/articles/about-issue-and-pull-request-templates","issueTemplate":null,"discussionTemplate":null,"language":"Jupyter Notebook","languageID":185,"large":false,"loggedIn":true,"newDiscussionPath":"/asrenninger/urbansim/discussions/new","newIssuePath":"/asrenninger/urbansim/issues/new","planSupportInfo":{"repoIsFork":null,"repoOwnedByCurrentUser":null,"requestFullPath":"/asrenninger/urbansim/blob/main/automl/automl.ipynb","showFreeOrgGatedFeatureMessage":null,"showPlanSupportBanner":null,"upgradeDataAttributes":null,"upgradePath":null},"publishBannersInfo":{"dismissActionNoticePath":"/settings/dismiss-notice/publish_action_from_dockerfile","dismissStackNoticePath":"/settings/dismiss-notice/publish_stack_from_file","releasePath":"/asrenninger/urbansim/releases/new?marketplace=true","showPublishActionBanner":false,"showPublishStackBanner":false},"rawBlobUrl":"https://github.com/asrenninger/urbansim/raw/main/automl/automl.ipynb","renderImageOrRaw":false,"richText":null,"renderedFileInfo":{"identityUUID":"c5beedc7-af36-45e9-9cf4-9f8592e2592e","renderFileType":"ipynb","size":159611},"shortPath":null,"symbolsEnabled":true,"tabSize":8,"topBannersInfo":{"overridingGlobalFundingFile":false,"globalPreferredFundingPath":null,"repoOwner":"asrenninger","repoName":"urbansim","showInvalidCitationWarning":false,"citationHelpUrl":"https://docs.github.com/en/github/creating-cloning-and-archiving-repositories/creating-a-repository-on-github/about-citation-files","showDependabotConfigurationBanner":null,"actionsOnboardingTip":null},"truncated":false,"viewable":true,"workflowRedirectUrl":null,"symbols":{"timed_out":false,"not_analyzed":true,"symbols":[]}},"copilotInfo":null,"copilotAccessAllowed":false,"csrf_tokens":{"/asrenninger/urbansim/branches":{"post":"mLgVXFT5QS0neCEnRZx2miU1uwZi0vYu9r6pxw-QQnbPLK0X6tY3TrHRhv-bUiSqX-c63P3mbL5Cet8l8_fTrQ"},"/repos/preferences":{"post":"-M4zlGrNCvFc6ngCcyyXVqdvG_f8FSqzqmH-ApC06pXG3s7aaib_v_1l0z69EHiaJtEKEmQ_H95B0YA2ZMOIzA"}}},"title":"urbansim/automl/automl.ipynb at main · asrenninger/urbansim","appPayload":{"helpUrl":"https://docs.github.com","findFileWorkerPath":"/assets-cdn/worker/find-file-worker-32bb159cc57c.js","findInFileWorkerPath":"/assets-cdn/worker/find-in-file-worker-c6704d501c10.js","githubDevUrl":"https://github.dev/","enabled_features":{"code_nav_ui_events":false,"copilot_conversational_ux":false,"copilot_conversational_ux_embedding_update":false,"copilot_popover_file_editor_header":true,"copilot_smell_icebreaker_ux":false}}}</script>
  <div data-target="react-app.reactRoot"><style data-styled="true" data-styled-version="5.3.6">.fNPcqd{font-weight:600;font-size:32px;margin:0;font-size:14px;}/*!sc*/
.imcwCi{font-weight:600;font-size:32px;margin:0;font-size:16px;margin-left:8px;}/*!sc*/
.cgQnMS{font-weight:600;font-size:32px;margin:0;}/*!sc*/
.diwsLq{font-weight:600;font-size:32px;margin:0;font-weight:600;display:inline-block;max-width:100%;font-size:16px;}/*!sc*/
.jAEDJk{font-weight:600;font-size:32px;margin:0;font-weight:600;display:inline-block;max-width:100%;font-size:14px;}/*!sc*/
data-styled.g1[id="Heading__StyledHeading-sc-1c1dgg0-0"]{content:"fNPcqd,imcwCi,cgQnMS,diwsLq,jAEDJk,"}/*!sc*/
.fSWWem{padding:0;}/*!sc*/
.kPPmzM{max-width:100%;margin-left:auto;margin-right:auto;display:-webkit-box;display:-webkit-flex;display:-ms-flexbox;display:flex;-webkit-flex-wrap:wrap;-ms-flex-wrap:wrap;flex-wrap:wrap;}/*!sc*/
.cIAPDV{display:-webkit-box;display:-webkit-flex;display:-ms-flexbox;display:flex;-webkit-flex:1 1 100%;-ms-flex:1 1 100%;flex:1 1 100%;-webkit-flex-wrap:wrap;-ms-flex-wrap:wrap;flex-wrap:wrap;max-width:100%;}/*!sc*/
.gvCnwW{width:100%;}/*!sc*/
@media screen and (min-width:544px){.gvCnwW{width:100%;}}/*!sc*/
@media screen and (min-width:768px){.gvCnwW{width:auto;}}/*!sc*/
.heUiss{display:-webkit-box;display:-webkit-flex;display:-ms-flexbox;display:flex;-webkit-order:1;-ms-flex-order:1;order:1;width:100%;margin-left:0;margin-right:0;-webkit-flex-direction:column;-ms-flex-direction:column;flex-direction:column;margin-bottom:0;min-width:0;}/*!sc*/
@media screen and (min-width:544px){.heUiss{-webkit-flex-direction:column;-ms-flex-direction:column;flex-direction:column;}}/*!sc*/
@media screen and (min-width:768px){.heUiss{width:auto;margin-top:0 !important;margin-bottom:0 !important;position:-webkit-sticky;position:sticky;top:0px;max-height:var(--sticky-pane-height);-webkit-flex-direction:row;-ms-flex-direction:row;flex-direction:row;margin-right:0;}}/*!sc*/
@media screen and (min-width:769px){.heUiss{height:100vh;max-height:100vh !important;}}/*!sc*/
@media print,screen and (max-width:1349px) and (min-width:768px){.heUiss{display:none;}}/*!sc*/
.eUyHuk{margin-left:0;margin-right:0;display:none;margin-top:0;}/*!sc*/
@media screen and (min-width:768px){.eUyHuk{margin-left:0 !important;margin-right:0 !important;}}/*!sc*/
.gNdDUH{--pane-min-width:256px;--pane-max-width-diff:511px;--pane-max-width:calc(100vw - var(--pane-max-width-diff));width:100%;padding:0;}/*!sc*/
@media screen and (min-width:544px){}/*!sc*/
@media screen and (min-width:768px){.gNdDUH{width:clamp(var(--pane-min-width),var(--pane-width),var(--pane-max-width));overflow:auto;}}/*!sc*/
@media screen and (min-width:1280px){.gNdDUH{--pane-max-width-diff:959px;}}/*!sc*/
.jywUSN{max-height:100%;height:100%;display:-webkit-box;display:-webkit-flex;display:-ms-flexbox;display:flex;-webkit-flex-direction:column;-ms-flex-direction:column;flex-direction:column;}/*!sc*/
@media screen and (max-width:768px){.jywUSN{display:none;}}/*!sc*/
@media screen and (min-width:768px){.jywUSN{max-height:100vh;height:100vh;}}/*!sc*/
.hBSSUC{display:-webkit-box;display:-webkit-flex;display:-ms-flexbox;display:flex;-webkit-flex-direction:column;-ms-flex-direction:column;flex-direction:column;-webkit-align-items:center;-webkit-box-align:center;-ms-flex-align:center;align-items:center;padding-left:16px;padding-right:16px;padding-bottom:8px;padding-top:16px;}/*!sc*/
.iPurHz{display:-webkit-box;display:-webkit-flex;display:-ms-flexbox;display:flex;width:100%;margin-bottom:16px;-webkit-align-items:center;-webkit-box-align:center;-ms-flex-align:center;align-items:center;}/*!sc*/
.kkrdEu{-webkit-box-pack:center;-webkit-justify-content:center;-ms-flex-pack:center;justify-content:center;}/*!sc*/
.trpoQ{display:-webkit-box;display:-webkit-flex;display:-ms-flexbox;display:flex;pointer-events:none;}/*!sc*/
.hVHHYa{margin-left:24px;margin-right:24px;display:-webkit-box;display:-webkit-flex;display:-ms-flexbox;display:flex;width:100%;}/*!sc*/
.idZfsJ{-webkit-box-flex:1;-webkit-flex-grow:1;-ms-flex-positive:1;flex-grow:1;}/*!sc*/
.bKgizp{display:-webkit-box;display:-webkit-flex;display:-ms-flexbox;display:flex;width:100%;}/*!sc*/
.kYlvBX{margin-right:4px;color:#656d76;}/*!sc*/
.caeYDk{font-size:14px;min-width:0;overflow:hidden;text-overflow:ellipsis;white-space:nowrap;}/*!sc*/
.jahcnb{margin-left:8px;white-space:nowrap;}/*!sc*/
.jahcnb:hover button:not(:hover){border-left-color:var(--button-default-borderColor-hover,var(--color-btn-hover-border));}/*!sc*/
.ccToMy{margin-left:16px;margin-right:16px;margin-bottom:12px;}/*!sc*/
@media screen and (max-width:768px){.ccToMy{display:none;}}/*!sc*/
.cNvKlH{margin-right:-6px;}/*!sc*/
.cLfAnm{-webkit-box-flex:1;-webkit-flex-grow:1;-ms-flex-positive:1;flex-grow:1;max-height:100% !important;overflow-y:auto;-webkit-scrollbar-gutter:stable;-moz-scrollbar-gutter:stable;-ms-scrollbar-gutter:stable;scrollbar-gutter:stable;}/*!sc*/
@media screen and (max-width:768px){.cLfAnm{display:none;}}/*!sc*/
.erWCJP{padding-left:16px;padding-right:16px;padding-bottom:8px;}/*!sc*/
.hAeDYA{height:100%;position:relative;display:none;margin-left:0;}/*!sc*/
.ekKrwo{position:absolute;inset:0 -2px;cursor:col-resize;background-color:transparent;-webkit-transition-delay:0.1s;transition-delay:0.1s;}/*!sc*/
.ekKrwo:hover{background-color:rgba(175,184,193,0.2);}/*!sc*/
.emFMJu{display:-webkit-box;display:-webkit-flex;display:-ms-flexbox;display:flex;-webkit-flex-direction:column;-ms-flex-direction:column;flex-direction:column;-webkit-order:2;-ms-flex-order:2;order:2;-webkit-flex-basis:0;-ms-flex-preferred-size:0;flex-basis:0;-webkit-box-flex:1;-webkit-flex-grow:1;-ms-flex-positive:1;flex-grow:1;-webkit-flex-shrink:1;-ms-flex-negative:1;flex-shrink:1;min-width:1px;margin-right:auto;}/*!sc*/
@media print{.emFMJu{display:-webkit-box !important;display:-webkit-flex !important;display:-ms-flexbox !important;display:flex !important;}}/*!sc*/
.hlUAHL{width:100%;max-width:100%;margin-left:auto;margin-right:auto;-webkit-box-flex:1;-webkit-flex-grow:1;-ms-flex-positive:1;flex-grow:1;padding:0;}/*!sc*/
.iStsmI{margin-left:auto;margin-right:auto;-webkit-flex-direction:column;-ms-flex-direction:column;flex-direction:column;padding-bottom:40px;max-width:100%;margin-top:0;}/*!sc*/
.eIgvIk{display:inherit;}/*!sc*/
.eVFfWF{width:100%;}/*!sc*/
.kgXdnT{padding:16px;padding-bottom:0;}/*!sc*/
.kzTa-dF{display:-webkit-box;display:-webkit-flex;display:-ms-flexbox;display:flex;-webkit-flex-direction:column;-ms-flex-direction:column;flex-direction:column;-webkit-box-pack:justify;-webkit-justify-content:space-between;-ms-flex-pack:justify;justify-content:space-between;gap:16px;width:100%;}/*!sc*/
.bbXCl{display:-webkit-box;display:-webkit-flex;display:-ms-flexbox;display:flex;-webkit-flex-direction:row;-ms-flex-direction:row;flex-direction:row;-webkit-align-items:start;-webkit-box-align:start;-ms-flex-align:start;align-items:start;-webkit-box-pack:justify;-webkit-justify-content:space-between;-ms-flex-pack:justify;justify-content:space-between;}/*!sc*/
.hGGMNu{display:-webkit-box;display:-webkit-flex;display:-ms-flexbox;display:flex;-webkit-flex-direction:row;-ms-flex-direction:row;flex-direction:row;-webkit-align-items:start;-webkit-box-align:start;-ms-flex-align:start;align-items:start;-webkit-box-pack:justify;-webkit-justify-content:space-between;-ms-flex-pack:justify;justify-content:space-between;justify-self:flex-end;}/*!sc*/
.eHRrYV{margin-left:8px;margin-right:8px;}/*!sc*/
.dKmYfk{font-size:14px;min-width:0;max-width:125px;overflow:hidden;text-overflow:ellipsis;white-space:nowrap;}/*!sc*/
.hSNzKh{justify-self:end;max-width:100%;}/*!sc*/
.eTvGbF{display:-webkit-box;display:-webkit-flex;display:-ms-flexbox;display:flex;-webkit-flex-direction:row;-ms-flex-direction:row;flex-direction:row;font-size:16px;min-width:0;-webkit-flex-shrink:1;-ms-flex-negative:1;flex-shrink:1;-webkit-flex-wrap:wrap;-ms-flex-wrap:wrap;flex-wrap:wrap;max-width:100%;-webkit-align-items:center;-webkit-box-align:center;-ms-flex-align:center;align-items:center;}/*!sc*/
.kzRgrI{max-width:100%;}/*!sc*/
.cmAPIB{max-width:100%;list-style:none;display:inline-block;}/*!sc*/
.jwXCBK{display:inline-block;max-width:100%;}/*!sc*/
.bDwCYs{padding:16px;padding-bottom:0;padding-left:16px;padding-right:16px;}/*!sc*/
.fywjmm{display:-webkit-box;display:-webkit-flex;display:-ms-flexbox;display:flex;gap:8px;-webkit-flex-direction:column;-ms-flex-direction:column;flex-direction:column;width:100%;}/*!sc*/
.dyczTK{display:-webkit-box;display:-webkit-flex;display:-ms-flexbox;display:flex;-webkit-align-items:start;-webkit-box-align:start;-ms-flex-align:start;align-items:start;-webkit-box-pack:justify;-webkit-justify-content:space-between;-ms-flex-pack:justify;justify-content:space-between;gap:8px;}/*!sc*/
.kszRgZ{-webkit-align-self:center;-ms-flex-item-align:center;align-self:center;display:-webkit-box;display:-webkit-flex;display:-ms-flexbox;display:flex;padding-right:8px;min-width:0;}/*!sc*/
.gtBUEp{min-height:32px;display:-webkit-box;display:-webkit-flex;display:-ms-flexbox;display:flex;-webkit-align-items:start;-webkit-box-align:start;-ms-flex-align:start;align-items:start;}/*!sc*/
.MERGN{margin-left:16px;margin-right:16px;}/*!sc*/
@media screen and (min-width:1440px){.MERGN{margin-left:16px;}}/*!sc*/
.cMYnca{display:-webkit-box;display:-webkit-flex;display:-ms-flexbox;display:flex;-webkit-flex-direction:column;-ms-flex-direction:column;flex-direction:column;}/*!sc*/
.kLxXov{display:-webkit-box;display:-webkit-flex;display:-ms-flexbox;display:flex;-webkit-flex-direction:column;-ms-flex-direction:column;flex-direction:column;border:1px solid;border-color:#d0d7de;border-radius:6px;margin-bottom:16px;}/*!sc*/
.eYedVD{display:-webkit-box;display:-webkit-flex;display:-ms-flexbox;display:flex;-webkit-flex-direction:row;-ms-flex-direction:row;flex-direction:row;-webkit-box-pack:justify;-webkit-justify-content:space-between;-ms-flex-pack:justify;justify-content:space-between;-webkit-align-items:center;-webkit-box-align:center;-ms-flex-align:center;align-items:center;gap:8px;min-width:273px;padding-right:8px;padding-left:16px;padding-top:8px;padding-bottom:8px;}/*!sc*/
.jGfYmh{display:-webkit-box;display:-webkit-flex;display:-ms-flexbox;display:flex;gap:8px;}/*!sc*/
.lhFvfi{display:-webkit-box;display:-webkit-flex;display:-ms-flexbox;display:flex;-webkit-align-items:center;-webkit-box-align:center;-ms-flex-align:center;align-items:center;}/*!sc*/
.bqgLjk{display:inherit;}/*!sc*/
@media screen and (min-width:544px){.bqgLjk{display:none;}}/*!sc*/
@media screen and (min-width:768px){.bqgLjk{display:none;}}/*!sc*/
.iJmJly{display:-webkit-box;display:-webkit-flex;display:-ms-flexbox;display:flex;-webkit-flex-direction:row;-ms-flex-direction:row;flex-direction:row;}/*!sc*/
.jACbi{width:100%;height:-webkit-fit-content;height:-moz-fit-content;height:fit-content;min-width:0;margin-right:0;}/*!sc*/
.gIJuDf{height:40px;padding-left:4px;padding-bottom:16px;}/*!sc*/
.fleZSW{-webkit-align-items:center;-webkit-box-align:center;-ms-flex-align:center;align-items:center;}/*!sc*/
.bZpGqz{font-size:12px;-webkit-flex:auto;-ms-flex:auto;flex:auto;padding-right:16px;color:#656d76;min-width:0;}/*!sc*/
.VHzRk{top:0px;z-index:4;background:var(--bgColor-default,var(--color-canvas-default));position:-webkit-sticky;position:sticky;}/*!sc*/
.ePiodO{display:-webkit-box;display:-webkit-flex;display:-ms-flexbox;display:flex;-webkit-flex-direction:column;-ms-flex-direction:column;flex-direction:column;width:100%;position:absolute;}/*!sc*/
.kQJlnf{display:none;min-width:0;padding-top:8px;padding-bottom:8px;}/*!sc*/
.gJICKO{margin-right:8px;margin-left:16px;text-overflow:ellipsis;overflow:hidden;display:-webkit-box;display:-webkit-flex;display:-ms-flexbox;display:flex;-webkit-flex-direction:row;-ms-flex-direction:row;flex-direction:row;-webkit-align-items:center;-webkit-box-align:center;-ms-flex-align:center;align-items:center;-webkit-box-pack:justify;-webkit-justify-content:space-between;-ms-flex-pack:justify;justify-content:space-between;width:100%;}/*!sc*/
.iZJewz{display:-webkit-box;display:-webkit-flex;display:-ms-flexbox;display:flex;-webkit-flex-direction:row;-ms-flex-direction:row;flex-direction:row;font-size:14px;min-width:0;-webkit-flex-shrink:1;-ms-flex-negative:1;flex-shrink:1;-webkit-flex-wrap:wrap;-ms-flex-wrap:wrap;flex-wrap:wrap;max-width:100%;-webkit-align-items:center;-webkit-box-align:center;-ms-flex-align:center;align-items:center;}/*!sc*/
.bvEDG{padding-left:8px;padding-top:8px;padding-bottom:8px;display:-webkit-box;display:-webkit-flex;display:-ms-flexbox;display:flex;-webkit-flex:1;-ms-flex:1;flex:1;-webkit-align-items:center;-webkit-box-align:center;-ms-flex-align:center;align-items:center;-webkit-box-pack:justify;-webkit-justify-content:space-between;-ms-flex-pack:justify;justify-content:space-between;background-color:#f6f8fa;border:1px solid var(--borderColor-default,var(--color-border-default));border-radius:6px 6px 0px 0px;}/*!sc*/
.bfkNRF{display:-webkit-box;display:-webkit-flex;display:-ms-flexbox;display:flex;-webkit-align-items:center;-webkit-box-align:center;-ms-flex-align:center;align-items:center;gap:8px;min-width:0;}/*!sc*/
.fXBLEV{display:block;position:relative;-webkit-box-flex:1;-webkit-flex-grow:1;-ms-flex-positive:1;flex-grow:1;margin-top:-1px;margin-bottom:-1px;--separator-color:transparent;}/*!sc*/
.fXBLEV:not(:last-child){margin-right:1px;}/*!sc*/
.fXBLEV:not(:last-child):after{background-color:var(--separator-color);content:"";position:absolute;right:-2px;top:8px;bottom:8px;width:1px;}/*!sc*/
.fXBLEV:focus-within:has(:focus-visible){--separator-color:transparent;}/*!sc*/
.fXBLEV:first-child{margin-left:-1px;}/*!sc*/
.fXBLEV:last-child{margin-right:-1px;}/*!sc*/
.jkTWSe{display:block;position:relative;-webkit-box-flex:1;-webkit-flex-grow:1;-ms-flex-positive:1;flex-grow:1;margin-top:-1px;margin-bottom:-1px;--separator-color:#d0d7de;}/*!sc*/
.jkTWSe:not(:last-child){margin-right:1px;}/*!sc*/
.jkTWSe:not(:last-child):after{background-color:var(--separator-color);content:"";position:absolute;right:-2px;top:8px;bottom:8px;width:1px;}/*!sc*/
.jkTWSe:focus-within:has(:focus-visible){--separator-color:transparent;}/*!sc*/
.jkTWSe:first-child{margin-left:-1px;}/*!sc*/
.jkTWSe:last-child{margin-right:-1px;}/*!sc*/
.iBylDf{display:-webkit-box;display:-webkit-flex;display:-ms-flexbox;display:flex;-webkit-align-items:center;-webkit-box-align:center;-ms-flex-align:center;align-items:center;gap:8px;margin-right:8px;}/*!sc*/
.kSGBPx{gap:8px;}/*!sc*/
.flDsrw{border:1px solid;border-top:none;border-color:#d0d7de;border-radius:0px 0px 6px 6px;min-width:273px;}/*!sc*/
.eJsjkT{background-color:var(--bgColor-default,var(--color-canvas-default));border:0px;border-width:0;border-radius:0px 0px 6px 6px;padding:0;min-width:0;margin-top:46px;overflow:auto;}/*!sc*/
.aZrVR{position:fixed;top:0;right:0;height:100%;width:15px;-webkit-transition:-webkit-transform 0.3s;-webkit-transition:transform 0.3s;transition:transform 0.3s;z-index:1;}/*!sc*/
.aZrVR:hover{-webkit-transform:scaleX(1.5);-ms-transform:scaleX(1.5);transform:scaleX(1.5);}/*!sc*/
.bAzdCq{display:-webkit-box;display:-webkit-flex;display:-ms-flexbox;display:flex;-webkit-flex-direction:column;-ms-flex-direction:column;flex-direction:column;-webkit-align-items:center;-webkit-box-align:center;-ms-flex-align:center;align-items:center;padding-top:16px;padding-bottom:16px;}/*!sc*/
data-styled.g2[id="Box-sc-g0xbh4-0"]{content:"fSWWem,kPPmzM,cIAPDV,gvCnwW,heUiss,eUyHuk,gNdDUH,jywUSN,hBSSUC,iPurHz,kkrdEu,trpoQ,hVHHYa,idZfsJ,bKgizp,kYlvBX,caeYDk,jahcnb,ccToMy,cNvKlH,cLfAnm,erWCJP,hAeDYA,ekKrwo,emFMJu,hlUAHL,iStsmI,eIgvIk,eVFfWF,kgXdnT,kzTa-dF,bbXCl,hGGMNu,eHRrYV,dKmYfk,hSNzKh,eTvGbF,kzRgrI,cmAPIB,jwXCBK,bDwCYs,fywjmm,dyczTK,kszRgZ,gtBUEp,MERGN,cMYnca,kLxXov,eYedVD,jGfYmh,lhFvfi,bqgLjk,iJmJly,jACbi,gIJuDf,fleZSW,bZpGqz,VHzRk,ePiodO,kQJlnf,gJICKO,iZJewz,bvEDG,bfkNRF,fXBLEV,jkTWSe,iBylDf,kSGBPx,flDsrw,eJsjkT,aZrVR,bAzdCq,"}/*!sc*/
body[data-page-layout-dragging="true"]{cursor:col-resize;}/*!sc*/
body[data-page-layout-dragging="true"] *{-webkit-user-select:none;-moz-user-select:none;-ms-user-select:none;user-select:none;}/*!sc*/
data-styled.g3[id="sc-global-gbKrvU1"]{content:"sc-global-gbKrvU1,"}/*!sc*/
.bOMzPg{min-width:0;}/*!sc*/
.ivLLle{padding-left:4px;padding-right:4px;font-weight:400;color:#656d76;font-size:16px;}/*!sc*/
.ghRVGj{color:#1F2328;}/*!sc*/
.dZAxGI{padding-left:4px;padding-right:4px;font-weight:400;color:#656d76;font-size:14px;}/*!sc*/
data-styled.g6[id="Text-sc-17v1xeu-0"]{content:"bOMzPg,ivLLle,ghRVGj,gPDEWA,dZAxGI,"}/*!sc*/
.bNUcdA{color:#0969da;-webkit-text-decoration:none;text-decoration:none;font-weight:600;}/*!sc*/
[data-a11y-link-underlines='true'] .Link__StyledLink-sc-14289xe-0[data-inline='true']{-webkit-text-decoration:underline;text-decoration:underline;}/*!sc*/
.bNUcdA:hover{-webkit-text-decoration:underline;text-decoration:underline;}/*!sc*/
.bNUcdA:is(button){display:inline-block;padding:0;font-size:inherit;white-space:nowrap;cursor:pointer;-webkit-user-select:none;-moz-user-select:none;-ms-user-select:none;user-select:none;background-color:transparent;border:0;-webkit-appearance:none;-moz-appearance:none;appearance:none;}/*!sc*/
.bmInES{color:#0969da;-webkit-text-decoration:none;text-decoration:none;font-weight:400;}/*!sc*/
[data-a11y-link-underlines='true'] .Link__StyledLink-sc-14289xe-0[data-inline='true']{-webkit-text-decoration:underline;text-decoration:underline;}/*!sc*/
.bmInES:hover{-webkit-text-decoration:underline;text-decoration:underline;}/*!sc*/
.bmInES:is(button){display:inline-block;padding:0;font-size:inherit;white-space:nowrap;cursor:pointer;-webkit-user-select:none;-moz-user-select:none;-ms-user-select:none;user-select:none;background-color:transparent;border:0;-webkit-appearance:none;-moz-appearance:none;appearance:none;}/*!sc*/
.bKUZnR{color:#0969da;-webkit-text-decoration:none;text-decoration:none;}/*!sc*/
[data-a11y-link-underlines='true'] .Link__StyledLink-sc-14289xe-0[data-inline='true']{-webkit-text-decoration:underline;text-decoration:underline;}/*!sc*/
.bKUZnR:hover{-webkit-text-decoration:underline;text-decoration:underline;}/*!sc*/
.bKUZnR:is(button){display:inline-block;padding:0;font-size:inherit;white-space:nowrap;cursor:pointer;-webkit-user-select:none;-moz-user-select:none;-ms-user-select:none;user-select:none;background-color:transparent;border:0;-webkit-appearance:none;-moz-appearance:none;appearance:none;}/*!sc*/
data-styled.g8[id="Link__StyledLink-sc-14289xe-0"]{content:"bNUcdA,bmInES,bKUZnR,"}/*!sc*/
.dpmVDB{border-radius:6px;border:1px solid;border-color:transparent;font-family:inherit;font-weight:500;font-size:14px;cursor:pointer;-webkit-appearance:none;-moz-appearance:none;appearance:none;-webkit-user-select:none;-moz-user-select:none;-ms-user-select:none;user-select:none;-webkit-text-decoration:none;text-decoration:none;text-align:center;display:-webkit-box;display:-webkit-flex;display:-ms-flexbox;display:flex;-webkit-align-items:center;-webkit-box-align:center;-ms-flex-align:center;align-items:center;-webkit-box-pack:justify;-webkit-justify-content:space-between;-ms-flex-pack:justify;justify-content:space-between;height:32px;padding:0 12px;gap:8px;min-width:-webkit-max-content;min-width:-moz-max-content;min-width:max-content;-webkit-transition:80ms cubic-bezier(0.65,0,0.35,1);transition:80ms cubic-bezier(0.65,0,0.35,1);-webkit-transition-property:color,fill,background-color,border-color;transition-property:color,fill,background-color,border-color;color:#24292f;background-color:transparent;box-shadow:none;}/*!sc*/
.dpmVDB:focus:not(:disabled){box-shadow:none;outline:2px solid #0969da;outline-offset:-2px;}/*!sc*/
.dpmVDB:focus:not(:disabled):not(:focus-visible){outline:solid 1px transparent;}/*!sc*/
.dpmVDB:focus-visible:not(:disabled){box-shadow:none;outline:2px solid #0969da;outline-offset:-2px;}/*!sc*/
.dpmVDB[href]{display:-webkit-inline-box;display:-webkit-inline-flex;display:-ms-inline-flexbox;display:inline-flex;}/*!sc*/
.dpmVDB[href]:hover{-webkit-text-decoration:none;text-decoration:none;}/*!sc*/
.dpmVDB:hover{-webkit-transition-duration:80ms;transition-duration:80ms;}/*!sc*/
.dpmVDB:active{-webkit-transition:none;transition:none;}/*!sc*/
.dpmVDB[data-inactive]{cursor:auto;}/*!sc*/
.dpmVDB:disabled{cursor:not-allowed;box-shadow:none;color:#8c959f;}/*!sc*/
.dpmVDB:disabled [data-component=ButtonCounter],.dpmVDB:disabled [data-component="leadingVisual"],.dpmVDB:disabled [data-component="trailingAction"]{color:inherit;}/*!sc*/
@media (forced-colors:active){.dpmVDB:focus{outline:solid 1px transparent;}}/*!sc*/
.dpmVDB [data-component=ButtonCounter]{font-size:12px;}/*!sc*/
.dpmVDB[data-component=IconButton]{display:inline-grid;padding:unset;place-content:center;width:32px;min-width:unset;}/*!sc*/
.dpmVDB[data-size="small"]{padding:0 8px;height:28px;gap:4px;font-size:12px;}/*!sc*/
.dpmVDB[data-size="small"] [data-component="text"]{line-height:calc(20 / 12);}/*!sc*/
.dpmVDB[data-size="small"] [data-component=ButtonCounter]{font-size:12px;}/*!sc*/
.dpmVDB[data-size="small"] [data-component="buttonContent"] > :not(:last-child){margin-right:4px;}/*!sc*/
.dpmVDB[data-size="small"][data-component=IconButton]{width:28px;padding:unset;}/*!sc*/
.dpmVDB[data-size="large"]{padding:0 16px;height:40px;gap:8px;}/*!sc*/
.dpmVDB[data-size="large"] [data-component="buttonContent"] > :not(:last-child){margin-right:8px;}/*!sc*/
.dpmVDB[data-size="large"][data-component=IconButton]{width:40px;padding:unset;}/*!sc*/
.dpmVDB[data-block="block"]{width:100%;}/*!sc*/
.dpmVDB[data-inactive]:not([disabled]){background-color:var(--button-inactive-bgColor,#eaeef2);border-color:var(--button-inactive-bgColor,#eaeef2);color:var(--button-inactive-fgColor,#57606a);}/*!sc*/
.dpmVDB[data-inactive]:not([disabled]):focus-visible{box-shadow:none;}/*!sc*/
.dpmVDB [data-component="leadingVisual"]{grid-area:leadingVisual;color:#656d76;}/*!sc*/
.dpmVDB [data-component="text"]{grid-area:text;line-height:calc(20/14);white-space:nowrap;}/*!sc*/
.dpmVDB [data-component="trailingVisual"]{grid-area:trailingVisual;}/*!sc*/
.dpmVDB [data-component="trailingAction"]{margin-right:-4px;color:#656d76;}/*!sc*/
.dpmVDB [data-component="buttonContent"]{-webkit-flex:1 0 auto;-ms-flex:1 0 auto;flex:1 0 auto;display:grid;grid-template-areas:"leadingVisual text trailingVisual";grid-template-columns:min-content minmax(0,auto) min-content;-webkit-align-items:center;-webkit-box-align:center;-ms-flex-align:center;align-items:center;-webkit-align-content:center;-ms-flex-line-pack:center;align-content:center;}/*!sc*/
.dpmVDB [data-component="buttonContent"] > :not(:last-child){margin-right:8px;}/*!sc*/
.dpmVDB:hover:not([disabled]){background-color:rgba(208,215,222,0.32);}/*!sc*/
.dpmVDB:active:not([disabled]){background-color:rgba(208,215,222,0.48);}/*!sc*/
.dpmVDB[aria-expanded=true]{background-color:rgba(208,215,222,0.24);}/*!sc*/
.dpmVDB[data-component="IconButton"][data-no-visuals]{color:#656d76;}/*!sc*/
.dpmVDB[data-no-visuals]{color:#0969da;}/*!sc*/
.dpmVDB:has([data-component="ButtonCounter"]){color:#24292f;}/*!sc*/
.dpmVDB:disabled[data-no-visuals]{color:#8c959f;}/*!sc*/
.dpmVDB:disabled[data-no-visuals] [data-component=ButtonCounter]{color:inherit;}/*!sc*/
.dpmVDB{color:#656d76;padding-left:8px;padding-right:8px;display:none;}/*!sc*/
@media screen and (max-width:768px){.dpmVDB{display:block;}}/*!sc*/
.kuQWBL{border-radius:6px;border:1px solid;border-color:transparent;font-family:inherit;font-weight:500;font-size:14px;cursor:pointer;-webkit-appearance:none;-moz-appearance:none;appearance:none;-webkit-user-select:none;-moz-user-select:none;-ms-user-select:none;user-select:none;-webkit-text-decoration:none;text-decoration:none;text-align:center;display:-webkit-box;display:-webkit-flex;display:-ms-flexbox;display:flex;-webkit-align-items:center;-webkit-box-align:center;-ms-flex-align:center;align-items:center;-webkit-box-pack:justify;-webkit-justify-content:space-between;-ms-flex-pack:justify;justify-content:space-between;height:32px;padding:0 12px;gap:8px;min-width:-webkit-max-content;min-width:-moz-max-content;min-width:max-content;-webkit-transition:80ms cubic-bezier(0.65,0,0.35,1);transition:80ms cubic-bezier(0.65,0,0.35,1);-webkit-transition-property:color,fill,background-color,border-color;transition-property:color,fill,background-color,border-color;color:#24292f;background-color:transparent;box-shadow:none;}/*!sc*/
.kuQWBL:focus:not(:disabled){box-shadow:none;outline:2px solid #0969da;outline-offset:-2px;}/*!sc*/
.kuQWBL:focus:not(:disabled):not(:focus-visible){outline:solid 1px transparent;}/*!sc*/
.kuQWBL:focus-visible:not(:disabled){box-shadow:none;outline:2px solid #0969da;outline-offset:-2px;}/*!sc*/
.kuQWBL[href]{display:-webkit-inline-box;display:-webkit-inline-flex;display:-ms-inline-flexbox;display:inline-flex;}/*!sc*/
.kuQWBL[href]:hover{-webkit-text-decoration:none;text-decoration:none;}/*!sc*/
.kuQWBL:hover{-webkit-transition-duration:80ms;transition-duration:80ms;}/*!sc*/
.kuQWBL:active{-webkit-transition:none;transition:none;}/*!sc*/
.kuQWBL[data-inactive]{cursor:auto;}/*!sc*/
.kuQWBL:disabled{cursor:not-allowed;box-shadow:none;color:#8c959f;}/*!sc*/
.kuQWBL:disabled [data-component=ButtonCounter],.kuQWBL:disabled [data-component="leadingVisual"],.kuQWBL:disabled [data-component="trailingAction"]{color:inherit;}/*!sc*/
@media (forced-colors:active){.kuQWBL:focus{outline:solid 1px transparent;}}/*!sc*/
.kuQWBL [data-component=ButtonCounter]{font-size:12px;}/*!sc*/
.kuQWBL[data-component=IconButton]{display:inline-grid;padding:unset;place-content:center;width:32px;min-width:unset;}/*!sc*/
.kuQWBL[data-size="small"]{padding:0 8px;height:28px;gap:4px;font-size:12px;}/*!sc*/
.kuQWBL[data-size="small"] [data-component="text"]{line-height:calc(20 / 12);}/*!sc*/
.kuQWBL[data-size="small"] [data-component=ButtonCounter]{font-size:12px;}/*!sc*/
.kuQWBL[data-size="small"] [data-component="buttonContent"] > :not(:last-child){margin-right:4px;}/*!sc*/
.kuQWBL[data-size="small"][data-component=IconButton]{width:28px;padding:unset;}/*!sc*/
.kuQWBL[data-size="large"]{padding:0 16px;height:40px;gap:8px;}/*!sc*/
.kuQWBL[data-size="large"] [data-component="buttonContent"] > :not(:last-child){margin-right:8px;}/*!sc*/
.kuQWBL[data-size="large"][data-component=IconButton]{width:40px;padding:unset;}/*!sc*/
.kuQWBL[data-block="block"]{width:100%;}/*!sc*/
.kuQWBL[data-inactive]:not([disabled]){background-color:var(--button-inactive-bgColor,#eaeef2);border-color:var(--button-inactive-bgColor,#eaeef2);color:var(--button-inactive-fgColor,#57606a);}/*!sc*/
.kuQWBL[data-inactive]:not([disabled]):focus-visible{box-shadow:none;}/*!sc*/
.kuQWBL [data-component="leadingVisual"]{grid-area:leadingVisual;color:#656d76;}/*!sc*/
.kuQWBL [data-component="text"]{grid-area:text;line-height:calc(20/14);white-space:nowrap;}/*!sc*/
.kuQWBL [data-component="trailingVisual"]{grid-area:trailingVisual;}/*!sc*/
.kuQWBL [data-component="trailingAction"]{margin-right:-4px;color:#656d76;}/*!sc*/
.kuQWBL [data-component="buttonContent"]{-webkit-flex:1 0 auto;-ms-flex:1 0 auto;flex:1 0 auto;display:grid;grid-template-areas:"leadingVisual text trailingVisual";grid-template-columns:min-content minmax(0,auto) min-content;-webkit-align-items:center;-webkit-box-align:center;-ms-flex-align:center;align-items:center;-webkit-align-content:center;-ms-flex-line-pack:center;align-content:center;}/*!sc*/
.kuQWBL [data-component="buttonContent"] > :not(:last-child){margin-right:8px;}/*!sc*/
.kuQWBL:hover:not([disabled]){background-color:rgba(208,215,222,0.32);}/*!sc*/
.kuQWBL:active:not([disabled]){background-color:rgba(208,215,222,0.48);}/*!sc*/
.kuQWBL[aria-expanded=true]{background-color:rgba(208,215,222,0.24);}/*!sc*/
.kuQWBL[data-component="IconButton"][data-no-visuals]{color:#656d76;}/*!sc*/
.kuQWBL[data-no-visuals]{color:#656d76;height:32px;position:relative;}/*!sc*/
@media screen and (max-width:768px){.kuQWBL[data-no-visuals]{display:none;}}/*!sc*/
.kuQWBL:has([data-component="ButtonCounter"]){color:#24292f;}/*!sc*/
.kuQWBL:disabled[data-no-visuals]{color:#8c959f;}/*!sc*/
.kuQWBL:disabled[data-no-visuals] [data-component=ButtonCounter]{color:inherit;}/*!sc*/
.cTlePa{border-radius:6px;border:1px solid;border-color:var(--button-default-borderColor-rest,rgba(31,35,40,0.15));font-family:inherit;font-weight:500;font-size:14px;cursor:pointer;-webkit-appearance:none;-moz-appearance:none;appearance:none;-webkit-user-select:none;-moz-user-select:none;-ms-user-select:none;user-select:none;-webkit-text-decoration:none;text-decoration:none;text-align:center;display:-webkit-box;display:-webkit-flex;display:-ms-flexbox;display:flex;-webkit-align-items:center;-webkit-box-align:center;-ms-flex-align:center;align-items:center;-webkit-box-pack:justify;-webkit-justify-content:space-between;-ms-flex-pack:justify;justify-content:space-between;height:32px;padding:0 12px;gap:8px;min-width:-webkit-max-content;min-width:-moz-max-content;min-width:max-content;-webkit-transition:80ms cubic-bezier(0.65,0,0.35,1);transition:80ms cubic-bezier(0.65,0,0.35,1);-webkit-transition-property:color,fill,background-color,border-color;transition-property:color,fill,background-color,border-color;color:#24292f;background-color:#f6f8fa;box-shadow:0 1px 0 rgba(31,35,40,0.04),inset 0 1px 0 rgba(255,255,255,0.25);}/*!sc*/
.cTlePa:focus:not(:disabled){box-shadow:none;outline:2px solid #0969da;outline-offset:-2px;}/*!sc*/
.cTlePa:focus:not(:disabled):not(:focus-visible){outline:solid 1px transparent;}/*!sc*/
.cTlePa:focus-visible:not(:disabled){box-shadow:none;outline:2px solid #0969da;outline-offset:-2px;}/*!sc*/
.cTlePa[href]{display:-webkit-inline-box;display:-webkit-inline-flex;display:-ms-inline-flexbox;display:inline-flex;}/*!sc*/
.cTlePa[href]:hover{-webkit-text-decoration:none;text-decoration:none;}/*!sc*/
.cTlePa:hover{-webkit-transition-duration:80ms;transition-duration:80ms;}/*!sc*/
.cTlePa:active{-webkit-transition:none;transition:none;}/*!sc*/
.cTlePa[data-inactive]{cursor:auto;}/*!sc*/
.cTlePa:disabled{cursor:not-allowed;box-shadow:none;color:#8c959f;}/*!sc*/
.cTlePa:disabled [data-component=ButtonCounter]{color:inherit;}/*!sc*/
@media (forced-colors:active){.cTlePa:focus{outline:solid 1px transparent;}}/*!sc*/
.cTlePa [data-component=ButtonCounter]{font-size:12px;}/*!sc*/
.cTlePa[data-component=IconButton]{display:inline-grid;padding:unset;place-content:center;width:32px;min-width:unset;}/*!sc*/
.cTlePa[data-size="small"]{padding:0 8px;height:28px;gap:4px;font-size:12px;}/*!sc*/
.cTlePa[data-size="small"] [data-component="text"]{line-height:calc(20 / 12);}/*!sc*/
.cTlePa[data-size="small"] [data-component=ButtonCounter]{font-size:12px;}/*!sc*/
.cTlePa[data-size="small"] [data-component="buttonContent"] > :not(:last-child){margin-right:4px;}/*!sc*/
.cTlePa[data-size="small"][data-component=IconButton]{width:28px;padding:unset;}/*!sc*/
.cTlePa[data-size="large"]{padding:0 16px;height:40px;gap:8px;}/*!sc*/
.cTlePa[data-size="large"] [data-component="buttonContent"] > :not(:last-child){margin-right:8px;}/*!sc*/
.cTlePa[data-size="large"][data-component=IconButton]{width:40px;padding:unset;}/*!sc*/
.cTlePa[data-block="block"]{width:100%;}/*!sc*/
.cTlePa[data-inactive]:not([disabled]){background-color:var(--button-inactive-bgColor,#eaeef2);border-color:var(--button-inactive-bgColor,#eaeef2);color:var(--button-inactive-fgColor,#57606a);}/*!sc*/
.cTlePa[data-inactive]:not([disabled]):focus-visible{box-shadow:none;}/*!sc*/
.cTlePa [data-component="leadingVisual"]{grid-area:leadingVisual;}/*!sc*/
.cTlePa [data-component="text"]{grid-area:text;line-height:calc(20/14);white-space:nowrap;}/*!sc*/
.cTlePa [data-component="trailingVisual"]{grid-area:trailingVisual;}/*!sc*/
.cTlePa [data-component="trailingAction"]{margin-right:-4px;}/*!sc*/
.cTlePa [data-component="buttonContent"]{-webkit-flex:1 0 auto;-ms-flex:1 0 auto;flex:1 0 auto;display:grid;grid-template-areas:"leadingVisual text trailingVisual";grid-template-columns:min-content minmax(0,auto) min-content;-webkit-align-items:center;-webkit-box-align:center;-ms-flex-align:center;align-items:center;-webkit-align-content:center;-ms-flex-line-pack:center;align-content:center;}/*!sc*/
.cTlePa [data-component="buttonContent"] > :not(:last-child){margin-right:8px;}/*!sc*/
.cTlePa:hover:not([disabled]):not([data-inactive]){background-color:#f3f4f6;border-color:var(--button-default-borderColor-hover,rgba(31,35,40,0.15));}/*!sc*/
.cTlePa:active:not([disabled]):not([data-inactive]){background-color:hsla(220,14%,93%,1);border-color:var(--button-default-borderColor-active,rgba(31,35,40,0.15));}/*!sc*/
.cTlePa[aria-expanded=true]{background-color:hsla(220,14%,93%,1);border-color:var(--button-default-borderColor-active,rgba(31,35,40,0.15));}/*!sc*/
.cTlePa [data-component="leadingVisual"],.cTlePa [data-component="trailingVisual"],.cTlePa [data-component="trailingAction"]{color:var(--button-color,#656d76);}/*!sc*/
.cTlePa{display:-webkit-box;display:-webkit-flex;display:-ms-flexbox;display:flex;min-width:0;}/*!sc*/
.cTlePa svg{color:#656d76;}/*!sc*/
.cTlePa > span{width:inherit;}/*!sc*/
.hAUDdO{border-radius:6px;border:1px solid;border-color:var(--button-default-borderColor-rest,rgba(31,35,40,0.15));font-family:inherit;font-weight:500;font-size:14px;cursor:pointer;-webkit-appearance:none;-moz-appearance:none;appearance:none;-webkit-user-select:none;-moz-user-select:none;-ms-user-select:none;user-select:none;-webkit-text-decoration:none;text-decoration:none;text-align:center;display:-webkit-box;display:-webkit-flex;display:-ms-flexbox;display:flex;-webkit-align-items:center;-webkit-box-align:center;-ms-flex-align:center;align-items:center;-webkit-box-pack:justify;-webkit-justify-content:space-between;-ms-flex-pack:justify;justify-content:space-between;height:32px;padding:0 12px;gap:8px;min-width:-webkit-max-content;min-width:-moz-max-content;min-width:max-content;-webkit-transition:80ms cubic-bezier(0.65,0,0.35,1);transition:80ms cubic-bezier(0.65,0,0.35,1);-webkit-transition-property:color,fill,background-color,border-color;transition-property:color,fill,background-color,border-color;color:#24292f;background-color:#f6f8fa;box-shadow:0 1px 0 rgba(31,35,40,0.04),inset 0 1px 0 rgba(255,255,255,0.25);}/*!sc*/
.hAUDdO:focus:not(:disabled){box-shadow:none;outline:2px solid #0969da;outline-offset:-2px;}/*!sc*/
.hAUDdO:focus:not(:disabled):not(:focus-visible){outline:solid 1px transparent;}/*!sc*/
.hAUDdO:focus-visible:not(:disabled){box-shadow:none;outline:2px solid #0969da;outline-offset:-2px;}/*!sc*/
.hAUDdO[href]{display:-webkit-inline-box;display:-webkit-inline-flex;display:-ms-inline-flexbox;display:inline-flex;}/*!sc*/
.hAUDdO[href]:hover{-webkit-text-decoration:none;text-decoration:none;}/*!sc*/
.hAUDdO:hover{-webkit-transition-duration:80ms;transition-duration:80ms;}/*!sc*/
.hAUDdO:active{-webkit-transition:none;transition:none;}/*!sc*/
.hAUDdO[data-inactive]{cursor:auto;}/*!sc*/
.hAUDdO:disabled{cursor:not-allowed;box-shadow:none;color:#8c959f;}/*!sc*/
.hAUDdO:disabled [data-component=ButtonCounter]{color:inherit;}/*!sc*/
@media (forced-colors:active){.hAUDdO:focus{outline:solid 1px transparent;}}/*!sc*/
.hAUDdO [data-component=ButtonCounter]{font-size:12px;}/*!sc*/
.hAUDdO[data-component=IconButton]{display:inline-grid;padding:unset;place-content:center;width:32px;min-width:unset;}/*!sc*/
.hAUDdO[data-size="small"]{padding:0 8px;height:28px;gap:4px;font-size:12px;}/*!sc*/
.hAUDdO[data-size="small"] [data-component="text"]{line-height:calc(20 / 12);}/*!sc*/
.hAUDdO[data-size="small"] [data-component=ButtonCounter]{font-size:12px;}/*!sc*/
.hAUDdO[data-size="small"] [data-component="buttonContent"] > :not(:last-child){margin-right:4px;}/*!sc*/
.hAUDdO[data-size="small"][data-component=IconButton]{width:28px;padding:unset;}/*!sc*/
.hAUDdO[data-size="large"]{padding:0 16px;height:40px;gap:8px;}/*!sc*/
.hAUDdO[data-size="large"] [data-component="buttonContent"] > :not(:last-child){margin-right:8px;}/*!sc*/
.hAUDdO[data-size="large"][data-component=IconButton]{width:40px;padding:unset;}/*!sc*/
.hAUDdO[data-block="block"]{width:100%;}/*!sc*/
.hAUDdO[data-inactive]:not([disabled]){background-color:var(--button-inactive-bgColor,#eaeef2);border-color:var(--button-inactive-bgColor,#eaeef2);color:var(--button-inactive-fgColor,#57606a);}/*!sc*/
.hAUDdO[data-inactive]:not([disabled]):focus-visible{box-shadow:none;}/*!sc*/
.hAUDdO [data-component="leadingVisual"]{grid-area:leadingVisual;}/*!sc*/
.hAUDdO [data-component="text"]{grid-area:text;line-height:calc(20/14);white-space:nowrap;}/*!sc*/
.hAUDdO [data-component="trailingVisual"]{grid-area:trailingVisual;}/*!sc*/
.hAUDdO [data-component="trailingAction"]{margin-right:-4px;}/*!sc*/
.hAUDdO [data-component="buttonContent"]{-webkit-flex:1 0 auto;-ms-flex:1 0 auto;flex:1 0 auto;display:grid;grid-template-areas:"leadingVisual text trailingVisual";grid-template-columns:min-content minmax(0,auto) min-content;-webkit-align-items:center;-webkit-box-align:center;-ms-flex-align:center;align-items:center;-webkit-align-content:center;-ms-flex-line-pack:center;align-content:center;}/*!sc*/
.hAUDdO [data-component="buttonContent"] > :not(:last-child){margin-right:8px;}/*!sc*/
.hAUDdO:hover:not([disabled]):not([data-inactive]){background-color:#f3f4f6;border-color:var(--button-default-borderColor-hover,rgba(31,35,40,0.15));}/*!sc*/
.hAUDdO:active:not([disabled]):not([data-inactive]){background-color:hsla(220,14%,93%,1);border-color:var(--button-default-borderColor-active,rgba(31,35,40,0.15));}/*!sc*/
.hAUDdO[aria-expanded=true]{background-color:hsla(220,14%,93%,1);border-color:var(--button-default-borderColor-active,rgba(31,35,40,0.15));}/*!sc*/
.hAUDdO [data-component="leadingVisual"],.hAUDdO [data-component="trailingVisual"],.hAUDdO [data-component="trailingAction"]{color:var(--button-color,#656d76);}/*!sc*/
.hAUDdO[data-no-visuals]{color:#6e7781;border-top-right-radius:0;border-bottom-right-radius:0;border-right:0;}/*!sc*/
.bRhdlk{border-radius:6px;border:1px solid;border-color:var(--button-default-borderColor-rest,rgba(31,35,40,0.15));font-family:inherit;font-weight:500;font-size:14px;cursor:pointer;-webkit-appearance:none;-moz-appearance:none;appearance:none;-webkit-user-select:none;-moz-user-select:none;-ms-user-select:none;user-select:none;-webkit-text-decoration:none;text-decoration:none;text-align:center;display:-webkit-box;display:-webkit-flex;display:-ms-flexbox;display:flex;-webkit-align-items:center;-webkit-box-align:center;-ms-flex-align:center;align-items:center;-webkit-box-pack:justify;-webkit-justify-content:space-between;-ms-flex-pack:justify;justify-content:space-between;height:32px;padding:0 12px;gap:8px;min-width:-webkit-max-content;min-width:-moz-max-content;min-width:max-content;-webkit-transition:80ms cubic-bezier(0.65,0,0.35,1);transition:80ms cubic-bezier(0.65,0,0.35,1);-webkit-transition-property:color,fill,background-color,border-color;transition-property:color,fill,background-color,border-color;color:#24292f;background-color:#f6f8fa;box-shadow:0 1px 0 rgba(31,35,40,0.04),inset 0 1px 0 rgba(255,255,255,0.25);}/*!sc*/
.bRhdlk:focus:not(:disabled){box-shadow:none;outline:2px solid #0969da;outline-offset:-2px;}/*!sc*/
.bRhdlk:focus:not(:disabled):not(:focus-visible){outline:solid 1px transparent;}/*!sc*/
.bRhdlk:focus-visible:not(:disabled){box-shadow:none;outline:2px solid #0969da;outline-offset:-2px;}/*!sc*/
.bRhdlk[href]{display:-webkit-inline-box;display:-webkit-inline-flex;display:-ms-inline-flexbox;display:inline-flex;}/*!sc*/
.bRhdlk[href]:hover{-webkit-text-decoration:none;text-decoration:none;}/*!sc*/
.bRhdlk:hover{-webkit-transition-duration:80ms;transition-duration:80ms;}/*!sc*/
.bRhdlk:active{-webkit-transition:none;transition:none;}/*!sc*/
.bRhdlk[data-inactive]{cursor:auto;}/*!sc*/
.bRhdlk:disabled{cursor:not-allowed;box-shadow:none;color:#8c959f;}/*!sc*/
.bRhdlk:disabled [data-component=ButtonCounter]{color:inherit;}/*!sc*/
@media (forced-colors:active){.bRhdlk:focus{outline:solid 1px transparent;}}/*!sc*/
.bRhdlk [data-component=ButtonCounter]{font-size:12px;}/*!sc*/
.bRhdlk[data-component=IconButton]{display:inline-grid;padding:unset;place-content:center;width:32px;min-width:unset;}/*!sc*/
.bRhdlk[data-size="small"]{padding:0 8px;height:28px;gap:4px;font-size:12px;}/*!sc*/
.bRhdlk[data-size="small"] [data-component="text"]{line-height:calc(20 / 12);}/*!sc*/
.bRhdlk[data-size="small"] [data-component=ButtonCounter]{font-size:12px;}/*!sc*/
.bRhdlk[data-size="small"] [data-component="buttonContent"] > :not(:last-child){margin-right:4px;}/*!sc*/
.bRhdlk[data-size="small"][data-component=IconButton]{width:28px;padding:unset;}/*!sc*/
.bRhdlk[data-size="large"]{padding:0 16px;height:40px;gap:8px;}/*!sc*/
.bRhdlk[data-size="large"] [data-component="buttonContent"] > :not(:last-child){margin-right:8px;}/*!sc*/
.bRhdlk[data-size="large"][data-component=IconButton]{width:40px;padding:unset;}/*!sc*/
.bRhdlk[data-block="block"]{width:100%;}/*!sc*/
.bRhdlk[data-inactive]:not([disabled]){background-color:var(--button-inactive-bgColor,#eaeef2);border-color:var(--button-inactive-bgColor,#eaeef2);color:var(--button-inactive-fgColor,#57606a);}/*!sc*/
.bRhdlk[data-inactive]:not([disabled]):focus-visible{box-shadow:none;}/*!sc*/
.bRhdlk [data-component="leadingVisual"]{grid-area:leadingVisual;}/*!sc*/
.bRhdlk [data-component="text"]{grid-area:text;line-height:calc(20/14);white-space:nowrap;}/*!sc*/
.bRhdlk [data-component="trailingVisual"]{grid-area:trailingVisual;}/*!sc*/
.bRhdlk [data-component="trailingAction"]{margin-right:-4px;}/*!sc*/
.bRhdlk [data-component="buttonContent"]{-webkit-flex:1 0 auto;-ms-flex:1 0 auto;flex:1 0 auto;display:grid;grid-template-areas:"leadingVisual text trailingVisual";grid-template-columns:min-content minmax(0,auto) min-content;-webkit-align-items:center;-webkit-box-align:center;-ms-flex-align:center;align-items:center;-webkit-align-content:center;-ms-flex-line-pack:center;align-content:center;}/*!sc*/
.bRhdlk [data-component="buttonContent"] > :not(:last-child){margin-right:8px;}/*!sc*/
.bRhdlk:hover:not([disabled]):not([data-inactive]){background-color:#f3f4f6;border-color:var(--button-default-borderColor-hover,rgba(31,35,40,0.15));}/*!sc*/
.bRhdlk:active:not([disabled]):not([data-inactive]){background-color:hsla(220,14%,93%,1);border-color:var(--button-default-borderColor-active,rgba(31,35,40,0.15));}/*!sc*/
.bRhdlk[aria-expanded=true]{background-color:hsla(220,14%,93%,1);border-color:var(--button-default-borderColor-active,rgba(31,35,40,0.15));}/*!sc*/
.bRhdlk [data-component="leadingVisual"],.bRhdlk [data-component="trailingVisual"],.bRhdlk [data-component="trailingAction"]{color:var(--button-color,#656d76);}/*!sc*/
.bRhdlk[data-no-visuals]{color:#6e7781;font-size:14px;font-weight:400;-webkit-flex-shrink:0;-ms-flex-negative:0;flex-shrink:0;border-top-left-radius:0;border-bottom-left-radius:0;}/*!sc*/
.gDcRcS{border-radius:6px;border:1px solid;border-color:var(--button-default-borderColor-rest,rgba(31,35,40,0.15));font-family:inherit;font-weight:500;font-size:14px;cursor:pointer;-webkit-appearance:none;-moz-appearance:none;appearance:none;-webkit-user-select:none;-moz-user-select:none;-ms-user-select:none;user-select:none;-webkit-text-decoration:none;text-decoration:none;text-align:center;display:-webkit-box;display:-webkit-flex;display:-ms-flexbox;display:flex;-webkit-align-items:center;-webkit-box-align:center;-ms-flex-align:center;align-items:center;-webkit-box-pack:justify;-webkit-justify-content:space-between;-ms-flex-pack:justify;justify-content:space-between;height:32px;padding:0 12px;gap:8px;min-width:-webkit-max-content;min-width:-moz-max-content;min-width:max-content;-webkit-transition:80ms cubic-bezier(0.65,0,0.35,1);transition:80ms cubic-bezier(0.65,0,0.35,1);-webkit-transition-property:color,fill,background-color,border-color;transition-property:color,fill,background-color,border-color;color:#24292f;background-color:#f6f8fa;box-shadow:0 1px 0 rgba(31,35,40,0.04),inset 0 1px 0 rgba(255,255,255,0.25);}/*!sc*/
.gDcRcS:focus:not(:disabled){box-shadow:none;outline:2px solid #0969da;outline-offset:-2px;}/*!sc*/
.gDcRcS:focus:not(:disabled):not(:focus-visible){outline:solid 1px transparent;}/*!sc*/
.gDcRcS:focus-visible:not(:disabled){box-shadow:none;outline:2px solid #0969da;outline-offset:-2px;}/*!sc*/
.gDcRcS[href]{display:-webkit-inline-box;display:-webkit-inline-flex;display:-ms-inline-flexbox;display:inline-flex;}/*!sc*/
.gDcRcS[href]:hover{-webkit-text-decoration:none;text-decoration:none;}/*!sc*/
.gDcRcS:hover{-webkit-transition-duration:80ms;transition-duration:80ms;}/*!sc*/
.gDcRcS:active{-webkit-transition:none;transition:none;}/*!sc*/
.gDcRcS[data-inactive]{cursor:auto;}/*!sc*/
.gDcRcS:disabled{cursor:not-allowed;box-shadow:none;color:#8c959f;}/*!sc*/
.gDcRcS:disabled [data-component=ButtonCounter]{color:inherit;}/*!sc*/
@media (forced-colors:active){.gDcRcS:focus{outline:solid 1px transparent;}}/*!sc*/
.gDcRcS [data-component=ButtonCounter]{font-size:12px;}/*!sc*/
.gDcRcS[data-component=IconButton]{display:inline-grid;padding:unset;place-content:center;width:32px;min-width:unset;}/*!sc*/
.gDcRcS[data-size="small"]{padding:0 8px;height:28px;gap:4px;font-size:12px;}/*!sc*/
.gDcRcS[data-size="small"] [data-component="text"]{line-height:calc(20 / 12);}/*!sc*/
.gDcRcS[data-size="small"] [data-component=ButtonCounter]{font-size:12px;}/*!sc*/
.gDcRcS[data-size="small"] [data-component="buttonContent"] > :not(:last-child){margin-right:4px;}/*!sc*/
.gDcRcS[data-size="small"][data-component=IconButton]{width:28px;padding:unset;}/*!sc*/
.gDcRcS[data-size="large"]{padding:0 16px;height:40px;gap:8px;}/*!sc*/
.gDcRcS[data-size="large"] [data-component="buttonContent"] > :not(:last-child){margin-right:8px;}/*!sc*/
.gDcRcS[data-size="large"][data-component=IconButton]{width:40px;padding:unset;}/*!sc*/
.gDcRcS[data-block="block"]{width:100%;}/*!sc*/
.gDcRcS[data-inactive]:not([disabled]){background-color:var(--button-inactive-bgColor,#eaeef2);border-color:var(--button-inactive-bgColor,#eaeef2);color:var(--button-inactive-fgColor,#57606a);}/*!sc*/
.gDcRcS[data-inactive]:not([disabled]):focus-visible{box-shadow:none;}/*!sc*/
.gDcRcS [data-component="leadingVisual"]{grid-area:leadingVisual;}/*!sc*/
.gDcRcS [data-component="text"]{grid-area:text;line-height:calc(20/14);white-space:nowrap;}/*!sc*/
.gDcRcS [data-component="trailingVisual"]{grid-area:trailingVisual;}/*!sc*/
.gDcRcS [data-component="trailingAction"]{margin-right:-4px;}/*!sc*/
.gDcRcS [data-component="buttonContent"]{-webkit-flex:1 0 auto;-ms-flex:1 0 auto;flex:1 0 auto;display:grid;grid-template-areas:"leadingVisual text trailingVisual";grid-template-columns:min-content minmax(0,auto) min-content;-webkit-align-items:center;-webkit-box-align:center;-ms-flex-align:center;align-items:center;-webkit-align-content:center;-ms-flex-line-pack:center;align-content:center;}/*!sc*/
.gDcRcS [data-component="buttonContent"] > :not(:last-child){margin-right:8px;}/*!sc*/
.gDcRcS:hover:not([disabled]):not([data-inactive]){background-color:#f3f4f6;border-color:var(--button-default-borderColor-hover,rgba(31,35,40,0.15));}/*!sc*/
.gDcRcS:active:not([disabled]):not([data-inactive]){background-color:hsla(220,14%,93%,1);border-color:var(--button-default-borderColor-active,rgba(31,35,40,0.15));}/*!sc*/
.gDcRcS[aria-expanded=true]{background-color:hsla(220,14%,93%,1);border-color:var(--button-default-borderColor-active,rgba(31,35,40,0.15));}/*!sc*/
.gDcRcS [data-component="leadingVisual"],.gDcRcS [data-component="trailingVisual"],.gDcRcS [data-component="trailingAction"]{color:var(--button-color,#656d76);}/*!sc*/
.gDcRcS{display:-webkit-box;display:-webkit-flex;display:-ms-flexbox;display:flex;}/*!sc*/
.gDcRcS svg{color:#656d76;}/*!sc*/
.gDcRcS > span{width:inherit;}/*!sc*/
.dfaHcy{border-radius:6px;border:1px solid;border-color:var(--button-default-borderColor-rest,rgba(31,35,40,0.15));font-family:inherit;font-weight:500;font-size:14px;cursor:pointer;-webkit-appearance:none;-moz-appearance:none;appearance:none;-webkit-user-select:none;-moz-user-select:none;-ms-user-select:none;user-select:none;-webkit-text-decoration:none;text-decoration:none;text-align:center;display:-webkit-box;display:-webkit-flex;display:-ms-flexbox;display:flex;-webkit-align-items:center;-webkit-box-align:center;-ms-flex-align:center;align-items:center;-webkit-box-pack:justify;-webkit-justify-content:space-between;-ms-flex-pack:justify;justify-content:space-between;height:32px;padding:0 12px;gap:8px;min-width:-webkit-max-content;min-width:-moz-max-content;min-width:max-content;-webkit-transition:80ms cubic-bezier(0.65,0,0.35,1);transition:80ms cubic-bezier(0.65,0,0.35,1);-webkit-transition-property:color,fill,background-color,border-color;transition-property:color,fill,background-color,border-color;color:#24292f;background-color:#f6f8fa;box-shadow:0 1px 0 rgba(31,35,40,0.04),inset 0 1px 0 rgba(255,255,255,0.25);}/*!sc*/
.dfaHcy:focus:not(:disabled){box-shadow:none;outline:2px solid #0969da;outline-offset:-2px;}/*!sc*/
.dfaHcy:focus:not(:disabled):not(:focus-visible){outline:solid 1px transparent;}/*!sc*/
.dfaHcy:focus-visible:not(:disabled){box-shadow:none;outline:2px solid #0969da;outline-offset:-2px;}/*!sc*/
.dfaHcy[href]{display:-webkit-inline-box;display:-webkit-inline-flex;display:-ms-inline-flexbox;display:inline-flex;}/*!sc*/
.dfaHcy[href]:hover{-webkit-text-decoration:none;text-decoration:none;}/*!sc*/
.dfaHcy:hover{-webkit-transition-duration:80ms;transition-duration:80ms;}/*!sc*/
.dfaHcy:active{-webkit-transition:none;transition:none;}/*!sc*/
.dfaHcy[data-inactive]{cursor:auto;}/*!sc*/
.dfaHcy:disabled{cursor:not-allowed;box-shadow:none;color:#8c959f;}/*!sc*/
.dfaHcy:disabled [data-component=ButtonCounter]{color:inherit;}/*!sc*/
@media (forced-colors:active){.dfaHcy:focus{outline:solid 1px transparent;}}/*!sc*/
.dfaHcy [data-component=ButtonCounter]{font-size:12px;}/*!sc*/
.dfaHcy[data-component=IconButton]{display:inline-grid;padding:unset;place-content:center;width:32px;min-width:unset;}/*!sc*/
.dfaHcy[data-size="small"]{padding:0 8px;height:28px;gap:4px;font-size:12px;}/*!sc*/
.dfaHcy[data-size="small"] [data-component="text"]{line-height:calc(20 / 12);}/*!sc*/
.dfaHcy[data-size="small"] [data-component=ButtonCounter]{font-size:12px;}/*!sc*/
.dfaHcy[data-size="small"] [data-component="buttonContent"] > :not(:last-child){margin-right:4px;}/*!sc*/
.dfaHcy[data-size="small"][data-component=IconButton]{width:28px;padding:unset;}/*!sc*/
.dfaHcy[data-size="large"]{padding:0 16px;height:40px;gap:8px;}/*!sc*/
.dfaHcy[data-size="large"] [data-component="buttonContent"] > :not(:last-child){margin-right:8px;}/*!sc*/
.dfaHcy[data-size="large"][data-component=IconButton]{width:40px;padding:unset;}/*!sc*/
.dfaHcy[data-block="block"]{width:100%;}/*!sc*/
.dfaHcy[data-inactive]:not([disabled]){background-color:var(--button-inactive-bgColor,#eaeef2);border-color:var(--button-inactive-bgColor,#eaeef2);color:var(--button-inactive-fgColor,#57606a);}/*!sc*/
.dfaHcy[data-inactive]:not([disabled]):focus-visible{box-shadow:none;}/*!sc*/
.dfaHcy [data-component="leadingVisual"]{grid-area:leadingVisual;}/*!sc*/
.dfaHcy [data-component="text"]{grid-area:text;line-height:calc(20/14);white-space:nowrap;}/*!sc*/
.dfaHcy [data-component="trailingVisual"]{grid-area:trailingVisual;}/*!sc*/
.dfaHcy [data-component="trailingAction"]{margin-right:-4px;}/*!sc*/
.dfaHcy [data-component="buttonContent"]{-webkit-flex:1 0 auto;-ms-flex:1 0 auto;flex:1 0 auto;display:grid;grid-template-areas:"leadingVisual text trailingVisual";grid-template-columns:min-content minmax(0,auto) min-content;-webkit-align-items:center;-webkit-box-align:center;-ms-flex-align:center;align-items:center;-webkit-align-content:center;-ms-flex-line-pack:center;align-content:center;}/*!sc*/
.dfaHcy [data-component="buttonContent"] > :not(:last-child){margin-right:8px;}/*!sc*/
.dfaHcy:hover:not([disabled]):not([data-inactive]){background-color:#f3f4f6;border-color:var(--button-default-borderColor-hover,rgba(31,35,40,0.15));}/*!sc*/
.dfaHcy:active:not([disabled]):not([data-inactive]){background-color:hsla(220,14%,93%,1);border-color:var(--button-default-borderColor-active,rgba(31,35,40,0.15));}/*!sc*/
.dfaHcy[aria-expanded=true]{background-color:hsla(220,14%,93%,1);border-color:var(--button-default-borderColor-active,rgba(31,35,40,0.15));}/*!sc*/
.dfaHcy [data-component="leadingVisual"],.dfaHcy [data-component="trailingVisual"],.dfaHcy [data-component="trailingAction"]{color:var(--button-color,#656d76);}/*!sc*/
.dfaHcy[data-no-visuals]{border-top-left-radius:0;border-bottom-left-radius:0;display:none;}/*!sc*/
.iNXtMc{border-radius:6px;border:1px solid;border-color:var(--button-default-borderColor-rest,rgba(31,35,40,0.15));font-family:inherit;font-weight:500;font-size:14px;cursor:pointer;-webkit-appearance:none;-moz-appearance:none;appearance:none;-webkit-user-select:none;-moz-user-select:none;-ms-user-select:none;user-select:none;-webkit-text-decoration:none;text-decoration:none;text-align:center;display:-webkit-box;display:-webkit-flex;display:-ms-flexbox;display:flex;-webkit-align-items:center;-webkit-box-align:center;-ms-flex-align:center;align-items:center;-webkit-box-pack:justify;-webkit-justify-content:space-between;-ms-flex-pack:justify;justify-content:space-between;height:32px;padding:0 12px;gap:8px;min-width:-webkit-max-content;min-width:-moz-max-content;min-width:max-content;-webkit-transition:80ms cubic-bezier(0.65,0,0.35,1);transition:80ms cubic-bezier(0.65,0,0.35,1);-webkit-transition-property:color,fill,background-color,border-color;transition-property:color,fill,background-color,border-color;color:#24292f;background-color:#f6f8fa;box-shadow:0 1px 0 rgba(31,35,40,0.04),inset 0 1px 0 rgba(255,255,255,0.25);}/*!sc*/
.iNXtMc:focus:not(:disabled){box-shadow:none;outline:2px solid #0969da;outline-offset:-2px;}/*!sc*/
.iNXtMc:focus:not(:disabled):not(:focus-visible){outline:solid 1px transparent;}/*!sc*/
.iNXtMc:focus-visible:not(:disabled){box-shadow:none;outline:2px solid #0969da;outline-offset:-2px;}/*!sc*/
.iNXtMc[href]{display:-webkit-inline-box;display:-webkit-inline-flex;display:-ms-inline-flexbox;display:inline-flex;}/*!sc*/
.iNXtMc[href]:hover{-webkit-text-decoration:none;text-decoration:none;}/*!sc*/
.iNXtMc:hover{-webkit-transition-duration:80ms;transition-duration:80ms;}/*!sc*/
.iNXtMc:active{-webkit-transition:none;transition:none;}/*!sc*/
.iNXtMc[data-inactive]{cursor:auto;}/*!sc*/
.iNXtMc:disabled{cursor:not-allowed;box-shadow:none;color:#8c959f;}/*!sc*/
.iNXtMc:disabled [data-component=ButtonCounter]{color:inherit;}/*!sc*/
@media (forced-colors:active){.iNXtMc:focus{outline:solid 1px transparent;}}/*!sc*/
.iNXtMc [data-component=ButtonCounter]{font-size:12px;}/*!sc*/
.iNXtMc[data-component=IconButton]{display:inline-grid;padding:unset;place-content:center;width:32px;min-width:unset;}/*!sc*/
.iNXtMc[data-size="small"]{padding:0 8px;height:28px;gap:4px;font-size:12px;}/*!sc*/
.iNXtMc[data-size="small"] [data-component="text"]{line-height:calc(20 / 12);}/*!sc*/
.iNXtMc[data-size="small"] [data-component=ButtonCounter]{font-size:12px;}/*!sc*/
.iNXtMc[data-size="small"] [data-component="buttonContent"] > :not(:last-child){margin-right:4px;}/*!sc*/
.iNXtMc[data-size="small"][data-component=IconButton]{width:28px;padding:unset;}/*!sc*/
.iNXtMc[data-size="large"]{padding:0 16px;height:40px;gap:8px;}/*!sc*/
.iNXtMc[data-size="large"] [data-component="buttonContent"] > :not(:last-child){margin-right:8px;}/*!sc*/
.iNXtMc[data-size="large"][data-component=IconButton]{width:40px;padding:unset;}/*!sc*/
.iNXtMc[data-block="block"]{width:100%;}/*!sc*/
.iNXtMc[data-inactive]:not([disabled]){background-color:var(--button-inactive-bgColor,#eaeef2);border-color:var(--button-inactive-bgColor,#eaeef2);color:var(--button-inactive-fgColor,#57606a);}/*!sc*/
.iNXtMc[data-inactive]:not([disabled]):focus-visible{box-shadow:none;}/*!sc*/
.iNXtMc [data-component="leadingVisual"]{grid-area:leadingVisual;}/*!sc*/
.iNXtMc [data-component="text"]{grid-area:text;line-height:calc(20/14);white-space:nowrap;}/*!sc*/
.iNXtMc [data-component="trailingVisual"]{grid-area:trailingVisual;}/*!sc*/
.iNXtMc [data-component="trailingAction"]{margin-right:-4px;}/*!sc*/
.iNXtMc [data-component="buttonContent"]{-webkit-flex:1 0 auto;-ms-flex:1 0 auto;flex:1 0 auto;display:grid;grid-template-areas:"leadingVisual text trailingVisual";grid-template-columns:min-content minmax(0,auto) min-content;-webkit-align-items:center;-webkit-box-align:center;-ms-flex-align:center;align-items:center;-webkit-align-content:center;-ms-flex-line-pack:center;align-content:center;}/*!sc*/
.iNXtMc [data-component="buttonContent"] > :not(:last-child){margin-right:8px;}/*!sc*/
.iNXtMc:hover:not([disabled]):not([data-inactive]){background-color:#f3f4f6;border-color:var(--button-default-borderColor-hover,rgba(31,35,40,0.15));}/*!sc*/
.iNXtMc:active:not([disabled]):not([data-inactive]){background-color:hsla(220,14%,93%,1);border-color:var(--button-default-borderColor-active,rgba(31,35,40,0.15));}/*!sc*/
.iNXtMc[aria-expanded=true]{background-color:hsla(220,14%,93%,1);border-color:var(--button-default-borderColor-active,rgba(31,35,40,0.15));}/*!sc*/
.iNXtMc [data-component="leadingVisual"],.iNXtMc [data-component="trailingVisual"],.iNXtMc [data-component="trailingAction"]{color:var(--button-color,#656d76);}/*!sc*/
.iNXtMc[data-no-visuals]{color:#656d76;}/*!sc*/
.fFejDP{border-radius:6px;border:1px solid;border-color:transparent;font-family:inherit;font-weight:500;font-size:14px;cursor:pointer;-webkit-appearance:none;-moz-appearance:none;appearance:none;-webkit-user-select:none;-moz-user-select:none;-ms-user-select:none;user-select:none;-webkit-text-decoration:none;text-decoration:none;text-align:center;display:-webkit-box;display:-webkit-flex;display:-ms-flexbox;display:flex;-webkit-align-items:center;-webkit-box-align:center;-ms-flex-align:center;align-items:center;-webkit-box-pack:justify;-webkit-justify-content:space-between;-ms-flex-pack:justify;justify-content:space-between;height:32px;padding:0 12px;gap:8px;min-width:-webkit-max-content;min-width:-moz-max-content;min-width:max-content;-webkit-transition:80ms cubic-bezier(0.65,0,0.35,1);transition:80ms cubic-bezier(0.65,0,0.35,1);-webkit-transition-property:color,fill,background-color,border-color;transition-property:color,fill,background-color,border-color;color:#24292f;background-color:transparent;box-shadow:none;}/*!sc*/
.fFejDP:focus:not(:disabled){box-shadow:none;outline:2px solid #0969da;outline-offset:-2px;}/*!sc*/
.fFejDP:focus:not(:disabled):not(:focus-visible){outline:solid 1px transparent;}/*!sc*/
.fFejDP:focus-visible:not(:disabled){box-shadow:none;outline:2px solid #0969da;outline-offset:-2px;}/*!sc*/
.fFejDP[href]{display:-webkit-inline-box;display:-webkit-inline-flex;display:-ms-inline-flexbox;display:inline-flex;}/*!sc*/
.fFejDP[href]:hover{-webkit-text-decoration:none;text-decoration:none;}/*!sc*/
.fFejDP:hover{-webkit-transition-duration:80ms;transition-duration:80ms;}/*!sc*/
.fFejDP:active{-webkit-transition:none;transition:none;}/*!sc*/
.fFejDP[data-inactive]{cursor:auto;}/*!sc*/
.fFejDP:disabled{cursor:not-allowed;box-shadow:none;color:#8c959f;}/*!sc*/
.fFejDP:disabled [data-component=ButtonCounter],.fFejDP:disabled [data-component="leadingVisual"],.fFejDP:disabled [data-component="trailingAction"]{color:inherit;}/*!sc*/
@media (forced-colors:active){.fFejDP:focus{outline:solid 1px transparent;}}/*!sc*/
.fFejDP [data-component=ButtonCounter]{font-size:12px;}/*!sc*/
.fFejDP[data-component=IconButton]{display:inline-grid;padding:unset;place-content:center;width:32px;min-width:unset;}/*!sc*/
.fFejDP[data-size="small"]{padding:0 8px;height:28px;gap:4px;font-size:12px;}/*!sc*/
.fFejDP[data-size="small"] [data-component="text"]{line-height:calc(20 / 12);}/*!sc*/
.fFejDP[data-size="small"] [data-component=ButtonCounter]{font-size:12px;}/*!sc*/
.fFejDP[data-size="small"] [data-component="buttonContent"] > :not(:last-child){margin-right:4px;}/*!sc*/
.fFejDP[data-size="small"][data-component=IconButton]{width:28px;padding:unset;}/*!sc*/
.fFejDP[data-size="large"]{padding:0 16px;height:40px;gap:8px;}/*!sc*/
.fFejDP[data-size="large"] [data-component="buttonContent"] > :not(:last-child){margin-right:8px;}/*!sc*/
.fFejDP[data-size="large"][data-component=IconButton]{width:40px;padding:unset;}/*!sc*/
.fFejDP[data-block="block"]{width:100%;}/*!sc*/
.fFejDP[data-inactive]:not([disabled]){background-color:var(--button-inactive-bgColor,#eaeef2);border-color:var(--button-inactive-bgColor,#eaeef2);color:var(--button-inactive-fgColor,#57606a);}/*!sc*/
.fFejDP[data-inactive]:not([disabled]):focus-visible{box-shadow:none;}/*!sc*/
.fFejDP [data-component="leadingVisual"]{grid-area:leadingVisual;color:#656d76;}/*!sc*/
.fFejDP [data-component="text"]{grid-area:text;line-height:calc(20/14);white-space:nowrap;}/*!sc*/
.fFejDP [data-component="trailingVisual"]{grid-area:trailingVisual;}/*!sc*/
.fFejDP [data-component="trailingAction"]{margin-right:-4px;color:#656d76;}/*!sc*/
.fFejDP [data-component="buttonContent"]{-webkit-flex:1 0 auto;-ms-flex:1 0 auto;flex:1 0 auto;display:grid;grid-template-areas:"leadingVisual text trailingVisual";grid-template-columns:min-content minmax(0,auto) min-content;-webkit-align-items:center;-webkit-box-align:center;-ms-flex-align:center;align-items:center;-webkit-align-content:center;-ms-flex-line-pack:center;align-content:center;}/*!sc*/
.fFejDP [data-component="buttonContent"] > :not(:last-child){margin-right:8px;}/*!sc*/
.fFejDP:hover:not([disabled]){background-color:rgba(208,215,222,0.32);}/*!sc*/
.fFejDP:active:not([disabled]){background-color:rgba(208,215,222,0.48);}/*!sc*/
.fFejDP[aria-expanded=true]{background-color:rgba(208,215,222,0.24);}/*!sc*/
.fFejDP[data-component="IconButton"][data-no-visuals]{color:#656d76;}/*!sc*/
.fFejDP[data-no-visuals]{color:#0969da;}/*!sc*/
.fFejDP:has([data-component="ButtonCounter"]){color:#24292f;}/*!sc*/
.fFejDP:disabled[data-no-visuals]{color:#8c959f;}/*!sc*/
.fFejDP:disabled[data-no-visuals] [data-component=ButtonCounter]{color:inherit;}/*!sc*/
.fFejDP[data-size="small"][data-no-visuals]{margin-left:8px;}/*!sc*/
.hsBZZU{border-radius:6px;border:1px solid;border-color:transparent;font-family:inherit;font-weight:500;font-size:14px;cursor:pointer;-webkit-appearance:none;-moz-appearance:none;appearance:none;-webkit-user-select:none;-moz-user-select:none;-ms-user-select:none;user-select:none;-webkit-text-decoration:none;text-decoration:none;text-align:center;display:-webkit-box;display:-webkit-flex;display:-ms-flexbox;display:flex;-webkit-align-items:center;-webkit-box-align:center;-ms-flex-align:center;align-items:center;-webkit-box-pack:justify;-webkit-justify-content:space-between;-ms-flex-pack:justify;justify-content:space-between;height:32px;padding:0 12px;gap:8px;min-width:-webkit-max-content;min-width:-moz-max-content;min-width:max-content;-webkit-transition:80ms cubic-bezier(0.65,0,0.35,1);transition:80ms cubic-bezier(0.65,0,0.35,1);-webkit-transition-property:color,fill,background-color,border-color;transition-property:color,fill,background-color,border-color;color:#1F2328;background-color:transparent;box-shadow:none;}/*!sc*/
.hsBZZU:focus:not(:disabled){box-shadow:none;outline:2px solid #0969da;outline-offset:-2px;}/*!sc*/
.hsBZZU:focus:not(:disabled):not(:focus-visible){outline:solid 1px transparent;}/*!sc*/
.hsBZZU:focus-visible:not(:disabled){box-shadow:none;outline:2px solid #0969da;outline-offset:-2px;}/*!sc*/
.hsBZZU[href]{display:-webkit-inline-box;display:-webkit-inline-flex;display:-ms-inline-flexbox;display:inline-flex;}/*!sc*/
.hsBZZU[href]:hover{-webkit-text-decoration:none;text-decoration:none;}/*!sc*/
.hsBZZU:hover{-webkit-transition-duration:80ms;transition-duration:80ms;}/*!sc*/
.hsBZZU:active{-webkit-transition:none;transition:none;}/*!sc*/
.hsBZZU[data-inactive]{cursor:auto;}/*!sc*/
.hsBZZU:disabled{cursor:not-allowed;box-shadow:none;color:#8c959f;}/*!sc*/
.hsBZZU:disabled [data-component=ButtonCounter],.hsBZZU:disabled [data-component="leadingVisual"],.hsBZZU:disabled [data-component="trailingAction"]{color:inherit;}/*!sc*/
@media (forced-colors:active){.hsBZZU:focus{outline:solid 1px transparent;}}/*!sc*/
.hsBZZU [data-component=ButtonCounter]{font-size:12px;}/*!sc*/
.hsBZZU[data-component=IconButton]{display:inline-grid;padding:unset;place-content:center;width:32px;min-width:unset;}/*!sc*/
.hsBZZU[data-size="small"]{padding:0 8px;height:28px;gap:4px;font-size:12px;}/*!sc*/
.hsBZZU[data-size="small"] [data-component="text"]{line-height:calc(20 / 12);}/*!sc*/
.hsBZZU[data-size="small"] [data-component=ButtonCounter]{font-size:12px;}/*!sc*/
.hsBZZU[data-size="small"] [data-component="buttonContent"] > :not(:last-child){margin-right:4px;}/*!sc*/
.hsBZZU[data-size="small"][data-component=IconButton]{width:28px;padding:unset;}/*!sc*/
.hsBZZU[data-size="large"]{padding:0 16px;height:40px;gap:8px;}/*!sc*/
.hsBZZU[data-size="large"] [data-component="buttonContent"] > :not(:last-child){margin-right:8px;}/*!sc*/
.hsBZZU[data-size="large"][data-component=IconButton]{width:40px;padding:unset;}/*!sc*/
.hsBZZU[data-block="block"]{width:100%;}/*!sc*/
.hsBZZU[data-inactive]:not([disabled]){background-color:var(--button-inactive-bgColor,#eaeef2);border-color:var(--button-inactive-bgColor,#eaeef2);color:var(--button-inactive-fgColor,#57606a);}/*!sc*/
.hsBZZU[data-inactive]:not([disabled]):focus-visible{box-shadow:none;}/*!sc*/
.hsBZZU [data-component="leadingVisual"]{grid-area:leadingVisual;color:#656d76;}/*!sc*/
.hsBZZU [data-component="text"]{grid-area:text;line-height:calc(20/14);white-space:nowrap;}/*!sc*/
.hsBZZU [data-component="trailingVisual"]{grid-area:trailingVisual;}/*!sc*/
.hsBZZU [data-component="trailingAction"]{margin-right:-4px;color:#656d76;}/*!sc*/
.hsBZZU [data-component="buttonContent"]{-webkit-flex:1 0 auto;-ms-flex:1 0 auto;flex:1 0 auto;display:grid;grid-template-areas:"leadingVisual text trailingVisual";grid-template-columns:min-content minmax(0,auto) min-content;-webkit-align-items:center;-webkit-box-align:center;-ms-flex-align:center;align-items:center;-webkit-align-content:center;-ms-flex-line-pack:center;align-content:center;}/*!sc*/
.hsBZZU [data-component="buttonContent"] > :not(:last-child){margin-right:8px;}/*!sc*/
.hsBZZU:hover:not([disabled]){background-color:rgba(208,215,222,0.32);-webkit-text-decoration:none;text-decoration:none;}/*!sc*/
.hsBZZU:active:not([disabled]){background-color:rgba(208,215,222,0.48);-webkit-text-decoration:none;text-decoration:none;}/*!sc*/
.hsBZZU[aria-expanded=true]{background-color:rgba(208,215,222,0.24);}/*!sc*/
.hsBZZU[data-component="IconButton"][data-no-visuals]{color:#656d76;}/*!sc*/
.hsBZZU[data-no-visuals]{color:#0969da;}/*!sc*/
.hsBZZU:has([data-component="ButtonCounter"]){color:#24292f;}/*!sc*/
.hsBZZU:disabled[data-no-visuals]{color:#8c959f;}/*!sc*/
.hsBZZU:disabled[data-no-visuals] [data-component=ButtonCounter]{color:inherit;}/*!sc*/
.hsBZZU:focus:not([disabled]){-webkit-text-decoration:none;text-decoration:none;}/*!sc*/
.iukPok{border-radius:6px;border:1px solid;border-color:transparent;font-family:inherit;font-weight:500;font-size:14px;cursor:pointer;-webkit-appearance:none;-moz-appearance:none;appearance:none;-webkit-user-select:none;-moz-user-select:none;-ms-user-select:none;user-select:none;-webkit-text-decoration:none;text-decoration:none;text-align:center;display:-webkit-box;display:-webkit-flex;display:-ms-flexbox;display:flex;-webkit-align-items:center;-webkit-box-align:center;-ms-flex-align:center;align-items:center;-webkit-box-pack:justify;-webkit-justify-content:space-between;-ms-flex-pack:justify;justify-content:space-between;height:32px;padding:0 12px;gap:8px;min-width:-webkit-max-content;min-width:-moz-max-content;min-width:max-content;-webkit-transition:80ms cubic-bezier(0.65,0,0.35,1);transition:80ms cubic-bezier(0.65,0,0.35,1);-webkit-transition-property:color,fill,background-color,border-color;transition-property:color,fill,background-color,border-color;color:#24292f;background-color:transparent;box-shadow:none;}/*!sc*/
.iukPok:focus:not(:disabled){box-shadow:none;outline:2px solid #0969da;outline-offset:-2px;}/*!sc*/
.iukPok:focus:not(:disabled):not(:focus-visible){outline:solid 1px transparent;}/*!sc*/
.iukPok:focus-visible:not(:disabled){box-shadow:none;outline:2px solid #0969da;outline-offset:-2px;}/*!sc*/
.iukPok[href]{display:-webkit-inline-box;display:-webkit-inline-flex;display:-ms-inline-flexbox;display:inline-flex;}/*!sc*/
.iukPok[href]:hover{-webkit-text-decoration:none;text-decoration:none;}/*!sc*/
.iukPok:hover{-webkit-transition-duration:80ms;transition-duration:80ms;}/*!sc*/
.iukPok:active{-webkit-transition:none;transition:none;}/*!sc*/
.iukPok[data-inactive]{cursor:auto;}/*!sc*/
.iukPok:disabled{cursor:not-allowed;box-shadow:none;color:#8c959f;}/*!sc*/
.iukPok:disabled [data-component=ButtonCounter],.iukPok:disabled [data-component="leadingVisual"],.iukPok:disabled [data-component="trailingAction"]{color:inherit;}/*!sc*/
@media (forced-colors:active){.iukPok:focus{outline:solid 1px transparent;}}/*!sc*/
.iukPok [data-component=ButtonCounter]{font-size:12px;}/*!sc*/
.iukPok[data-component=IconButton]{display:inline-grid;padding:unset;place-content:center;width:32px;min-width:unset;}/*!sc*/
.iukPok[data-size="small"]{padding:0 8px;height:28px;gap:4px;font-size:12px;color:#1F2328;margin-left:8px;}/*!sc*/
.iukPok[data-size="small"] [data-component="text"]{line-height:calc(20 / 12);}/*!sc*/
.iukPok[data-size="small"] [data-component=ButtonCounter]{font-size:12px;}/*!sc*/
.iukPok[data-size="small"] [data-component="buttonContent"] > :not(:last-child){margin-right:4px;}/*!sc*/
.iukPok[data-size="small"][data-component=IconButton]{width:28px;padding:unset;}/*!sc*/
.iukPok[data-size="large"]{padding:0 16px;height:40px;gap:8px;}/*!sc*/
.iukPok[data-size="large"] [data-component="buttonContent"] > :not(:last-child){margin-right:8px;}/*!sc*/
.iukPok[data-size="large"][data-component=IconButton]{width:40px;padding:unset;}/*!sc*/
.iukPok[data-block="block"]{width:100%;}/*!sc*/
.iukPok[data-inactive]:not([disabled]){background-color:var(--button-inactive-bgColor,#eaeef2);border-color:var(--button-inactive-bgColor,#eaeef2);color:var(--button-inactive-fgColor,#57606a);}/*!sc*/
.iukPok[data-inactive]:not([disabled]):focus-visible{box-shadow:none;}/*!sc*/
.iukPok [data-component="leadingVisual"]{grid-area:leadingVisual;color:#656d76;}/*!sc*/
.iukPok [data-component="text"]{grid-area:text;line-height:calc(20/14);white-space:nowrap;}/*!sc*/
.iukPok [data-component="trailingVisual"]{grid-area:trailingVisual;}/*!sc*/
.iukPok [data-component="trailingAction"]{margin-right:-4px;color:#656d76;}/*!sc*/
.iukPok [data-component="buttonContent"]{-webkit-flex:1 0 auto;-ms-flex:1 0 auto;flex:1 0 auto;display:grid;grid-template-areas:"leadingVisual text trailingVisual";grid-template-columns:min-content minmax(0,auto) min-content;-webkit-align-items:center;-webkit-box-align:center;-ms-flex-align:center;align-items:center;-webkit-align-content:center;-ms-flex-line-pack:center;align-content:center;}/*!sc*/
.iukPok [data-component="buttonContent"] > :not(:last-child){margin-right:8px;}/*!sc*/
.iukPok:hover:not([disabled]){background-color:rgba(208,215,222,0.32);}/*!sc*/
.iukPok:active:not([disabled]){background-color:rgba(208,215,222,0.48);}/*!sc*/
.iukPok[aria-expanded=true]{background-color:rgba(208,215,222,0.24);}/*!sc*/
.iukPok[data-component="IconButton"][data-no-visuals]{color:#656d76;}/*!sc*/
.iukPok[data-no-visuals]{color:#0969da;}/*!sc*/
.iukPok:has([data-component="ButtonCounter"]){color:#24292f;}/*!sc*/
.iukPok:disabled[data-no-visuals]{color:#8c959f;}/*!sc*/
.iukPok:disabled[data-no-visuals] [data-component=ButtonCounter]{color:inherit;}/*!sc*/
.cCLqJS{border-radius:6px;border:1px solid;border-color:var(--button-default-borderColor-rest,rgba(31,35,40,0.15));font-family:inherit;font-weight:500;font-size:14px;cursor:pointer;-webkit-appearance:none;-moz-appearance:none;appearance:none;-webkit-user-select:none;-moz-user-select:none;-ms-user-select:none;user-select:none;-webkit-text-decoration:none;text-decoration:none;text-align:center;display:-webkit-box;display:-webkit-flex;display:-ms-flexbox;display:flex;-webkit-align-items:center;-webkit-box-align:center;-ms-flex-align:center;align-items:center;-webkit-box-pack:justify;-webkit-justify-content:space-between;-ms-flex-pack:justify;justify-content:space-between;height:32px;padding:0 12px;gap:8px;min-width:-webkit-max-content;min-width:-moz-max-content;min-width:max-content;-webkit-transition:80ms cubic-bezier(0.65,0,0.35,1);transition:80ms cubic-bezier(0.65,0,0.35,1);-webkit-transition-property:color,fill,background-color,border-color;transition-property:color,fill,background-color,border-color;color:#24292f;background-color:#f6f8fa;box-shadow:0 1px 0 rgba(31,35,40,0.04),inset 0 1px 0 rgba(255,255,255,0.25);padding-left:8px;padding-right:8px;}/*!sc*/
.cCLqJS:focus:not(:disabled){box-shadow:none;outline:2px solid #0969da;outline-offset:-2px;}/*!sc*/
.cCLqJS:focus:not(:disabled):not(:focus-visible){outline:solid 1px transparent;}/*!sc*/
.cCLqJS:focus-visible:not(:disabled){box-shadow:none;outline:2px solid #0969da;outline-offset:-2px;}/*!sc*/
.cCLqJS[href]{display:-webkit-inline-box;display:-webkit-inline-flex;display:-ms-inline-flexbox;display:inline-flex;}/*!sc*/
.cCLqJS[href]:hover{-webkit-text-decoration:none;text-decoration:none;}/*!sc*/
.cCLqJS:hover{-webkit-transition-duration:80ms;transition-duration:80ms;}/*!sc*/
.cCLqJS:active{-webkit-transition:none;transition:none;}/*!sc*/
.cCLqJS[data-inactive]{cursor:auto;}/*!sc*/
.cCLqJS:disabled{cursor:not-allowed;box-shadow:none;color:#8c959f;}/*!sc*/
.cCLqJS:disabled [data-component=ButtonCounter]{color:inherit;}/*!sc*/
@media (forced-colors:active){.cCLqJS:focus{outline:solid 1px transparent;}}/*!sc*/
.cCLqJS [data-component=ButtonCounter]{font-size:12px;}/*!sc*/
.cCLqJS[data-component=IconButton]{display:inline-grid;padding:unset;place-content:center;width:32px;min-width:unset;}/*!sc*/
.cCLqJS[data-size="small"]{padding:0 8px;height:28px;gap:4px;font-size:12px;}/*!sc*/
.cCLqJS[data-size="small"] [data-component="text"]{line-height:calc(20 / 12);}/*!sc*/
.cCLqJS[data-size="small"] [data-component=ButtonCounter]{font-size:12px;}/*!sc*/
.cCLqJS[data-size="small"] [data-component="buttonContent"] > :not(:last-child){margin-right:4px;}/*!sc*/
.cCLqJS[data-size="small"][data-component=IconButton]{width:28px;padding:unset;}/*!sc*/
.cCLqJS[data-size="large"]{padding:0 16px;height:40px;gap:8px;}/*!sc*/
.cCLqJS[data-size="large"] [data-component="buttonContent"] > :not(:last-child){margin-right:8px;}/*!sc*/
.cCLqJS[data-size="large"][data-component=IconButton]{width:40px;padding:unset;}/*!sc*/
.cCLqJS[data-block="block"]{width:100%;}/*!sc*/
.cCLqJS[data-inactive]:not([disabled]){background-color:var(--button-inactive-bgColor,#eaeef2);border-color:var(--button-inactive-bgColor,#eaeef2);color:var(--button-inactive-fgColor,#57606a);}/*!sc*/
.cCLqJS[data-inactive]:not([disabled]):focus-visible{box-shadow:none;}/*!sc*/
.cCLqJS [data-component="leadingVisual"]{grid-area:leadingVisual;}/*!sc*/
.cCLqJS [data-component="text"]{grid-area:text;line-height:calc(20/14);white-space:nowrap;}/*!sc*/
.cCLqJS [data-component="trailingVisual"]{grid-area:trailingVisual;}/*!sc*/
.cCLqJS [data-component="trailingAction"]{margin-right:-4px;}/*!sc*/
.cCLqJS [data-component="buttonContent"]{-webkit-flex:1 0 auto;-ms-flex:1 0 auto;flex:1 0 auto;display:grid;grid-template-areas:"leadingVisual text trailingVisual";grid-template-columns:min-content minmax(0,auto) min-content;-webkit-align-items:center;-webkit-box-align:center;-ms-flex-align:center;align-items:center;-webkit-align-content:center;-ms-flex-line-pack:center;align-content:center;}/*!sc*/
.cCLqJS [data-component="buttonContent"] > :not(:last-child){margin-right:8px;}/*!sc*/
.cCLqJS:hover:not([disabled]):not([data-inactive]){background-color:#f3f4f6;border-color:var(--button-default-borderColor-hover,rgba(31,35,40,0.15));}/*!sc*/
.cCLqJS:active:not([disabled]):not([data-inactive]){background-color:hsla(220,14%,93%,1);border-color:var(--button-default-borderColor-active,rgba(31,35,40,0.15));}/*!sc*/
.cCLqJS[aria-expanded=true]{background-color:hsla(220,14%,93%,1);border-color:var(--button-default-borderColor-active,rgba(31,35,40,0.15));}/*!sc*/
.cCLqJS [data-component="leadingVisual"],.cCLqJS [data-component="trailingVisual"],.cCLqJS [data-component="trailingAction"]{color:var(--button-color,#656d76);}/*!sc*/
.cCLqJS linkButtonSx:hover:not([disabled]){-webkit-text-decoration:none;text-decoration:none;}/*!sc*/
.cCLqJS linkButtonSx:focus:not([disabled]){-webkit-text-decoration:none;text-decoration:none;}/*!sc*/
.cCLqJS linkButtonSx:active:not([disabled]){-webkit-text-decoration:none;text-decoration:none;}/*!sc*/
.crfMWv{border-radius:6px;border:1px solid;border-color:var(--button-default-borderColor-rest,rgba(31,35,40,0.15));font-family:inherit;font-weight:500;font-size:14px;cursor:pointer;-webkit-appearance:none;-moz-appearance:none;appearance:none;-webkit-user-select:none;-moz-user-select:none;-ms-user-select:none;user-select:none;-webkit-text-decoration:none;text-decoration:none;text-align:center;display:-webkit-box;display:-webkit-flex;display:-ms-flexbox;display:flex;-webkit-align-items:center;-webkit-box-align:center;-ms-flex-align:center;align-items:center;-webkit-box-pack:justify;-webkit-justify-content:space-between;-ms-flex-pack:justify;justify-content:space-between;height:32px;padding:0 12px;gap:8px;min-width:-webkit-max-content;min-width:-moz-max-content;min-width:max-content;-webkit-transition:80ms cubic-bezier(0.65,0,0.35,1);transition:80ms cubic-bezier(0.65,0,0.35,1);-webkit-transition-property:color,fill,background-color,border-color;transition-property:color,fill,background-color,border-color;color:#24292f;background-color:#f6f8fa;box-shadow:0 1px 0 rgba(31,35,40,0.04),inset 0 1px 0 rgba(255,255,255,0.25);}/*!sc*/
.crfMWv:focus:not(:disabled){box-shadow:none;outline:2px solid #0969da;outline-offset:-2px;}/*!sc*/
.crfMWv:focus:not(:disabled):not(:focus-visible){outline:solid 1px transparent;}/*!sc*/
.crfMWv:focus-visible:not(:disabled){box-shadow:none;outline:2px solid #0969da;outline-offset:-2px;}/*!sc*/
.crfMWv[href]{display:-webkit-inline-box;display:-webkit-inline-flex;display:-ms-inline-flexbox;display:inline-flex;}/*!sc*/
.crfMWv[href]:hover{-webkit-text-decoration:none;text-decoration:none;}/*!sc*/
.crfMWv:hover{-webkit-transition-duration:80ms;transition-duration:80ms;}/*!sc*/
.crfMWv:active{-webkit-transition:none;transition:none;}/*!sc*/
.crfMWv[data-inactive]{cursor:auto;}/*!sc*/
.crfMWv:disabled{cursor:not-allowed;box-shadow:none;color:#8c959f;}/*!sc*/
.crfMWv:disabled [data-component=ButtonCounter]{color:inherit;}/*!sc*/
@media (forced-colors:active){.crfMWv:focus{outline:solid 1px transparent;}}/*!sc*/
.crfMWv [data-component=ButtonCounter]{font-size:12px;}/*!sc*/
.crfMWv[data-component=IconButton]{display:inline-grid;padding:unset;place-content:center;width:32px;min-width:unset;}/*!sc*/
.crfMWv[data-size="small"]{padding:0 8px;height:28px;gap:4px;font-size:12px;}/*!sc*/
.crfMWv[data-size="small"] [data-component="text"]{line-height:calc(20 / 12);}/*!sc*/
.crfMWv[data-size="small"] [data-component=ButtonCounter]{font-size:12px;}/*!sc*/
.crfMWv[data-size="small"] [data-component="buttonContent"] > :not(:last-child){margin-right:4px;}/*!sc*/
.crfMWv[data-size="small"][data-component=IconButton]{width:28px;padding:unset;}/*!sc*/
.crfMWv[data-size="large"]{padding:0 16px;height:40px;gap:8px;}/*!sc*/
.crfMWv[data-size="large"] [data-component="buttonContent"] > :not(:last-child){margin-right:8px;}/*!sc*/
.crfMWv[data-size="large"][data-component=IconButton]{width:40px;padding:unset;}/*!sc*/
.crfMWv[data-block="block"]{width:100%;}/*!sc*/
.crfMWv[data-inactive]:not([disabled]){background-color:var(--button-inactive-bgColor,#eaeef2);border-color:var(--button-inactive-bgColor,#eaeef2);color:var(--button-inactive-fgColor,#57606a);}/*!sc*/
.crfMWv[data-inactive]:not([disabled]):focus-visible{box-shadow:none;}/*!sc*/
.crfMWv [data-component="leadingVisual"]{grid-area:leadingVisual;}/*!sc*/
.crfMWv [data-component="text"]{grid-area:text;line-height:calc(20/14);white-space:nowrap;}/*!sc*/
.crfMWv [data-component="trailingVisual"]{grid-area:trailingVisual;}/*!sc*/
.crfMWv [data-component="trailingAction"]{margin-right:-4px;}/*!sc*/
.crfMWv [data-component="buttonContent"]{-webkit-flex:1 0 auto;-ms-flex:1 0 auto;flex:1 0 auto;display:grid;grid-template-areas:"leadingVisual text trailingVisual";grid-template-columns:min-content minmax(0,auto) min-content;-webkit-align-items:center;-webkit-box-align:center;-ms-flex-align:center;align-items:center;-webkit-align-content:center;-ms-flex-line-pack:center;align-content:center;}/*!sc*/
.crfMWv [data-component="buttonContent"] > :not(:last-child){margin-right:8px;}/*!sc*/
.crfMWv:hover:not([disabled]):not([data-inactive]){background-color:#f3f4f6;border-color:var(--button-default-borderColor-hover,rgba(31,35,40,0.15));}/*!sc*/
.crfMWv:active:not([disabled]):not([data-inactive]){background-color:hsla(220,14%,93%,1);border-color:var(--button-default-borderColor-active,rgba(31,35,40,0.15));}/*!sc*/
.crfMWv[aria-expanded=true]{background-color:hsla(220,14%,93%,1);border-color:var(--button-default-borderColor-active,rgba(31,35,40,0.15));}/*!sc*/
.crfMWv [data-component="leadingVisual"],.crfMWv [data-component="trailingVisual"],.crfMWv [data-component="trailingAction"]{color:var(--button-color,#656d76);}/*!sc*/
.dKBeSn{border-radius:6px;border:1px solid;border-color:var(--button-default-borderColor-rest,rgba(31,35,40,0.15));font-family:inherit;font-weight:500;font-size:14px;cursor:pointer;-webkit-appearance:none;-moz-appearance:none;appearance:none;-webkit-user-select:none;-moz-user-select:none;-ms-user-select:none;user-select:none;-webkit-text-decoration:none;text-decoration:none;text-align:center;display:-webkit-box;display:-webkit-flex;display:-ms-flexbox;display:flex;-webkit-align-items:center;-webkit-box-align:center;-ms-flex-align:center;align-items:center;-webkit-box-pack:justify;-webkit-justify-content:space-between;-ms-flex-pack:justify;justify-content:space-between;height:32px;padding:0 12px;gap:8px;min-width:-webkit-max-content;min-width:-moz-max-content;min-width:max-content;-webkit-transition:80ms cubic-bezier(0.65,0,0.35,1);transition:80ms cubic-bezier(0.65,0,0.35,1);-webkit-transition-property:color,fill,background-color,border-color;transition-property:color,fill,background-color,border-color;color:#24292f;background-color:#f6f8fa;box-shadow:0 1px 0 rgba(31,35,40,0.04),inset 0 1px 0 rgba(255,255,255,0.25);}/*!sc*/
.dKBeSn:focus:not(:disabled){box-shadow:none;outline:2px solid #0969da;outline-offset:-2px;}/*!sc*/
.dKBeSn:focus:not(:disabled):not(:focus-visible){outline:solid 1px transparent;}/*!sc*/
.dKBeSn:focus-visible:not(:disabled){box-shadow:none;outline:2px solid #0969da;outline-offset:-2px;}/*!sc*/
.dKBeSn[href]{display:-webkit-inline-box;display:-webkit-inline-flex;display:-ms-inline-flexbox;display:inline-flex;}/*!sc*/
.dKBeSn[href]:hover{-webkit-text-decoration:none;text-decoration:none;}/*!sc*/
.dKBeSn:hover{-webkit-transition-duration:80ms;transition-duration:80ms;}/*!sc*/
.dKBeSn:active{-webkit-transition:none;transition:none;}/*!sc*/
.dKBeSn[data-inactive]{cursor:auto;}/*!sc*/
.dKBeSn:disabled{cursor:not-allowed;box-shadow:none;color:#8c959f;}/*!sc*/
.dKBeSn:disabled [data-component=ButtonCounter]{color:inherit;}/*!sc*/
@media (forced-colors:active){.dKBeSn:focus{outline:solid 1px transparent;}}/*!sc*/
.dKBeSn [data-component=ButtonCounter]{font-size:12px;}/*!sc*/
.dKBeSn[data-component=IconButton]{display:inline-grid;padding:unset;place-content:center;width:32px;min-width:unset;}/*!sc*/
.dKBeSn[data-size="small"]{padding:0 8px;height:28px;gap:4px;font-size:12px;}/*!sc*/
.dKBeSn[data-size="small"] [data-component="text"]{line-height:calc(20 / 12);}/*!sc*/
.dKBeSn[data-size="small"] [data-component=ButtonCounter]{font-size:12px;}/*!sc*/
.dKBeSn[data-size="small"] [data-component="buttonContent"] > :not(:last-child){margin-right:4px;}/*!sc*/
.dKBeSn[data-size="small"][data-component=IconButton]{width:28px;padding:unset;}/*!sc*/
.dKBeSn[data-size="large"]{padding:0 16px;height:40px;gap:8px;}/*!sc*/
.dKBeSn[data-size="large"] [data-component="buttonContent"] > :not(:last-child){margin-right:8px;}/*!sc*/
.dKBeSn[data-size="large"][data-component=IconButton]{width:40px;padding:unset;}/*!sc*/
.dKBeSn[data-block="block"]{width:100%;}/*!sc*/
.dKBeSn[data-inactive]:not([disabled]){background-color:var(--button-inactive-bgColor,#eaeef2);border-color:var(--button-inactive-bgColor,#eaeef2);color:var(--button-inactive-fgColor,#57606a);}/*!sc*/
.dKBeSn[data-inactive]:not([disabled]):focus-visible{box-shadow:none;}/*!sc*/
.dKBeSn [data-component="leadingVisual"]{grid-area:leadingVisual;}/*!sc*/
.dKBeSn [data-component="text"]{grid-area:text;line-height:calc(20/14);white-space:nowrap;}/*!sc*/
.dKBeSn [data-component="trailingVisual"]{grid-area:trailingVisual;}/*!sc*/
.dKBeSn [data-component="trailingAction"]{margin-right:-4px;}/*!sc*/
.dKBeSn [data-component="buttonContent"]{-webkit-flex:1 0 auto;-ms-flex:1 0 auto;flex:1 0 auto;display:grid;grid-template-areas:"leadingVisual text trailingVisual";grid-template-columns:min-content minmax(0,auto) min-content;-webkit-align-items:center;-webkit-box-align:center;-ms-flex-align:center;align-items:center;-webkit-align-content:center;-ms-flex-line-pack:center;align-content:center;}/*!sc*/
.dKBeSn [data-component="buttonContent"] > :not(:last-child){margin-right:8px;}/*!sc*/
.dKBeSn:hover:not([disabled]):not([data-inactive]){background-color:#f3f4f6;border-color:var(--button-default-borderColor-hover,rgba(31,35,40,0.15));}/*!sc*/
.dKBeSn:active:not([disabled]):not([data-inactive]){background-color:hsla(220,14%,93%,1);border-color:var(--button-default-borderColor-active,rgba(31,35,40,0.15));}/*!sc*/
.dKBeSn[aria-expanded=true]{background-color:hsla(220,14%,93%,1);border-color:var(--button-default-borderColor-active,rgba(31,35,40,0.15));}/*!sc*/
.dKBeSn [data-component="leadingVisual"],.dKBeSn [data-component="trailingVisual"],.dKBeSn [data-component="trailingAction"]{color:var(--button-color,#656d76);}/*!sc*/
.dKBeSn[data-size="small"][data-no-visuals]{border-top-left-radius:0;border-bottom-left-radius:0;}/*!sc*/
.cPmGel{border-radius:6px;border:1px solid;border-color:var(--button-default-borderColor-rest,rgba(31,35,40,0.15));font-family:inherit;font-weight:500;font-size:14px;cursor:pointer;-webkit-appearance:none;-moz-appearance:none;appearance:none;-webkit-user-select:none;-moz-user-select:none;-ms-user-select:none;user-select:none;-webkit-text-decoration:none;text-decoration:none;text-align:center;display:-webkit-box;display:-webkit-flex;display:-ms-flexbox;display:flex;-webkit-align-items:center;-webkit-box-align:center;-ms-flex-align:center;align-items:center;-webkit-box-pack:justify;-webkit-justify-content:space-between;-ms-flex-pack:justify;justify-content:space-between;height:32px;padding:0 12px;gap:8px;min-width:-webkit-max-content;min-width:-moz-max-content;min-width:max-content;-webkit-transition:80ms cubic-bezier(0.65,0,0.35,1);transition:80ms cubic-bezier(0.65,0,0.35,1);-webkit-transition-property:color,fill,background-color,border-color;transition-property:color,fill,background-color,border-color;color:#24292f;background-color:#f6f8fa;box-shadow:0 1px 0 rgba(31,35,40,0.04),inset 0 1px 0 rgba(255,255,255,0.25);}/*!sc*/
.cPmGel:focus:not(:disabled){box-shadow:none;outline:2px solid #0969da;outline-offset:-2px;}/*!sc*/
.cPmGel:focus:not(:disabled):not(:focus-visible){outline:solid 1px transparent;}/*!sc*/
.cPmGel:focus-visible:not(:disabled){box-shadow:none;outline:2px solid #0969da;outline-offset:-2px;}/*!sc*/
.cPmGel[href]{display:-webkit-inline-box;display:-webkit-inline-flex;display:-ms-inline-flexbox;display:inline-flex;}/*!sc*/
.cPmGel[href]:hover{-webkit-text-decoration:none;text-decoration:none;}/*!sc*/
.cPmGel:hover{-webkit-transition-duration:80ms;transition-duration:80ms;}/*!sc*/
.cPmGel:active{-webkit-transition:none;transition:none;}/*!sc*/
.cPmGel[data-inactive]{cursor:auto;}/*!sc*/
.cPmGel:disabled{cursor:not-allowed;box-shadow:none;color:#8c959f;}/*!sc*/
.cPmGel:disabled [data-component=ButtonCounter]{color:inherit;}/*!sc*/
@media (forced-colors:active){.cPmGel:focus{outline:solid 1px transparent;}}/*!sc*/
.cPmGel [data-component=ButtonCounter]{font-size:12px;}/*!sc*/
.cPmGel[data-component=IconButton]{display:inline-grid;padding:unset;place-content:center;width:32px;min-width:unset;}/*!sc*/
.cPmGel[data-size="small"]{padding:0 8px;height:28px;gap:4px;font-size:12px;}/*!sc*/
.cPmGel[data-size="small"] [data-component="text"]{line-height:calc(20 / 12);}/*!sc*/
.cPmGel[data-size="small"] [data-component=ButtonCounter]{font-size:12px;}/*!sc*/
.cPmGel[data-size="small"] [data-component="buttonContent"] > :not(:last-child){margin-right:4px;}/*!sc*/
.cPmGel[data-size="small"][data-component=IconButton]{width:28px;padding:unset;}/*!sc*/
.cPmGel[data-size="large"]{padding:0 16px;height:40px;gap:8px;}/*!sc*/
.cPmGel[data-size="large"] [data-component="buttonContent"] > :not(:last-child){margin-right:8px;}/*!sc*/
.cPmGel[data-size="large"][data-component=IconButton]{width:40px;padding:unset;}/*!sc*/
.cPmGel[data-block="block"]{width:100%;}/*!sc*/
.cPmGel[data-inactive]:not([disabled]){background-color:var(--button-inactive-bgColor,#eaeef2);border-color:var(--button-inactive-bgColor,#eaeef2);color:var(--button-inactive-fgColor,#57606a);}/*!sc*/
.cPmGel[data-inactive]:not([disabled]):focus-visible{box-shadow:none;}/*!sc*/
.cPmGel [data-component="leadingVisual"]{grid-area:leadingVisual;}/*!sc*/
.cPmGel [data-component="text"]{grid-area:text;line-height:calc(20/14);white-space:nowrap;}/*!sc*/
.cPmGel [data-component="trailingVisual"]{grid-area:trailingVisual;}/*!sc*/
.cPmGel [data-component="trailingAction"]{margin-right:-4px;}/*!sc*/
.cPmGel [data-component="buttonContent"]{-webkit-flex:1 0 auto;-ms-flex:1 0 auto;flex:1 0 auto;display:grid;grid-template-areas:"leadingVisual text trailingVisual";grid-template-columns:min-content minmax(0,auto) min-content;-webkit-align-items:center;-webkit-box-align:center;-ms-flex-align:center;align-items:center;-webkit-align-content:center;-ms-flex-line-pack:center;align-content:center;}/*!sc*/
.cPmGel [data-component="buttonContent"] > :not(:last-child){margin-right:8px;}/*!sc*/
.cPmGel:hover:not([disabled]):not([data-inactive]){background-color:#f3f4f6;border-color:var(--button-default-borderColor-hover,rgba(31,35,40,0.15));}/*!sc*/
.cPmGel:active:not([disabled]):not([data-inactive]){background-color:hsla(220,14%,93%,1);border-color:var(--button-default-borderColor-active,rgba(31,35,40,0.15));}/*!sc*/
.cPmGel[aria-expanded=true]{background-color:hsla(220,14%,93%,1);border-color:var(--button-default-borderColor-active,rgba(31,35,40,0.15));}/*!sc*/
.cPmGel [data-component="leadingVisual"],.cPmGel [data-component="trailingVisual"],.cPmGel [data-component="trailingAction"]{color:var(--button-color,#656d76);}/*!sc*/
.cPmGel[data-size="small"][data-no-visuals]{border-top-right-radius:0;border-bottom-right-radius:0;border-right-width:0;}/*!sc*/
.cPmGel[data-size="small"][data-no-visuals]:hover:not([disabled]){-webkit-text-decoration:none;text-decoration:none;}/*!sc*/
.cPmGel[data-size="small"][data-no-visuals]:focus:not([disabled]){-webkit-text-decoration:none;text-decoration:none;}/*!sc*/
.cPmGel[data-size="small"][data-no-visuals]:active:not([disabled]){-webkit-text-decoration:none;text-decoration:none;}/*!sc*/
.lhbNLx{border-radius:6px;border:1px solid;border-color:transparent;font-family:inherit;font-weight:500;font-size:14px;cursor:pointer;-webkit-appearance:none;-moz-appearance:none;appearance:none;-webkit-user-select:none;-moz-user-select:none;-ms-user-select:none;user-select:none;-webkit-text-decoration:none;text-decoration:none;text-align:center;display:-webkit-box;display:-webkit-flex;display:-ms-flexbox;display:flex;-webkit-align-items:center;-webkit-box-align:center;-ms-flex-align:center;align-items:center;-webkit-box-pack:justify;-webkit-justify-content:space-between;-ms-flex-pack:justify;justify-content:space-between;height:32px;padding:0 12px;gap:8px;min-width:-webkit-max-content;min-width:-moz-max-content;min-width:max-content;-webkit-transition:80ms cubic-bezier(0.65,0,0.35,1);transition:80ms cubic-bezier(0.65,0,0.35,1);-webkit-transition-property:color,fill,background-color,border-color;transition-property:color,fill,background-color,border-color;color:#24292f;background-color:transparent;box-shadow:none;}/*!sc*/
.lhbNLx:focus:not(:disabled){box-shadow:none;outline:2px solid #0969da;outline-offset:-2px;}/*!sc*/
.lhbNLx:focus:not(:disabled):not(:focus-visible){outline:solid 1px transparent;}/*!sc*/
.lhbNLx:focus-visible:not(:disabled){box-shadow:none;outline:2px solid #0969da;outline-offset:-2px;}/*!sc*/
.lhbNLx[href]{display:-webkit-inline-box;display:-webkit-inline-flex;display:-ms-inline-flexbox;display:inline-flex;}/*!sc*/
.lhbNLx[href]:hover{-webkit-text-decoration:none;text-decoration:none;}/*!sc*/
.lhbNLx:hover{-webkit-transition-duration:80ms;transition-duration:80ms;}/*!sc*/
.lhbNLx:active{-webkit-transition:none;transition:none;}/*!sc*/
.lhbNLx[data-inactive]{cursor:auto;}/*!sc*/
.lhbNLx:disabled{cursor:not-allowed;box-shadow:none;color:#8c959f;}/*!sc*/
.lhbNLx:disabled [data-component=ButtonCounter],.lhbNLx:disabled [data-component="leadingVisual"],.lhbNLx:disabled [data-component="trailingAction"]{color:inherit;}/*!sc*/
@media (forced-colors:active){.lhbNLx:focus{outline:solid 1px transparent;}}/*!sc*/
.lhbNLx [data-component=ButtonCounter]{font-size:12px;}/*!sc*/
.lhbNLx[data-component=IconButton]{display:inline-grid;padding:unset;place-content:center;width:32px;min-width:unset;}/*!sc*/
.lhbNLx[data-size="small"]{padding:0 8px;height:28px;gap:4px;font-size:12px;}/*!sc*/
.lhbNLx[data-size="small"] [data-component="text"]{line-height:calc(20 / 12);}/*!sc*/
.lhbNLx[data-size="small"] [data-component=ButtonCounter]{font-size:12px;}/*!sc*/
.lhbNLx[data-size="small"] [data-component="buttonContent"] > :not(:last-child){margin-right:4px;}/*!sc*/
.lhbNLx[data-size="small"][data-component=IconButton]{width:28px;padding:unset;}/*!sc*/
.lhbNLx[data-size="large"]{padding:0 16px;height:40px;gap:8px;}/*!sc*/
.lhbNLx[data-size="large"] [data-component="buttonContent"] > :not(:last-child){margin-right:8px;}/*!sc*/
.lhbNLx[data-size="large"][data-component=IconButton]{width:40px;padding:unset;}/*!sc*/
.lhbNLx[data-block="block"]{width:100%;}/*!sc*/
.lhbNLx[data-inactive]:not([disabled]){background-color:var(--button-inactive-bgColor,#eaeef2);border-color:var(--button-inactive-bgColor,#eaeef2);color:var(--button-inactive-fgColor,#57606a);}/*!sc*/
.lhbNLx[data-inactive]:not([disabled]):focus-visible{box-shadow:none;}/*!sc*/
.lhbNLx [data-component="leadingVisual"]{grid-area:leadingVisual;color:#656d76;}/*!sc*/
.lhbNLx [data-component="text"]{grid-area:text;line-height:calc(20/14);white-space:nowrap;}/*!sc*/
.lhbNLx [data-component="trailingVisual"]{grid-area:trailingVisual;}/*!sc*/
.lhbNLx [data-component="trailingAction"]{margin-right:-4px;color:#656d76;}/*!sc*/
.lhbNLx [data-component="buttonContent"]{-webkit-flex:1 0 auto;-ms-flex:1 0 auto;flex:1 0 auto;display:grid;grid-template-areas:"leadingVisual text trailingVisual";grid-template-columns:min-content minmax(0,auto) min-content;-webkit-align-items:center;-webkit-box-align:center;-ms-flex-align:center;align-items:center;-webkit-align-content:center;-ms-flex-line-pack:center;align-content:center;}/*!sc*/
.lhbNLx [data-component="buttonContent"] > :not(:last-child){margin-right:8px;}/*!sc*/
.lhbNLx:hover:not([disabled]){background-color:rgba(208,215,222,0.32);}/*!sc*/
.lhbNLx:active:not([disabled]){background-color:rgba(208,215,222,0.48);}/*!sc*/
.lhbNLx[aria-expanded=true]{background-color:rgba(208,215,222,0.24);}/*!sc*/
.lhbNLx[data-component="IconButton"][data-no-visuals]{color:#656d76;}/*!sc*/
.lhbNLx[data-no-visuals]{color:#0969da;}/*!sc*/
.lhbNLx:has([data-component="ButtonCounter"]){color:#24292f;}/*!sc*/
.lhbNLx:disabled[data-no-visuals]{color:#8c959f;}/*!sc*/
.lhbNLx:disabled[data-no-visuals] [data-component=ButtonCounter]{color:inherit;}/*!sc*/
.lhbNLx[data-size="small"][data-no-visuals]{color:#656d76;}/*!sc*/
data-styled.g9[id="types__StyledButton-sc-ws60qy-0"]{content:"dpmVDB,kuQWBL,cTlePa,hAUDdO,bRhdlk,gDcRcS,dfaHcy,iNXtMc,fFejDP,hsBZZU,iukPok,cCLqJS,crfMWv,dKBeSn,cPmGel,lhbNLx,"}/*!sc*/
.rTZSs{position:absolute;width:1px;height:1px;padding:0;margin:-1px;overflow:hidden;-webkit-clip:rect(0,0,0,0);clip:rect(0,0,0,0);white-space:nowrap;border-width:0;}/*!sc*/
data-styled.g10[id="_VisuallyHidden__VisuallyHidden-sc-11jhm7a-0"]{content:"rTZSs,"}/*!sc*/
.fUpWeN{display:inline-block;overflow:hidden;text-overflow:ellipsis;vertical-align:top;white-space:nowrap;max-width:125px;max-width:100%;}/*!sc*/
data-styled.g15[id="Truncate__StyledTruncate-sc-23o1d2-0"]{content:"fUpWeN,"}/*!sc*/
.cXRxE{position:relative;display:inline-block;}/*!sc*/
.cXRxE::before{position:absolute;z-index:1000001;display:none;width:0px;height:0px;color:#24292f;pointer-events:none;content:'';border:6px solid transparent;opacity:0;}/*!sc*/
.cXRxE::after{position:absolute;z-index:1000000;display:none;padding:0.5em 0.75em;font:normal normal 11px/1.5 -apple-system,BlinkMacSystemFont,"Segoe UI","Noto Sans",Helvetica,Arial,sans-serif,"Apple Color Emoji","Segoe UI Emoji";-webkit-font-smoothing:subpixel-antialiased;color:#ffffff;text-align:center;-webkit-text-decoration:none;text-decoration:none;text-shadow:none;text-transform:none;-webkit-letter-spacing:normal;-moz-letter-spacing:normal;-ms-letter-spacing:normal;letter-spacing:normal;word-wrap:break-word;white-space:pre;pointer-events:none;content:attr(aria-label);background:#24292f;border-radius:3px;opacity:0;}/*!sc*/
@-webkit-keyframes tooltip-appear{from{opacity:0;}to{opacity:1;}}/*!sc*/
@keyframes tooltip-appear{from{opacity:0;}to{opacity:1;}}/*!sc*/
.cXRxE:hover::before,.cXRxE:active::before,.cXRxE:focus::before,.cXRxE:focus-within::before,.cXRxE:hover::after,.cXRxE:active::after,.cXRxE:focus::after,.cXRxE:focus-within::after{display:inline-block;-webkit-text-decoration:none;text-decoration:none;-webkit-animation-name:tooltip-appear;animation-name:tooltip-appear;-webkit-animation-duration:0.1s;animation-duration:0.1s;-webkit-animation-fill-mode:forwards;animation-fill-mode:forwards;-webkit-animation-timing-function:ease-in;animation-timing-function:ease-in;-webkit-animation-delay:0.4s;animation-delay:0.4s;}/*!sc*/
.cXRxE.tooltipped-no-delay:hover::before,.cXRxE.tooltipped-no-delay:active::before,.cXRxE.tooltipped-no-delay:focus::before,.cXRxE.tooltipped-no-delay:focus-within::before,.cXRxE.tooltipped-no-delay:hover::after,.cXRxE.tooltipped-no-delay:active::after,.cXRxE.tooltipped-no-delay:focus::after,.cXRxE.tooltipped-no-delay:focus-within::after{-webkit-animation-delay:0s;animation-delay:0s;}/*!sc*/
.cXRxE.tooltipped-multiline:hover::after,.cXRxE.tooltipped-multiline:active::after,.cXRxE.tooltipped-multiline:focus::after,.cXRxE.tooltipped-multiline:focus-within::after{display:table-cell;}/*!sc*/
.cXRxE.tooltipped-s::after,.cXRxE.tooltipped-se::after,.cXRxE.tooltipped-sw::after{top:100%;right:50%;margin-top:6px;}/*!sc*/
.cXRxE.tooltipped-s::before,.cXRxE.tooltipped-se::before,.cXRxE.tooltipped-sw::before{top:auto;right:50%;bottom:-7px;margin-right:-6px;border-bottom-color:#24292f;}/*!sc*/
.cXRxE.tooltipped-se::after{right:auto;left:50%;margin-left:-16px;}/*!sc*/
.cXRxE.tooltipped-sw::after{margin-right:-16px;}/*!sc*/
.cXRxE.tooltipped-n::after,.cXRxE.tooltipped-ne::after,.cXRxE.tooltipped-nw::after{right:50%;bottom:100%;margin-bottom:6px;}/*!sc*/
.cXRxE.tooltipped-n::before,.cXRxE.tooltipped-ne::before,.cXRxE.tooltipped-nw::before{top:-7px;right:50%;bottom:auto;margin-right:-6px;border-top-color:#24292f;}/*!sc*/
.cXRxE.tooltipped-ne::after{right:auto;left:50%;margin-left:-16px;}/*!sc*/
.cXRxE.tooltipped-nw::after{margin-right:-16px;}/*!sc*/
.cXRxE.tooltipped-s::after,.cXRxE.tooltipped-n::after{-webkit-transform:translateX(50%);-ms-transform:translateX(50%);transform:translateX(50%);}/*!sc*/
.cXRxE.tooltipped-w::after{right:100%;bottom:50%;margin-right:6px;-webkit-transform:translateY(50%);-ms-transform:translateY(50%);transform:translateY(50%);}/*!sc*/
.cXRxE.tooltipped-w::before{top:50%;bottom:50%;left:-7px;margin-top:-6px;border-left-color:#24292f;}/*!sc*/
.cXRxE.tooltipped-e::after{bottom:50%;left:100%;margin-left:6px;-webkit-transform:translateY(50%);-ms-transform:translateY(50%);transform:translateY(50%);}/*!sc*/
.cXRxE.tooltipped-e::before{top:50%;right:-7px;bottom:50%;margin-top:-6px;border-right-color:#24292f;}/*!sc*/
.cXRxE.tooltipped-multiline::after{width:-webkit-max-content;width:-moz-max-content;width:max-content;max-width:250px;word-wrap:break-word;white-space:pre-line;border-collapse:separate;}/*!sc*/
.cXRxE.tooltipped-multiline.tooltipped-s::after,.cXRxE.tooltipped-multiline.tooltipped-n::after{right:auto;left:50%;-webkit-transform:translateX(-50%);-ms-transform:translateX(-50%);transform:translateX(-50%);}/*!sc*/
.cXRxE.tooltipped-multiline.tooltipped-w::after,.cXRxE.tooltipped-multiline.tooltipped-e::after{right:100%;}/*!sc*/
.cXRxE.tooltipped-align-right-2::after{right:0;margin-right:0;}/*!sc*/
.cXRxE.tooltipped-align-right-2::before{right:15px;}/*!sc*/
.cXRxE.tooltipped-align-left-2::after{left:0;margin-left:0;}/*!sc*/
.cXRxE.tooltipped-align-left-2::before{left:10px;}/*!sc*/
data-styled.g18[id="Tooltip__TooltipBase-sc-17tf59c-0"]{content:"cXRxE,"}/*!sc*/
.hPEVNM{-webkit-animation:rotate-keyframes 1s linear infinite;animation:rotate-keyframes 1s linear infinite;}/*!sc*/
@-webkit-keyframes rotate-keyframes{100%{-webkit-transform:rotate(360deg);-ms-transform:rotate(360deg);transform:rotate(360deg);}}/*!sc*/
@keyframes rotate-keyframes{100%{-webkit-transform:rotate(360deg);-ms-transform:rotate(360deg);transform:rotate(360deg);}}/*!sc*/
data-styled.g28[id="Spinner__StyledSpinner-sc-1knt686-0"]{content:"hPEVNM,"}/*!sc*/
.bdRwrl{font-size:14px;line-height:20px;color:#1F2328;vertical-align:middle;background-color:#ffffff;border:1px solid var(--control-borderColor-rest,#d0d7de);border-radius:6px;outline:none;box-shadow:inset 0 1px 0 rgba(208,215,222,0.2);display:-webkit-inline-box;display:-webkit-inline-flex;display:-ms-inline-flexbox;display:inline-flex;-webkit-align-items:stretch;-webkit-box-align:stretch;-ms-flex-align:stretch;align-items:stretch;min-height:32px;overflow:hidden;display:-webkit-box;display:-webkit-flex;display:-ms-flexbox;display:flex;min-width:160px;}/*!sc*/
.bdRwrl input,.bdRwrl textarea{cursor:text;}/*!sc*/
.bdRwrl select{cursor:pointer;}/*!sc*/
.bdRwrl::-webkit-input-placeholder{color:#6e7781;}/*!sc*/
.bdRwrl::-moz-placeholder{color:#6e7781;}/*!sc*/
.bdRwrl:-ms-input-placeholder{color:#6e7781;}/*!sc*/
.bdRwrl::placeholder{color:#6e7781;}/*!sc*/
.bdRwrl:focus-within{border-color:#0969da;outline:2px solid #0969da;outline-offset:-1px;}/*!sc*/
.bdRwrl > textarea{padding:12px;}/*!sc*/
@media (min-width:768px){.bdRwrl{font-size:14px;}}/*!sc*/
data-styled.g37[id="TextInputWrapper__TextInputBaseWrapper-sc-1mqhpbi-0"]{content:"bdRwrl,"}/*!sc*/
.eDtNTN{background-repeat:no-repeat;background-position:right 8px center;padding-left:12px;padding-right:12px;display:-webkit-box;display:-webkit-flex;display:-ms-flexbox;display:flex;min-width:160px;}/*!sc*/
.eDtNTN > :not(:last-child){margin-right:8px;}/*!sc*/
.eDtNTN .TextInput-icon,.eDtNTN .TextInput-action{-webkit-align-self:center;-ms-flex-item-align:center;align-self:center;color:#656d76;-webkit-flex-shrink:0;-ms-flex-negative:0;flex-shrink:0;}/*!sc*/
.eDtNTN > input,.eDtNTN > select{padding-left:0;padding-right:0;}/*!sc*/
data-styled.g38[id="TextInputWrapper-sc-1mqhpbi-1"]{content:"eDtNTN,"}/*!sc*/
.cDLBls{border:0;font-size:inherit;font-family:inherit;background-color:transparent;-webkit-appearance:none;color:inherit;width:100%;}/*!sc*/
.cDLBls:focus{outline:0;}/*!sc*/
data-styled.g39[id="UnstyledTextInput-sc-14ypya-0"]{content:"cDLBls,"}/*!sc*/
.bDmUQT{--segmented-control-button-inner-padding:12px;--segmented-control-button-bg-inset:4px;--segmented-control-outer-radius:6px;background-color:transparent;border-color:transparent;border-radius:var(--segmented-control-outer-radius);border-width:0;color:currentColor;cursor:pointer;font-family:inherit;font-size:inherit;font-weight:600;padding:0;height:100%;width:100%;}/*!sc*/
.bDmUQT .segmentedControl-content{-webkit-align-items:center;-webkit-box-align:center;-ms-flex-align:center;align-items:center;background-color:#ffffff;border-color:#8c959f;border-style:solid;border-width:1px;border-radius:var(--segmented-control-outer-radius);display:-webkit-box;display:-webkit-flex;display:-ms-flexbox;display:flex;height:100%;-webkit-box-pack:center;-webkit-justify-content:center;-ms-flex-pack:center;justify-content:center;padding-left:var(--segmented-control-button-inner-padding);padding-right:var(--segmented-control-button-inner-padding);}/*!sc*/
.bDmUQT svg{fill:#656d76;}/*!sc*/
.bDmUQT:focus:focus-visible:not(:last-child):after{width:0;}/*!sc*/
.bDmUQT .segmentedControl-text:after{content:"Preview";display:block;font-weight:600;height:0;overflow:hidden;pointer-events:none;-webkit-user-select:none;-moz-user-select:none;-ms-user-select:none;user-select:none;visibility:hidden;}/*!sc*/
@media (pointer:coarse){.bDmUQT:before{content:"";position:absolute;left:0;right:0;-webkit-transform:translateY(-50%);-ms-transform:translateY(-50%);transform:translateY(-50%);top:50%;min-height:44px;}}/*!sc*/
.fzMylw{--segmented-control-button-inner-padding:12px;--segmented-control-button-bg-inset:4px;--segmented-control-outer-radius:6px;background-color:transparent;border-color:transparent;border-radius:var(--segmented-control-outer-radius);border-width:0;color:currentColor;cursor:pointer;font-family:inherit;font-size:inherit;font-weight:400;padding:var(--segmented-control-button-bg-inset);height:100%;width:100%;}/*!sc*/
.fzMylw .segmentedControl-content{-webkit-align-items:center;-webkit-box-align:center;-ms-flex-align:center;align-items:center;background-color:transparent;border-color:transparent;border-style:solid;border-width:1px;border-radius:calc(var(--segmented-control-outer-radius) - var(--segmented-control-button-bg-inset) / 2);display:-webkit-box;display:-webkit-flex;display:-ms-flexbox;display:flex;height:100%;-webkit-box-pack:center;-webkit-justify-content:center;-ms-flex-pack:center;justify-content:center;padding-left:calc(var(--segmented-control-button-inner-padding) - var(--segmented-control-button-bg-inset));padding-right:calc(var(--segmented-control-button-inner-padding) - var(--segmented-control-button-bg-inset));}/*!sc*/
.fzMylw svg{fill:#656d76;}/*!sc*/
.fzMylw:hover .segmentedControl-content{background-color:rgba(175,184,193,0.2);}/*!sc*/
.fzMylw:active .segmentedControl-content{background-color:rgba(175,184,193,0.4);}/*!sc*/
.fzMylw:focus:focus-visible:not(:last-child):after{width:0;}/*!sc*/
.fzMylw .segmentedControl-text:after{content:"Code";display:block;font-weight:600;height:0;overflow:hidden;pointer-events:none;-webkit-user-select:none;-moz-user-select:none;-ms-user-select:none;user-select:none;visibility:hidden;}/*!sc*/
@media (pointer:coarse){.fzMylw:before{content:"";position:absolute;left:0;right:0;-webkit-transform:translateY(-50%);-ms-transform:translateY(-50%);transform:translateY(-50%);top:50%;min-height:44px;}}/*!sc*/
.hBvGcq{--segmented-control-button-inner-padding:12px;--segmented-control-button-bg-inset:4px;--segmented-control-outer-radius:6px;background-color:transparent;border-color:transparent;border-radius:var(--segmented-control-outer-radius);border-width:0;color:currentColor;cursor:pointer;font-family:inherit;font-size:inherit;font-weight:400;padding:var(--segmented-control-button-bg-inset);height:100%;width:100%;}/*!sc*/
.hBvGcq .segmentedControl-content{-webkit-align-items:center;-webkit-box-align:center;-ms-flex-align:center;align-items:center;background-color:transparent;border-color:transparent;border-style:solid;border-width:1px;border-radius:calc(var(--segmented-control-outer-radius) - var(--segmented-control-button-bg-inset) / 2);display:-webkit-box;display:-webkit-flex;display:-ms-flexbox;display:flex;height:100%;-webkit-box-pack:center;-webkit-justify-content:center;-ms-flex-pack:center;justify-content:center;padding-left:calc(var(--segmented-control-button-inner-padding) - var(--segmented-control-button-bg-inset));padding-right:calc(var(--segmented-control-button-inner-padding) - var(--segmented-control-button-bg-inset));}/*!sc*/
.hBvGcq svg{fill:#656d76;}/*!sc*/
.hBvGcq:hover .segmentedControl-content{background-color:rgba(175,184,193,0.2);}/*!sc*/
.hBvGcq:active .segmentedControl-content{background-color:rgba(175,184,193,0.4);}/*!sc*/
.hBvGcq:focus:focus-visible:not(:last-child):after{width:0;}/*!sc*/
.hBvGcq .segmentedControl-text:after{content:"Blame";display:block;font-weight:600;height:0;overflow:hidden;pointer-events:none;-webkit-user-select:none;-moz-user-select:none;-ms-user-select:none;user-select:none;visibility:hidden;}/*!sc*/
@media (pointer:coarse){.hBvGcq:before{content:"";position:absolute;left:0;right:0;-webkit-transform:translateY(-50%);-ms-transform:translateY(-50%);transform:translateY(-50%);top:50%;min-height:44px;}}/*!sc*/
data-styled.g69[id="SegmentedControlButton__SegmentedControlButtonStyled-sc-8lkgxl-0"]{content:"bDmUQT,fzMylw,hBvGcq,"}/*!sc*/
.iYVwMz{background-color:#eaeef2;border-radius:6px;display:-webkit-inline-box;display:-webkit-inline-flex;display:-ms-inline-flexbox;display:inline-flex;font-size:14px;height:28px;margin:0;padding:0;}/*!sc*/
data-styled.g71[id="SegmentedControl__SegmentedControlList-sc-1rzig82-0"]{content:"iYVwMz,"}/*!sc*/
.gtekST{list-style:none;padding:0;margin:0;}/*!sc*/
.gtekST .PRIVATE_TreeView-item{outline:none;}/*!sc*/
.gtekST .PRIVATE_TreeView-item:focus-visible > div,.gtekST .PRIVATE_TreeView-item.focus-visible > div{box-shadow:inset 0 0 0 2px #0969da;}/*!sc*/
@media (forced-colors:active){.gtekST .PRIVATE_TreeView-item:focus-visible > div,.gtekST .PRIVATE_TreeView-item.focus-visible > div{outline:2px solid HighlightText;outline-offset:-2;}}/*!sc*/
.gtekST .PRIVATE_TreeView-item-container{--level:1;--toggle-width:1rem;position:relative;display:grid;grid-template-columns:calc(calc(var(--level) - 1) * (var(--toggle-width) / 2)) var(--toggle-width) 1fr;grid-template-areas:'spacer toggle content';width:100%;min-height:2rem;font-size:14px;color:#1F2328;border-radius:6px;cursor:pointer;}/*!sc*/
.gtekST .PRIVATE_TreeView-item-container:hover{background-color:rgba(208,215,222,0.32);}/*!sc*/
@media (forced-colors:active){.gtekST .PRIVATE_TreeView-item-container:hover{outline:2px solid transparent;outline-offset:-2px;}}/*!sc*/
@media (pointer:coarse){.gtekST .PRIVATE_TreeView-item-container{--toggle-width:1.5rem;min-height:2.75rem;}}/*!sc*/
.gtekST .PRIVATE_TreeView-item-container:has(.PRIVATE_TreeView-item-skeleton):hover{background-color:transparent;cursor:default;}/*!sc*/
@media (forced-colors:active){.gtekST .PRIVATE_TreeView-item-container:has(.PRIVATE_TreeView-item-skeleton):hover{outline:none;}}/*!sc*/
.gtekST[data-omit-spacer='true'] .PRIVATE_TreeView-item-container{grid-template-columns:0 0 1fr;}/*!sc*/
.gtekST .PRIVATE_TreeView-item[aria-current='true'] > .PRIVATE_TreeView-item-container{background-color:rgba(208,215,222,0.24);}/*!sc*/
.gtekST .PRIVATE_TreeView-item[aria-current='true'] > .PRIVATE_TreeView-item-container::after{content:'';position:absolute;top:calc(50% - 0.75rem);left:-8px;width:0.25rem;height:1.5rem;background-color:#0969da;border-radius:6px;}/*!sc*/
@media (forced-colors:active){.gtekST .PRIVATE_TreeView-item[aria-current='true'] > .PRIVATE_TreeView-item-container::after{background-color:HighlightText;}}/*!sc*/
.gtekST .PRIVATE_TreeView-item-toggle{grid-area:toggle;display:-webkit-box;display:-webkit-flex;display:-ms-flexbox;display:flex;-webkit-align-items:center;-webkit-box-align:center;-ms-flex-align:center;align-items:center;-webkit-box-pack:center;-webkit-justify-content:center;-ms-flex-pack:center;justify-content:center;height:100%;color:#656d76;}/*!sc*/
.gtekST .PRIVATE_TreeView-item-toggle--hover:hover{background-color:rgba(208,215,222,0.32);}/*!sc*/
.gtekST .PRIVATE_TreeView-item-toggle--end{border-top-left-radius:6px;border-bottom-left-radius:6px;}/*!sc*/
.gtekST .PRIVATE_TreeView-item-content{grid-area:content;display:-webkit-box;display:-webkit-flex;display:-ms-flexbox;display:flex;-webkit-align-items:center;-webkit-box-align:center;-ms-flex-align:center;align-items:center;height:100%;padding:0 8px;gap:8px;}/*!sc*/
.gtekST .PRIVATE_TreeView-item-content-text{-webkit-flex:1 1 auto;-ms-flex:1 1 auto;flex:1 1 auto;width:0;overflow:hidden;white-space:nowrap;text-overflow:ellipsis;}/*!sc*/
.gtekST .PRIVATE_TreeView-item-visual{display:-webkit-box;display:-webkit-flex;display:-ms-flexbox;display:flex;color:#656d76;}/*!sc*/
.gtekST .PRIVATE_TreeView-item-level-line{width:100%;height:100%;border-right:1px solid;border-color:rgba(31,35,40,0.15);}/*!sc*/
@media (hover:hover){.gtekST .PRIVATE_TreeView-item-level-line{border-color:transparent;}.gtekST:hover .PRIVATE_TreeView-item-level-line,.gtekST:focus-within .PRIVATE_TreeView-item-level-line{border-color:rgba(31,35,40,0.15);}}/*!sc*/
.gtekST .PRIVATE_TreeView-directory-icon{display:grid;color:#54aeff;}/*!sc*/
.gtekST .PRIVATE_VisuallyHidden{position:absolute;width:1px;height:1px;padding:0;margin:-1px;overflow:hidden;-webkit-clip:rect(0,0,0,0);clip:rect(0,0,0,0);white-space:nowrap;border-width:0;}/*!sc*/
data-styled.g85[id="TreeView__UlBox-sc-4ex6b6-0"]{content:"gtekST,"}/*!sc*/
.cjbBGq{display:-webkit-inline-box;display:-webkit-inline-flex;display:-ms-inline-flexbox;display:inline-flex;vertical-align:middle;isolation:isolate;}/*!sc*/
.cjbBGq.cjbBGq > *{margin-inline-end:-1px;position:relative;border-radius:0;}/*!sc*/
.cjbBGq.cjbBGq > *:first-child{border-top-left-radius:6px;border-bottom-left-radius:6px;}/*!sc*/
.cjbBGq.cjbBGq > *:last-child{border-top-right-radius:6px;border-bottom-right-radius:6px;}/*!sc*/
.cjbBGq.cjbBGq > *:focus,.cjbBGq.cjbBGq > *:active,.cjbBGq.cjbBGq > *:hover{z-index:1;}/*!sc*/
data-styled.g87[id="ButtonGroup-sc-1gxhls1-0"]{content:"cjbBGq,"}/*!sc*/
</style><meta data-hydrostats="publish"/> <!-- --> <!-- --> <!-- --> <button hidden="" data-testid="header-permalink-button" data-hotkey-scope="read-only-cursor-text-area"></button><button hidden=""></button><div class="Box-sc-g0xbh4-0"><div style="--sticky-pane-height:100vh" class="Box-sc-g0xbh4-0 fSWWem"><div class="Box-sc-g0xbh4-0 kPPmzM"><div class="Box-sc-g0xbh4-0 cIAPDV"><div tabindex="0" class="Box-sc-g0xbh4-0 gvCnwW"><div class="Box-sc-g0xbh4-0 heUiss"><div class="Box-sc-g0xbh4-0 eUyHuk"></div><div style="--pane-width:320px" class="Box-sc-g0xbh4-0 gNdDUH"><div class="Box-sc-g0xbh4-0 react-tree-pane-contents-3-panel"><div id="repos-file-tree" class="Box-sc-g0xbh4-0 jywUSN"><div class="Box-sc-g0xbh4-0 hBSSUC"><div class="Box-sc-g0xbh4-0 iPurHz"><h2 class="Heading__StyledHeading-sc-1c1dgg0-0 fNPcqd"><button style="--button-color:fg.muted" type="button" aria-label="Expand file tree" data-testid="expand-file-tree-button-mobile" class="types__StyledButton-sc-ws60qy-0 dpmVDB"><span data-component="buttonContent" class="Box-sc-g0xbh4-0 kkrdEu"><span data-component="leadingVisual" class="Box-sc-g0xbh4-0 trpoQ"><svg aria-hidden="true" focusable="false" role="img" class="octicon octicon-arrow-left" viewBox="0 0 16 16" width="16" height="16" fill="currentColor" style="display:inline-block;user-select:none;vertical-align:text-bottom;overflow:visible"><path d="M7.78 12.53a.75.75 0 0 1-1.06 0L2.47 8.28a.75.75 0 0 1 0-1.06l4.25-4.25a.751.751 0 0 1 1.042.018.751.751 0 0 1 .018 1.042L4.81 7h7.44a.75.75 0 0 1 0 1.5H4.81l2.97 2.97a.75.75 0 0 1 0 1.06Z"></path></svg></span><span data-component="text">Files</span></span></button><span role="tooltip" aria-label="Collapse file tree" id="expand-button-file-tree-button" class="Tooltip__TooltipBase-sc-17tf59c-0 cXRxE tooltipped-se"><button data-component="IconButton" type="button" data-testid="collapse-file-tree-button" aria-labelledby="expand-button-file-tree-button" aria-expanded="true" aria-controls="repos-file-tree" class="types__StyledButton-sc-ws60qy-0 kuQWBL" data-no-visuals="true"><svg aria-hidden="true" focusable="false" role="img" class="octicon octicon-sidebar-expand" viewBox="0 0 16 16" width="16" height="16" fill="currentColor" style="display:inline-block;user-select:none;vertical-align:text-bottom;overflow:visible"><path d="m4.177 7.823 2.396-2.396A.25.25 0 0 1 7 5.604v4.792a.25.25 0 0 1-.427.177L4.177 8.177a.25.25 0 0 1 0-.354Z"></path><path d="M0 1.75C0 .784.784 0 1.75 0h12.5C15.216 0 16 .784 16 1.75v12.5A1.75 1.75 0 0 1 14.25 16H1.75A1.75 1.75 0 0 1 0 14.25Zm1.75-.25a.25.25 0 0 0-.25.25v12.5c0 .138.112.25.25.25H9.5v-13Zm12.5 13a.25.25 0 0 0 .25-.25V1.75a.25.25 0 0 0-.25-.25H11v13Z"></path></svg></button></span><button hidden="" data-testid="" data-hotkey-scope="read-only-cursor-text-area"></button></h2><h2 class="Heading__StyledHeading-sc-1c1dgg0-0 imcwCi">Files</h2></div><div class="Box-sc-g0xbh4-0 hVHHYa"><div class="Box-sc-g0xbh4-0 idZfsJ"><button type="button" id="branch-picker-repos-header-ref-selector" aria-haspopup="true" tabindex="0" aria-label="main branch" data-testid="anchor-button" class="types__StyledButton-sc-ws60qy-0 cTlePa react-repos-tree-pane-ref-selector width-full ref-selector-class"><span data-component="buttonContent" class="Box-sc-g0xbh4-0 kkrdEu"><span data-component="text"><div class="Box-sc-g0xbh4-0 bKgizp"><div class="Box-sc-g0xbh4-0 kYlvBX"><svg aria-hidden="true" focusable="false" role="img" class="octicon octicon-git-branch" viewBox="0 0 16 16" width="16" height="16" fill="currentColor" style="display:inline-block;user-select:none;vertical-align:text-bottom;overflow:visible"><path d="M9.5 3.25a2.25 2.25 0 1 1 3 2.122V6A2.5 2.5 0 0 1 10 8.5H6a1 1 0 0 0-1 1v1.128a2.251 2.251 0 1 1-1.5 0V5.372a2.25 2.25 0 1 1 1.5 0v1.836A2.493 2.493 0 0 1 6 7h4a1 1 0 0 0 1-1v-.628A2.25 2.25 0 0 1 9.5 3.25Zm-6 0a.75.75 0 1 0 1.5 0 .75.75 0 0 0-1.5 0Zm8.25-.75a.75.75 0 1 0 0 1.5.75.75 0 0 0 0-1.5ZM4.25 12a.75.75 0 1 0 0 1.5.75.75 0 0 0 0-1.5Z"></path></svg></div><div class="Box-sc-g0xbh4-0 caeYDk ref-selector-button-text-container"><span class="Text-sc-17v1xeu-0 bOMzPg"> <!-- -->main</span></div></div></span><span data-component="trailingVisual" class="Box-sc-g0xbh4-0 trpoQ"><svg aria-hidden="true" focusable="false" role="img" class="octicon octicon-triangle-down" viewBox="0 0 16 16" width="16" height="16" fill="currentColor" style="display:inline-block;user-select:none;vertical-align:text-bottom;overflow:visible"><path d="m4.427 7.427 3.396 3.396a.25.25 0 0 0 .354 0l3.396-3.396A.25.25 0 0 0 11.396 7H4.604a.25.25 0 0 0-.177.427Z"></path></svg></span></span></button><button hidden="" data-hotkey-scope="read-only-cursor-text-area"></button></div><div class="Box-sc-g0xbh4-0 jahcnb"><span role="tooltip" aria-label="Add file" class="Tooltip__TooltipBase-sc-17tf59c-0 cXRxE tooltipped-s"><a sx="[object Object]" data-component="IconButton" type="button" aria-label="Add file" data-no-visuals="true" class="types__StyledButton-sc-ws60qy-0 hAUDdO" href="/asrenninger/urbansim/new/main/automl"><svg aria-hidden="true" focusable="false" role="img" class="octicon octicon-plus" viewBox="0 0 16 16" width="16" height="16" fill="currentColor" style="display:inline-block;user-select:none;vertical-align:text-bottom;overflow:visible"><path d="M7.75 2a.75.75 0 0 1 .75.75V7h4.25a.75.75 0 0 1 0 1.5H8.5v4.25a.75.75 0 0 1-1.5 0V8.5H2.75a.75.75 0 0 1 0-1.5H7V2.75A.75.75 0 0 1 7.75 2Z"></path></svg></a></span><button data-component="IconButton" type="button" aria-label="Search this repository" data-no-visuals="true" class="types__StyledButton-sc-ws60qy-0 bRhdlk"><svg aria-hidden="true" focusable="false" role="img" class="octicon octicon-search" viewBox="0 0 16 16" width="16" height="16" fill="currentColor" style="display:inline-block;user-select:none;vertical-align:text-bottom;overflow:visible"><path d="M10.68 11.74a6 6 0 0 1-7.922-8.982 6 6 0 0 1 8.982 7.922l3.04 3.04a.749.749 0 0 1-.326 1.275.749.749 0 0 1-.734-.215ZM11.5 7a4.499 4.499 0 1 0-8.997 0A4.499 4.499 0 0 0 11.5 7Z"></path></svg></button><button hidden="" data-testid="" data-hotkey-scope="read-only-cursor-text-area"></button></div></div></div><div class="Box-sc-g0xbh4-0 ccToMy"><button hidden="" data-testid="" data-hotkey-scope="read-only-cursor-text-area"></button><button hidden=""></button><span class="TextInputWrapper__TextInputBaseWrapper-sc-1mqhpbi-0 TextInputWrapper-sc-1mqhpbi-1 bdRwrl eDtNTN TextInput-wrapper" aria-busy="false"><span class="TextInput-icon"><svg aria-hidden="true" focusable="false" role="img" class="octicon octicon-search" viewBox="0 0 16 16" width="16" height="16" fill="currentColor" style="display:inline-block;user-select:none;vertical-align:text-bottom;overflow:visible"><path d="M10.68 11.74a6 6 0 0 1-7.922-8.982 6 6 0 0 1 8.982 7.922l3.04 3.04a.749.749 0 0 1-.326 1.275.749.749 0 0 1-.734-.215ZM11.5 7a4.499 4.499 0 1 0-8.997 0A4.499 4.499 0 0 0 11.5 7Z"></path></svg></span><input type="text" aria-label="Go to file" role="combobox" aria-controls="file-results-list" aria-expanded="false" aria-haspopup="dialog" autoCorrect="off" spellcheck="false" placeholder="Go to file" data-component="input" class="UnstyledTextInput-sc-14ypya-0 cDLBls" value=""/><span class="TextInput-icon"><div class="Box-sc-g0xbh4-0 cNvKlH"><kbd>t</kbd></div></span></span></div><div class="Box-sc-g0xbh4-0 cLfAnm"><div class="react-tree-show-tree-items"><div data-testid="repos-file-tree-container" class="Box-sc-g0xbh4-0 erWCJP"><nav aria-label="File Tree Navigation"><span role="status" aria-live="polite" aria-atomic="true" class="_VisuallyHidden__VisuallyHidden-sc-11jhm7a-0 rTZSs"></span><ul role="tree" aria-label="Files" class="TreeView__UlBox-sc-4ex6b6-0 gtekST"><li class="PRIVATE_TreeView-item" tabindex="0" id="automl-item" role="treeitem" aria-labelledby=":Rqclmdaj5:" aria-describedby=":Rqclmdaj5H1: :Rqclmdaj5H2:" aria-level="1" aria-expanded="true" aria-selected="false"><div class="PRIVATE_TreeView-item-container" style="--level:1;content-visibility:auto;contain-intrinsic-size:auto 2rem"><div style="grid-area:spacer;display:flex"><div style="width:100%;display:flex"></div></div><div class="PRIVATE_TreeView-item-toggle PRIVATE_TreeView-item-toggle--hover PRIVATE_TreeView-item-toggle--end"><svg aria-hidden="true" focusable="false" role="img" class="octicon octicon-chevron-down" viewBox="0 0 12 12" width="12" height="12" fill="currentColor" style="display:inline-block;user-select:none;vertical-align:text-bottom;overflow:visible"><path d="M6 8.825c-.2 0-.4-.1-.5-.2l-3.3-3.3c-.3-.3-.3-.8 0-1.1.3-.3.8-.3 1.1 0l2.7 2.7 2.7-2.7c.3-.3.8-.3 1.1 0 .3.3.3.8 0 1.1l-3.2 3.2c-.2.2-.4.3-.6.3Z"></path></svg></div><div id=":Rqclmdaj5:" class="PRIVATE_TreeView-item-content"><div class="PRIVATE_VisuallyHidden" aria-hidden="true" id=":Rqclmdaj5H1:"></div><div class="PRIVATE_TreeView-item-visual" aria-hidden="true"><div class="PRIVATE_TreeView-directory-icon"><svg aria-hidden="true" focusable="false" role="img" class="octicon octicon-file-directory-open-fill" viewBox="0 0 16 16" width="16" height="16" fill="currentColor" style="display:inline-block;user-select:none;vertical-align:text-bottom;overflow:visible"><path d="M.513 1.513A1.75 1.75 0 0 1 1.75 1h3.5c.55 0 1.07.26 1.4.7l.9 1.2a.25.25 0 0 0 .2.1H13a1 1 0 0 1 1 1v.5H2.75a.75.75 0 0 0 0 1.5h11.978a1 1 0 0 1 .994 1.117L15 13.25A1.75 1.75 0 0 1 13.25 15H1.75A1.75 1.75 0 0 1 0 13.25V2.75c0-.464.184-.91.513-1.237Z"></path></svg></div></div><span class="PRIVATE_TreeView-item-content-text"><span>automl</span></span></div></div><ul role="group" style="list-style:none;padding:0;margin:0"><li class="PRIVATE_TreeView-item" tabindex="0" id="automl/automl.ipynb-item" role="treeitem" aria-labelledby=":R5kqclmdaj5:" aria-describedby=":R5kqclmdaj5H1: :R5kqclmdaj5H2:" aria-level="2" aria-current="true" aria-selected="false"><div class="PRIVATE_TreeView-item-container" style="--level:2"><div style="grid-area:spacer;display:flex"><div style="width:100%;display:flex"><div class="PRIVATE_TreeView-item-level-line"></div></div></div><div id=":R5kqclmdaj5:" class="PRIVATE_TreeView-item-content"><div class="PRIVATE_VisuallyHidden" aria-hidden="true" id=":R5kqclmdaj5H1:"></div><div class="PRIVATE_TreeView-item-visual" aria-hidden="true"><svg aria-hidden="true" focusable="false" role="img" class="octicon octicon-file" viewBox="0 0 16 16" width="16" height="16" fill="currentColor" style="display:inline-block;user-select:none;vertical-align:text-bottom;overflow:visible"><path d="M2 1.75C2 .784 2.784 0 3.75 0h6.586c.464 0 .909.184 1.237.513l2.914 2.914c.329.328.513.773.513 1.237v9.586A1.75 1.75 0 0 1 13.25 16h-9.5A1.75 1.75 0 0 1 2 14.25Zm1.75-.25a.25.25 0 0 0-.25.25v12.5c0 .138.112.25.25.25h9.5a.25.25 0 0 0 .25-.25V6h-2.75A1.75 1.75 0 0 1 9 4.25V1.5Zm6.75.062V4.25c0 .138.112.25.25.25h2.688l-.011-.013-2.914-2.914-.013-.011Z"></path></svg></div><span class="PRIVATE_TreeView-item-content-text"><span>automl.ipynb</span></span></div></div></li><li class="PRIVATE_TreeView-item" tabindex="0" id="automl/migration.csv.gz-item" role="treeitem" aria-labelledby=":R9kqclmdaj5:" aria-describedby=":R9kqclmdaj5H1: :R9kqclmdaj5H2:" aria-level="2" aria-selected="false"><div class="PRIVATE_TreeView-item-container" style="--level:2;content-visibility:auto;contain-intrinsic-size:auto 2rem"><div style="grid-area:spacer;display:flex"><div style="width:100%;display:flex"><div class="PRIVATE_TreeView-item-level-line"></div></div></div><div id=":R9kqclmdaj5:" class="PRIVATE_TreeView-item-content"><div class="PRIVATE_VisuallyHidden" aria-hidden="true" id=":R9kqclmdaj5H1:"></div><div class="PRIVATE_TreeView-item-visual" aria-hidden="true"><svg aria-hidden="true" focusable="false" role="img" class="octicon octicon-file" viewBox="0 0 16 16" width="16" height="16" fill="currentColor" style="display:inline-block;user-select:none;vertical-align:text-bottom;overflow:visible"><path d="M2 1.75C2 .784 2.784 0 3.75 0h6.586c.464 0 .909.184 1.237.513l2.914 2.914c.329.328.513.773.513 1.237v9.586A1.75 1.75 0 0 1 13.25 16h-9.5A1.75 1.75 0 0 1 2 14.25Zm1.75-.25a.25.25 0 0 0-.25.25v12.5c0 .138.112.25.25.25h9.5a.25.25 0 0 0 .25-.25V6h-2.75A1.75 1.75 0 0 1 9 4.25V1.5Zm6.75.062V4.25c0 .138.112.25.25.25h2.688l-.011-.013-2.914-2.914-.013-.011Z"></path></svg></div><span class="PRIVATE_TreeView-item-content-text"><span>migration.csv.gz</span></span></div></div></li></ul></li><li class="PRIVATE_TreeView-item" tabindex="0" id="images-item" role="treeitem" aria-labelledby=":R1aclmdaj5:" aria-describedby=":R1aclmdaj5H1: :R1aclmdaj5H2:" aria-level="1" aria-expanded="false" aria-selected="false"><div class="PRIVATE_TreeView-item-container" style="--level:1;content-visibility:auto;contain-intrinsic-size:auto 2rem"><div style="grid-area:spacer;display:flex"><div style="width:100%;display:flex"></div></div><div class="PRIVATE_TreeView-item-toggle PRIVATE_TreeView-item-toggle--hover PRIVATE_TreeView-item-toggle--end"><svg aria-hidden="true" focusable="false" role="img" class="octicon octicon-chevron-right" viewBox="0 0 12 12" width="12" height="12" fill="currentColor" style="display:inline-block;user-select:none;vertical-align:text-bottom;overflow:visible"><path d="M4.7 10c-.2 0-.4-.1-.5-.2-.3-.3-.3-.8 0-1.1L6.9 6 4.2 3.3c-.3-.3-.3-.8 0-1.1.3-.3.8-.3 1.1 0l3.3 3.2c.3.3.3.8 0 1.1L5.3 9.7c-.2.2-.4.3-.6.3Z"></path></svg></div><div id=":R1aclmdaj5:" class="PRIVATE_TreeView-item-content"><div class="PRIVATE_VisuallyHidden" aria-hidden="true" id=":R1aclmdaj5H1:"></div><div class="PRIVATE_TreeView-item-visual" aria-hidden="true"><div class="PRIVATE_TreeView-directory-icon"><svg aria-hidden="true" focusable="false" role="img" class="octicon octicon-file-directory-fill" viewBox="0 0 16 16" width="16" height="16" fill="currentColor" style="display:inline-block;user-select:none;vertical-align:text-bottom;overflow:visible"><path d="M1.75 1A1.75 1.75 0 0 0 0 2.75v10.5C0 14.216.784 15 1.75 15h12.5A1.75 1.75 0 0 0 16 13.25v-8.5A1.75 1.75 0 0 0 14.25 3H7.5a.25.25 0 0 1-.2-.1l-.9-1.2C6.07 1.26 5.55 1 5 1H1.75Z"></path></svg></div></div><span class="PRIVATE_TreeView-item-content-text"><span>images</span></span></div></div></li><li class="PRIVATE_TreeView-item" tabindex="0" id="streets-item" role="treeitem" aria-labelledby=":R1qclmdaj5:" aria-describedby=":R1qclmdaj5H1: :R1qclmdaj5H2:" aria-level="1" aria-expanded="false" aria-selected="false"><div class="PRIVATE_TreeView-item-container" style="--level:1;content-visibility:auto;contain-intrinsic-size:auto 2rem"><div style="grid-area:spacer;display:flex"><div style="width:100%;display:flex"></div></div><div class="PRIVATE_TreeView-item-toggle PRIVATE_TreeView-item-toggle--hover PRIVATE_TreeView-item-toggle--end"><svg aria-hidden="true" focusable="false" role="img" class="octicon octicon-chevron-right" viewBox="0 0 12 12" width="12" height="12" fill="currentColor" style="display:inline-block;user-select:none;vertical-align:text-bottom;overflow:visible"><path d="M4.7 10c-.2 0-.4-.1-.5-.2-.3-.3-.3-.8 0-1.1L6.9 6 4.2 3.3c-.3-.3-.3-.8 0-1.1.3-.3.8-.3 1.1 0l3.3 3.2c.3.3.3.8 0 1.1L5.3 9.7c-.2.2-.4.3-.6.3Z"></path></svg></div><div id=":R1qclmdaj5:" class="PRIVATE_TreeView-item-content"><div class="PRIVATE_VisuallyHidden" aria-hidden="true" id=":R1qclmdaj5H1:"></div><div class="PRIVATE_TreeView-item-visual" aria-hidden="true"><div class="PRIVATE_TreeView-directory-icon"><svg aria-hidden="true" focusable="false" role="img" class="octicon octicon-file-directory-fill" viewBox="0 0 16 16" width="16" height="16" fill="currentColor" style="display:inline-block;user-select:none;vertical-align:text-bottom;overflow:visible"><path d="M1.75 1A1.75 1.75 0 0 0 0 2.75v10.5C0 14.216.784 15 1.75 15h12.5A1.75 1.75 0 0 0 16 13.25v-8.5A1.75 1.75 0 0 0 14.25 3H7.5a.25.25 0 0 1-.2-.1l-.9-1.2C6.07 1.26 5.55 1 5 1H1.75Z"></path></svg></div></div><span class="PRIVATE_TreeView-item-content-text"><span>streets</span></span></div></div></li><li class="PRIVATE_TreeView-item" tabindex="0" id="README.md-item" role="treeitem" aria-labelledby=":R2aclmdaj5:" aria-describedby=":R2aclmdaj5H1: :R2aclmdaj5H2:" aria-level="1" aria-selected="false"><div class="PRIVATE_TreeView-item-container" style="--level:1;content-visibility:auto;contain-intrinsic-size:auto 2rem"><div style="grid-area:spacer;display:flex"><div style="width:100%;display:flex"></div></div><div id=":R2aclmdaj5:" class="PRIVATE_TreeView-item-content"><div class="PRIVATE_VisuallyHidden" aria-hidden="true" id=":R2aclmdaj5H1:"></div><div class="PRIVATE_TreeView-item-visual" aria-hidden="true"><svg aria-hidden="true" focusable="false" role="img" class="octicon octicon-file" viewBox="0 0 16 16" width="16" height="16" fill="currentColor" style="display:inline-block;user-select:none;vertical-align:text-bottom;overflow:visible"><path d="M2 1.75C2 .784 2.784 0 3.75 0h6.586c.464 0 .909.184 1.237.513l2.914 2.914c.329.328.513.773.513 1.237v9.586A1.75 1.75 0 0 1 13.25 16h-9.5A1.75 1.75 0 0 1 2 14.25Zm1.75-.25a.25.25 0 0 0-.25.25v12.5c0 .138.112.25.25.25h9.5a.25.25 0 0 0 .25-.25V6h-2.75A1.75 1.75 0 0 1 9 4.25V1.5Zm6.75.062V4.25c0 .138.112.25.25.25h2.688l-.011-.013-2.914-2.914-.013-.011Z"></path></svg></div><span class="PRIVATE_TreeView-item-content-text"><span>README.md</span></span></div></div></li></ul></nav></div></div></div></div></div></div><div class="Box-sc-g0xbh4-0 hAeDYA"><div role="slider" aria-label="Draggable pane splitter" aria-valuemin="0" aria-valuemax="0" aria-valuenow="0" aria-valuetext="Pane width 0 pixels" tabindex="0" class="Box-sc-g0xbh4-0 ekKrwo"></div></div></div></div><div class="Box-sc-g0xbh4-0 emFMJu"><div class="Box-sc-g0xbh4-0"></div><div class="Box-sc-g0xbh4-0 hlUAHL"><div data-selector="repos-split-pane-content" tabindex="0" class="Box-sc-g0xbh4-0 iStsmI"><div class="Box-sc-g0xbh4-0 eIgvIk"><div class="Box-sc-g0xbh4-0 eVFfWF container"><div class="Box-sc-g0xbh4-0 kgXdnT react-code-view-header--narrow"><div class="Box-sc-g0xbh4-0 kzTa-dF"><div class="Box-sc-g0xbh4-0 bbXCl"><h2 class="Heading__StyledHeading-sc-1c1dgg0-0 fNPcqd"><button style="--button-color:fg.muted" type="button" aria-label="Expand file tree" data-testid="expand-file-tree-button-mobile" class="types__StyledButton-sc-ws60qy-0 dpmVDB"><span data-component="buttonContent" class="Box-sc-g0xbh4-0 kkrdEu"><span data-component="leadingVisual" class="Box-sc-g0xbh4-0 trpoQ"><svg aria-hidden="true" focusable="false" role="img" class="octicon octicon-arrow-left" viewBox="0 0 16 16" width="16" height="16" fill="currentColor" style="display:inline-block;user-select:none;vertical-align:text-bottom;overflow:visible"><path d="M7.78 12.53a.75.75 0 0 1-1.06 0L2.47 8.28a.75.75 0 0 1 0-1.06l4.25-4.25a.751.751 0 0 1 1.042.018.751.751 0 0 1 .018 1.042L4.81 7h7.44a.75.75 0 0 1 0 1.5H4.81l2.97 2.97a.75.75 0 0 1 0 1.06Z"></path></svg></span><span data-component="text">Files</span></span></button><span role="tooltip" aria-label="Collapse file tree" id="expand-button-file-tree-button" class="Tooltip__TooltipBase-sc-17tf59c-0 cXRxE tooltipped-se"><button data-component="IconButton" type="button" data-testid="collapse-file-tree-button" aria-labelledby="expand-button-file-tree-button" aria-expanded="true" aria-controls="repos-file-tree" class="types__StyledButton-sc-ws60qy-0 kuQWBL" data-no-visuals="true"><svg aria-hidden="true" focusable="false" role="img" class="octicon octicon-sidebar-expand" viewBox="0 0 16 16" width="16" height="16" fill="currentColor" style="display:inline-block;user-select:none;vertical-align:text-bottom;overflow:visible"><path d="m4.177 7.823 2.396-2.396A.25.25 0 0 1 7 5.604v4.792a.25.25 0 0 1-.427.177L4.177 8.177a.25.25 0 0 1 0-.354Z"></path><path d="M0 1.75C0 .784.784 0 1.75 0h12.5C15.216 0 16 .784 16 1.75v12.5A1.75 1.75 0 0 1 14.25 16H1.75A1.75 1.75 0 0 1 0 14.25Zm1.75-.25a.25.25 0 0 0-.25.25v12.5c0 .138.112.25.25.25H9.5v-13Zm12.5 13a.25.25 0 0 0 .25-.25V1.75a.25.25 0 0 0-.25-.25H11v13Z"></path></svg></button></span><button hidden="" data-testid="" data-hotkey-scope="read-only-cursor-text-area"></button></h2><div class="Box-sc-g0xbh4-0 hGGMNu"><div class="Box-sc-g0xbh4-0 eHRrYV"><button type="button" id="branch-picker-repos-header-ref-selector-narrow" aria-haspopup="true" tabindex="0" aria-label="main branch" data-testid="anchor-button" class="types__StyledButton-sc-ws60qy-0 gDcRcS ref-selector-class"><span data-component="buttonContent" class="Box-sc-g0xbh4-0 kkrdEu"><span data-component="text"><div class="Box-sc-g0xbh4-0 bKgizp"><div class="Box-sc-g0xbh4-0 kYlvBX"><svg aria-hidden="true" focusable="false" role="img" class="octicon octicon-git-branch" viewBox="0 0 16 16" width="16" height="16" fill="currentColor" style="display:inline-block;user-select:none;vertical-align:text-bottom;overflow:visible"><path d="M9.5 3.25a2.25 2.25 0 1 1 3 2.122V6A2.5 2.5 0 0 1 10 8.5H6a1 1 0 0 0-1 1v1.128a2.251 2.251 0 1 1-1.5 0V5.372a2.25 2.25 0 1 1 1.5 0v1.836A2.493 2.493 0 0 1 6 7h4a1 1 0 0 0 1-1v-.628A2.25 2.25 0 0 1 9.5 3.25Zm-6 0a.75.75 0 1 0 1.5 0 .75.75 0 0 0-1.5 0Zm8.25-.75a.75.75 0 1 0 0 1.5.75.75 0 0 0 0-1.5ZM4.25 12a.75.75 0 1 0 0 1.5.75.75 0 0 0 0-1.5Z"></path></svg></div><div class="Box-sc-g0xbh4-0 dKmYfk ref-selector-button-text-container"><span class="Text-sc-17v1xeu-0 bOMzPg"> <!-- -->main</span></div></div></span><span data-component="trailingVisual" class="Box-sc-g0xbh4-0 trpoQ"><svg aria-hidden="true" focusable="false" role="img" class="octicon octicon-triangle-down" viewBox="0 0 16 16" width="16" height="16" fill="currentColor" style="display:inline-block;user-select:none;vertical-align:text-bottom;overflow:visible"><path d="m4.427 7.427 3.396 3.396a.25.25 0 0 0 .354 0l3.396-3.396A.25.25 0 0 0 11.396 7H4.604a.25.25 0 0 0-.177.427Z"></path></svg></span></span></button><button hidden="" data-hotkey-scope="read-only-cursor-text-area"></button></div> <button type="button" data-no-visuals="true" class="types__StyledButton-sc-ws60qy-0 dfaHcy"><span data-component="buttonContent" class="Box-sc-g0xbh4-0 kkrdEu"><span data-component="text">Blame</span></span></button><button hidden="" data-testid="" data-hotkey-scope="read-only-cursor-text-area"></button><button data-component="IconButton" type="button" aria-label="More file actions" class="types__StyledButton-sc-ws60qy-0 iNXtMc js-blob-dropdown-click" title="More file actions" data-testid="more-file-actions-button-nav-menu-narrow" id=":R159badaj5:" aria-haspopup="true" tabindex="0" data-no-visuals="true"><svg aria-hidden="true" focusable="false" role="img" class="octicon octicon-kebab-horizontal" viewBox="0 0 16 16" width="16" height="16" fill="currentColor" style="display:inline-block;user-select:none;vertical-align:text-bottom;overflow:visible"><path d="M8 9a1.5 1.5 0 1 0 0-3 1.5 1.5 0 0 0 0 3ZM1.5 9a1.5 1.5 0 1 0 0-3 1.5 1.5 0 0 0 0 3Zm13 0a1.5 1.5 0 1 0 0-3 1.5 1.5 0 0 0 0 3Z"></path></svg></button> </div></div><div class="Box-sc-g0xbh4-0 hSNzKh"><div class="Box-sc-g0xbh4-0 eTvGbF"><nav data-testid="breadcrumbs" aria-labelledby="repos-header-breadcrumb-mobile-heading" id="repos-header-breadcrumb-mobile" class="Box-sc-g0xbh4-0 kzRgrI"><h2 class="Heading__StyledHeading-sc-1c1dgg0-0 cgQnMS sr-only" data-testid="screen-reader-heading" id="repos-header-breadcrumb-mobile-heading">Breadcrumbs</h2><ol class="Box-sc-g0xbh4-0 cmAPIB"><li class="Box-sc-g0xbh4-0 jwXCBK"><a sx="[object Object]" data-testid="breadcrumbs-repo-link" class="Link__StyledLink-sc-14289xe-0 bNUcdA" href="/asrenninger/urbansim/tree/main">urbansim</a></li><li class="Box-sc-g0xbh4-0 jwXCBK"><span aria-hidden="true" class="Text-sc-17v1xeu-0 ivLLle">/</span><a sx="[object Object]" class="Link__StyledLink-sc-14289xe-0 bmInES" href="/asrenninger/urbansim/tree/main/automl">automl</a></li></ol></nav><div data-testid="breadcrumbs-filename" class="Box-sc-g0xbh4-0 jwXCBK"><span aria-hidden="true" class="Text-sc-17v1xeu-0 ivLLle">/</span><h1 tabindex="-1" id="file-name-id-mobile" class="Heading__StyledHeading-sc-1c1dgg0-0 diwsLq">automl.ipynb</h1></div><button data-component="IconButton" type="button" aria-label="Copy path" data-testid="breadcrumb-copy-path-button" data-size="small" data-no-visuals="true" class="types__StyledButton-sc-ws60qy-0 fFejDP"><svg aria-hidden="true" focusable="false" role="img" class="octicon octicon-copy" viewBox="0 0 16 16" width="16" height="16" fill="currentColor" style="display:inline-block;user-select:none;vertical-align:text-bottom;overflow:visible"><path d="M0 6.75C0 5.784.784 5 1.75 5h1.5a.75.75 0 0 1 0 1.5h-1.5a.25.25 0 0 0-.25.25v7.5c0 .138.112.25.25.25h7.5a.25.25 0 0 0 .25-.25v-1.5a.75.75 0 0 1 1.5 0v1.5A1.75 1.75 0 0 1 9.25 16h-7.5A1.75 1.75 0 0 1 0 14.25Z"></path><path d="M5 1.75C5 .784 5.784 0 6.75 0h7.5C15.216 0 16 .784 16 1.75v7.5A1.75 1.75 0 0 1 14.25 11h-7.5A1.75 1.75 0 0 1 5 9.25Zm1.75-.25a.25.25 0 0 0-.25.25v7.5c0 .138.112.25.25.25h7.5a.25.25 0 0 0 .25-.25v-7.5a.25.25 0 0 0-.25-.25Z"></path></svg></button></div></div></div></div><div id="StickyHeader" class="Box-sc-g0xbh4-0 bDwCYs react-code-view-header--wide"><div class="Box-sc-g0xbh4-0 fywjmm"><div class="Box-sc-g0xbh4-0 dyczTK"><div class="Box-sc-g0xbh4-0 kszRgZ"><div class="Box-sc-g0xbh4-0 eTvGbF"><nav data-testid="breadcrumbs" aria-labelledby="repos-header-breadcrumb-wide-heading" id="repos-header-breadcrumb-wide" class="Box-sc-g0xbh4-0 kzRgrI"><h2 class="Heading__StyledHeading-sc-1c1dgg0-0 cgQnMS sr-only" data-testid="screen-reader-heading" id="repos-header-breadcrumb-wide-heading">Breadcrumbs</h2><ol class="Box-sc-g0xbh4-0 cmAPIB"><li class="Box-sc-g0xbh4-0 jwXCBK"><a sx="[object Object]" data-testid="breadcrumbs-repo-link" class="Link__StyledLink-sc-14289xe-0 bNUcdA" href="/asrenninger/urbansim/tree/main">urbansim</a></li><li class="Box-sc-g0xbh4-0 jwXCBK"><span aria-hidden="true" class="Text-sc-17v1xeu-0 ivLLle">/</span><a sx="[object Object]" class="Link__StyledLink-sc-14289xe-0 bmInES" href="/asrenninger/urbansim/tree/main/automl">automl</a></li></ol></nav><div data-testid="breadcrumbs-filename" class="Box-sc-g0xbh4-0 jwXCBK"><span aria-hidden="true" class="Text-sc-17v1xeu-0 ivLLle">/</span><h1 tabindex="-1" id="file-name-id-wide" class="Heading__StyledHeading-sc-1c1dgg0-0 diwsLq">automl.ipynb</h1></div><button data-component="IconButton" type="button" aria-label="Copy path" data-testid="breadcrumb-copy-path-button" data-size="small" data-no-visuals="true" class="types__StyledButton-sc-ws60qy-0 fFejDP"><svg aria-hidden="true" focusable="false" role="img" class="octicon octicon-copy" viewBox="0 0 16 16" width="16" height="16" fill="currentColor" style="display:inline-block;user-select:none;vertical-align:text-bottom;overflow:visible"><path d="M0 6.75C0 5.784.784 5 1.75 5h1.5a.75.75 0 0 1 0 1.5h-1.5a.25.25 0 0 0-.25.25v7.5c0 .138.112.25.25.25h7.5a.25.25 0 0 0 .25-.25v-1.5a.75.75 0 0 1 1.5 0v1.5A1.75 1.75 0 0 1 9.25 16h-7.5A1.75 1.75 0 0 1 0 14.25Z"></path><path d="M5 1.75C5 .784 5.784 0 6.75 0h7.5C15.216 0 16 .784 16 1.75v7.5A1.75 1.75 0 0 1 14.25 11h-7.5A1.75 1.75 0 0 1 5 9.25Zm1.75-.25a.25.25 0 0 0-.25.25v7.5c0 .138.112.25.25.25h7.5a.25.25 0 0 0 .25-.25v-7.5a.25.25 0 0 0-.25-.25Z"></path></svg></button></div></div><div class="Box-sc-g0xbh4-0 gtBUEp"><div class="d-flex gap-2"> <button type="button" data-no-visuals="true" class="types__StyledButton-sc-ws60qy-0 dfaHcy"><span data-component="buttonContent" class="Box-sc-g0xbh4-0 kkrdEu"><span data-component="text">Blame</span></span></button><button hidden="" data-testid="" data-hotkey-scope="read-only-cursor-text-area"></button><button data-component="IconButton" type="button" aria-label="More file actions" class="types__StyledButton-sc-ws60qy-0 iNXtMc js-blob-dropdown-click" title="More file actions" data-testid="more-file-actions-button-nav-menu-wide" id=":R176jadaj5:" aria-haspopup="true" tabindex="0" data-no-visuals="true"><svg aria-hidden="true" focusable="false" role="img" class="octicon octicon-kebab-horizontal" viewBox="0 0 16 16" width="16" height="16" fill="currentColor" style="display:inline-block;user-select:none;vertical-align:text-bottom;overflow:visible"><path d="M8 9a1.5 1.5 0 1 0 0-3 1.5 1.5 0 0 0 0 3ZM1.5 9a1.5 1.5 0 1 0 0-3 1.5 1.5 0 0 0 0 3Zm13 0a1.5 1.5 0 1 0 0-3 1.5 1.5 0 0 0 0 3Z"></path></svg></button> </div></div></div></div></div></div></div><div class="Box-sc-g0xbh4-0 MERGN react-code-view-bottom-padding"> <div class="Box-sc-g0xbh4-0 cMYnca"></div><div class="Box-sc-g0xbh4-0"></div> <!-- --> <!-- --> </div><div class="Box-sc-g0xbh4-0 MERGN"> <!-- --> <!-- --> <div class="Box-sc-g0xbh4-0 kLxXov"><div class="Box-sc-g0xbh4-0 eYedVD"><h2 class="Heading__StyledHeading-sc-1c1dgg0-0 cgQnMS sr-only" data-testid="screen-reader-heading">Latest commit</h2><div style="width:120px" class="Skeleton Skeleton--text" data-testid="loading"> </div><div class="Box-sc-g0xbh4-0 jGfYmh"><div data-testid="latest-commit-details" class="Box-sc-g0xbh4-0 lhFvfi"></div><h2 class="Heading__StyledHeading-sc-1c1dgg0-0 cgQnMS sr-only" data-testid="screen-reader-heading">History</h2><a class="types__StyledButton-sc-ws60qy-0 hsBZZU react-last-commit-history-group" href="/asrenninger/urbansim/commits/main/automl/automl.ipynb" data-size="small"><span data-component="buttonContent" class="Box-sc-g0xbh4-0 kkrdEu"><span data-component="leadingVisual" class="Box-sc-g0xbh4-0 trpoQ"><svg aria-hidden="true" focusable="false" role="img" class="octicon octicon-history" viewBox="0 0 16 16" width="16" height="16" fill="currentColor" style="display:inline-block;user-select:none;vertical-align:text-bottom;overflow:visible"><path d="m.427 1.927 1.215 1.215a8.002 8.002 0 1 1-1.6 5.685.75.75 0 1 1 1.493-.154 6.5 6.5 0 1 0 1.18-4.458l1.358 1.358A.25.25 0 0 1 3.896 6H.25A.25.25 0 0 1 0 5.75V2.104a.25.25 0 0 1 .427-.177ZM7.75 4a.75.75 0 0 1 .75.75v2.992l2.028.812a.75.75 0 0 1-.557 1.392l-2.5-1A.751.751 0 0 1 7 8.25v-3.5A.75.75 0 0 1 7.75 4Z"></path></svg></span><span data-component="text"><span class="Text-sc-17v1xeu-0 ghRVGj">History</span></span></span></a><div class="Box-sc-g0xbh4-0 bqgLjk"></div><span role="tooltip" aria-label="Commit history" class="Tooltip__TooltipBase-sc-17tf59c-0 cXRxE tooltipped-n"><a class="types__StyledButton-sc-ws60qy-0 hsBZZU react-last-commit-history-icon" href="/asrenninger/urbansim/commits/main/automl/automl.ipynb"><span data-component="buttonContent" class="Box-sc-g0xbh4-0 kkrdEu"><span data-component="leadingVisual" class="Box-sc-g0xbh4-0 trpoQ"><svg aria-hidden="true" focusable="false" role="img" class="octicon octicon-history" viewBox="0 0 16 16" width="16" height="16" fill="currentColor" style="display:inline-block;user-select:none;vertical-align:text-bottom;overflow:visible"><path d="m.427 1.927 1.215 1.215a8.002 8.002 0 1 1-1.6 5.685.75.75 0 1 1 1.493-.154 6.5 6.5 0 1 0 1.18-4.458l1.358 1.358A.25.25 0 0 1 3.896 6H.25A.25.25 0 0 1 0 5.75V2.104a.25.25 0 0 1 .427-.177ZM7.75 4a.75.75 0 0 1 .75.75v2.992l2.028.812a.75.75 0 0 1-.557 1.392l-2.5-1A.751.751 0 0 1 7 8.25v-3.5A.75.75 0 0 1 7.75 4Z"></path></svg></span></span></a></span></div></div></div><div class="Box-sc-g0xbh4-0 iJmJly"><div class="Box-sc-g0xbh4-0 jACbi container"><div class="Box-sc-g0xbh4-0 gIJuDf react-code-size-details-banner"><div class="Box-sc-g0xbh4-0 fleZSW react-code-size-details-banner"><div class="Box-sc-g0xbh4-0 bZpGqz text-mono"><div title="156 KB" data-testid="blob-size" class="Truncate__StyledTruncate-sc-23o1d2-0 fUpWeN"><span class="Text-sc-17v1xeu-0 gPDEWA">1230 lines (1230 loc) · 156 KB</span></div></div></div></div><div class="Box-sc-g0xbh4-0 VHzRk react-blob-view-header-sticky" id="repos-sticky-header"><div class="Box-sc-g0xbh4-0 ePiodO"><div class="Box-sc-g0xbh4-0 react-blob-sticky-header"><div class="Box-sc-g0xbh4-0 kQJlnf"><div class="Box-sc-g0xbh4-0 gJICKO"><div class="Box-sc-g0xbh4-0 iZJewz"><nav data-testid="breadcrumbs" aria-labelledby="sticky-breadcrumb-heading" id="sticky-breadcrumb" class="Box-sc-g0xbh4-0 kzRgrI"><h2 class="Heading__StyledHeading-sc-1c1dgg0-0 cgQnMS sr-only" data-testid="screen-reader-heading" id="sticky-breadcrumb-heading">Breadcrumbs</h2><ol class="Box-sc-g0xbh4-0 cmAPIB"><li class="Box-sc-g0xbh4-0 jwXCBK"><a sx="[object Object]" data-testid="breadcrumbs-repo-link" class="Link__StyledLink-sc-14289xe-0 bNUcdA" href="/asrenninger/urbansim/tree/main">urbansim</a></li><li class="Box-sc-g0xbh4-0 jwXCBK"><span aria-hidden="true" class="Text-sc-17v1xeu-0 dZAxGI">/</span><a sx="[object Object]" class="Link__StyledLink-sc-14289xe-0 bmInES" href="/asrenninger/urbansim/tree/main/automl">automl</a></li></ol></nav><div data-testid="breadcrumbs-filename" class="Box-sc-g0xbh4-0 jwXCBK"><span aria-hidden="true" class="Text-sc-17v1xeu-0 dZAxGI">/</span><h1 tabindex="-1" id="sticky-file-name-id" class="Heading__StyledHeading-sc-1c1dgg0-0 jAEDJk">automl.ipynb</h1></div></div><button style="--button-color:fg.default" type="button" data-size="small" class="types__StyledButton-sc-ws60qy-0 iukPok"><span data-component="buttonContent" class="Box-sc-g0xbh4-0 kkrdEu"><span data-component="leadingVisual" class="Box-sc-g0xbh4-0 trpoQ"><svg aria-hidden="true" focusable="false" role="img" class="octicon octicon-arrow-up" viewBox="0 0 16 16" width="16" height="16" fill="currentColor" style="display:inline-block;user-select:none;vertical-align:text-bottom;overflow:visible"><path d="M3.47 7.78a.75.75 0 0 1 0-1.06l4.25-4.25a.75.75 0 0 1 1.06 0l4.25 4.25a.751.751 0 0 1-.018 1.042.751.751 0 0 1-1.042.018L9 4.81v7.44a.75.75 0 0 1-1.5 0V4.81L4.53 7.78a.75.75 0 0 1-1.06 0Z"></path></svg></span><span data-component="text">Top</span></span></button></div></div></div><div class="Box-sc-g0xbh4-0 bvEDG"><h2 class="Heading__StyledHeading-sc-1c1dgg0-0 cgQnMS sr-only" data-testid="screen-reader-heading">File metadata and controls</h2><div class="Box-sc-g0xbh4-0 bfkNRF"><ul aria-label="File view" class="SegmentedControl__SegmentedControlList-sc-1rzig82-0 iYVwMz"><li class="Box-sc-g0xbh4-0 fXBLEV"><button aria-current="true" class="SegmentedControlButton__SegmentedControlButtonStyled-sc-8lkgxl-0 bDmUQT"><span class="segmentedControl-content"><div class="Box-sc-g0xbh4-0 segmentedControl-text">Preview</div></span></button></li><li class="Box-sc-g0xbh4-0 jkTWSe"><button aria-current="false" class="SegmentedControlButton__SegmentedControlButtonStyled-sc-8lkgxl-0 fzMylw"><span class="segmentedControl-content"><div class="Box-sc-g0xbh4-0 segmentedControl-text">Code</div></span></button></li><li class="Box-sc-g0xbh4-0 jkTWSe"><button aria-current="false" class="SegmentedControlButton__SegmentedControlButtonStyled-sc-8lkgxl-0 hBvGcq"><span class="segmentedControl-content"><div class="Box-sc-g0xbh4-0 segmentedControl-text">Blame</div></span></button></li></ul><button hidden="" data-testid="" data-hotkey-scope="read-only-cursor-text-area"></button><button hidden="" data-testid="" data-hotkey-scope="read-only-cursor-text-area"></button><button hidden="" data-testid="" data-hotkey-scope="read-only-cursor-text-area"></button><div class="Box-sc-g0xbh4-0 fleZSW react-code-size-details-in-header"><div class="Box-sc-g0xbh4-0 bZpGqz text-mono"><div title="156 KB" data-testid="blob-size" class="Truncate__StyledTruncate-sc-23o1d2-0 fUpWeN"><span class="Text-sc-17v1xeu-0 gPDEWA">1230 lines (1230 loc) · 156 KB</span></div></div></div></div><div class="Box-sc-g0xbh4-0 iBylDf"><div class="Box-sc-g0xbh4-0 kSGBPx react-blob-header-edit-and-raw-actions"><div class="ButtonGroup-sc-1gxhls1-0 cjbBGq"><a href="https://github.com/asrenninger/urbansim/raw/main/automl/automl.ipynb" data-testid="raw-button" data-size="small" data-no-visuals="true" class="types__StyledButton-sc-ws60qy-0 cCLqJS"><span data-component="buttonContent" class="Box-sc-g0xbh4-0 kkrdEu"><span data-component="text">Raw</span></span></a><button data-component="IconButton" type="button" aria-label="Copy raw content" data-testid="copy-raw-button" data-size="small" data-no-visuals="true" class="types__StyledButton-sc-ws60qy-0 crfMWv"><svg aria-hidden="true" focusable="false" role="img" class="octicon octicon-copy" viewBox="0 0 16 16" width="16" height="16" fill="currentColor" style="display:inline-block;user-select:none;vertical-align:text-bottom;overflow:visible"><path d="M0 6.75C0 5.784.784 5 1.75 5h1.5a.75.75 0 0 1 0 1.5h-1.5a.25.25 0 0 0-.25.25v7.5c0 .138.112.25.25.25h7.5a.25.25 0 0 0 .25-.25v-1.5a.75.75 0 0 1 1.5 0v1.5A1.75 1.75 0 0 1 9.25 16h-7.5A1.75 1.75 0 0 1 0 14.25Z"></path><path d="M5 1.75C5 .784 5.784 0 6.75 0h7.5C15.216 0 16 .784 16 1.75v7.5A1.75 1.75 0 0 1 14.25 11h-7.5A1.75 1.75 0 0 1 5 9.25Zm1.75-.25a.25.25 0 0 0-.25.25v7.5c0 .138.112.25.25.25h7.5a.25.25 0 0 0 .25-.25v-7.5a.25.25 0 0 0-.25-.25Z"></path></svg></button><span role="tooltip" aria-label="Download raw file" class="Tooltip__TooltipBase-sc-17tf59c-0 cXRxE tooltipped-n"><button data-component="IconButton" type="button" aria-label="Download raw content" data-testid="download-raw-button" data-size="small" data-no-visuals="true" class="types__StyledButton-sc-ws60qy-0 dKBeSn"><svg aria-hidden="true" focusable="false" role="img" class="octicon octicon-download" viewBox="0 0 16 16" width="16" height="16" fill="currentColor" style="display:inline-block;user-select:none;vertical-align:text-bottom;overflow:visible"><path d="M2.75 14A1.75 1.75 0 0 1 1 12.25v-2.5a.75.75 0 0 1 1.5 0v2.5c0 .138.112.25.25.25h10.5a.25.25 0 0 0 .25-.25v-2.5a.75.75 0 0 1 1.5 0v2.5A1.75 1.75 0 0 1 13.25 14Z"></path><path d="M7.25 7.689V2a.75.75 0 0 1 1.5 0v5.689l1.97-1.969a.749.749 0 1 1 1.06 1.06l-3.25 3.25a.749.749 0 0 1-1.06 0L4.22 6.78a.749.749 0 1 1 1.06-1.06l1.97 1.969Z"></path></svg></button></span></div><button hidden="" data-testid="raw-button-shortcut" data-hotkey-scope="read-only-cursor-text-area"></button><button hidden="" data-testid="copy-raw-button-shortcut" data-hotkey-scope="read-only-cursor-text-area"></button><button hidden="" data-testid="download-raw-button-shortcut" data-hotkey-scope="read-only-cursor-text-area"></button><a class="Link__StyledLink-sc-14289xe-0 bKUZnR js-github-dev-shortcut d-none" href="https://github.dev/"></a><button hidden="" data-testid="" data-hotkey-scope="read-only-cursor-text-area"></button><a class="Link__StyledLink-sc-14289xe-0 bKUZnR js-github-dev-new-tab-shortcut d-none" href="https://github.dev/" target="_blank"></a><button hidden="" data-testid="" data-hotkey-scope="read-only-cursor-text-area"></button><div class="ButtonGroup-sc-1gxhls1-0 cjbBGq"><span role="tooltip" aria-label="Edit this file" class="Tooltip__TooltipBase-sc-17tf59c-0 cXRxE tooltipped-nw"><a sx="[object Object]" data-component="IconButton" type="button" aria-label="Edit file" data-testid="edit-button" data-size="small" data-no-visuals="true" class="types__StyledButton-sc-ws60qy-0 cPmGel" href="/asrenninger/urbansim/edit/main/automl/automl.ipynb"><svg aria-hidden="true" focusable="false" role="img" class="octicon octicon-pencil" viewBox="0 0 16 16" width="16" height="16" fill="currentColor" style="display:inline-block;user-select:none;vertical-align:text-bottom;overflow:visible"><path d="M11.013 1.427a1.75 1.75 0 0 1 2.474 0l1.086 1.086a1.75 1.75 0 0 1 0 2.474l-8.61 8.61c-.21.21-.47.364-.756.445l-3.251.93a.75.75 0 0 1-.927-.928l.929-3.25c.081-.286.235-.547.445-.758l8.61-8.61Zm.176 4.823L9.75 4.81l-6.286 6.287a.253.253 0 0 0-.064.108l-.558 1.953 1.953-.558a.253.253 0 0 0 .108-.064Zm1.238-3.763a.25.25 0 0 0-.354 0L10.811 3.75l1.439 1.44 1.263-1.263a.25.25 0 0 0 0-.354Z"></path></svg></a></span><button data-component="IconButton" type="button" aria-label="More edit options" data-testid="more-edit-button" id=":R2l76faladaj5:" aria-haspopup="true" tabindex="0" data-size="small" data-no-visuals="true" class="types__StyledButton-sc-ws60qy-0 crfMWv"><svg aria-hidden="true" focusable="false" role="img" class="octicon octicon-triangle-down" viewBox="0 0 16 16" width="16" height="16" fill="currentColor" style="display:inline-block;user-select:none;vertical-align:text-bottom;overflow:visible"><path d="m4.427 7.427 3.396 3.396a.25.25 0 0 0 .354 0l3.396-3.396A.25.25 0 0 0 11.396 7H4.604a.25.25 0 0 0-.177.427Z"></path></svg></button></div><button hidden="" data-testid="" data-hotkey="e,Shift+E" data-hotkey-scope="read-only-cursor-text-area"></button></div><div class="Box-sc-g0xbh4-0 react-blob-header-edit-and-raw-actions-combined"><button data-component="IconButton" type="button" aria-label="Edit and raw actions" class="types__StyledButton-sc-ws60qy-0 lhbNLx js-blob-dropdown-click" title="More file actions" data-testid="more-file-actions-button" id=":R5v6faladaj5:" aria-haspopup="true" tabindex="0" data-size="small" data-no-visuals="true"><svg aria-hidden="true" focusable="false" role="img" class="octicon octicon-kebab-horizontal" viewBox="0 0 16 16" width="16" height="16" fill="currentColor" style="display:inline-block;user-select:none;vertical-align:text-bottom;overflow:visible"><path d="M8 9a1.5 1.5 0 1 0 0-3 1.5 1.5 0 0 0 0 3ZM1.5 9a1.5 1.5 0 1 0 0-3 1.5 1.5 0 0 0 0 3Zm13 0a1.5 1.5 0 1 0 0-3 1.5 1.5 0 0 0 0 3Z"></path></svg></button></div></div></div></div><div class="Box-sc-g0xbh4-0"></div></div><div class="Box-sc-g0xbh4-0 flDsrw"><section aria-labelledby="file-name-id-wide file-name-id-mobile" class="Box-sc-g0xbh4-0 eJsjkT"><!--$!--><template></template><div data-testid="suspense-spinner" class="Box-sc-g0xbh4-0 bAzdCq"><svg height="32px" width="32px" viewBox="0 0 16 16" fill="none" aria-label="Loading" class="Spinner__StyledSpinner-sc-1knt686-0 hPEVNM"><circle cx="8" cy="8" r="7" stroke="currentColor" stroke-opacity="0.25" stroke-width="2" vector-effect="non-scaling-stroke"></circle><path d="M15 8a7.002 7.002 0 00-7-7" stroke="currentColor" stroke-width="2" stroke-linecap="round" vector-effect="non-scaling-stroke"></path></svg></div><!--/$--></section></div></div></div> <!-- --> <!-- --> </div></div></div><div class="Box-sc-g0xbh4-0"></div></div></div></div></div><div id="find-result-marks-container" class="Box-sc-g0xbh4-0 aZrVR"></div><button hidden="" data-testid="" data-hotkey-scope="read-only-cursor-text-area"></button><button hidden=""></button></div> <!-- --> <!-- --> <!-- --> <script type="application/json" id="__PRIMER_DATA__">{"resolvedServerColorMode":"day"}</script></div>
</react-app>
</turbo-frame>



  </div>

</turbo-frame>

    </main>
  </div>

  </div>

          <footer class="footer pt-8 pb-6 f6 color-fg-muted p-responsive" role="contentinfo" >
  <h2 class='sr-only'>Footer</h2>

  


  <div class="d-flex flex-justify-center flex-items-center flex-column-reverse flex-lg-row flex-wrap flex-lg-nowrap">
    <div class="d-flex flex-items-center flex-shrink-0 mx-2">
      <a aria-label="Homepage" title="GitHub" class="footer-octicon mr-2" href="https://github.com">
        <svg aria-hidden="true" height="24" viewBox="0 0 16 16" version="1.1" width="24" data-view-component="true" class="octicon octicon-mark-github">
    <path d="M8 0c4.42 0 8 3.58 8 8a8.013 8.013 0 0 1-5.45 7.59c-.4.08-.55-.17-.55-.38 0-.27.01-1.13.01-2.2 0-.75-.25-1.23-.54-1.48 1.78-.2 3.65-.88 3.65-3.95 0-.88-.31-1.59-.82-2.15.08-.2.36-1.02-.08-2.12 0 0-.67-.22-2.2.82-.64-.18-1.32-.27-2-.27-.68 0-1.36.09-2 .27-1.53-1.03-2.2-.82-2.2-.82-.44 1.1-.16 1.92-.08 2.12-.51.56-.82 1.28-.82 2.15 0 3.06 1.86 3.75 3.64 3.95-.23.2-.44.55-.51 1.07-.46.21-1.61.55-2.33-.66-.15-.24-.6-.83-1.23-.82-.67.01-.27.38.01.53.34.19.73.9.82 1.13.16.45.68 1.31 2.69.94 0 .67.01 1.3.01 1.49 0 .21-.15.45-.55.38A7.995 7.995 0 0 1 0 8c0-4.42 3.58-8 8-8Z"></path>
</svg>
</a>
      <span>
        &copy; 2024 GitHub,&nbsp;Inc.
      </span>
    </div>

    <nav aria-label="Footer">
      <h3 class="sr-only" id="sr-footer-heading">Footer navigation</h3>

      <ul class="list-style-none d-flex flex-justify-center flex-wrap mb-2 mb-lg-0" aria-labelledby="sr-footer-heading">

          <li class="mx-2">
            <a data-analytics-event="{&quot;category&quot;:&quot;Footer&quot;,&quot;action&quot;:&quot;go to Terms&quot;,&quot;label&quot;:&quot;text:terms&quot;}" href="https://docs.github.com/site-policy/github-terms/github-terms-of-service" data-view-component="true" class="Link--secondary Link">Terms</a>
          </li>

          <li class="mx-2">
            <a data-analytics-event="{&quot;category&quot;:&quot;Footer&quot;,&quot;action&quot;:&quot;go to privacy&quot;,&quot;label&quot;:&quot;text:privacy&quot;}" href="https://docs.github.com/site-policy/privacy-policies/github-privacy-statement" data-view-component="true" class="Link--secondary Link">Privacy</a>
          </li>

          <li class="mx-2">
            <a data-analytics-event="{&quot;category&quot;:&quot;Footer&quot;,&quot;action&quot;:&quot;go to security&quot;,&quot;label&quot;:&quot;text:security&quot;}" href="/security" data-view-component="true" class="Link--secondary Link">Security</a>
          </li>

          <li class="mx-2">
            <a data-analytics-event="{&quot;category&quot;:&quot;Footer&quot;,&quot;action&quot;:&quot;go to status&quot;,&quot;label&quot;:&quot;text:status&quot;}" href="https://www.githubstatus.com/" data-view-component="true" class="Link--secondary Link">Status</a>
          </li>

          <li class="mx-2">
            <a data-analytics-event="{&quot;category&quot;:&quot;Footer&quot;,&quot;action&quot;:&quot;go to docs&quot;,&quot;label&quot;:&quot;text:docs&quot;}" href="https://docs.github.com" data-view-component="true" class="Link--secondary Link">Docs</a>
          </li>

          <li class="mx-2">
            <a data-analytics-event="{&quot;category&quot;:&quot;Footer&quot;,&quot;action&quot;:&quot;go to contact&quot;,&quot;label&quot;:&quot;text:contact&quot;}" href="https://support.github.com?tags=dotcom-footer" data-view-component="true" class="Link--secondary Link">Contact</a>
          </li>

          <li class="mx-2" >
  <cookie-consent-link>
    <button type="button" class="Link--secondary underline-on-hover border-0 p-0 color-bg-transparent" data-action="click:cookie-consent-link#showConsentManagement">
      Manage cookies
    </button>
  </cookie-consent-link>
</li>

<li class="mx-2">
  <cookie-consent-link>
    <button type="button" class="Link--secondary underline-on-hover border-0 p-0 color-bg-transparent" data-action="click:cookie-consent-link#showConsentManagement">
      Do not share my personal information
    </button>
  </cookie-consent-link>
</li>

      </ul>
    </nav>
  </div>
</footer>




    <cookie-consent id="cookie-consent-banner" class="position-fixed bottom-0 left-0" style="z-index: 999999" data-initial-cookie-consent-allowed="" data-cookie-consent-required="true"></cookie-consent>


  <div id="ajax-error-message" class="ajax-error-message flash flash-error" hidden>
    <svg aria-hidden="true" height="16" viewBox="0 0 16 16" version="1.1" width="16" data-view-component="true" class="octicon octicon-alert">
    <path d="M6.457 1.047c.659-1.234 2.427-1.234 3.086 0l6.082 11.378A1.75 1.75 0 0 1 14.082 15H1.918a1.75 1.75 0 0 1-1.543-2.575Zm1.763.707a.25.25 0 0 0-.44 0L1.698 13.132a.25.25 0 0 0 .22.368h12.164a.25.25 0 0 0 .22-.368Zm.53 3.996v2.5a.75.75 0 0 1-1.5 0v-2.5a.75.75 0 0 1 1.5 0ZM9 11a1 1 0 1 1-2 0 1 1 0 0 1 2 0Z"></path>
</svg>
    <button type="button" class="flash-close js-ajax-error-dismiss" aria-label="Dismiss error">
      <svg aria-hidden="true" height="16" viewBox="0 0 16 16" version="1.1" width="16" data-view-component="true" class="octicon octicon-x">
    <path d="M3.72 3.72a.75.75 0 0 1 1.06 0L8 6.94l3.22-3.22a.749.749 0 0 1 1.275.326.749.749 0 0 1-.215.734L9.06 8l3.22 3.22a.749.749 0 0 1-.326 1.275.749.749 0 0 1-.734-.215L8 9.06l-3.22 3.22a.751.751 0 0 1-1.042-.018.751.751 0 0 1-.018-1.042L6.94 8 3.72 4.78a.75.75 0 0 1 0-1.06Z"></path>
</svg>
    </button>
    You can’t perform that action at this time.
  </div>

    <template id="site-details-dialog">
  <details class="details-reset details-overlay details-overlay-dark lh-default color-fg-default hx_rsm" open>
    <summary role="button" aria-label="Close dialog"></summary>
    <details-dialog class="Box Box--overlay d-flex flex-column anim-fade-in fast hx_rsm-dialog hx_rsm-modal">
      <button class="Box-btn-octicon m-0 btn-octicon position-absolute right-0 top-0" type="button" aria-label="Close dialog" data-close-dialog>
        <svg aria-hidden="true" height="16" viewBox="0 0 16 16" version="1.1" width="16" data-view-component="true" class="octicon octicon-x">
    <path d="M3.72 3.72a.75.75 0 0 1 1.06 0L8 6.94l3.22-3.22a.749.749 0 0 1 1.275.326.749.749 0 0 1-.215.734L9.06 8l3.22 3.22a.749.749 0 0 1-.326 1.275.749.749 0 0 1-.734-.215L8 9.06l-3.22 3.22a.751.751 0 0 1-1.042-.018.751.751 0 0 1-.018-1.042L6.94 8 3.72 4.78a.75.75 0 0 1 0-1.06Z"></path>
</svg>
      </button>
      <div class="octocat-spinner my-6 js-details-dialog-spinner"></div>
    </details-dialog>
  </details>
</template>

    <div class="Popover js-hovercard-content position-absolute" style="display: none; outline: none;" tabindex="0">
  <div class="Popover-message Popover-message--bottom-left Popover-message--large Box color-shadow-large" style="width:360px;">
  </div>
</div>

    <template id="snippet-clipboard-copy-button">
  <div class="zeroclipboard-container position-absolute right-0 top-0">
    <clipboard-copy aria-label="Copy" class="ClipboardButton btn js-clipboard-copy m-2 p-0 tooltipped-no-delay" data-copy-feedback="Copied!" data-tooltip-direction="w">
      <svg aria-hidden="true" height="16" viewBox="0 0 16 16" version="1.1" width="16" data-view-component="true" class="octicon octicon-copy js-clipboard-copy-icon m-2">
    <path d="M0 6.75C0 5.784.784 5 1.75 5h1.5a.75.75 0 0 1 0 1.5h-1.5a.25.25 0 0 0-.25.25v7.5c0 .138.112.25.25.25h7.5a.25.25 0 0 0 .25-.25v-1.5a.75.75 0 0 1 1.5 0v1.5A1.75 1.75 0 0 1 9.25 16h-7.5A1.75 1.75 0 0 1 0 14.25Z"></path><path d="M5 1.75C5 .784 5.784 0 6.75 0h7.5C15.216 0 16 .784 16 1.75v7.5A1.75 1.75 0 0 1 14.25 11h-7.5A1.75 1.75 0 0 1 5 9.25Zm1.75-.25a.25.25 0 0 0-.25.25v7.5c0 .138.112.25.25.25h7.5a.25.25 0 0 0 .25-.25v-7.5a.25.25 0 0 0-.25-.25Z"></path>
</svg>
      <svg aria-hidden="true" height="16" viewBox="0 0 16 16" version="1.1" width="16" data-view-component="true" class="octicon octicon-check js-clipboard-check-icon color-fg-success d-none m-2">
    <path d="M13.78 4.22a.75.75 0 0 1 0 1.06l-7.25 7.25a.75.75 0 0 1-1.06 0L2.22 9.28a.751.751 0 0 1 .018-1.042.751.751 0 0 1 1.042-.018L6 10.94l6.72-6.72a.75.75 0 0 1 1.06 0Z"></path>
</svg>
    </clipboard-copy>
  </div>
</template>
<template id="snippet-clipboard-copy-button-unpositioned">
  <div class="zeroclipboard-container">
    <clipboard-copy aria-label="Copy" class="ClipboardButton btn btn-invisible js-clipboard-copy m-2 p-0 tooltipped-no-delay d-flex flex-justify-center flex-items-center" data-copy-feedback="Copied!" data-tooltip-direction="w">
      <svg aria-hidden="true" height="16" viewBox="0 0 16 16" version="1.1" width="16" data-view-component="true" class="octicon octicon-copy js-clipboard-copy-icon">
    <path d="M0 6.75C0 5.784.784 5 1.75 5h1.5a.75.75 0 0 1 0 1.5h-1.5a.25.25 0 0 0-.25.25v7.5c0 .138.112.25.25.25h7.5a.25.25 0 0 0 .25-.25v-1.5a.75.75 0 0 1 1.5 0v1.5A1.75 1.75 0 0 1 9.25 16h-7.5A1.75 1.75 0 0 1 0 14.25Z"></path><path d="M5 1.75C5 .784 5.784 0 6.75 0h7.5C15.216 0 16 .784 16 1.75v7.5A1.75 1.75 0 0 1 14.25 11h-7.5A1.75 1.75 0 0 1 5 9.25Zm1.75-.25a.25.25 0 0 0-.25.25v7.5c0 .138.112.25.25.25h7.5a.25.25 0 0 0 .25-.25v-7.5a.25.25 0 0 0-.25-.25Z"></path>
</svg>
      <svg aria-hidden="true" height="16" viewBox="0 0 16 16" version="1.1" width="16" data-view-component="true" class="octicon octicon-check js-clipboard-check-icon color-fg-success d-none">
    <path d="M13.78 4.22a.75.75 0 0 1 0 1.06l-7.25 7.25a.75.75 0 0 1-1.06 0L2.22 9.28a.751.751 0 0 1 .018-1.042.751.751 0 0 1 1.042-.018L6 10.94l6.72-6.72a.75.75 0 0 1 1.06 0Z"></path>
</svg>
    </clipboard-copy>
  </div>
</template>


    <style>
      .user-mention[href$="/asrenninger"] {
        color: var(--color-user-mention-fg);
        background-color: var(--color-user-mention-bg);
        border-radius: 2px;
        margin-left: -2px;
        margin-right: -2px;
        padding: 0 2px;
      }
    </style>


    </div>

    <div id="js-global-screen-reader-notice" class="sr-only" aria-live="polite" aria-atomic="true" ></div>
    <div id="js-global-screen-reader-notice-assertive" class="sr-only" aria-live="assertive" aria-atomic="true"></div>
  </body>
</html>

